{
 "cells": [
  {
   "attachments": {
    "images.png": {
     "image/png": "[encoded data removed]"
    }
   },
   "cell_type": "markdown",
   "id": "b7612aa7",
   "metadata": {},
   "source": [
    "![images.png](attachment:images.png)"
   ]
  },
  {
   "cell_type": "markdown",
   "id": "59a5e8f2",
   "metadata": {},
   "source": [
    "## Import Libraries\n",
    "\n",
    "- Importing Libraries like pandas and numpy for Data Preprocessing.\n",
    "- Also, Importing visualization libraries like Matplotlib, seaborn and plotly for better Data Visualization to get some important insights from data.\n",
    "- here, Also importing warning and handle it with ignore filter to ignore warning."
   ]
  },
  {
   "cell_type": "code",
   "execution_count": 1,
   "id": "bd324a3d",
   "metadata": {},
   "outputs": [],
   "source": [
    "## import libraries\n",
    "\n",
    "import pandas as pd\n",
    "import numpy as np\n",
    "import matplotlib.pyplot as plt\n",
    "%matplotlib inline\n",
    "import seaborn as sns\n",
    "sns.set_style('darkgrid')\n",
    "import warnings\n",
    "warnings.filterwarnings('ignore')\n",
    "import plotly.express as px"
   ]
  },
  {
   "cell_type": "markdown",
   "id": "94c6a0ff",
   "metadata": {},
   "source": [
    "## Import Dataset"
   ]
  },
  {
   "cell_type": "code",
   "execution_count": 4,
   "id": "847c5e8b",
   "metadata": {},
   "outputs": [],
   "source": [
    "## import data\n",
    "\n",
    "df = pd.read_csv(\"C:\\\\Users\\\\win\\\\OneDrive\\\\Documents\\\\Swiggy\\\\Swiggy_Analysis\\\\Swiggy Dataset.csv\")"
   ]
  },
  {
   "cell_type": "markdown",
   "id": "1eb962ff",
   "metadata": {},
   "source": [
    "## Show First 5 Rows"
   ]
  },
  {
   "cell_type": "code",
   "execution_count": 5,
   "id": "fd3e98c1",
   "metadata": {},
   "outputs": [
    {
     "data": {
      "text/html": [
       "<div>\n",
       "<style scoped>\n",
       "    .dataframe tbody tr th:only-of-type {\n",
       "        vertical-align: middle;\n",
       "    }\n",
       "\n",
       "    .dataframe tbody tr th {\n",
       "        vertical-align: top;\n",
       "    }\n",
       "\n",
       "    .dataframe thead th {\n",
       "        text-align: right;\n",
       "    }\n",
       "</style>\n",
       "<table border=\"1\" class=\"dataframe\">\n",
       "  <thead>\n",
       "    <tr style=\"text-align: right;\">\n",
       "      <th></th>\n",
       "      <th>Shop_Name</th>\n",
       "      <th>Cuisine</th>\n",
       "      <th>Location</th>\n",
       "      <th>Rating</th>\n",
       "      <th>Cost_for_Two</th>\n",
       "    </tr>\n",
       "  </thead>\n",
       "  <tbody>\n",
       "    <tr>\n",
       "      <th>0</th>\n",
       "      <td>Kanti Sweets</td>\n",
       "      <td>Sweets</td>\n",
       "      <td>Koramangala, Koramangala</td>\n",
       "      <td>4.3</td>\n",
       "      <td>₹ 150</td>\n",
       "    </tr>\n",
       "    <tr>\n",
       "      <th>1</th>\n",
       "      <td>Mumbai Tiffin</td>\n",
       "      <td>North Indian, Home Food, Thalis, Combo</td>\n",
       "      <td>Sector 5, HSR</td>\n",
       "      <td>4.4</td>\n",
       "      <td>₹ 400</td>\n",
       "    </tr>\n",
       "    <tr>\n",
       "      <th>2</th>\n",
       "      <td>Sri Krishna sagar</td>\n",
       "      <td>South Indian, North Indian, Fast Food, Beverag...</td>\n",
       "      <td>6th Block, Koramangala</td>\n",
       "      <td>4.1</td>\n",
       "      <td>₹ 126</td>\n",
       "    </tr>\n",
       "    <tr>\n",
       "      <th>3</th>\n",
       "      <td>Al Daaz</td>\n",
       "      <td>American, Arabian, Chinese, Desserts, Fast Foo...</td>\n",
       "      <td>HSR, HSR</td>\n",
       "      <td>4.4</td>\n",
       "      <td>₹ 400</td>\n",
       "    </tr>\n",
       "    <tr>\n",
       "      <th>4</th>\n",
       "      <td>Beijing Bites</td>\n",
       "      <td>Chinese, Thai</td>\n",
       "      <td>5th Block, Koramangala</td>\n",
       "      <td>4.1</td>\n",
       "      <td>₹ 450</td>\n",
       "    </tr>\n",
       "  </tbody>\n",
       "</table>\n",
       "</div>"
      ],
      "text/plain": [
       "           Shop_Name                                            Cuisine  \\\n",
       "0       Kanti Sweets                                             Sweets   \n",
       "1      Mumbai Tiffin             North Indian, Home Food, Thalis, Combo   \n",
       "2  Sri Krishna sagar  South Indian, North Indian, Fast Food, Beverag...   \n",
       "3            Al Daaz  American, Arabian, Chinese, Desserts, Fast Foo...   \n",
       "4      Beijing Bites                                      Chinese, Thai   \n",
       "\n",
       "                   Location Rating Cost_for_Two  \n",
       "0  Koramangala, Koramangala    4.3        ₹ 150  \n",
       "1             Sector 5, HSR    4.4        ₹ 400  \n",
       "2    6th Block, Koramangala    4.1        ₹ 126  \n",
       "3                  HSR, HSR    4.4        ₹ 400  \n",
       "4    5th Block, Koramangala    4.1        ₹ 450  "
      ]
     },
     "execution_count": 5,
     "metadata": {},
     "output_type": "execute_result"
    }
   ],
   "source": [
    "## head() gives first five rows of dataset.\n",
    "\n",
    "df.head()"
   ]
  },
  {
   "cell_type": "markdown",
   "id": "3286de38",
   "metadata": {},
   "source": [
    "## Information of Dataset"
   ]
  },
  {
   "cell_type": "code",
   "execution_count": 6,
   "id": "f3d21cbe",
   "metadata": {},
   "outputs": [
    {
     "name": "stdout",
     "output_type": "stream",
     "text": [
      "<class 'pandas.core.frame.DataFrame'>\n",
      "RangeIndex: 118 entries, 0 to 117\n",
      "Data columns (total 5 columns):\n",
      " #   Column        Non-Null Count  Dtype \n",
      "---  ------        --------------  ----- \n",
      " 0   Shop_Name     118 non-null    object\n",
      " 1   Cuisine       118 non-null    object\n",
      " 2   Location      118 non-null    object\n",
      " 3   Rating        118 non-null    object\n",
      " 4   Cost_for_Two  118 non-null    object\n",
      "dtypes: object(5)\n",
      "memory usage: 4.7+ KB\n"
     ]
    }
   ],
   "source": [
    "## info() gives information about dataset.\n",
    "\n",
    "df.info()"
   ]
  },
  {
   "cell_type": "markdown",
   "id": "ca37a740",
   "metadata": {},
   "source": [
    "- here, we have total 5 columns.\n",
    "- All have same datatype as object so we have to convert it.\n",
    "- Shop_name, Cuisine and Location are categorical variable.\n",
    "- Rating and Cost_for_Two are numerical variable.\n",
    "- So, we have to convert Rating and Cost_for_Two into numeric datatype."
   ]
  },
  {
   "cell_type": "code",
   "execution_count": 7,
   "id": "7b00fca3",
   "metadata": {},
   "outputs": [
    {
     "data": {
      "text/plain": [
       "0"
      ]
     },
     "execution_count": 7,
     "metadata": {},
     "output_type": "execute_result"
    }
   ],
   "source": [
    "## using duplicated().sum() we can find how many duplicate rows are there.\n",
    "\n",
    "df.duplicated().sum()"
   ]
  },
  {
   "cell_type": "markdown",
   "id": "3a88edc7",
   "metadata": {},
   "source": [
    "- here, we don't have duplicate rows."
   ]
  },
  {
   "cell_type": "markdown",
   "id": "07ac41fd",
   "metadata": {},
   "source": [
    "# Exploratory Data Analysis (EDA)"
   ]
  },
  {
   "cell_type": "markdown",
   "id": "92318eee",
   "metadata": {},
   "source": [
    "## Data Preprocessing\n",
    "\n",
    "- First, Start with Rating column.\n",
    "- To change datatype from  object to numeric (float)."
   ]
  },
  {
   "cell_type": "markdown",
   "id": "c4d8f87e",
   "metadata": {},
   "source": [
    "### Rating Analysis"
   ]
  },
  {
   "cell_type": "code",
   "execution_count": 8,
   "id": "7be58433",
   "metadata": {},
   "outputs": [
    {
     "data": {
      "text/plain": [
       "4.1    30\n",
       "4.3    23\n",
       "4      21\n",
       "3.9    13\n",
       "4.2    10\n",
       "3.7     6\n",
       "4.4     4\n",
       "3.8     4\n",
       "3.6     2\n",
       "4.6     2\n",
       "4.8     1\n",
       "4.5     1\n",
       "--      1\n",
       "Name: Rating, dtype: int64"
      ]
     },
     "execution_count": 8,
     "metadata": {},
     "output_type": "execute_result"
    }
   ],
   "source": [
    "## Check count of unique values in Rating.\n",
    "\n",
    "df.Rating.value_counts()"
   ]
  },
  {
   "cell_type": "markdown",
   "id": "63de2276",
   "metadata": {},
   "source": [
    "- here, we can see there is one data with '--' .\n",
    "- So, we can drop this one data from dataset."
   ]
  },
  {
   "cell_type": "code",
   "execution_count": 9,
   "id": "867fd97c",
   "metadata": {},
   "outputs": [],
   "source": [
    "## Using drop() function, drop the row where Rating == '--'\n",
    "\n",
    "df.drop(df[df['Rating']==\"--\"].index,inplace=True)"
   ]
  },
  {
   "cell_type": "code",
   "execution_count": 10,
   "id": "039c3b98",
   "metadata": {},
   "outputs": [],
   "source": [
    "##Using to_numeric() change datatype of Rating.\n",
    "\n",
    "df['Rating']=pd.to_numeric(df['Rating'])"
   ]
  },
  {
   "cell_type": "code",
   "execution_count": 11,
   "id": "9fb9f56e",
   "metadata": {},
   "outputs": [
    {
     "data": {
      "text/plain": [
       "Text(0.5, 1.0, 'Rating')"
      ]
     },
     "execution_count": 11,
     "metadata": {},
     "output_type": "execute_result"
    },
    {
     "data": {
      "image/png": "[encoded data removed]",
      "text/plain": [
       "<Figure size 1200x600 with 1 Axes>"
      ]
     },
     "metadata": {},
     "output_type": "display_data"
    }
   ],
   "source": [
    "## Distribution plot of Rating\n",
    "\n",
    "plt.figure(figsize=(12,6))\n",
    "sns.distplot(df['Rating'], color='Blue')\n",
    "plt.title('Rating', fontsize=24)"
   ]
  },
  {
   "cell_type": "markdown",
   "id": "d43cf8b0",
   "metadata": {},
   "source": [
    "### Cost for Two Analysis"
   ]
  },
  {
   "cell_type": "code",
   "execution_count": 12,
   "id": "0219bb77",
   "metadata": {},
   "outputs": [
    {
     "data": {
      "text/plain": [
       "array(['₹ 150', '₹ 400', '₹ 126', '₹ 450', '₹ 350', '₹ 200', '₹ 500',\n",
       "       '₹ 247', '₹ 550', '₹ 300', '₹ 129', '₹ 250', '₹ 268', '₹ 600',\n",
       "       '₹ 527', '₹ 130', '₹ 257', '₹ 280', '₹ 399', '₹ 220', '₹ 800',\n",
       "       '₹ 100', '₹ 178', '₹ 120', '₹ 251', '₹ 650', '₹ 132', '₹ 153',\n",
       "       '₹ 219', '₹ 193'], dtype=object)"
      ]
     },
     "execution_count": 12,
     "metadata": {},
     "output_type": "execute_result"
    }
   ],
   "source": [
    "## now, for Cost_for_Two using unique() we can see that how many unique values are there.\n",
    "\n",
    "df['Cost_for_Two'].unique()"
   ]
  },
  {
   "cell_type": "markdown",
   "id": "4647442c",
   "metadata": {},
   "source": [
    "- here we can see that values are in ₹ symbol. "
   ]
  },
  {
   "cell_type": "code",
   "execution_count": 13,
   "id": "a0388315",
   "metadata": {},
   "outputs": [],
   "source": [
    "## to convert it into numeric, first we have to split the data and consider 1th position data.\n",
    "\n",
    "df['Cost_for_Two'] = df['Cost_for_Two'].apply(lambda x:x.split(' ')[1]).astype('int64')"
   ]
  },
  {
   "cell_type": "code",
   "execution_count": 14,
   "id": "2dd0486d",
   "metadata": {},
   "outputs": [
    {
     "data": {
      "text/plain": [
       "Text(0.5, 1.0, 'Cost for two people')"
      ]
     },
     "execution_count": 14,
     "metadata": {},
     "output_type": "execute_result"
    },
    {
     "data": {
      "image/png": "[encoded data removed]",
      "text/plain": [
       "<Figure size 1200x600 with 1 Axes>"
      ]
     },
     "metadata": {},
     "output_type": "display_data"
    }
   ],
   "source": [
    "## Distribution plot of Cost for two\n",
    "\n",
    "plt.figure(figsize=(12,6))\n",
    "sns.distplot(df['Cost_for_Two'], color='DarkGreen')\n",
    "plt.title('Cost for two people', fontsize=24)"
   ]
  },
  {
   "cell_type": "markdown",
   "id": "12865780",
   "metadata": {},
   "source": [
    "### Statistic information of Dataset"
   ]
  },
  {
   "cell_type": "code",
   "execution_count": 15,
   "id": "ffc5eb98",
   "metadata": {},
   "outputs": [
    {
     "data": {
      "text/html": [
       "<div>\n",
       "<style scoped>\n",
       "    .dataframe tbody tr th:only-of-type {\n",
       "        vertical-align: middle;\n",
       "    }\n",
       "\n",
       "    .dataframe tbody tr th {\n",
       "        vertical-align: top;\n",
       "    }\n",
       "\n",
       "    .dataframe thead th {\n",
       "        text-align: right;\n",
       "    }\n",
       "</style>\n",
       "<table border=\"1\" class=\"dataframe\">\n",
       "  <thead>\n",
       "    <tr style=\"text-align: right;\">\n",
       "      <th></th>\n",
       "      <th>Rating</th>\n",
       "      <th>Cost_for_Two</th>\n",
       "    </tr>\n",
       "  </thead>\n",
       "  <tbody>\n",
       "    <tr>\n",
       "      <th>count</th>\n",
       "      <td>117.000000</td>\n",
       "      <td>117.000000</td>\n",
       "    </tr>\n",
       "    <tr>\n",
       "      <th>mean</th>\n",
       "      <td>4.096581</td>\n",
       "      <td>320.760684</td>\n",
       "    </tr>\n",
       "    <tr>\n",
       "      <th>std</th>\n",
       "      <td>0.209240</td>\n",
       "      <td>137.850784</td>\n",
       "    </tr>\n",
       "    <tr>\n",
       "      <th>min</th>\n",
       "      <td>3.600000</td>\n",
       "      <td>100.000000</td>\n",
       "    </tr>\n",
       "    <tr>\n",
       "      <th>25%</th>\n",
       "      <td>4.000000</td>\n",
       "      <td>200.000000</td>\n",
       "    </tr>\n",
       "    <tr>\n",
       "      <th>50%</th>\n",
       "      <td>4.100000</td>\n",
       "      <td>300.000000</td>\n",
       "    </tr>\n",
       "    <tr>\n",
       "      <th>75%</th>\n",
       "      <td>4.300000</td>\n",
       "      <td>400.000000</td>\n",
       "    </tr>\n",
       "    <tr>\n",
       "      <th>max</th>\n",
       "      <td>4.800000</td>\n",
       "      <td>800.000000</td>\n",
       "    </tr>\n",
       "  </tbody>\n",
       "</table>\n",
       "</div>"
      ],
      "text/plain": [
       "           Rating  Cost_for_Two\n",
       "count  117.000000    117.000000\n",
       "mean     4.096581    320.760684\n",
       "std      0.209240    137.850784\n",
       "min      3.600000    100.000000\n",
       "25%      4.000000    200.000000\n",
       "50%      4.100000    300.000000\n",
       "75%      4.300000    400.000000\n",
       "max      4.800000    800.000000"
      ]
     },
     "execution_count": 15,
     "metadata": {},
     "output_type": "execute_result"
    }
   ],
   "source": [
    "## Using describe() we can see statistical information of dataset(only numerical columns).\n",
    "\n",
    "df.describe()"
   ]
  },
  {
   "cell_type": "markdown",
   "id": "045e88cf",
   "metadata": {},
   "source": [
    "#####  Insights :\n",
    "\n",
    "- **4.1** is Avarage Rating of Swiggy: Banglore outlet dataset.\n",
    "- whereas, **320** is avarage cost for two people for restaurant.\n",
    "- Maximum Rating given by people is **4.8**.\n",
    "- whereas, **800** is maximum cost for two peoples."
   ]
  },
  {
   "cell_type": "markdown",
   "id": "98f56bc2",
   "metadata": {},
   "source": [
    "#### Rating vs Cost_for_Two"
   ]
  },
  {
   "cell_type": "code",
   "execution_count": 16,
   "id": "db2bb64b",
   "metadata": {},
   "outputs": [
    {
     "data": {
      "application/vnd.plotly.v1+json": {
       "config": {
        "plotlyServerURL": "https://plot.ly"
       },
       "data": [
        {
         "hovertemplate": "Rating=%{x}<br>Cost_for_Two=%{marker.color}<extra></extra>",
         "legendgroup": "",
         "marker": {
          "color": [
           150,
           400,
           126,
           400,
           450,
           350,
           200,
           500,
           350,
           150,
           500,
           247,
           550,
           450,
           450,
           150,
           200,
           200,
           300,
           350,
           300,
           129,
           400,
           300,
           150,
           250,
           250,
           350,
           350,
           500,
           200,
           300,
           150,
           268,
           600,
           450,
           600,
           300,
           250,
           300,
           300,
           450,
           250,
           250,
           200,
           250,
           600,
           350,
           527,
           300,
           250,
           150,
           350,
           130,
           257,
           200,
           400,
           300,
           400,
           200,
           280,
           250,
           399,
           400,
           150,
           250,
           220,
           300,
           300,
           250,
           400,
           200,
           600,
           800,
           300,
           350,
           300,
           300,
           200,
           100,
           450,
           350,
           150,
           250,
           400,
           450,
           500,
           350,
           178,
           100,
           400,
           250,
           500,
           500,
           250,
           120,
           250,
           251,
           650,
           132,
           200,
           350,
           300,
           350,
           300,
           350,
           550,
           350,
           153,
           500,
           200,
           500,
           219,
           600,
           193,
           200,
           400
          ],
          "coloraxis": "coloraxis",
          "size": [
           150,
           400,
           126,
           400,
           450,
           350,
           200,
           500,
           350,
           150,
           500,
           247,
           550,
           450,
           450,
           150,
           200,
           200,
           300,
           350,
           300,
           129,
           400,
           300,
           150,
           250,
           250,
           350,
           350,
           500,
           200,
           300,
           150,
           268,
           600,
           450,
           600,
           300,
           250,
           300,
           300,
           450,
           250,
           250,
           200,
           250,
           600,
           350,
           527,
           300,
           250,
           150,
           350,
           130,
           257,
           200,
           400,
           300,
           400,
           200,
           280,
           250,
           399,
           400,
           150,
           250,
           220,
           300,
           300,
           250,
           400,
           200,
           600,
           800,
           300,
           350,
           300,
           300,
           200,
           100,
           450,
           350,
           150,
           250,
           400,
           450,
           500,
           350,
           178,
           100,
           400,
           250,
           500,
           500,
           250,
           120,
           250,
           251,
           650,
           132,
           200,
           350,
           300,
           350,
           300,
           350,
           550,
           350,
           153,
           500,
           200,
           500,
           219,
           600,
           193,
           200,
           400
          ],
          "sizemode": "area",
          "sizeref": 1.28,
          "symbol": "circle"
         },
         "mode": "markers",
         "name": "",
         "orientation": "v",
         "showlegend": false,
         "type": "scatter",
         "x": [
          4.3,
          4.4,
          4.1,
          4.4,
          4.1,
          4.2,
          4.1,
          3.9,
          4.1,
          3.8,
          4.1,
          4,
          4.3,
          4.3,
          4.2,
          4.1,
          4.1,
          3.7,
          4.2,
          4.1,
          4.3,
          4,
          4,
          4.1,
          4.3,
          4.1,
          4.1,
          4.1,
          3.9,
          4,
          3.9,
          4.2,
          4,
          4.3,
          4.3,
          3.9,
          4.1,
          3.8,
          4.1,
          4.3,
          4.3,
          4.3,
          4.1,
          4.3,
          4.1,
          3.7,
          4,
          4,
          4.4,
          4.1,
          3.7,
          4,
          3.9,
          4.1,
          4.1,
          4.1,
          4.3,
          4,
          4,
          4.3,
          4.1,
          3.9,
          4.1,
          4.3,
          3.7,
          4,
          4.2,
          3.9,
          3.9,
          4,
          3.9,
          3.6,
          4.3,
          4,
          4.3,
          3.8,
          4.2,
          4.3,
          4.8,
          4.2,
          4.5,
          4.1,
          4.6,
          4,
          3.7,
          4.3,
          4,
          4.1,
          4.3,
          4.1,
          4.3,
          4.3,
          4.1,
          4.1,
          4.6,
          4.2,
          4,
          3.9,
          4.1,
          4.1,
          3.8,
          3.9,
          3.6,
          3.7,
          4,
          4,
          4,
          4.3,
          4,
          4,
          4.4,
          3.9,
          3.9,
          4.1,
          4.2,
          4.3,
          4.2
         ],
         "xaxis": "x",
         "y": [
          150,
          400,
          126,
          400,
          450,
          350,
          200,
          500,
          350,
          150,
          500,
          247,
          550,
          450,
          450,
          150,
          200,
          200,
          300,
          350,
          300,
          129,
          400,
          300,
          150,
          250,
          250,
          350,
          350,
          500,
          200,
          300,
          150,
          268,
          600,
          450,
          600,
          300,
          250,
          300,
          300,
          450,
          250,
          250,
          200,
          250,
          600,
          350,
          527,
          300,
          250,
          150,
          350,
          130,
          257,
          200,
          400,
          300,
          400,
          200,
          280,
          250,
          399,
          400,
          150,
          250,
          220,
          300,
          300,
          250,
          400,
          200,
          600,
          800,
          300,
          350,
          300,
          300,
          200,
          100,
          450,
          350,
          150,
          250,
          400,
          450,
          500,
          350,
          178,
          100,
          400,
          250,
          500,
          500,
          250,
          120,
          250,
          251,
          650,
          132,
          200,
          350,
          300,
          350,
          300,
          350,
          550,
          350,
          153,
          500,
          200,
          500,
          219,
          600,
          193,
          200,
          400
         ],
         "yaxis": "y"
        }
       ],
       "layout": {
        "coloraxis": {
         "colorbar": {
          "title": {
           "text": "Cost_for_Two"
          }
         },
         "colorscale": [
          [
           0,
           "rgb(243, 231, 155)"
          ],
          [
           0.16666666666666666,
           "rgb(250, 196, 132)"
          ],
          [
           0.3333333333333333,
           "rgb(248, 160, 126)"
          ],
          [
           0.5,
           "rgb(235, 127, 134)"
          ],
          [
           0.6666666666666666,
           "rgb(206, 102, 147)"
          ],
          [
           0.8333333333333334,
           "rgb(160, 89, 160)"
          ],
          [
           1,
           "rgb(92, 83, 165)"
          ]
         ]
        },
        "legend": {
         "itemsizing": "constant",
         "tracegroupgap": 0
        },
        "template": {
         "data": {
          "bar": [
           {
            "error_x": {
             "color": "#2a3f5f"
            },
            "error_y": {
             "color": "#2a3f5f"
            },
            "marker": {
             "line": {
              "color": "#E5ECF6",
              "width": 0.5
             },
             "pattern": {
              "fillmode": "overlay",
              "size": 10,
              "solidity": 0.2
             }
            },
            "type": "bar"
           }
          ],
          "barpolar": [
           {
            "marker": {
             "line": {
              "color": "#E5ECF6",
              "width": 0.5
             },
             "pattern": {
              "fillmode": "overlay",
              "size": 10,
              "solidity": 0.2
             }
            },
            "type": "barpolar"
           }
          ],
          "carpet": [
           {
            "aaxis": {
             "endlinecolor": "#2a3f5f",
             "gridcolor": "white",
             "linecolor": "white",
             "minorgridcolor": "white",
             "startlinecolor": "#2a3f5f"
            },
            "baxis": {
             "endlinecolor": "#2a3f5f",
             "gridcolor": "white",
             "linecolor": "white",
             "minorgridcolor": "white",
             "startlinecolor": "#2a3f5f"
            },
            "type": "carpet"
           }
          ],
          "choropleth": [
           {
            "colorbar": {
             "outlinewidth": 0,
             "ticks": ""
            },
            "type": "choropleth"
           }
          ],
          "contour": [
           {
            "colorbar": {
             "outlinewidth": 0,
             "ticks": ""
            },
            "colorscale": [
             [
              0,
              "#0d0887"
             ],
             [
              0.1111111111111111,
              "#46039f"
             ],
             [
              0.2222222222222222,
              "#7201a8"
             ],
             [
              0.3333333333333333,
              "#9c179e"
             ],
             [
              0.4444444444444444,
              "#bd3786"
             ],
             [
              0.5555555555555556,
              "#d8576b"
             ],
             [
              0.6666666666666666,
              "#ed7953"
             ],
             [
              0.7777777777777778,
              "#fb9f3a"
             ],
             [
              0.8888888888888888,
              "#fdca26"
             ],
             [
              1,
              "#f0f921"
             ]
            ],
            "type": "contour"
           }
          ],
          "contourcarpet": [
           {
            "colorbar": {
             "outlinewidth": 0,
             "ticks": ""
            },
            "type": "contourcarpet"
           }
          ],
          "heatmap": [
           {
            "colorbar": {
             "outlinewidth": 0,
             "ticks": ""
            },
            "colorscale": [
             [
              0,
              "#0d0887"
             ],
             [
              0.1111111111111111,
              "#46039f"
             ],
             [
              0.2222222222222222,
              "#7201a8"
             ],
             [
              0.3333333333333333,
              "#9c179e"
             ],
             [
              0.4444444444444444,
              "#bd3786"
             ],
             [
              0.5555555555555556,
              "#d8576b"
             ],
             [
              0.6666666666666666,
              "#ed7953"
             ],
             [
              0.7777777777777778,
              "#fb9f3a"
             ],
             [
              0.8888888888888888,
              "#fdca26"
             ],
             [
              1,
              "#f0f921"
             ]
            ],
            "type": "heatmap"
           }
          ],
          "heatmapgl": [
           {
            "colorbar": {
             "outlinewidth": 0,
             "ticks": ""
            },
            "colorscale": [
             [
              0,
              "#0d0887"
             ],
             [
              0.1111111111111111,
              "#46039f"
             ],
             [
              0.2222222222222222,
              "#7201a8"
             ],
             [
              0.3333333333333333,
              "#9c179e"
             ],
             [
              0.4444444444444444,
              "#bd3786"
             ],
             [
              0.5555555555555556,
              "#d8576b"
             ],
             [
              0.6666666666666666,
              "#ed7953"
             ],
             [
              0.7777777777777778,
              "#fb9f3a"
             ],
             [
              0.8888888888888888,
              "#fdca26"
             ],
             [
              1,
              "#f0f921"
             ]
            ],
            "type": "heatmapgl"
           }
          ],
          "histogram": [
           {
            "marker": {
             "pattern": {
              "fillmode": "overlay",
              "size": 10,
              "solidity": 0.2
             }
            },
            "type": "histogram"
           }
          ],
          "histogram2d": [
           {
            "colorbar": {
             "outlinewidth": 0,
             "ticks": ""
            },
            "colorscale": [
             [
              0,
              "#0d0887"
             ],
             [
              0.1111111111111111,
              "#46039f"
             ],
             [
              0.2222222222222222,
              "#7201a8"
             ],
             [
              0.3333333333333333,
              "#9c179e"
             ],
             [
              0.4444444444444444,
              "#bd3786"
             ],
             [
              0.5555555555555556,
              "#d8576b"
             ],
             [
              0.6666666666666666,
              "#ed7953"
             ],
             [
              0.7777777777777778,
              "#fb9f3a"
             ],
             [
              0.8888888888888888,
              "#fdca26"
             ],
             [
              1,
              "#f0f921"
             ]
            ],
            "type": "histogram2d"
           }
          ],
          "histogram2dcontour": [
           {
            "colorbar": {
             "outlinewidth": 0,
             "ticks": ""
            },
            "colorscale": [
             [
              0,
              "#0d0887"
             ],
             [
              0.1111111111111111,
              "#46039f"
             ],
             [
              0.2222222222222222,
              "#7201a8"
             ],
             [
              0.3333333333333333,
              "#9c179e"
             ],
             [
              0.4444444444444444,
              "#bd3786"
             ],
             [
              0.5555555555555556,
              "#d8576b"
             ],
             [
              0.6666666666666666,
              "#ed7953"
             ],
             [
              0.7777777777777778,
              "#fb9f3a"
             ],
             [
              0.8888888888888888,
              "#fdca26"
             ],
             [
              1,
              "#f0f921"
             ]
            ],
            "type": "histogram2dcontour"
           }
          ],
          "mesh3d": [
           {
            "colorbar": {
             "outlinewidth": 0,
             "ticks": ""
            },
            "type": "mesh3d"
           }
          ],
          "parcoords": [
           {
            "line": {
             "colorbar": {
              "outlinewidth": 0,
              "ticks": ""
             }
            },
            "type": "parcoords"
           }
          ],
          "pie": [
           {
            "automargin": true,
            "type": "pie"
           }
          ],
          "scatter": [
           {
            "fillpattern": {
             "fillmode": "overlay",
             "size": 10,
             "solidity": 0.2
            },
            "type": "scatter"
           }
          ],
          "scatter3d": [
           {
            "line": {
             "colorbar": {
              "outlinewidth": 0,
              "ticks": ""
             }
            },
            "marker": {
             "colorbar": {
              "outlinewidth": 0,
              "ticks": ""
             }
            },
            "type": "scatter3d"
           }
          ],
          "scattercarpet": [
           {
            "marker": {
             "colorbar": {
              "outlinewidth": 0,
              "ticks": ""
             }
            },
            "type": "scattercarpet"
           }
          ],
          "scattergeo": [
           {
            "marker": {
             "colorbar": {
              "outlinewidth": 0,
              "ticks": ""
             }
            },
            "type": "scattergeo"
           }
          ],
          "scattergl": [
           {
            "marker": {
             "colorbar": {
              "outlinewidth": 0,
              "ticks": ""
             }
            },
            "type": "scattergl"
           }
          ],
          "scattermapbox": [
           {
            "marker": {
             "colorbar": {
              "outlinewidth": 0,
              "ticks": ""
             }
            },
            "type": "scattermapbox"
           }
          ],
          "scatterpolar": [
           {
            "marker": {
             "colorbar": {
              "outlinewidth": 0,
              "ticks": ""
             }
            },
            "type": "scatterpolar"
           }
          ],
          "scatterpolargl": [
           {
            "marker": {
             "colorbar": {
              "outlinewidth": 0,
              "ticks": ""
             }
            },
            "type": "scatterpolargl"
           }
          ],
          "scatterternary": [
           {
            "marker": {
             "colorbar": {
              "outlinewidth": 0,
              "ticks": ""
             }
            },
            "type": "scatterternary"
           }
          ],
          "surface": [
           {
            "colorbar": {
             "outlinewidth": 0,
             "ticks": ""
            },
            "colorscale": [
             [
              0,
              "#0d0887"
             ],
             [
              0.1111111111111111,
              "#46039f"
             ],
             [
              0.2222222222222222,
              "#7201a8"
             ],
             [
              0.3333333333333333,
              "#9c179e"
             ],
             [
              0.4444444444444444,
              "#bd3786"
             ],
             [
              0.5555555555555556,
              "#d8576b"
             ],
             [
              0.6666666666666666,
              "#ed7953"
             ],
             [
              0.7777777777777778,
              "#fb9f3a"
             ],
             [
              0.8888888888888888,
              "#fdca26"
             ],
             [
              1,
              "#f0f921"
             ]
            ],
            "type": "surface"
           }
          ],
          "table": [
           {
            "cells": {
             "fill": {
              "color": "#EBF0F8"
             },
             "line": {
              "color": "white"
             }
            },
            "header": {
             "fill": {
              "color": "#C8D4E3"
             },
             "line": {
              "color": "white"
             }
            },
            "type": "table"
           }
          ]
         },
         "layout": {
          "annotationdefaults": {
           "arrowcolor": "#2a3f5f",
           "arrowhead": 0,
           "arrowwidth": 1
          },
          "autotypenumbers": "strict",
          "coloraxis": {
           "colorbar": {
            "outlinewidth": 0,
            "ticks": ""
           }
          },
          "colorscale": {
           "diverging": [
            [
             0,
             "#8e0152"
            ],
            [
             0.1,
             "#c51b7d"
            ],
            [
             0.2,
             "#de77ae"
            ],
            [
             0.3,
             "#f1b6da"
            ],
            [
             0.4,
             "#fde0ef"
            ],
            [
             0.5,
             "#f7f7f7"
            ],
            [
             0.6,
             "#e6f5d0"
            ],
            [
             0.7,
             "#b8e186"
            ],
            [
             0.8,
             "#7fbc41"
            ],
            [
             0.9,
             "#4d9221"
            ],
            [
             1,
             "#276419"
            ]
           ],
           "sequential": [
            [
             0,
             "#0d0887"
            ],
            [
             0.1111111111111111,
             "#46039f"
            ],
            [
             0.2222222222222222,
             "#7201a8"
            ],
            [
             0.3333333333333333,
             "#9c179e"
            ],
            [
             0.4444444444444444,
             "#bd3786"
            ],
            [
             0.5555555555555556,
             "#d8576b"
            ],
            [
             0.6666666666666666,
             "#ed7953"
            ],
            [
             0.7777777777777778,
             "#fb9f3a"
            ],
            [
             0.8888888888888888,
             "#fdca26"
            ],
            [
             1,
             "#f0f921"
            ]
           ],
           "sequentialminus": [
            [
             0,
             "#0d0887"
            ],
            [
             0.1111111111111111,
             "#46039f"
            ],
            [
             0.2222222222222222,
             "#7201a8"
            ],
            [
             0.3333333333333333,
             "#9c179e"
            ],
            [
             0.4444444444444444,
             "#bd3786"
            ],
            [
             0.5555555555555556,
             "#d8576b"
            ],
            [
             0.6666666666666666,
             "#ed7953"
            ],
            [
             0.7777777777777778,
             "#fb9f3a"
            ],
            [
             0.8888888888888888,
             "#fdca26"
            ],
            [
             1,
             "#f0f921"
            ]
           ]
          },
          "colorway": [
           "#636efa",
           "#EF553B",
           "#00cc96",
           "#ab63fa",
           "#FFA15A",
           "#19d3f3",
           "#FF6692",
           "#B6E880",
           "#FF97FF",
           "#FECB52"
          ],
          "font": {
           "color": "#2a3f5f"
          },
          "geo": {
           "bgcolor": "white",
           "lakecolor": "white",
           "landcolor": "#E5ECF6",
           "showlakes": true,
           "showland": true,
           "subunitcolor": "white"
          },
          "hoverlabel": {
           "align": "left"
          },
          "hovermode": "closest",
          "mapbox": {
           "style": "light"
          },
          "paper_bgcolor": "white",
          "plot_bgcolor": "#E5ECF6",
          "polar": {
           "angularaxis": {
            "gridcolor": "white",
            "linecolor": "white",
            "ticks": ""
           },
           "bgcolor": "#E5ECF6",
           "radialaxis": {
            "gridcolor": "white",
            "linecolor": "white",
            "ticks": ""
           }
          },
          "scene": {
           "xaxis": {
            "backgroundcolor": "#E5ECF6",
            "gridcolor": "white",
            "gridwidth": 2,
            "linecolor": "white",
            "showbackground": true,
            "ticks": "",
            "zerolinecolor": "white"
           },
           "yaxis": {
            "backgroundcolor": "#E5ECF6",
            "gridcolor": "white",
            "gridwidth": 2,
            "linecolor": "white",
            "showbackground": true,
            "ticks": "",
            "zerolinecolor": "white"
           },
           "zaxis": {
            "backgroundcolor": "#E5ECF6",
            "gridcolor": "white",
            "gridwidth": 2,
            "linecolor": "white",
            "showbackground": true,
            "ticks": "",
            "zerolinecolor": "white"
           }
          },
          "shapedefaults": {
           "line": {
            "color": "#2a3f5f"
           }
          },
          "ternary": {
           "aaxis": {
            "gridcolor": "white",
            "linecolor": "white",
            "ticks": ""
           },
           "baxis": {
            "gridcolor": "white",
            "linecolor": "white",
            "ticks": ""
           },
           "bgcolor": "#E5ECF6",
           "caxis": {
            "gridcolor": "white",
            "linecolor": "white",
            "ticks": ""
           }
          },
          "title": {
           "x": 0.05
          },
          "xaxis": {
           "automargin": true,
           "gridcolor": "white",
           "linecolor": "white",
           "ticks": "",
           "title": {
            "standoff": 15
           },
           "zerolinecolor": "white",
           "zerolinewidth": 2
          },
          "yaxis": {
           "automargin": true,
           "gridcolor": "white",
           "linecolor": "white",
           "ticks": "",
           "title": {
            "standoff": 15
           },
           "zerolinecolor": "white",
           "zerolinewidth": 2
          }
         }
        },
        "title": {
         "text": "Rating vs Cost for Two"
        },
        "xaxis": {
         "anchor": "y",
         "domain": [
          0,
          1
         ],
         "title": {
          "text": "Rating"
         }
        },
        "yaxis": {
         "anchor": "x",
         "domain": [
          0,
          1
         ],
         "title": {
          "text": "Cost_for_Two"
         }
        }
       }
      }
     },
     "metadata": {},
     "output_type": "display_data"
    }
   ],
   "source": [
    "fig = px.scatter(df,x='Rating',y='Cost_for_Two',\n",
    "                 color='Cost_for_Two',size='Cost_for_Two', title='Rating vs Cost for Two',\n",
    "                 color_continuous_scale=\"sunset\", \n",
    "                 size_max=25)\n",
    "fig.show()"
   ]
  },
  {
   "cell_type": "markdown",
   "id": "394937aa",
   "metadata": {},
   "source": [
    "- Getting more numbers of Rating between cost of 100 to 500.\n",
    "- Also, we can see that have highest cost 800 at Rating of 4."
   ]
  },
  {
   "cell_type": "code",
   "execution_count": 17,
   "id": "50a0e4e2",
   "metadata": {
    "scrolled": false
   },
   "outputs": [
    {
     "data": {
      "text/html": [
       "<div>\n",
       "<style scoped>\n",
       "    .dataframe tbody tr th:only-of-type {\n",
       "        vertical-align: middle;\n",
       "    }\n",
       "\n",
       "    .dataframe tbody tr th {\n",
       "        vertical-align: top;\n",
       "    }\n",
       "\n",
       "    .dataframe thead th {\n",
       "        text-align: right;\n",
       "    }\n",
       "</style>\n",
       "<table border=\"1\" class=\"dataframe\">\n",
       "  <thead>\n",
       "    <tr style=\"text-align: right;\">\n",
       "      <th></th>\n",
       "      <th>Shop_Name</th>\n",
       "      <th>Cuisine</th>\n",
       "      <th>Location</th>\n",
       "      <th>Rating</th>\n",
       "      <th>Cost_for_Two</th>\n",
       "    </tr>\n",
       "  </thead>\n",
       "  <tbody>\n",
       "    <tr>\n",
       "      <th>78</th>\n",
       "      <td>Khichdi Experiment</td>\n",
       "      <td>Home Food, Healthy Food, Indian</td>\n",
       "      <td>Koramangala, Koramangala</td>\n",
       "      <td>4.8</td>\n",
       "      <td>200</td>\n",
       "    </tr>\n",
       "    <tr>\n",
       "      <th>82</th>\n",
       "      <td>Natural Ice Cream</td>\n",
       "      <td>Ice Cream</td>\n",
       "      <td>Near Wipro Park Signal, Koramangala</td>\n",
       "      <td>4.6</td>\n",
       "      <td>150</td>\n",
       "    </tr>\n",
       "    <tr>\n",
       "      <th>111</th>\n",
       "      <td>Bowl 99</td>\n",
       "      <td>North Indian, South Indian</td>\n",
       "      <td>kormangala, Koramangala</td>\n",
       "      <td>4.4</td>\n",
       "      <td>200</td>\n",
       "    </tr>\n",
       "    <tr>\n",
       "      <th>59</th>\n",
       "      <td>Sagar fast food</td>\n",
       "      <td>Chinese, South Indian, North Indian, Fast Food</td>\n",
       "      <td>8TH BLOCK, Koramangala</td>\n",
       "      <td>4.3</td>\n",
       "      <td>200</td>\n",
       "    </tr>\n",
       "    <tr>\n",
       "      <th>116</th>\n",
       "      <td>Thali 99</td>\n",
       "      <td>North Indian</td>\n",
       "      <td>Koramangala, Koramangala</td>\n",
       "      <td>4.3</td>\n",
       "      <td>200</td>\n",
       "    </tr>\n",
       "    <tr>\n",
       "      <th>88</th>\n",
       "      <td>Khawa Karpo</td>\n",
       "      <td>Chinese</td>\n",
       "      <td>Koramangala, Koramangala</td>\n",
       "      <td>4.3</td>\n",
       "      <td>178</td>\n",
       "    </tr>\n",
       "    <tr>\n",
       "      <th>0</th>\n",
       "      <td>Kanti Sweets</td>\n",
       "      <td>Sweets</td>\n",
       "      <td>Koramangala, Koramangala</td>\n",
       "      <td>4.3</td>\n",
       "      <td>150</td>\n",
       "    </tr>\n",
       "    <tr>\n",
       "      <th>24</th>\n",
       "      <td>New Udupi Grand</td>\n",
       "      <td>Chinese, Jain, North Indian, South Indian</td>\n",
       "      <td>HSR, HSR</td>\n",
       "      <td>4.3</td>\n",
       "      <td>150</td>\n",
       "    </tr>\n",
       "    <tr>\n",
       "      <th>115</th>\n",
       "      <td>Royal Treat</td>\n",
       "      <td>North Indian, Chinese, Seafood, Biryani</td>\n",
       "      <td>5th block Koramangala, Koramangala</td>\n",
       "      <td>4.2</td>\n",
       "      <td>193</td>\n",
       "    </tr>\n",
       "    <tr>\n",
       "      <th>95</th>\n",
       "      <td>NIC Natural Ice Creams</td>\n",
       "      <td>Ice Cream, Desserts</td>\n",
       "      <td>Koramangla, Koramangala</td>\n",
       "      <td>4.2</td>\n",
       "      <td>120</td>\n",
       "    </tr>\n",
       "    <tr>\n",
       "      <th>79</th>\n",
       "      <td>Tandoori Merchant</td>\n",
       "      <td>Andhra, Biryani, Chinese, Desserts, Fast Food,...</td>\n",
       "      <td>4th Cross, BTM</td>\n",
       "      <td>4.2</td>\n",
       "      <td>100</td>\n",
       "    </tr>\n",
       "    <tr>\n",
       "      <th>6</th>\n",
       "      <td>99 VARIETY DOSA AND PAV BHAJI- Malli Mane Food...</td>\n",
       "      <td>Fast Food, North Indian, Chinese</td>\n",
       "      <td>BTM 2nd Stage, BTM</td>\n",
       "      <td>4.1</td>\n",
       "      <td>200</td>\n",
       "    </tr>\n",
       "    <tr>\n",
       "      <th>16</th>\n",
       "      <td>WarmOven Cake &amp; Desserts</td>\n",
       "      <td>Desserts, Beverages</td>\n",
       "      <td>Koramangala, Koramangala</td>\n",
       "      <td>4.1</td>\n",
       "      <td>200</td>\n",
       "    </tr>\n",
       "    <tr>\n",
       "      <th>44</th>\n",
       "      <td>Svadu Pure Ghee Sweets</td>\n",
       "      <td>Desserts, Fast Food, Sweets, Chaat</td>\n",
       "      <td>1st Stage, BTM</td>\n",
       "      <td>4.1</td>\n",
       "      <td>200</td>\n",
       "    </tr>\n",
       "    <tr>\n",
       "      <th>55</th>\n",
       "      <td>Sharmas punjabi restaurant</td>\n",
       "      <td>North Indian</td>\n",
       "      <td>1st Block, Koramangala</td>\n",
       "      <td>4.1</td>\n",
       "      <td>200</td>\n",
       "    </tr>\n",
       "    <tr>\n",
       "      <th>15</th>\n",
       "      <td>Shawarma Inc</td>\n",
       "      <td>Arabian, Fast Food</td>\n",
       "      <td>1st MAin, Koramangala</td>\n",
       "      <td>4.1</td>\n",
       "      <td>150</td>\n",
       "    </tr>\n",
       "    <tr>\n",
       "      <th>100</th>\n",
       "      <td>Delhi Food Point</td>\n",
       "      <td>North Indian</td>\n",
       "      <td>1st Block, Koramangala</td>\n",
       "      <td>4.1</td>\n",
       "      <td>132</td>\n",
       "    </tr>\n",
       "    <tr>\n",
       "      <th>53</th>\n",
       "      <td>Donne Biryani House</td>\n",
       "      <td>Biryani</td>\n",
       "      <td>7th Block, Koramangala</td>\n",
       "      <td>4.1</td>\n",
       "      <td>130</td>\n",
       "    </tr>\n",
       "    <tr>\n",
       "      <th>2</th>\n",
       "      <td>Sri Krishna sagar</td>\n",
       "      <td>South Indian, North Indian, Fast Food, Beverag...</td>\n",
       "      <td>6th Block, Koramangala</td>\n",
       "      <td>4.1</td>\n",
       "      <td>126</td>\n",
       "    </tr>\n",
       "    <tr>\n",
       "      <th>89</th>\n",
       "      <td>99 VARIETY DOSA AND JUICE-Malli mane food court</td>\n",
       "      <td>Fast Food, Juices, North Indian</td>\n",
       "      <td>Koramangala 1st block, Koramangala</td>\n",
       "      <td>4.1</td>\n",
       "      <td>100</td>\n",
       "    </tr>\n",
       "  </tbody>\n",
       "</table>\n",
       "</div>"
      ],
      "text/plain": [
       "                                             Shop_Name  \\\n",
       "78                                  Khichdi Experiment   \n",
       "82                                   Natural Ice Cream   \n",
       "111                                            Bowl 99   \n",
       "59                                     Sagar fast food   \n",
       "116                                           Thali 99   \n",
       "88                                         Khawa Karpo   \n",
       "0                                         Kanti Sweets   \n",
       "24                                     New Udupi Grand   \n",
       "115                                        Royal Treat   \n",
       "95                              NIC Natural Ice Creams   \n",
       "79                                   Tandoori Merchant   \n",
       "6    99 VARIETY DOSA AND PAV BHAJI- Malli Mane Food...   \n",
       "16                            WarmOven Cake & Desserts   \n",
       "44                              Svadu Pure Ghee Sweets   \n",
       "55                          Sharmas punjabi restaurant   \n",
       "15                                        Shawarma Inc   \n",
       "100                                   Delhi Food Point   \n",
       "53                                 Donne Biryani House   \n",
       "2                                    Sri Krishna sagar   \n",
       "89     99 VARIETY DOSA AND JUICE-Malli mane food court   \n",
       "\n",
       "                                               Cuisine  \\\n",
       "78                     Home Food, Healthy Food, Indian   \n",
       "82                                           Ice Cream   \n",
       "111                         North Indian, South Indian   \n",
       "59      Chinese, South Indian, North Indian, Fast Food   \n",
       "116                                       North Indian   \n",
       "88                                             Chinese   \n",
       "0                                               Sweets   \n",
       "24           Chinese, Jain, North Indian, South Indian   \n",
       "115            North Indian, Chinese, Seafood, Biryani   \n",
       "95                                 Ice Cream, Desserts   \n",
       "79   Andhra, Biryani, Chinese, Desserts, Fast Food,...   \n",
       "6                     Fast Food, North Indian, Chinese   \n",
       "16                                 Desserts, Beverages   \n",
       "44                  Desserts, Fast Food, Sweets, Chaat   \n",
       "55                                        North Indian   \n",
       "15                                  Arabian, Fast Food   \n",
       "100                                       North Indian   \n",
       "53                                             Biryani   \n",
       "2    South Indian, North Indian, Fast Food, Beverag...   \n",
       "89                     Fast Food, Juices, North Indian   \n",
       "\n",
       "                                Location  Rating  Cost_for_Two  \n",
       "78              Koramangala, Koramangala     4.8           200  \n",
       "82   Near Wipro Park Signal, Koramangala     4.6           150  \n",
       "111              kormangala, Koramangala     4.4           200  \n",
       "59                8TH BLOCK, Koramangala     4.3           200  \n",
       "116             Koramangala, Koramangala     4.3           200  \n",
       "88              Koramangala, Koramangala     4.3           178  \n",
       "0               Koramangala, Koramangala     4.3           150  \n",
       "24                              HSR, HSR     4.3           150  \n",
       "115   5th block Koramangala, Koramangala     4.2           193  \n",
       "95               Koramangla, Koramangala     4.2           120  \n",
       "79                        4th Cross, BTM     4.2           100  \n",
       "6                     BTM 2nd Stage, BTM     4.1           200  \n",
       "16              Koramangala, Koramangala     4.1           200  \n",
       "44                        1st Stage, BTM     4.1           200  \n",
       "55                1st Block, Koramangala     4.1           200  \n",
       "15                 1st MAin, Koramangala     4.1           150  \n",
       "100               1st Block, Koramangala     4.1           132  \n",
       "53                7th Block, Koramangala     4.1           130  \n",
       "2                 6th Block, Koramangala     4.1           126  \n",
       "89    Koramangala 1st block, Koramangala     4.1           100  "
      ]
     },
     "execution_count": 17,
     "metadata": {},
     "output_type": "execute_result"
    }
   ],
   "source": [
    "df.query('Rating > 4 & Cost_for_Two <= 200').sort_values(['Rating','Cost_for_Two'],ascending=False)"
   ]
  },
  {
   "cell_type": "markdown",
   "id": "7a7cf547",
   "metadata": {},
   "source": [
    "- In location,Koramangala have Most of Shops with good Rating at minmum cost.\n",
    "- Khichdi Experiment in Koramangala has highest Rating **4.8** with minimum cost **200**.\n",
    "- whereas in IceCream, Natural Ice Cream in Koramangala has second highest Rating **4.6** with minmum cost of **150**."
   ]
  },
  {
   "cell_type": "markdown",
   "id": "d05db726",
   "metadata": {},
   "source": [
    "### Location Analysis"
   ]
  },
  {
   "cell_type": "code",
   "execution_count": 18,
   "id": "37977cd9",
   "metadata": {
    "scrolled": false
   },
   "outputs": [
    {
     "data": {
      "text/plain": [
       "array(['Koramangala, Koramangala', 'Sector 5, HSR',\n",
       "       '6th Block, Koramangala', 'HSR, HSR', '5th Block, Koramangala',\n",
       "       'Koramangala 4th  Block, Koramangala', 'BTM 2nd Stage, BTM',\n",
       "       'BTM, BTM', '9th Main road, Koramangala', 'outer ring road, BTM',\n",
       "       '7th Block, Koramangala', '1st MAin, Koramangala',\n",
       "       'Bommanahalli, BTM', '6th block, Koramangala', 'Sector 4, HSR',\n",
       "       'BTM 1st stage, BTM', 'Jakkasandra Extn, Koramangala',\n",
       "       'Marutinagar Main Road, BTM', '1st Block, Koramangala',\n",
       "       '4th Cross, BTM', 'koramangala, Koramangala', 'BTM 2nd stage, BTM',\n",
       "       '3rd main, BTM', 'HSR 1st sector, HSR', 'Sector 7, HSR',\n",
       "       '3rd Sector, HSR', 'Chocolate Factory Road, BTM',\n",
       "       '16th Main Road, 2nd Stage, BTM', '1st Stage, BTM',\n",
       "       'Hosur Main Road, Koramangala',\n",
       "       '1st Cross Road, 5th Block, Near Jyothi Nivas College, Koramangala',\n",
       "       'Mico Layout, BTM', '4th Cross, Koramangala',\n",
       "       '4th Block, Koramangala', 'Intermediate Ring Road, Koramangala',\n",
       "       '3rd sector, HSR', '8TH BLOCK, Koramangala',\n",
       "       '4th b cross, Koramangala', 'SG palaya, BTM',\n",
       "       \"Venkatapura Main Rd, Teacher's Colony, Jakkasandra, HSR\",\n",
       "       'KHB Colony, Koramangala', 'Sector 3, HSR',\n",
       "       'Bannerghatta Road, Jayanagar',\n",
       "       '80 Feet Peripheral Road, Koramangala', 'Btm, BTM',\n",
       "       'Near Wipro Park Signal, Koramangala', '16th Main Road, BTM',\n",
       "       '2nd Stage, BTM', 'Kuvempu Nagar, Stage 2, BTM',\n",
       "       'Koramangala 1st block, Koramangala',\n",
       "       '5th Block Kormangala, Koramangala', 'Koramangla, Koramangala',\n",
       "       '5th block, Koramangala', '9th Main Rd, Sector 6, HSR Layout, HSR',\n",
       "       'Jay Bheema Nagar, BTM', 'Koramangala 6th block, Koramangala',\n",
       "       'Maruthi Nagar, BTM', 'Sector 6, HSR',\n",
       "       'Jakkasandra Village, Koramangala', '4th block, Koramangala',\n",
       "       'Madiwala Junction, BTM', 'kormangala, Koramangala',\n",
       "       'JNC Road, Koramangala', 'Madiwala, BTM',\n",
       "       '5th block Koramangala, Koramangala'], dtype=object)"
      ]
     },
     "execution_count": 18,
     "metadata": {},
     "output_type": "execute_result"
    }
   ],
   "source": [
    "## let's take Location column\n",
    "\n",
    "df['Location'].unique()"
   ]
  },
  {
   "cell_type": "markdown",
   "id": "9f438dcb",
   "metadata": {},
   "source": [
    "- here, we see that there are multiple unique values of location but in that data area is in last posiion of given location.\n",
    "- so, we can find Area of that location by split."
   ]
  },
  {
   "cell_type": "code",
   "execution_count": 19,
   "id": "01d06bae",
   "metadata": {
    "scrolled": false
   },
   "outputs": [],
   "source": [
    "## create function to find area of location.\n",
    "\n",
    "def dis(feature):\n",
    "    lst=[]\n",
    "    for i in df[feature]:\n",
    "        lst.append(i.split(',')[-1].lstrip(' '))\n",
    "    return lst"
   ]
  },
  {
   "cell_type": "code",
   "execution_count": 20,
   "id": "f9bc650f",
   "metadata": {
    "scrolled": false
   },
   "outputs": [
    {
     "data": {
      "text/plain": [
       "['Koramangala',\n",
       " 'HSR',\n",
       " 'Koramangala',\n",
       " 'HSR',\n",
       " 'Koramangala',\n",
       " 'Koramangala',\n",
       " 'BTM',\n",
       " 'BTM',\n",
       " 'HSR',\n",
       " 'Koramangala',\n",
       " 'BTM',\n",
       " 'Koramangala',\n",
       " 'Koramangala',\n",
       " 'Koramangala',\n",
       " 'Koramangala',\n",
       " 'Koramangala',\n",
       " 'Koramangala',\n",
       " 'BTM',\n",
       " 'Koramangala',\n",
       " 'HSR',\n",
       " 'BTM',\n",
       " 'Koramangala',\n",
       " 'BTM',\n",
       " 'Koramangala',\n",
       " 'HSR',\n",
       " 'BTM',\n",
       " 'Koramangala',\n",
       " 'BTM',\n",
       " 'Koramangala',\n",
       " 'Koramangala',\n",
       " 'Koramangala',\n",
       " 'BTM',\n",
       " 'Koramangala',\n",
       " 'BTM',\n",
       " 'Koramangala',\n",
       " 'BTM',\n",
       " 'HSR',\n",
       " 'HSR',\n",
       " 'Koramangala',\n",
       " 'HSR',\n",
       " 'BTM',\n",
       " 'HSR',\n",
       " 'BTM',\n",
       " 'Koramangala',\n",
       " 'BTM',\n",
       " 'BTM',\n",
       " 'Koramangala',\n",
       " 'Koramangala',\n",
       " 'Koramangala',\n",
       " 'BTM',\n",
       " 'Koramangala',\n",
       " 'BTM',\n",
       " 'Koramangala',\n",
       " 'Koramangala',\n",
       " 'Koramangala',\n",
       " 'Koramangala',\n",
       " 'Koramangala',\n",
       " 'HSR',\n",
       " 'HSR',\n",
       " 'Koramangala',\n",
       " 'BTM',\n",
       " 'HSR',\n",
       " 'Koramangala',\n",
       " 'Koramangala',\n",
       " 'Koramangala',\n",
       " 'BTM',\n",
       " 'BTM',\n",
       " 'Koramangala',\n",
       " 'BTM',\n",
       " 'BTM',\n",
       " 'BTM',\n",
       " 'HSR',\n",
       " 'Koramangala',\n",
       " 'HSR',\n",
       " 'Jayanagar',\n",
       " 'Koramangala',\n",
       " 'BTM',\n",
       " 'Koramangala',\n",
       " 'Koramangala',\n",
       " 'BTM',\n",
       " 'BTM',\n",
       " 'Koramangala',\n",
       " 'Koramangala',\n",
       " 'BTM',\n",
       " 'BTM',\n",
       " 'Koramangala',\n",
       " 'BTM',\n",
       " 'BTM',\n",
       " 'Koramangala',\n",
       " 'Koramangala',\n",
       " 'Koramangala',\n",
       " 'Koramangala',\n",
       " 'BTM',\n",
       " 'Koramangala',\n",
       " 'Koramangala',\n",
       " 'Koramangala',\n",
       " 'Koramangala',\n",
       " 'Koramangala',\n",
       " 'HSR',\n",
       " 'Koramangala',\n",
       " 'HSR',\n",
       " 'Koramangala',\n",
       " 'Koramangala',\n",
       " 'BTM',\n",
       " 'Koramangala',\n",
       " 'BTM',\n",
       " 'HSR',\n",
       " 'Koramangala',\n",
       " 'Koramangala',\n",
       " 'BTM',\n",
       " 'Koramangala',\n",
       " 'Koramangala',\n",
       " 'Koramangala',\n",
       " 'BTM',\n",
       " 'Koramangala',\n",
       " 'Koramangala',\n",
       " 'Koramangala']"
      ]
     },
     "execution_count": 20,
     "metadata": {},
     "output_type": "execute_result"
    }
   ],
   "source": [
    "## area of each location given in dataset.\n",
    "\n",
    "locations = dis('Location')\n",
    "locations"
   ]
  },
  {
   "cell_type": "code",
   "execution_count": 21,
   "id": "5928b99e",
   "metadata": {},
   "outputs": [
    {
     "data": {
      "text/plain": [
       "{'BTM', 'HSR', 'Jayanagar', 'Koramangala'}"
      ]
     },
     "execution_count": 21,
     "metadata": {},
     "output_type": "execute_result"
    }
   ],
   "source": [
    "## total area of locations are 4.\n",
    "\n",
    "set(locations)"
   ]
  },
  {
   "cell_type": "code",
   "execution_count": 22,
   "id": "5d2c648d",
   "metadata": {},
   "outputs": [],
   "source": [
    "## create new column with Area.\n",
    "\n",
    "df['Area'] = locations"
   ]
  },
  {
   "cell_type": "code",
   "execution_count": 23,
   "id": "f5d8e5d0",
   "metadata": {},
   "outputs": [
    {
     "data": {
      "text/html": [
       "<div>\n",
       "<style scoped>\n",
       "    .dataframe tbody tr th:only-of-type {\n",
       "        vertical-align: middle;\n",
       "    }\n",
       "\n",
       "    .dataframe tbody tr th {\n",
       "        vertical-align: top;\n",
       "    }\n",
       "\n",
       "    .dataframe thead th {\n",
       "        text-align: right;\n",
       "    }\n",
       "</style>\n",
       "<table border=\"1\" class=\"dataframe\">\n",
       "  <thead>\n",
       "    <tr style=\"text-align: right;\">\n",
       "      <th></th>\n",
       "      <th>Shop_Name</th>\n",
       "      <th>Cuisine</th>\n",
       "      <th>Location</th>\n",
       "      <th>Rating</th>\n",
       "      <th>Cost_for_Two</th>\n",
       "      <th>Area</th>\n",
       "    </tr>\n",
       "  </thead>\n",
       "  <tbody>\n",
       "    <tr>\n",
       "      <th>0</th>\n",
       "      <td>Kanti Sweets</td>\n",
       "      <td>Sweets</td>\n",
       "      <td>Koramangala, Koramangala</td>\n",
       "      <td>4.3</td>\n",
       "      <td>150</td>\n",
       "      <td>Koramangala</td>\n",
       "    </tr>\n",
       "    <tr>\n",
       "      <th>1</th>\n",
       "      <td>Mumbai Tiffin</td>\n",
       "      <td>North Indian, Home Food, Thalis, Combo</td>\n",
       "      <td>Sector 5, HSR</td>\n",
       "      <td>4.4</td>\n",
       "      <td>400</td>\n",
       "      <td>HSR</td>\n",
       "    </tr>\n",
       "    <tr>\n",
       "      <th>2</th>\n",
       "      <td>Sri Krishna sagar</td>\n",
       "      <td>South Indian, North Indian, Fast Food, Beverag...</td>\n",
       "      <td>6th Block, Koramangala</td>\n",
       "      <td>4.1</td>\n",
       "      <td>126</td>\n",
       "      <td>Koramangala</td>\n",
       "    </tr>\n",
       "    <tr>\n",
       "      <th>3</th>\n",
       "      <td>Al Daaz</td>\n",
       "      <td>American, Arabian, Chinese, Desserts, Fast Foo...</td>\n",
       "      <td>HSR, HSR</td>\n",
       "      <td>4.4</td>\n",
       "      <td>400</td>\n",
       "      <td>HSR</td>\n",
       "    </tr>\n",
       "    <tr>\n",
       "      <th>4</th>\n",
       "      <td>Beijing Bites</td>\n",
       "      <td>Chinese, Thai</td>\n",
       "      <td>5th Block, Koramangala</td>\n",
       "      <td>4.1</td>\n",
       "      <td>450</td>\n",
       "      <td>Koramangala</td>\n",
       "    </tr>\n",
       "  </tbody>\n",
       "</table>\n",
       "</div>"
      ],
      "text/plain": [
       "           Shop_Name                                            Cuisine  \\\n",
       "0       Kanti Sweets                                             Sweets   \n",
       "1      Mumbai Tiffin             North Indian, Home Food, Thalis, Combo   \n",
       "2  Sri Krishna sagar  South Indian, North Indian, Fast Food, Beverag...   \n",
       "3            Al Daaz  American, Arabian, Chinese, Desserts, Fast Foo...   \n",
       "4      Beijing Bites                                      Chinese, Thai   \n",
       "\n",
       "                   Location  Rating  Cost_for_Two         Area  \n",
       "0  Koramangala, Koramangala     4.3           150  Koramangala  \n",
       "1             Sector 5, HSR     4.4           400          HSR  \n",
       "2    6th Block, Koramangala     4.1           126  Koramangala  \n",
       "3                  HSR, HSR     4.4           400          HSR  \n",
       "4    5th Block, Koramangala     4.1           450  Koramangala  "
      ]
     },
     "execution_count": 23,
     "metadata": {},
     "output_type": "execute_result"
    }
   ],
   "source": [
    "## again, see dataset.\n",
    "\n",
    "df.head()"
   ]
  },
  {
   "cell_type": "code",
   "execution_count": 24,
   "id": "a9067221",
   "metadata": {},
   "outputs": [
    {
     "data": {
      "text/html": [
       "<div>\n",
       "<style scoped>\n",
       "    .dataframe tbody tr th:only-of-type {\n",
       "        vertical-align: middle;\n",
       "    }\n",
       "\n",
       "    .dataframe tbody tr th {\n",
       "        vertical-align: top;\n",
       "    }\n",
       "\n",
       "    .dataframe thead th {\n",
       "        text-align: right;\n",
       "    }\n",
       "</style>\n",
       "<table border=\"1\" class=\"dataframe\">\n",
       "  <thead>\n",
       "    <tr style=\"text-align: right;\">\n",
       "      <th></th>\n",
       "      <th>Area</th>\n",
       "      <th>Rating</th>\n",
       "      <th>Cost_for_Two</th>\n",
       "    </tr>\n",
       "  </thead>\n",
       "  <tbody>\n",
       "    <tr>\n",
       "      <th>0</th>\n",
       "      <td>BTM</td>\n",
       "      <td>3.7</td>\n",
       "      <td>300.0</td>\n",
       "    </tr>\n",
       "    <tr>\n",
       "      <th>1</th>\n",
       "      <td>BTM</td>\n",
       "      <td>3.9</td>\n",
       "      <td>412.5</td>\n",
       "    </tr>\n",
       "    <tr>\n",
       "      <th>2</th>\n",
       "      <td>BTM</td>\n",
       "      <td>4.0</td>\n",
       "      <td>331.2</td>\n",
       "    </tr>\n",
       "    <tr>\n",
       "      <th>3</th>\n",
       "      <td>BTM</td>\n",
       "      <td>4.1</td>\n",
       "      <td>343.6</td>\n",
       "    </tr>\n",
       "    <tr>\n",
       "      <th>4</th>\n",
       "      <td>BTM</td>\n",
       "      <td>4.2</td>\n",
       "      <td>230.0</td>\n",
       "    </tr>\n",
       "    <tr>\n",
       "      <th>5</th>\n",
       "      <td>BTM</td>\n",
       "      <td>4.3</td>\n",
       "      <td>289.3</td>\n",
       "    </tr>\n",
       "    <tr>\n",
       "      <th>6</th>\n",
       "      <td>BTM</td>\n",
       "      <td>4.5</td>\n",
       "      <td>450.0</td>\n",
       "    </tr>\n",
       "    <tr>\n",
       "      <th>7</th>\n",
       "      <td>HSR</td>\n",
       "      <td>3.6</td>\n",
       "      <td>200.0</td>\n",
       "    </tr>\n",
       "    <tr>\n",
       "      <th>8</th>\n",
       "      <td>HSR</td>\n",
       "      <td>3.8</td>\n",
       "      <td>250.0</td>\n",
       "    </tr>\n",
       "    <tr>\n",
       "      <th>9</th>\n",
       "      <td>HSR</td>\n",
       "      <td>3.9</td>\n",
       "      <td>250.0</td>\n",
       "    </tr>\n",
       "    <tr>\n",
       "      <th>10</th>\n",
       "      <td>HSR</td>\n",
       "      <td>4.0</td>\n",
       "      <td>512.5</td>\n",
       "    </tr>\n",
       "    <tr>\n",
       "      <th>11</th>\n",
       "      <td>HSR</td>\n",
       "      <td>4.1</td>\n",
       "      <td>487.5</td>\n",
       "    </tr>\n",
       "    <tr>\n",
       "      <th>12</th>\n",
       "      <td>HSR</td>\n",
       "      <td>4.3</td>\n",
       "      <td>300.0</td>\n",
       "    </tr>\n",
       "    <tr>\n",
       "      <th>13</th>\n",
       "      <td>HSR</td>\n",
       "      <td>4.4</td>\n",
       "      <td>400.0</td>\n",
       "    </tr>\n",
       "    <tr>\n",
       "      <th>14</th>\n",
       "      <td>Jayanagar</td>\n",
       "      <td>4.3</td>\n",
       "      <td>300.0</td>\n",
       "    </tr>\n",
       "    <tr>\n",
       "      <th>15</th>\n",
       "      <td>Koramangala</td>\n",
       "      <td>3.6</td>\n",
       "      <td>300.0</td>\n",
       "    </tr>\n",
       "    <tr>\n",
       "      <th>16</th>\n",
       "      <td>Koramangala</td>\n",
       "      <td>3.7</td>\n",
       "      <td>200.0</td>\n",
       "    </tr>\n",
       "    <tr>\n",
       "      <th>17</th>\n",
       "      <td>Koramangala</td>\n",
       "      <td>3.8</td>\n",
       "      <td>250.0</td>\n",
       "    </tr>\n",
       "    <tr>\n",
       "      <th>18</th>\n",
       "      <td>Koramangala</td>\n",
       "      <td>3.9</td>\n",
       "      <td>315.0</td>\n",
       "    </tr>\n",
       "    <tr>\n",
       "      <th>19</th>\n",
       "      <td>Koramangala</td>\n",
       "      <td>4.0</td>\n",
       "      <td>297.7</td>\n",
       "    </tr>\n",
       "    <tr>\n",
       "      <th>20</th>\n",
       "      <td>Koramangala</td>\n",
       "      <td>4.1</td>\n",
       "      <td>252.9</td>\n",
       "    </tr>\n",
       "    <tr>\n",
       "      <th>21</th>\n",
       "      <td>Koramangala</td>\n",
       "      <td>4.2</td>\n",
       "      <td>302.2</td>\n",
       "    </tr>\n",
       "    <tr>\n",
       "      <th>22</th>\n",
       "      <td>Koramangala</td>\n",
       "      <td>4.3</td>\n",
       "      <td>358.0</td>\n",
       "    </tr>\n",
       "    <tr>\n",
       "      <th>23</th>\n",
       "      <td>Koramangala</td>\n",
       "      <td>4.4</td>\n",
       "      <td>363.5</td>\n",
       "    </tr>\n",
       "    <tr>\n",
       "      <th>24</th>\n",
       "      <td>Koramangala</td>\n",
       "      <td>4.6</td>\n",
       "      <td>200.0</td>\n",
       "    </tr>\n",
       "    <tr>\n",
       "      <th>25</th>\n",
       "      <td>Koramangala</td>\n",
       "      <td>4.8</td>\n",
       "      <td>200.0</td>\n",
       "    </tr>\n",
       "  </tbody>\n",
       "</table>\n",
       "</div>"
      ],
      "text/plain": [
       "           Area  Rating  Cost_for_Two\n",
       "0           BTM     3.7         300.0\n",
       "1           BTM     3.9         412.5\n",
       "2           BTM     4.0         331.2\n",
       "3           BTM     4.1         343.6\n",
       "4           BTM     4.2         230.0\n",
       "5           BTM     4.3         289.3\n",
       "6           BTM     4.5         450.0\n",
       "7           HSR     3.6         200.0\n",
       "8           HSR     3.8         250.0\n",
       "9           HSR     3.9         250.0\n",
       "10          HSR     4.0         512.5\n",
       "11          HSR     4.1         487.5\n",
       "12          HSR     4.3         300.0\n",
       "13          HSR     4.4         400.0\n",
       "14    Jayanagar     4.3         300.0\n",
       "15  Koramangala     3.6         300.0\n",
       "16  Koramangala     3.7         200.0\n",
       "17  Koramangala     3.8         250.0\n",
       "18  Koramangala     3.9         315.0\n",
       "19  Koramangala     4.0         297.7\n",
       "20  Koramangala     4.1         252.9\n",
       "21  Koramangala     4.2         302.2\n",
       "22  Koramangala     4.3         358.0\n",
       "23  Koramangala     4.4         363.5\n",
       "24  Koramangala     4.6         200.0\n",
       "25  Koramangala     4.8         200.0"
      ]
     },
     "execution_count": 24,
     "metadata": {},
     "output_type": "execute_result"
    }
   ],
   "source": [
    "## Groupby 'Area' and 'Rating' columns and take mean of Cost_for_Two for each Rating with respect to Area.\n",
    "\n",
    "area_rate_cost=df.groupby(['Area','Rating']).mean().round(1).reset_index()\n",
    "area_rate_cost"
   ]
  },
  {
   "cell_type": "code",
   "execution_count": 25,
   "id": "802cb99f",
   "metadata": {},
   "outputs": [
    {
     "data": {
      "application/vnd.plotly.v1+json": {
       "config": {
        "plotlyServerURL": "https://plot.ly"
       },
       "data": [
        {
         "alignmentgroup": "True",
         "hovertemplate": "Area=%{x}<br>Cost_for_Two=%{y}<br>Rating=%{marker.color}<extra></extra>",
         "legendgroup": "",
         "marker": {
          "color": [
           3.7,
           3.9,
           4,
           4.1,
           4.2,
           4.3,
           4.5,
           3.6,
           3.8,
           3.9,
           4,
           4.1,
           4.3,
           4.4,
           4.3,
           3.6,
           3.7,
           3.8,
           3.9,
           4,
           4.1,
           4.2,
           4.3,
           4.4,
           4.6,
           4.8
          ],
          "coloraxis": "coloraxis",
          "pattern": {
           "shape": ""
          }
         },
         "name": "",
         "offsetgroup": "",
         "orientation": "v",
         "showlegend": false,
         "textposition": "auto",
         "type": "bar",
         "x": [
          "BTM",
          "BTM",
          "BTM",
          "BTM",
          "BTM",
          "BTM",
          "BTM",
          "HSR",
          "HSR",
          "HSR",
          "HSR",
          "HSR",
          "HSR",
          "HSR",
          "Jayanagar",
          "Koramangala",
          "Koramangala",
          "Koramangala",
          "Koramangala",
          "Koramangala",
          "Koramangala",
          "Koramangala",
          "Koramangala",
          "Koramangala",
          "Koramangala",
          "Koramangala"
         ],
         "xaxis": "x",
         "y": [
          300,
          412.5,
          331.2,
          343.6,
          230,
          289.3,
          450,
          200,
          250,
          250,
          512.5,
          487.5,
          300,
          400,
          300,
          300,
          200,
          250,
          315,
          297.7,
          252.9,
          302.2,
          358,
          363.5,
          200,
          200
         ],
         "yaxis": "y"
        }
       ],
       "layout": {
        "barmode": "relative",
        "coloraxis": {
         "colorbar": {
          "title": {
           "text": "Rating"
          }
         },
         "colorscale": [
          [
           0,
           "#0d0887"
          ],
          [
           0.1111111111111111,
           "#46039f"
          ],
          [
           0.2222222222222222,
           "#7201a8"
          ],
          [
           0.3333333333333333,
           "#9c179e"
          ],
          [
           0.4444444444444444,
           "#bd3786"
          ],
          [
           0.5555555555555556,
           "#d8576b"
          ],
          [
           0.6666666666666666,
           "#ed7953"
          ],
          [
           0.7777777777777778,
           "#fb9f3a"
          ],
          [
           0.8888888888888888,
           "#fdca26"
          ],
          [
           1,
           "#f0f921"
          ]
         ]
        },
        "legend": {
         "tracegroupgap": 0
        },
        "margin": {
         "t": 60
        },
        "template": {
         "data": {
          "bar": [
           {
            "error_x": {
             "color": "#2a3f5f"
            },
            "error_y": {
             "color": "#2a3f5f"
            },
            "marker": {
             "line": {
              "color": "#E5ECF6",
              "width": 0.5
             },
             "pattern": {
              "fillmode": "overlay",
              "size": 10,
              "solidity": 0.2
             }
            },
            "type": "bar"
           }
          ],
          "barpolar": [
           {
            "marker": {
             "line": {
              "color": "#E5ECF6",
              "width": 0.5
             },
             "pattern": {
              "fillmode": "overlay",
              "size": 10,
              "solidity": 0.2
             }
            },
            "type": "barpolar"
           }
          ],
          "carpet": [
           {
            "aaxis": {
             "endlinecolor": "#2a3f5f",
             "gridcolor": "white",
             "linecolor": "white",
             "minorgridcolor": "white",
             "startlinecolor": "#2a3f5f"
            },
            "baxis": {
             "endlinecolor": "#2a3f5f",
             "gridcolor": "white",
             "linecolor": "white",
             "minorgridcolor": "white",
             "startlinecolor": "#2a3f5f"
            },
            "type": "carpet"
           }
          ],
          "choropleth": [
           {
            "colorbar": {
             "outlinewidth": 0,
             "ticks": ""
            },
            "type": "choropleth"
           }
          ],
          "contour": [
           {
            "colorbar": {
             "outlinewidth": 0,
             "ticks": ""
            },
            "colorscale": [
             [
              0,
              "#0d0887"
             ],
             [
              0.1111111111111111,
              "#46039f"
             ],
             [
              0.2222222222222222,
              "#7201a8"
             ],
             [
              0.3333333333333333,
              "#9c179e"
             ],
             [
              0.4444444444444444,
              "#bd3786"
             ],
             [
              0.5555555555555556,
              "#d8576b"
             ],
             [
              0.6666666666666666,
              "#ed7953"
             ],
             [
              0.7777777777777778,
              "#fb9f3a"
             ],
             [
              0.8888888888888888,
              "#fdca26"
             ],
             [
              1,
              "#f0f921"
             ]
            ],
            "type": "contour"
           }
          ],
          "contourcarpet": [
           {
            "colorbar": {
             "outlinewidth": 0,
             "ticks": ""
            },
            "type": "contourcarpet"
           }
          ],
          "heatmap": [
           {
            "colorbar": {
             "outlinewidth": 0,
             "ticks": ""
            },
            "colorscale": [
             [
              0,
              "#0d0887"
             ],
             [
              0.1111111111111111,
              "#46039f"
             ],
             [
              0.2222222222222222,
              "#7201a8"
             ],
             [
              0.3333333333333333,
              "#9c179e"
             ],
             [
              0.4444444444444444,
              "#bd3786"
             ],
             [
              0.5555555555555556,
              "#d8576b"
             ],
             [
              0.6666666666666666,
              "#ed7953"
             ],
             [
              0.7777777777777778,
              "#fb9f3a"
             ],
             [
              0.8888888888888888,
              "#fdca26"
             ],
             [
              1,
              "#f0f921"
             ]
            ],
            "type": "heatmap"
           }
          ],
          "heatmapgl": [
           {
            "colorbar": {
             "outlinewidth": 0,
             "ticks": ""
            },
            "colorscale": [
             [
              0,
              "#0d0887"
             ],
             [
              0.1111111111111111,
              "#46039f"
             ],
             [
              0.2222222222222222,
              "#7201a8"
             ],
             [
              0.3333333333333333,
              "#9c179e"
             ],
             [
              0.4444444444444444,
              "#bd3786"
             ],
             [
              0.5555555555555556,
              "#d8576b"
             ],
             [
              0.6666666666666666,
              "#ed7953"
             ],
             [
              0.7777777777777778,
              "#fb9f3a"
             ],
             [
              0.8888888888888888,
              "#fdca26"
             ],
             [
              1,
              "#f0f921"
             ]
            ],
            "type": "heatmapgl"
           }
          ],
          "histogram": [
           {
            "marker": {
             "pattern": {
              "fillmode": "overlay",
              "size": 10,
              "solidity": 0.2
             }
            },
            "type": "histogram"
           }
          ],
          "histogram2d": [
           {
            "colorbar": {
             "outlinewidth": 0,
             "ticks": ""
            },
            "colorscale": [
             [
              0,
              "#0d0887"
             ],
             [
              0.1111111111111111,
              "#46039f"
             ],
             [
              0.2222222222222222,
              "#7201a8"
             ],
             [
              0.3333333333333333,
              "#9c179e"
             ],
             [
              0.4444444444444444,
              "#bd3786"
             ],
             [
              0.5555555555555556,
              "#d8576b"
             ],
             [
              0.6666666666666666,
              "#ed7953"
             ],
             [
              0.7777777777777778,
              "#fb9f3a"
             ],
             [
              0.8888888888888888,
              "#fdca26"
             ],
             [
              1,
              "#f0f921"
             ]
            ],
            "type": "histogram2d"
           }
          ],
          "histogram2dcontour": [
           {
            "colorbar": {
             "outlinewidth": 0,
             "ticks": ""
            },
            "colorscale": [
             [
              0,
              "#0d0887"
             ],
             [
              0.1111111111111111,
              "#46039f"
             ],
             [
              0.2222222222222222,
              "#7201a8"
             ],
             [
              0.3333333333333333,
              "#9c179e"
             ],
             [
              0.4444444444444444,
              "#bd3786"
             ],
             [
              0.5555555555555556,
              "#d8576b"
             ],
             [
              0.6666666666666666,
              "#ed7953"
             ],
             [
              0.7777777777777778,
              "#fb9f3a"
             ],
             [
              0.8888888888888888,
              "#fdca26"
             ],
             [
              1,
              "#f0f921"
             ]
            ],
            "type": "histogram2dcontour"
           }
          ],
          "mesh3d": [
           {
            "colorbar": {
             "outlinewidth": 0,
             "ticks": ""
            },
            "type": "mesh3d"
           }
          ],
          "parcoords": [
           {
            "line": {
             "colorbar": {
              "outlinewidth": 0,
              "ticks": ""
             }
            },
            "type": "parcoords"
           }
          ],
          "pie": [
           {
            "automargin": true,
            "type": "pie"
           }
          ],
          "scatter": [
           {
            "fillpattern": {
             "fillmode": "overlay",
             "size": 10,
             "solidity": 0.2
            },
            "type": "scatter"
           }
          ],
          "scatter3d": [
           {
            "line": {
             "colorbar": {
              "outlinewidth": 0,
              "ticks": ""
             }
            },
            "marker": {
             "colorbar": {
              "outlinewidth": 0,
              "ticks": ""
             }
            },
            "type": "scatter3d"
           }
          ],
          "scattercarpet": [
           {
            "marker": {
             "colorbar": {
              "outlinewidth": 0,
              "ticks": ""
             }
            },
            "type": "scattercarpet"
           }
          ],
          "scattergeo": [
           {
            "marker": {
             "colorbar": {
              "outlinewidth": 0,
              "ticks": ""
             }
            },
            "type": "scattergeo"
           }
          ],
          "scattergl": [
           {
            "marker": {
             "colorbar": {
              "outlinewidth": 0,
              "ticks": ""
             }
            },
            "type": "scattergl"
           }
          ],
          "scattermapbox": [
           {
            "marker": {
             "colorbar": {
              "outlinewidth": 0,
              "ticks": ""
             }
            },
            "type": "scattermapbox"
           }
          ],
          "scatterpolar": [
           {
            "marker": {
             "colorbar": {
              "outlinewidth": 0,
              "ticks": ""
             }
            },
            "type": "scatterpolar"
           }
          ],
          "scatterpolargl": [
           {
            "marker": {
             "colorbar": {
              "outlinewidth": 0,
              "ticks": ""
             }
            },
            "type": "scatterpolargl"
           }
          ],
          "scatterternary": [
           {
            "marker": {
             "colorbar": {
              "outlinewidth": 0,
              "ticks": ""
             }
            },
            "type": "scatterternary"
           }
          ],
          "surface": [
           {
            "colorbar": {
             "outlinewidth": 0,
             "ticks": ""
            },
            "colorscale": [
             [
              0,
              "#0d0887"
             ],
             [
              0.1111111111111111,
              "#46039f"
             ],
             [
              0.2222222222222222,
              "#7201a8"
             ],
             [
              0.3333333333333333,
              "#9c179e"
             ],
             [
              0.4444444444444444,
              "#bd3786"
             ],
             [
              0.5555555555555556,
              "#d8576b"
             ],
             [
              0.6666666666666666,
              "#ed7953"
             ],
             [
              0.7777777777777778,
              "#fb9f3a"
             ],
             [
              0.8888888888888888,
              "#fdca26"
             ],
             [
              1,
              "#f0f921"
             ]
            ],
            "type": "surface"
           }
          ],
          "table": [
           {
            "cells": {
             "fill": {
              "color": "#EBF0F8"
             },
             "line": {
              "color": "white"
             }
            },
            "header": {
             "fill": {
              "color": "#C8D4E3"
             },
             "line": {
              "color": "white"
             }
            },
            "type": "table"
           }
          ]
         },
         "layout": {
          "annotationdefaults": {
           "arrowcolor": "#2a3f5f",
           "arrowhead": 0,
           "arrowwidth": 1
          },
          "autotypenumbers": "strict",
          "coloraxis": {
           "colorbar": {
            "outlinewidth": 0,
            "ticks": ""
           }
          },
          "colorscale": {
           "diverging": [
            [
             0,
             "#8e0152"
            ],
            [
             0.1,
             "#c51b7d"
            ],
            [
             0.2,
             "#de77ae"
            ],
            [
             0.3,
             "#f1b6da"
            ],
            [
             0.4,
             "#fde0ef"
            ],
            [
             0.5,
             "#f7f7f7"
            ],
            [
             0.6,
             "#e6f5d0"
            ],
            [
             0.7,
             "#b8e186"
            ],
            [
             0.8,
             "#7fbc41"
            ],
            [
             0.9,
             "#4d9221"
            ],
            [
             1,
             "#276419"
            ]
           ],
           "sequential": [
            [
             0,
             "#0d0887"
            ],
            [
             0.1111111111111111,
             "#46039f"
            ],
            [
             0.2222222222222222,
             "#7201a8"
            ],
            [
             0.3333333333333333,
             "#9c179e"
            ],
            [
             0.4444444444444444,
             "#bd3786"
            ],
            [
             0.5555555555555556,
             "#d8576b"
            ],
            [
             0.6666666666666666,
             "#ed7953"
            ],
            [
             0.7777777777777778,
             "#fb9f3a"
            ],
            [
             0.8888888888888888,
             "#fdca26"
            ],
            [
             1,
             "#f0f921"
            ]
           ],
           "sequentialminus": [
            [
             0,
             "#0d0887"
            ],
            [
             0.1111111111111111,
             "#46039f"
            ],
            [
             0.2222222222222222,
             "#7201a8"
            ],
            [
             0.3333333333333333,
             "#9c179e"
            ],
            [
             0.4444444444444444,
             "#bd3786"
            ],
            [
             0.5555555555555556,
             "#d8576b"
            ],
            [
             0.6666666666666666,
             "#ed7953"
            ],
            [
             0.7777777777777778,
             "#fb9f3a"
            ],
            [
             0.8888888888888888,
             "#fdca26"
            ],
            [
             1,
             "#f0f921"
            ]
           ]
          },
          "colorway": [
           "#636efa",
           "#EF553B",
           "#00cc96",
           "#ab63fa",
           "#FFA15A",
           "#19d3f3",
           "#FF6692",
           "#B6E880",
           "#FF97FF",
           "#FECB52"
          ],
          "font": {
           "color": "#2a3f5f"
          },
          "geo": {
           "bgcolor": "white",
           "lakecolor": "white",
           "landcolor": "#E5ECF6",
           "showlakes": true,
           "showland": true,
           "subunitcolor": "white"
          },
          "hoverlabel": {
           "align": "left"
          },
          "hovermode": "closest",
          "mapbox": {
           "style": "light"
          },
          "paper_bgcolor": "white",
          "plot_bgcolor": "#E5ECF6",
          "polar": {
           "angularaxis": {
            "gridcolor": "white",
            "linecolor": "white",
            "ticks": ""
           },
           "bgcolor": "#E5ECF6",
           "radialaxis": {
            "gridcolor": "white",
            "linecolor": "white",
            "ticks": ""
           }
          },
          "scene": {
           "xaxis": {
            "backgroundcolor": "#E5ECF6",
            "gridcolor": "white",
            "gridwidth": 2,
            "linecolor": "white",
            "showbackground": true,
            "ticks": "",
            "zerolinecolor": "white"
           },
           "yaxis": {
            "backgroundcolor": "#E5ECF6",
            "gridcolor": "white",
            "gridwidth": 2,
            "linecolor": "white",
            "showbackground": true,
            "ticks": "",
            "zerolinecolor": "white"
           },
           "zaxis": {
            "backgroundcolor": "#E5ECF6",
            "gridcolor": "white",
            "gridwidth": 2,
            "linecolor": "white",
            "showbackground": true,
            "ticks": "",
            "zerolinecolor": "white"
           }
          },
          "shapedefaults": {
           "line": {
            "color": "#2a3f5f"
           }
          },
          "ternary": {
           "aaxis": {
            "gridcolor": "white",
            "linecolor": "white",
            "ticks": ""
           },
           "baxis": {
            "gridcolor": "white",
            "linecolor": "white",
            "ticks": ""
           },
           "bgcolor": "#E5ECF6",
           "caxis": {
            "gridcolor": "white",
            "linecolor": "white",
            "ticks": ""
           }
          },
          "title": {
           "x": 0.05
          },
          "xaxis": {
           "automargin": true,
           "gridcolor": "white",
           "linecolor": "white",
           "ticks": "",
           "title": {
            "standoff": 15
           },
           "zerolinecolor": "white",
           "zerolinewidth": 2
          },
          "yaxis": {
           "automargin": true,
           "gridcolor": "white",
           "linecolor": "white",
           "ticks": "",
           "title": {
            "standoff": 15
           },
           "zerolinecolor": "white",
           "zerolinewidth": 2
          }
         }
        },
        "xaxis": {
         "anchor": "y",
         "domain": [
          0,
          1
         ],
         "title": {
          "text": "Area"
         }
        },
        "yaxis": {
         "anchor": "x",
         "domain": [
          0,
          1
         ],
         "title": {
          "text": "Cost_for_Two"
         }
        }
       }
      }
     },
     "metadata": {},
     "output_type": "display_data"
    }
   ],
   "source": [
    "# sns.barplot(x=df['Rating'],y=df['Cost_for_Two'],hue=df['Area'])\n",
    "\n",
    "fig = px.bar(area_rate_cost,x='Area',y='Cost_for_Two',color='Rating')\n",
    "\n",
    "fig.show()"
   ]
  },
  {
   "cell_type": "markdown",
   "id": "df783f9f",
   "metadata": {},
   "source": [
    "- Koramangala Area has **Highest Cost** for two people and also **Highest rated area** comparing other three areas.\n",
    "- Jayanagar Area has only one data with Rating is **4.3** and cost is **300**.\n",
    "- Whereas, Areas like BTM and HSR has almost same amount of cost."
   ]
  },
  {
   "cell_type": "markdown",
   "id": "074d7879",
   "metadata": {},
   "source": [
    "## Revenue generated by Area"
   ]
  },
  {
   "cell_type": "code",
   "execution_count": 26,
   "id": "87a4187d",
   "metadata": {},
   "outputs": [
    {
     "data": {
      "text/html": [
       "<div>\n",
       "<style scoped>\n",
       "    .dataframe tbody tr th:only-of-type {\n",
       "        vertical-align: middle;\n",
       "    }\n",
       "\n",
       "    .dataframe tbody tr th {\n",
       "        vertical-align: top;\n",
       "    }\n",
       "\n",
       "    .dataframe thead th {\n",
       "        text-align: right;\n",
       "    }\n",
       "</style>\n",
       "<table border=\"1\" class=\"dataframe\">\n",
       "  <thead>\n",
       "    <tr style=\"text-align: right;\">\n",
       "      <th></th>\n",
       "      <th>Area</th>\n",
       "      <th>Cost_for_Two</th>\n",
       "    </tr>\n",
       "  </thead>\n",
       "  <tbody>\n",
       "    <tr>\n",
       "      <th>0</th>\n",
       "      <td>BTM</td>\n",
       "      <td>11518</td>\n",
       "    </tr>\n",
       "    <tr>\n",
       "      <th>1</th>\n",
       "      <td>HSR</td>\n",
       "      <td>6650</td>\n",
       "    </tr>\n",
       "    <tr>\n",
       "      <th>2</th>\n",
       "      <td>Jayanagar</td>\n",
       "      <td>300</td>\n",
       "    </tr>\n",
       "    <tr>\n",
       "      <th>3</th>\n",
       "      <td>Koramangala</td>\n",
       "      <td>19061</td>\n",
       "    </tr>\n",
       "  </tbody>\n",
       "</table>\n",
       "</div>"
      ],
      "text/plain": [
       "          Area  Cost_for_Two\n",
       "0          BTM         11518\n",
       "1          HSR          6650\n",
       "2    Jayanagar           300\n",
       "3  Koramangala         19061"
      ]
     },
     "execution_count": 26,
     "metadata": {},
     "output_type": "execute_result"
    }
   ],
   "source": [
    "## create pivot table to generate revenue using Area and Cost_for_Two column.\n",
    "\n",
    "a_r_c=pd.pivot_table(df,values=['Cost_for_Two'],index=['Area'],aggfunc=np.sum).reset_index()\n",
    "a_r_c"
   ]
  },
  {
   "cell_type": "markdown",
   "id": "ba115b51",
   "metadata": {},
   "source": [
    "- Highest Revenue generated by Koramangala area.\n",
    "- By Jayanagar generates lowest Revenue as we have only one data entry of that area which is logically correct.\n",
    "- BTM and HSR are at second and third position for generating good revenue."
   ]
  },
  {
   "cell_type": "code",
   "execution_count": 27,
   "id": "b69cb93c",
   "metadata": {},
   "outputs": [
    {
     "data": {
      "application/vnd.plotly.v1+json": {
       "config": {
        "plotlyServerURL": "https://plot.ly"
       },
       "data": [
        {
         "domain": {
          "x": [
           0,
           1
          ],
          "y": [
           0,
           1
          ]
         },
         "hole": 0.4,
         "hovertemplate": "Area=%{label}<br>Cost_for_Two=%{value}<extra></extra>",
         "insidetextorientation": "radial",
         "labels": [
          "BTM",
          "HSR",
          "Jayanagar",
          "Koramangala"
         ],
         "legendgroup": "",
         "marker": {
          "colors": [
           "goldenrod",
           "darksalmon",
           "saddlebrown",
           "firebrick"
          ],
          "line": {
           "color": "#000000",
           "width": 1
          }
         },
         "name": "",
         "pull": [
          0,
          0,
          0.1,
          0
         ],
         "showlegend": true,
         "textinfo": "percent+label",
         "textposition": "inside",
         "type": "pie",
         "values": [
          11518,
          6650,
          300,
          19061
         ]
        }
       ],
       "layout": {
        "legend": {
         "tracegroupgap": 0
        },
        "template": {
         "data": {
          "bar": [
           {
            "error_x": {
             "color": "#2a3f5f"
            },
            "error_y": {
             "color": "#2a3f5f"
            },
            "marker": {
             "line": {
              "color": "#E5ECF6",
              "width": 0.5
             },
             "pattern": {
              "fillmode": "overlay",
              "size": 10,
              "solidity": 0.2
             }
            },
            "type": "bar"
           }
          ],
          "barpolar": [
           {
            "marker": {
             "line": {
              "color": "#E5ECF6",
              "width": 0.5
             },
             "pattern": {
              "fillmode": "overlay",
              "size": 10,
              "solidity": 0.2
             }
            },
            "type": "barpolar"
           }
          ],
          "carpet": [
           {
            "aaxis": {
             "endlinecolor": "#2a3f5f",
             "gridcolor": "white",
             "linecolor": "white",
             "minorgridcolor": "white",
             "startlinecolor": "#2a3f5f"
            },
            "baxis": {
             "endlinecolor": "#2a3f5f",
             "gridcolor": "white",
             "linecolor": "white",
             "minorgridcolor": "white",
             "startlinecolor": "#2a3f5f"
            },
            "type": "carpet"
           }
          ],
          "choropleth": [
           {
            "colorbar": {
             "outlinewidth": 0,
             "ticks": ""
            },
            "type": "choropleth"
           }
          ],
          "contour": [
           {
            "colorbar": {
             "outlinewidth": 0,
             "ticks": ""
            },
            "colorscale": [
             [
              0,
              "#0d0887"
             ],
             [
              0.1111111111111111,
              "#46039f"
             ],
             [
              0.2222222222222222,
              "#7201a8"
             ],
             [
              0.3333333333333333,
              "#9c179e"
             ],
             [
              0.4444444444444444,
              "#bd3786"
             ],
             [
              0.5555555555555556,
              "#d8576b"
             ],
             [
              0.6666666666666666,
              "#ed7953"
             ],
             [
              0.7777777777777778,
              "#fb9f3a"
             ],
             [
              0.8888888888888888,
              "#fdca26"
             ],
             [
              1,
              "#f0f921"
             ]
            ],
            "type": "contour"
           }
          ],
          "contourcarpet": [
           {
            "colorbar": {
             "outlinewidth": 0,
             "ticks": ""
            },
            "type": "contourcarpet"
           }
          ],
          "heatmap": [
           {
            "colorbar": {
             "outlinewidth": 0,
             "ticks": ""
            },
            "colorscale": [
             [
              0,
              "#0d0887"
             ],
             [
              0.1111111111111111,
              "#46039f"
             ],
             [
              0.2222222222222222,
              "#7201a8"
             ],
             [
              0.3333333333333333,
              "#9c179e"
             ],
             [
              0.4444444444444444,
              "#bd3786"
             ],
             [
              0.5555555555555556,
              "#d8576b"
             ],
             [
              0.6666666666666666,
              "#ed7953"
             ],
             [
              0.7777777777777778,
              "#fb9f3a"
             ],
             [
              0.8888888888888888,
              "#fdca26"
             ],
             [
              1,
              "#f0f921"
             ]
            ],
            "type": "heatmap"
           }
          ],
          "heatmapgl": [
           {
            "colorbar": {
             "outlinewidth": 0,
             "ticks": ""
            },
            "colorscale": [
             [
              0,
              "#0d0887"
             ],
             [
              0.1111111111111111,
              "#46039f"
             ],
             [
              0.2222222222222222,
              "#7201a8"
             ],
             [
              0.3333333333333333,
              "#9c179e"
             ],
             [
              0.4444444444444444,
              "#bd3786"
             ],
             [
              0.5555555555555556,
              "#d8576b"
             ],
             [
              0.6666666666666666,
              "#ed7953"
             ],
             [
              0.7777777777777778,
              "#fb9f3a"
             ],
             [
              0.8888888888888888,
              "#fdca26"
             ],
             [
              1,
              "#f0f921"
             ]
            ],
            "type": "heatmapgl"
           }
          ],
          "histogram": [
           {
            "marker": {
             "pattern": {
              "fillmode": "overlay",
              "size": 10,
              "solidity": 0.2
             }
            },
            "type": "histogram"
           }
          ],
          "histogram2d": [
           {
            "colorbar": {
             "outlinewidth": 0,
             "ticks": ""
            },
            "colorscale": [
             [
              0,
              "#0d0887"
             ],
             [
              0.1111111111111111,
              "#46039f"
             ],
             [
              0.2222222222222222,
              "#7201a8"
             ],
             [
              0.3333333333333333,
              "#9c179e"
             ],
             [
              0.4444444444444444,
              "#bd3786"
             ],
             [
              0.5555555555555556,
              "#d8576b"
             ],
             [
              0.6666666666666666,
              "#ed7953"
             ],
             [
              0.7777777777777778,
              "#fb9f3a"
             ],
             [
              0.8888888888888888,
              "#fdca26"
             ],
             [
              1,
              "#f0f921"
             ]
            ],
            "type": "histogram2d"
           }
          ],
          "histogram2dcontour": [
           {
            "colorbar": {
             "outlinewidth": 0,
             "ticks": ""
            },
            "colorscale": [
             [
              0,
              "#0d0887"
             ],
             [
              0.1111111111111111,
              "#46039f"
             ],
             [
              0.2222222222222222,
              "#7201a8"
             ],
             [
              0.3333333333333333,
              "#9c179e"
             ],
             [
              0.4444444444444444,
              "#bd3786"
             ],
             [
              0.5555555555555556,
              "#d8576b"
             ],
             [
              0.6666666666666666,
              "#ed7953"
             ],
             [
              0.7777777777777778,
              "#fb9f3a"
             ],
             [
              0.8888888888888888,
              "#fdca26"
             ],
             [
              1,
              "#f0f921"
             ]
            ],
            "type": "histogram2dcontour"
           }
          ],
          "mesh3d": [
           {
            "colorbar": {
             "outlinewidth": 0,
             "ticks": ""
            },
            "type": "mesh3d"
           }
          ],
          "parcoords": [
           {
            "line": {
             "colorbar": {
              "outlinewidth": 0,
              "ticks": ""
             }
            },
            "type": "parcoords"
           }
          ],
          "pie": [
           {
            "automargin": true,
            "type": "pie"
           }
          ],
          "scatter": [
           {
            "fillpattern": {
             "fillmode": "overlay",
             "size": 10,
             "solidity": 0.2
            },
            "type": "scatter"
           }
          ],
          "scatter3d": [
           {
            "line": {
             "colorbar": {
              "outlinewidth": 0,
              "ticks": ""
             }
            },
            "marker": {
             "colorbar": {
              "outlinewidth": 0,
              "ticks": ""
             }
            },
            "type": "scatter3d"
           }
          ],
          "scattercarpet": [
           {
            "marker": {
             "colorbar": {
              "outlinewidth": 0,
              "ticks": ""
             }
            },
            "type": "scattercarpet"
           }
          ],
          "scattergeo": [
           {
            "marker": {
             "colorbar": {
              "outlinewidth": 0,
              "ticks": ""
             }
            },
            "type": "scattergeo"
           }
          ],
          "scattergl": [
           {
            "marker": {
             "colorbar": {
              "outlinewidth": 0,
              "ticks": ""
             }
            },
            "type": "scattergl"
           }
          ],
          "scattermapbox": [
           {
            "marker": {
             "colorbar": {
              "outlinewidth": 0,
              "ticks": ""
             }
            },
            "type": "scattermapbox"
           }
          ],
          "scatterpolar": [
           {
            "marker": {
             "colorbar": {
              "outlinewidth": 0,
              "ticks": ""
             }
            },
            "type": "scatterpolar"
           }
          ],
          "scatterpolargl": [
           {
            "marker": {
             "colorbar": {
              "outlinewidth": 0,
              "ticks": ""
             }
            },
            "type": "scatterpolargl"
           }
          ],
          "scatterternary": [
           {
            "marker": {
             "colorbar": {
              "outlinewidth": 0,
              "ticks": ""
             }
            },
            "type": "scatterternary"
           }
          ],
          "surface": [
           {
            "colorbar": {
             "outlinewidth": 0,
             "ticks": ""
            },
            "colorscale": [
             [
              0,
              "#0d0887"
             ],
             [
              0.1111111111111111,
              "#46039f"
             ],
             [
              0.2222222222222222,
              "#7201a8"
             ],
             [
              0.3333333333333333,
              "#9c179e"
             ],
             [
              0.4444444444444444,
              "#bd3786"
             ],
             [
              0.5555555555555556,
              "#d8576b"
             ],
             [
              0.6666666666666666,
              "#ed7953"
             ],
             [
              0.7777777777777778,
              "#fb9f3a"
             ],
             [
              0.8888888888888888,
              "#fdca26"
             ],
             [
              1,
              "#f0f921"
             ]
            ],
            "type": "surface"
           }
          ],
          "table": [
           {
            "cells": {
             "fill": {
              "color": "#EBF0F8"
             },
             "line": {
              "color": "white"
             }
            },
            "header": {
             "fill": {
              "color": "#C8D4E3"
             },
             "line": {
              "color": "white"
             }
            },
            "type": "table"
           }
          ]
         },
         "layout": {
          "annotationdefaults": {
           "arrowcolor": "#2a3f5f",
           "arrowhead": 0,
           "arrowwidth": 1
          },
          "autotypenumbers": "strict",
          "coloraxis": {
           "colorbar": {
            "outlinewidth": 0,
            "ticks": ""
           }
          },
          "colorscale": {
           "diverging": [
            [
             0,
             "#8e0152"
            ],
            [
             0.1,
             "#c51b7d"
            ],
            [
             0.2,
             "#de77ae"
            ],
            [
             0.3,
             "#f1b6da"
            ],
            [
             0.4,
             "#fde0ef"
            ],
            [
             0.5,
             "#f7f7f7"
            ],
            [
             0.6,
             "#e6f5d0"
            ],
            [
             0.7,
             "#b8e186"
            ],
            [
             0.8,
             "#7fbc41"
            ],
            [
             0.9,
             "#4d9221"
            ],
            [
             1,
             "#276419"
            ]
           ],
           "sequential": [
            [
             0,
             "#0d0887"
            ],
            [
             0.1111111111111111,
             "#46039f"
            ],
            [
             0.2222222222222222,
             "#7201a8"
            ],
            [
             0.3333333333333333,
             "#9c179e"
            ],
            [
             0.4444444444444444,
             "#bd3786"
            ],
            [
             0.5555555555555556,
             "#d8576b"
            ],
            [
             0.6666666666666666,
             "#ed7953"
            ],
            [
             0.7777777777777778,
             "#fb9f3a"
            ],
            [
             0.8888888888888888,
             "#fdca26"
            ],
            [
             1,
             "#f0f921"
            ]
           ],
           "sequentialminus": [
            [
             0,
             "#0d0887"
            ],
            [
             0.1111111111111111,
             "#46039f"
            ],
            [
             0.2222222222222222,
             "#7201a8"
            ],
            [
             0.3333333333333333,
             "#9c179e"
            ],
            [
             0.4444444444444444,
             "#bd3786"
            ],
            [
             0.5555555555555556,
             "#d8576b"
            ],
            [
             0.6666666666666666,
             "#ed7953"
            ],
            [
             0.7777777777777778,
             "#fb9f3a"
            ],
            [
             0.8888888888888888,
             "#fdca26"
            ],
            [
             1,
             "#f0f921"
            ]
           ]
          },
          "colorway": [
           "#636efa",
           "#EF553B",
           "#00cc96",
           "#ab63fa",
           "#FFA15A",
           "#19d3f3",
           "#FF6692",
           "#B6E880",
           "#FF97FF",
           "#FECB52"
          ],
          "font": {
           "color": "#2a3f5f"
          },
          "geo": {
           "bgcolor": "white",
           "lakecolor": "white",
           "landcolor": "#E5ECF6",
           "showlakes": true,
           "showland": true,
           "subunitcolor": "white"
          },
          "hoverlabel": {
           "align": "left"
          },
          "hovermode": "closest",
          "mapbox": {
           "style": "light"
          },
          "paper_bgcolor": "white",
          "plot_bgcolor": "#E5ECF6",
          "polar": {
           "angularaxis": {
            "gridcolor": "white",
            "linecolor": "white",
            "ticks": ""
           },
           "bgcolor": "#E5ECF6",
           "radialaxis": {
            "gridcolor": "white",
            "linecolor": "white",
            "ticks": ""
           }
          },
          "scene": {
           "xaxis": {
            "backgroundcolor": "#E5ECF6",
            "gridcolor": "white",
            "gridwidth": 2,
            "linecolor": "white",
            "showbackground": true,
            "ticks": "",
            "zerolinecolor": "white"
           },
           "yaxis": {
            "backgroundcolor": "#E5ECF6",
            "gridcolor": "white",
            "gridwidth": 2,
            "linecolor": "white",
            "showbackground": true,
            "ticks": "",
            "zerolinecolor": "white"
           },
           "zaxis": {
            "backgroundcolor": "#E5ECF6",
            "gridcolor": "white",
            "gridwidth": 2,
            "linecolor": "white",
            "showbackground": true,
            "ticks": "",
            "zerolinecolor": "white"
           }
          },
          "shapedefaults": {
           "line": {
            "color": "#2a3f5f"
           }
          },
          "ternary": {
           "aaxis": {
            "gridcolor": "white",
            "linecolor": "white",
            "ticks": ""
           },
           "baxis": {
            "gridcolor": "white",
            "linecolor": "white",
            "ticks": ""
           },
           "bgcolor": "#E5ECF6",
           "caxis": {
            "gridcolor": "white",
            "linecolor": "white",
            "ticks": ""
           }
          },
          "title": {
           "x": 0.05
          },
          "xaxis": {
           "automargin": true,
           "gridcolor": "white",
           "linecolor": "white",
           "ticks": "",
           "title": {
            "standoff": 15
           },
           "zerolinecolor": "white",
           "zerolinewidth": 2
          },
          "yaxis": {
           "automargin": true,
           "gridcolor": "white",
           "linecolor": "white",
           "ticks": "",
           "title": {
            "standoff": 15
           },
           "zerolinecolor": "white",
           "zerolinewidth": 2
          }
         }
        },
        "title": {
         "text": "Pie Chart - Area wrt percentage of Cost"
        }
       }
      }
     },
     "metadata": {},
     "output_type": "display_data"
    }
   ],
   "source": [
    "labels=list(set(locations))\n",
    "colors = ['goldenrod', 'darksalmon', 'saddlebrown', 'firebrick']\n",
    "fig = px.pie(a_r_c, values='Cost_for_Two', names='Area',labels=labels,hole=0.4, title='Pie Chart - Area wrt percentage of Cost')\n",
    "\n",
    "fig.update_traces(textposition='inside', textinfo='percent+label',insidetextorientation='radial', pull=[0, 0, 0.1, 0],\n",
    "                  marker=dict(colors=colors,line=dict(color='#000000', width=1)))\n",
    "fig.show()"
   ]
  },
  {
   "cell_type": "markdown",
   "id": "6c2116e0",
   "metadata": {},
   "source": [
    "- here, **50.8%** of Revenue generated by Koramangala Area.\n",
    "- Also, **30.7%** and **17.7%** of Revenue generates by BTM and HSR respectively.\n",
    "- **0.799%** Revenue by Jayanagar."
   ]
  },
  {
   "cell_type": "markdown",
   "id": "75d623d6",
   "metadata": {},
   "source": [
    "## Number of Shop in Perticular Area"
   ]
  },
  {
   "cell_type": "code",
   "execution_count": 28,
   "id": "b24de8e1",
   "metadata": {},
   "outputs": [
    {
     "data": {
      "image/png": "[encoded data removed]",
      "text/plain": [
       "<Figure size 1200x600 with 1 Axes>"
      ]
     },
     "metadata": {},
     "output_type": "display_data"
    }
   ],
   "source": [
    "## Plot a countplot to see how many shops are there in each area.\n",
    "\n",
    "plt.figure(figsize=(12,6))\n",
    "plt.title('Number of Shop', fontsize=24)\n",
    "sns.countplot(x = 'Area', data = df, order = df['Area'].value_counts().index, palette='magma')\n",
    "plt.show()"
   ]
  },
  {
   "cell_type": "markdown",
   "id": "231fd076",
   "metadata": {},
   "source": [
    "- Maximum number of shops are in Koramangala, which is obvious."
   ]
  },
  {
   "cell_type": "markdown",
   "id": "b95ff7ed",
   "metadata": {},
   "source": [
    "### Each Area Distribution\n",
    "\n",
    "- First, take ***Koramangala*** Area to check distributions of other features."
   ]
  },
  {
   "cell_type": "code",
   "execution_count": 29,
   "id": "719db66f",
   "metadata": {},
   "outputs": [],
   "source": [
    "## save dataFrame where Area is 'Koramangala'.\n",
    "\n",
    "df_koramangala = df[df['Area'] == 'Koramangala']"
   ]
  },
  {
   "cell_type": "code",
   "execution_count": 30,
   "id": "201b6895",
   "metadata": {},
   "outputs": [
    {
     "data": {
      "text/html": [
       "<div>\n",
       "<style scoped>\n",
       "    .dataframe tbody tr th:only-of-type {\n",
       "        vertical-align: middle;\n",
       "    }\n",
       "\n",
       "    .dataframe tbody tr th {\n",
       "        vertical-align: top;\n",
       "    }\n",
       "\n",
       "    .dataframe thead th {\n",
       "        text-align: right;\n",
       "    }\n",
       "</style>\n",
       "<table border=\"1\" class=\"dataframe\">\n",
       "  <thead>\n",
       "    <tr style=\"text-align: right;\">\n",
       "      <th></th>\n",
       "      <th>Shop_Name</th>\n",
       "      <th>Cuisine</th>\n",
       "      <th>Location</th>\n",
       "      <th>Rating</th>\n",
       "      <th>Cost_for_Two</th>\n",
       "      <th>Area</th>\n",
       "    </tr>\n",
       "  </thead>\n",
       "  <tbody>\n",
       "    <tr>\n",
       "      <th>0</th>\n",
       "      <td>Kanti Sweets</td>\n",
       "      <td>Sweets</td>\n",
       "      <td>Koramangala, Koramangala</td>\n",
       "      <td>4.3</td>\n",
       "      <td>150</td>\n",
       "      <td>Koramangala</td>\n",
       "    </tr>\n",
       "    <tr>\n",
       "      <th>2</th>\n",
       "      <td>Sri Krishna sagar</td>\n",
       "      <td>South Indian, North Indian, Fast Food, Beverag...</td>\n",
       "      <td>6th Block, Koramangala</td>\n",
       "      <td>4.1</td>\n",
       "      <td>126</td>\n",
       "      <td>Koramangala</td>\n",
       "    </tr>\n",
       "    <tr>\n",
       "      <th>4</th>\n",
       "      <td>Beijing Bites</td>\n",
       "      <td>Chinese, Thai</td>\n",
       "      <td>5th Block, Koramangala</td>\n",
       "      <td>4.1</td>\n",
       "      <td>450</td>\n",
       "      <td>Koramangala</td>\n",
       "    </tr>\n",
       "    <tr>\n",
       "      <th>5</th>\n",
       "      <td>Kitchens of Punjab</td>\n",
       "      <td>North Indian</td>\n",
       "      <td>Koramangala 4th  Block, Koramangala</td>\n",
       "      <td>4.2</td>\n",
       "      <td>350</td>\n",
       "      <td>Koramangala</td>\n",
       "    </tr>\n",
       "    <tr>\n",
       "      <th>9</th>\n",
       "      <td>Yumlane Pizza</td>\n",
       "      <td>Pizzas, Italian, Mexican</td>\n",
       "      <td>9th Main road, Koramangala</td>\n",
       "      <td>3.8</td>\n",
       "      <td>150</td>\n",
       "      <td>Koramangala</td>\n",
       "    </tr>\n",
       "  </tbody>\n",
       "</table>\n",
       "</div>"
      ],
      "text/plain": [
       "            Shop_Name                                            Cuisine  \\\n",
       "0        Kanti Sweets                                             Sweets   \n",
       "2   Sri Krishna sagar  South Indian, North Indian, Fast Food, Beverag...   \n",
       "4       Beijing Bites                                      Chinese, Thai   \n",
       "5  Kitchens of Punjab                                       North Indian   \n",
       "9       Yumlane Pizza                           Pizzas, Italian, Mexican   \n",
       "\n",
       "                              Location  Rating  Cost_for_Two         Area  \n",
       "0             Koramangala, Koramangala     4.3           150  Koramangala  \n",
       "2               6th Block, Koramangala     4.1           126  Koramangala  \n",
       "4               5th Block, Koramangala     4.1           450  Koramangala  \n",
       "5  Koramangala 4th  Block, Koramangala     4.2           350  Koramangala  \n",
       "9           9th Main road, Koramangala     3.8           150  Koramangala  "
      ]
     },
     "execution_count": 30,
     "metadata": {},
     "output_type": "execute_result"
    }
   ],
   "source": [
    "## print head() of koramangala's dataset.\n",
    "\n",
    "df_koramangala.head()"
   ]
  },
  {
   "cell_type": "code",
   "execution_count": 31,
   "id": "7b4b8eb6",
   "metadata": {},
   "outputs": [
    {
     "data": {
      "image/png": "[encoded data removed]",
      "text/plain": [
       "<Figure size 1200x600 with 1 Axes>"
      ]
     },
     "metadata": {},
     "output_type": "display_data"
    }
   ],
   "source": [
    "## Histrogram of Rating\n",
    "\n",
    "plt.figure(figsize=(12,6))\n",
    "plt.title('Histogram plot of Rating in Koramangala Area',fontsize=24)\n",
    "sns.histplot(df_koramangala['Rating'])\n",
    "plt.show()"
   ]
  },
  {
   "cell_type": "markdown",
   "id": "45ddfdcd",
   "metadata": {},
   "source": [
    "- here, most of restaurants have rating between **4.0** to **4.2**"
   ]
  },
  {
   "cell_type": "code",
   "execution_count": 32,
   "id": "fe494d0f",
   "metadata": {},
   "outputs": [
    {
     "data": {
      "image/png": "[encoded data removed]",
      "text/plain": [
       "<Figure size 1200x600 with 1 Axes>"
      ]
     },
     "metadata": {},
     "output_type": "display_data"
    }
   ],
   "source": [
    "## Histrogram of Cost_for_Two\n",
    "\n",
    "plt.figure(figsize=(12,6))\n",
    "plt.title('Histogram plot of Cost for Two in Koramangala Area',fontsize=24)\n",
    "sns.histplot(df_koramangala['Cost_for_Two'])\n",
    "plt.show()"
   ]
  },
  {
   "cell_type": "markdown",
   "id": "7619c27d",
   "metadata": {},
   "source": [
    "-  most of the number of data of cost for two person lies between **200** to **300**"
   ]
  },
  {
   "cell_type": "code",
   "execution_count": 33,
   "id": "f32a87d3",
   "metadata": {},
   "outputs": [
    {
     "data": {
      "text/html": [
       "<div>\n",
       "<style scoped>\n",
       "    .dataframe tbody tr th:only-of-type {\n",
       "        vertical-align: middle;\n",
       "    }\n",
       "\n",
       "    .dataframe tbody tr th {\n",
       "        vertical-align: top;\n",
       "    }\n",
       "\n",
       "    .dataframe thead th {\n",
       "        text-align: right;\n",
       "    }\n",
       "</style>\n",
       "<table border=\"1\" class=\"dataframe\">\n",
       "  <thead>\n",
       "    <tr style=\"text-align: right;\">\n",
       "      <th></th>\n",
       "      <th>Rating</th>\n",
       "      <th>Cost_for_Two</th>\n",
       "    </tr>\n",
       "  </thead>\n",
       "  <tbody>\n",
       "    <tr>\n",
       "      <th>count</th>\n",
       "      <td>64.000000</td>\n",
       "      <td>64.000000</td>\n",
       "    </tr>\n",
       "    <tr>\n",
       "      <th>mean</th>\n",
       "      <td>4.126563</td>\n",
       "      <td>297.828125</td>\n",
       "    </tr>\n",
       "    <tr>\n",
       "      <th>std</th>\n",
       "      <td>0.217666</td>\n",
       "      <td>134.319632</td>\n",
       "    </tr>\n",
       "    <tr>\n",
       "      <th>min</th>\n",
       "      <td>3.600000</td>\n",
       "      <td>100.000000</td>\n",
       "    </tr>\n",
       "    <tr>\n",
       "      <th>25%</th>\n",
       "      <td>4.000000</td>\n",
       "      <td>200.000000</td>\n",
       "    </tr>\n",
       "    <tr>\n",
       "      <th>50%</th>\n",
       "      <td>4.100000</td>\n",
       "      <td>254.000000</td>\n",
       "    </tr>\n",
       "    <tr>\n",
       "      <th>75%</th>\n",
       "      <td>4.300000</td>\n",
       "      <td>399.250000</td>\n",
       "    </tr>\n",
       "    <tr>\n",
       "      <th>max</th>\n",
       "      <td>4.800000</td>\n",
       "      <td>600.000000</td>\n",
       "    </tr>\n",
       "  </tbody>\n",
       "</table>\n",
       "</div>"
      ],
      "text/plain": [
       "          Rating  Cost_for_Two\n",
       "count  64.000000     64.000000\n",
       "mean    4.126563    297.828125\n",
       "std     0.217666    134.319632\n",
       "min     3.600000    100.000000\n",
       "25%     4.000000    200.000000\n",
       "50%     4.100000    254.000000\n",
       "75%     4.300000    399.250000\n",
       "max     4.800000    600.000000"
      ]
     },
     "execution_count": 33,
     "metadata": {},
     "output_type": "execute_result"
    }
   ],
   "source": [
    "df_koramangala.describe()"
   ]
  },
  {
   "cell_type": "code",
   "execution_count": 34,
   "id": "7ec0305f",
   "metadata": {},
   "outputs": [
    {
     "data": {
      "text/html": [
       "<div>\n",
       "<style scoped>\n",
       "    .dataframe tbody tr th:only-of-type {\n",
       "        vertical-align: middle;\n",
       "    }\n",
       "\n",
       "    .dataframe tbody tr th {\n",
       "        vertical-align: top;\n",
       "    }\n",
       "\n",
       "    .dataframe thead th {\n",
       "        text-align: right;\n",
       "    }\n",
       "</style>\n",
       "<table border=\"1\" class=\"dataframe\">\n",
       "  <thead>\n",
       "    <tr style=\"text-align: right;\">\n",
       "      <th></th>\n",
       "      <th>Shop_Name</th>\n",
       "      <th>Rating</th>\n",
       "      <th>Cost_for_Two</th>\n",
       "    </tr>\n",
       "  </thead>\n",
       "  <tbody>\n",
       "    <tr>\n",
       "      <th>0</th>\n",
       "      <td>Khichdi Experiment</td>\n",
       "      <td>4.8</td>\n",
       "      <td>200.0</td>\n",
       "    </tr>\n",
       "    <tr>\n",
       "      <th>1</th>\n",
       "      <td>Natural Ice Cream</td>\n",
       "      <td>4.6</td>\n",
       "      <td>150.0</td>\n",
       "    </tr>\n",
       "    <tr>\n",
       "      <th>2</th>\n",
       "      <td>Corner House Ice Cream</td>\n",
       "      <td>4.6</td>\n",
       "      <td>250.0</td>\n",
       "    </tr>\n",
       "    <tr>\n",
       "      <th>3</th>\n",
       "      <td>Bowl 99</td>\n",
       "      <td>4.4</td>\n",
       "      <td>200.0</td>\n",
       "    </tr>\n",
       "    <tr>\n",
       "      <th>4</th>\n",
       "      <td>China Pearl</td>\n",
       "      <td>4.4</td>\n",
       "      <td>527.0</td>\n",
       "    </tr>\n",
       "    <tr>\n",
       "      <th>...</th>\n",
       "      <td>...</td>\n",
       "      <td>...</td>\n",
       "      <td>...</td>\n",
       "    </tr>\n",
       "    <tr>\n",
       "      <th>59</th>\n",
       "      <td>Yumlane Pizza</td>\n",
       "      <td>3.8</td>\n",
       "      <td>150.0</td>\n",
       "    </tr>\n",
       "    <tr>\n",
       "      <th>60</th>\n",
       "      <td>Barista</td>\n",
       "      <td>3.8</td>\n",
       "      <td>350.0</td>\n",
       "    </tr>\n",
       "    <tr>\n",
       "      <th>61</th>\n",
       "      <td>800 Momos</td>\n",
       "      <td>3.7</td>\n",
       "      <td>150.0</td>\n",
       "    </tr>\n",
       "    <tr>\n",
       "      <th>62</th>\n",
       "      <td>Onesta</td>\n",
       "      <td>3.7</td>\n",
       "      <td>250.0</td>\n",
       "    </tr>\n",
       "    <tr>\n",
       "      <th>63</th>\n",
       "      <td>Village Donne Biriyani</td>\n",
       "      <td>3.6</td>\n",
       "      <td>300.0</td>\n",
       "    </tr>\n",
       "  </tbody>\n",
       "</table>\n",
       "<p>64 rows × 3 columns</p>\n",
       "</div>"
      ],
      "text/plain": [
       "                 Shop_Name  Rating  Cost_for_Two\n",
       "0       Khichdi Experiment     4.8         200.0\n",
       "1        Natural Ice Cream     4.6         150.0\n",
       "2   Corner House Ice Cream     4.6         250.0\n",
       "3                  Bowl 99     4.4         200.0\n",
       "4              China Pearl     4.4         527.0\n",
       "..                     ...     ...           ...\n",
       "59           Yumlane Pizza     3.8         150.0\n",
       "60                 Barista     3.8         350.0\n",
       "61               800 Momos     3.7         150.0\n",
       "62                  Onesta     3.7         250.0\n",
       "63  Village Donne Biriyani     3.6         300.0\n",
       "\n",
       "[64 rows x 3 columns]"
      ]
     },
     "execution_count": 34,
     "metadata": {},
     "output_type": "execute_result"
    }
   ],
   "source": [
    "df_k_res = df_koramangala.groupby(['Shop_Name','Rating']).mean().sort_values(['Rating','Cost_for_Two'],\n",
    "                                                                             ascending=[False,True]).reset_index()\n",
    "df_k_res"
   ]
  },
  {
   "cell_type": "code",
   "execution_count": 35,
   "id": "2a3be595",
   "metadata": {},
   "outputs": [
    {
     "data": {
      "application/vnd.plotly.v1+json": {
       "config": {
        "plotlyServerURL": "https://plot.ly"
       },
       "data": [
        {
         "alignmentgroup": "True",
         "hovertemplate": "Cost for Two=%{x}<br>Shop Name=%{y}<br>Rating=%{marker.color}<extra></extra>",
         "legendgroup": "",
         "marker": {
          "color": [
           4.8,
           4.6,
           4.6,
           4.4,
           4.4,
           4.3,
           4.3,
           4.3,
           4.3,
           4.3
          ],
          "coloraxis": "coloraxis",
          "pattern": {
           "shape": ""
          }
         },
         "name": "",
         "offsetgroup": "",
         "orientation": "h",
         "showlegend": false,
         "textposition": "auto",
         "texttemplate": "%{x:.2s}",
         "type": "bar",
         "x": [
          200,
          150,
          250,
          200,
          527,
          150,
          178,
          200,
          200,
          250
         ],
         "xaxis": "x",
         "y": [
          "Khichdi Experiment",
          "Natural Ice Cream",
          "Corner House Ice Cream",
          "Bowl 99",
          "China Pearl",
          "Kanti Sweets",
          "Khawa Karpo",
          "Sagar fast food",
          "Thali 99",
          "Cream Stone"
         ],
         "yaxis": "y"
        }
       ],
       "layout": {
        "barmode": "relative",
        "coloraxis": {
         "colorbar": {
          "title": {
           "text": "Rating"
          }
         },
         "colorscale": [
          [
           0,
           "rgb(36, 86, 104)"
          ],
          [
           0.16666666666666666,
           "rgb(15, 114, 121)"
          ],
          [
           0.3333333333333333,
           "rgb(13, 143, 129)"
          ],
          [
           0.5,
           "rgb(57, 171, 126)"
          ],
          [
           0.6666666666666666,
           "rgb(110, 197, 116)"
          ],
          [
           0.8333333333333334,
           "rgb(169, 220, 103)"
          ],
          [
           1,
           "rgb(237, 239, 93)"
          ]
         ]
        },
        "legend": {
         "tracegroupgap": 0
        },
        "template": {
         "data": {
          "bar": [
           {
            "error_x": {
             "color": "#2a3f5f"
            },
            "error_y": {
             "color": "#2a3f5f"
            },
            "marker": {
             "line": {
              "color": "#E5ECF6",
              "width": 0.5
             },
             "pattern": {
              "fillmode": "overlay",
              "size": 10,
              "solidity": 0.2
             }
            },
            "type": "bar"
           }
          ],
          "barpolar": [
           {
            "marker": {
             "line": {
              "color": "#E5ECF6",
              "width": 0.5
             },
             "pattern": {
              "fillmode": "overlay",
              "size": 10,
              "solidity": 0.2
             }
            },
            "type": "barpolar"
           }
          ],
          "carpet": [
           {
            "aaxis": {
             "endlinecolor": "#2a3f5f",
             "gridcolor": "white",
             "linecolor": "white",
             "minorgridcolor": "white",
             "startlinecolor": "#2a3f5f"
            },
            "baxis": {
             "endlinecolor": "#2a3f5f",
             "gridcolor": "white",
             "linecolor": "white",
             "minorgridcolor": "white",
             "startlinecolor": "#2a3f5f"
            },
            "type": "carpet"
           }
          ],
          "choropleth": [
           {
            "colorbar": {
             "outlinewidth": 0,
             "ticks": ""
            },
            "type": "choropleth"
           }
          ],
          "contour": [
           {
            "colorbar": {
             "outlinewidth": 0,
             "ticks": ""
            },
            "colorscale": [
             [
              0,
              "#0d0887"
             ],
             [
              0.1111111111111111,
              "#46039f"
             ],
             [
              0.2222222222222222,
              "#7201a8"
             ],
             [
              0.3333333333333333,
              "#9c179e"
             ],
             [
              0.4444444444444444,
              "#bd3786"
             ],
             [
              0.5555555555555556,
              "#d8576b"
             ],
             [
              0.6666666666666666,
              "#ed7953"
             ],
             [
              0.7777777777777778,
              "#fb9f3a"
             ],
             [
              0.8888888888888888,
              "#fdca26"
             ],
             [
              1,
              "#f0f921"
             ]
            ],
            "type": "contour"
           }
          ],
          "contourcarpet": [
           {
            "colorbar": {
             "outlinewidth": 0,
             "ticks": ""
            },
            "type": "contourcarpet"
           }
          ],
          "heatmap": [
           {
            "colorbar": {
             "outlinewidth": 0,
             "ticks": ""
            },
            "colorscale": [
             [
              0,
              "#0d0887"
             ],
             [
              0.1111111111111111,
              "#46039f"
             ],
             [
              0.2222222222222222,
              "#7201a8"
             ],
             [
              0.3333333333333333,
              "#9c179e"
             ],
             [
              0.4444444444444444,
              "#bd3786"
             ],
             [
              0.5555555555555556,
              "#d8576b"
             ],
             [
              0.6666666666666666,
              "#ed7953"
             ],
             [
              0.7777777777777778,
              "#fb9f3a"
             ],
             [
              0.8888888888888888,
              "#fdca26"
             ],
             [
              1,
              "#f0f921"
             ]
            ],
            "type": "heatmap"
           }
          ],
          "heatmapgl": [
           {
            "colorbar": {
             "outlinewidth": 0,
             "ticks": ""
            },
            "colorscale": [
             [
              0,
              "#0d0887"
             ],
             [
              0.1111111111111111,
              "#46039f"
             ],
             [
              0.2222222222222222,
              "#7201a8"
             ],
             [
              0.3333333333333333,
              "#9c179e"
             ],
             [
              0.4444444444444444,
              "#bd3786"
             ],
             [
              0.5555555555555556,
              "#d8576b"
             ],
             [
              0.6666666666666666,
              "#ed7953"
             ],
             [
              0.7777777777777778,
              "#fb9f3a"
             ],
             [
              0.8888888888888888,
              "#fdca26"
             ],
             [
              1,
              "#f0f921"
             ]
            ],
            "type": "heatmapgl"
           }
          ],
          "histogram": [
           {
            "marker": {
             "pattern": {
              "fillmode": "overlay",
              "size": 10,
              "solidity": 0.2
             }
            },
            "type": "histogram"
           }
          ],
          "histogram2d": [
           {
            "colorbar": {
             "outlinewidth": 0,
             "ticks": ""
            },
            "colorscale": [
             [
              0,
              "#0d0887"
             ],
             [
              0.1111111111111111,
              "#46039f"
             ],
             [
              0.2222222222222222,
              "#7201a8"
             ],
             [
              0.3333333333333333,
              "#9c179e"
             ],
             [
              0.4444444444444444,
              "#bd3786"
             ],
             [
              0.5555555555555556,
              "#d8576b"
             ],
             [
              0.6666666666666666,
              "#ed7953"
             ],
             [
              0.7777777777777778,
              "#fb9f3a"
             ],
             [
              0.8888888888888888,
              "#fdca26"
             ],
             [
              1,
              "#f0f921"
             ]
            ],
            "type": "histogram2d"
           }
          ],
          "histogram2dcontour": [
           {
            "colorbar": {
             "outlinewidth": 0,
             "ticks": ""
            },
            "colorscale": [
             [
              0,
              "#0d0887"
             ],
             [
              0.1111111111111111,
              "#46039f"
             ],
             [
              0.2222222222222222,
              "#7201a8"
             ],
             [
              0.3333333333333333,
              "#9c179e"
             ],
             [
              0.4444444444444444,
              "#bd3786"
             ],
             [
              0.5555555555555556,
              "#d8576b"
             ],
             [
              0.6666666666666666,
              "#ed7953"
             ],
             [
              0.7777777777777778,
              "#fb9f3a"
             ],
             [
              0.8888888888888888,
              "#fdca26"
             ],
             [
              1,
              "#f0f921"
             ]
            ],
            "type": "histogram2dcontour"
           }
          ],
          "mesh3d": [
           {
            "colorbar": {
             "outlinewidth": 0,
             "ticks": ""
            },
            "type": "mesh3d"
           }
          ],
          "parcoords": [
           {
            "line": {
             "colorbar": {
              "outlinewidth": 0,
              "ticks": ""
             }
            },
            "type": "parcoords"
           }
          ],
          "pie": [
           {
            "automargin": true,
            "type": "pie"
           }
          ],
          "scatter": [
           {
            "fillpattern": {
             "fillmode": "overlay",
             "size": 10,
             "solidity": 0.2
            },
            "type": "scatter"
           }
          ],
          "scatter3d": [
           {
            "line": {
             "colorbar": {
              "outlinewidth": 0,
              "ticks": ""
             }
            },
            "marker": {
             "colorbar": {
              "outlinewidth": 0,
              "ticks": ""
             }
            },
            "type": "scatter3d"
           }
          ],
          "scattercarpet": [
           {
            "marker": {
             "colorbar": {
              "outlinewidth": 0,
              "ticks": ""
             }
            },
            "type": "scattercarpet"
           }
          ],
          "scattergeo": [
           {
            "marker": {
             "colorbar": {
              "outlinewidth": 0,
              "ticks": ""
             }
            },
            "type": "scattergeo"
           }
          ],
          "scattergl": [
           {
            "marker": {
             "colorbar": {
              "outlinewidth": 0,
              "ticks": ""
             }
            },
            "type": "scattergl"
           }
          ],
          "scattermapbox": [
           {
            "marker": {
             "colorbar": {
              "outlinewidth": 0,
              "ticks": ""
             }
            },
            "type": "scattermapbox"
           }
          ],
          "scatterpolar": [
           {
            "marker": {
             "colorbar": {
              "outlinewidth": 0,
              "ticks": ""
             }
            },
            "type": "scatterpolar"
           }
          ],
          "scatterpolargl": [
           {
            "marker": {
             "colorbar": {
              "outlinewidth": 0,
              "ticks": ""
             }
            },
            "type": "scatterpolargl"
           }
          ],
          "scatterternary": [
           {
            "marker": {
             "colorbar": {
              "outlinewidth": 0,
              "ticks": ""
             }
            },
            "type": "scatterternary"
           }
          ],
          "surface": [
           {
            "colorbar": {
             "outlinewidth": 0,
             "ticks": ""
            },
            "colorscale": [
             [
              0,
              "#0d0887"
             ],
             [
              0.1111111111111111,
              "#46039f"
             ],
             [
              0.2222222222222222,
              "#7201a8"
             ],
             [
              0.3333333333333333,
              "#9c179e"
             ],
             [
              0.4444444444444444,
              "#bd3786"
             ],
             [
              0.5555555555555556,
              "#d8576b"
             ],
             [
              0.6666666666666666,
              "#ed7953"
             ],
             [
              0.7777777777777778,
              "#fb9f3a"
             ],
             [
              0.8888888888888888,
              "#fdca26"
             ],
             [
              1,
              "#f0f921"
             ]
            ],
            "type": "surface"
           }
          ],
          "table": [
           {
            "cells": {
             "fill": {
              "color": "#EBF0F8"
             },
             "line": {
              "color": "white"
             }
            },
            "header": {
             "fill": {
              "color": "#C8D4E3"
             },
             "line": {
              "color": "white"
             }
            },
            "type": "table"
           }
          ]
         },
         "layout": {
          "annotationdefaults": {
           "arrowcolor": "#2a3f5f",
           "arrowhead": 0,
           "arrowwidth": 1
          },
          "autotypenumbers": "strict",
          "coloraxis": {
           "colorbar": {
            "outlinewidth": 0,
            "ticks": ""
           }
          },
          "colorscale": {
           "diverging": [
            [
             0,
             "#8e0152"
            ],
            [
             0.1,
             "#c51b7d"
            ],
            [
             0.2,
             "#de77ae"
            ],
            [
             0.3,
             "#f1b6da"
            ],
            [
             0.4,
             "#fde0ef"
            ],
            [
             0.5,
             "#f7f7f7"
            ],
            [
             0.6,
             "#e6f5d0"
            ],
            [
             0.7,
             "#b8e186"
            ],
            [
             0.8,
             "#7fbc41"
            ],
            [
             0.9,
             "#4d9221"
            ],
            [
             1,
             "#276419"
            ]
           ],
           "sequential": [
            [
             0,
             "#0d0887"
            ],
            [
             0.1111111111111111,
             "#46039f"
            ],
            [
             0.2222222222222222,
             "#7201a8"
            ],
            [
             0.3333333333333333,
             "#9c179e"
            ],
            [
             0.4444444444444444,
             "#bd3786"
            ],
            [
             0.5555555555555556,
             "#d8576b"
            ],
            [
             0.6666666666666666,
             "#ed7953"
            ],
            [
             0.7777777777777778,
             "#fb9f3a"
            ],
            [
             0.8888888888888888,
             "#fdca26"
            ],
            [
             1,
             "#f0f921"
            ]
           ],
           "sequentialminus": [
            [
             0,
             "#0d0887"
            ],
            [
             0.1111111111111111,
             "#46039f"
            ],
            [
             0.2222222222222222,
             "#7201a8"
            ],
            [
             0.3333333333333333,
             "#9c179e"
            ],
            [
             0.4444444444444444,
             "#bd3786"
            ],
            [
             0.5555555555555556,
             "#d8576b"
            ],
            [
             0.6666666666666666,
             "#ed7953"
            ],
            [
             0.7777777777777778,
             "#fb9f3a"
            ],
            [
             0.8888888888888888,
             "#fdca26"
            ],
            [
             1,
             "#f0f921"
            ]
           ]
          },
          "colorway": [
           "#636efa",
           "#EF553B",
           "#00cc96",
           "#ab63fa",
           "#FFA15A",
           "#19d3f3",
           "#FF6692",
           "#B6E880",
           "#FF97FF",
           "#FECB52"
          ],
          "font": {
           "color": "#2a3f5f"
          },
          "geo": {
           "bgcolor": "white",
           "lakecolor": "white",
           "landcolor": "#E5ECF6",
           "showlakes": true,
           "showland": true,
           "subunitcolor": "white"
          },
          "hoverlabel": {
           "align": "left"
          },
          "hovermode": "closest",
          "mapbox": {
           "style": "light"
          },
          "paper_bgcolor": "white",
          "plot_bgcolor": "#E5ECF6",
          "polar": {
           "angularaxis": {
            "gridcolor": "white",
            "linecolor": "white",
            "ticks": ""
           },
           "bgcolor": "#E5ECF6",
           "radialaxis": {
            "gridcolor": "white",
            "linecolor": "white",
            "ticks": ""
           }
          },
          "scene": {
           "xaxis": {
            "backgroundcolor": "#E5ECF6",
            "gridcolor": "white",
            "gridwidth": 2,
            "linecolor": "white",
            "showbackground": true,
            "ticks": "",
            "zerolinecolor": "white"
           },
           "yaxis": {
            "backgroundcolor": "#E5ECF6",
            "gridcolor": "white",
            "gridwidth": 2,
            "linecolor": "white",
            "showbackground": true,
            "ticks": "",
            "zerolinecolor": "white"
           },
           "zaxis": {
            "backgroundcolor": "#E5ECF6",
            "gridcolor": "white",
            "gridwidth": 2,
            "linecolor": "white",
            "showbackground": true,
            "ticks": "",
            "zerolinecolor": "white"
           }
          },
          "shapedefaults": {
           "line": {
            "color": "#2a3f5f"
           }
          },
          "ternary": {
           "aaxis": {
            "gridcolor": "white",
            "linecolor": "white",
            "ticks": ""
           },
           "baxis": {
            "gridcolor": "white",
            "linecolor": "white",
            "ticks": ""
           },
           "bgcolor": "#E5ECF6",
           "caxis": {
            "gridcolor": "white",
            "linecolor": "white",
            "ticks": ""
           }
          },
          "title": {
           "x": 0.05
          },
          "xaxis": {
           "automargin": true,
           "gridcolor": "white",
           "linecolor": "white",
           "ticks": "",
           "title": {
            "standoff": 15
           },
           "zerolinecolor": "white",
           "zerolinewidth": 2
          },
          "yaxis": {
           "automargin": true,
           "gridcolor": "white",
           "linecolor": "white",
           "ticks": "",
           "title": {
            "standoff": 15
           },
           "zerolinecolor": "white",
           "zerolinewidth": 2
          }
         }
        },
        "title": {
         "text": "Top 10 Shops High Rated Restaurants in Koramangala"
        },
        "xaxis": {
         "anchor": "y",
         "domain": [
          0,
          1
         ],
         "title": {
          "text": "Cost for Two"
         }
        },
        "yaxis": {
         "anchor": "x",
         "autorange": "reversed",
         "domain": [
          0,
          1
         ],
         "title": {
          "text": "Shop Name"
         }
        }
       }
      }
     },
     "metadata": {},
     "output_type": "display_data"
    }
   ],
   "source": [
    "fig = px.bar(df_k_res, x=df_k_res['Cost_for_Two'][:10], y=df_k_res['Shop_Name'][:10], color=df_k_res['Rating'][:10],\n",
    "             color_continuous_scale='aggrnyl', text_auto='.2s', \n",
    "             title='Top 10 Shops High Rated Restaurants in Koramangala',\n",
    "             labels={'x' : 'Cost for Two' , 'y' : 'Shop Name' , 'color' : 'Rating'})\n",
    "\n",
    "fig.update_layout(yaxis=dict(autorange=\"reversed\"))\n",
    "\n",
    "fig.show()"
   ]
  },
  {
   "cell_type": "markdown",
   "id": "47a67e39",
   "metadata": {},
   "source": [
    "***BTM***"
   ]
  },
  {
   "cell_type": "code",
   "execution_count": 36,
   "id": "975b4f5f",
   "metadata": {},
   "outputs": [],
   "source": [
    "## save dataFrame where Area is 'BTM'.\n",
    "\n",
    "df_BTM = df[df['Area'] == 'BTM']"
   ]
  },
  {
   "cell_type": "code",
   "execution_count": 37,
   "id": "a2036f89",
   "metadata": {},
   "outputs": [
    {
     "data": {
      "text/html": [
       "<div>\n",
       "<style scoped>\n",
       "    .dataframe tbody tr th:only-of-type {\n",
       "        vertical-align: middle;\n",
       "    }\n",
       "\n",
       "    .dataframe tbody tr th {\n",
       "        vertical-align: top;\n",
       "    }\n",
       "\n",
       "    .dataframe thead th {\n",
       "        text-align: right;\n",
       "    }\n",
       "</style>\n",
       "<table border=\"1\" class=\"dataframe\">\n",
       "  <thead>\n",
       "    <tr style=\"text-align: right;\">\n",
       "      <th></th>\n",
       "      <th>Shop_Name</th>\n",
       "      <th>Cuisine</th>\n",
       "      <th>Location</th>\n",
       "      <th>Rating</th>\n",
       "      <th>Cost_for_Two</th>\n",
       "      <th>Area</th>\n",
       "    </tr>\n",
       "  </thead>\n",
       "  <tbody>\n",
       "    <tr>\n",
       "      <th>6</th>\n",
       "      <td>99 VARIETY DOSA AND PAV BHAJI- Malli Mane Food...</td>\n",
       "      <td>Fast Food, North Indian, Chinese</td>\n",
       "      <td>BTM 2nd Stage, BTM</td>\n",
       "      <td>4.1</td>\n",
       "      <td>200</td>\n",
       "      <td>BTM</td>\n",
       "    </tr>\n",
       "    <tr>\n",
       "      <th>7</th>\n",
       "      <td>La Pino'z Pizza</td>\n",
       "      <td>Italian</td>\n",
       "      <td>BTM, BTM</td>\n",
       "      <td>3.9</td>\n",
       "      <td>500</td>\n",
       "      <td>BTM</td>\n",
       "    </tr>\n",
       "    <tr>\n",
       "      <th>10</th>\n",
       "      <td>Ambur Star Briyani</td>\n",
       "      <td>Chinese, South Indian, North Indian, Desserts,...</td>\n",
       "      <td>outer ring road, BTM</td>\n",
       "      <td>4.1</td>\n",
       "      <td>500</td>\n",
       "      <td>BTM</td>\n",
       "    </tr>\n",
       "    <tr>\n",
       "      <th>17</th>\n",
       "      <td>Sri Lakshmi Dhaba</td>\n",
       "      <td>North Indian</td>\n",
       "      <td>Bommanahalli, BTM</td>\n",
       "      <td>3.7</td>\n",
       "      <td>200</td>\n",
       "      <td>BTM</td>\n",
       "    </tr>\n",
       "    <tr>\n",
       "      <th>20</th>\n",
       "      <td>Just Bake - Cakes &amp; confectioners</td>\n",
       "      <td>Desserts, Bakery</td>\n",
       "      <td>BTM 1st stage, BTM</td>\n",
       "      <td>4.3</td>\n",
       "      <td>300</td>\n",
       "      <td>BTM</td>\n",
       "    </tr>\n",
       "  </tbody>\n",
       "</table>\n",
       "</div>"
      ],
      "text/plain": [
       "                                            Shop_Name  \\\n",
       "6   99 VARIETY DOSA AND PAV BHAJI- Malli Mane Food...   \n",
       "7                                     La Pino'z Pizza   \n",
       "10                                 Ambur Star Briyani   \n",
       "17                                  Sri Lakshmi Dhaba   \n",
       "20                  Just Bake - Cakes & confectioners   \n",
       "\n",
       "                                              Cuisine              Location  \\\n",
       "6                    Fast Food, North Indian, Chinese    BTM 2nd Stage, BTM   \n",
       "7                                             Italian              BTM, BTM   \n",
       "10  Chinese, South Indian, North Indian, Desserts,...  outer ring road, BTM   \n",
       "17                                       North Indian     Bommanahalli, BTM   \n",
       "20                                   Desserts, Bakery    BTM 1st stage, BTM   \n",
       "\n",
       "    Rating  Cost_for_Two Area  \n",
       "6      4.1           200  BTM  \n",
       "7      3.9           500  BTM  \n",
       "10     4.1           500  BTM  \n",
       "17     3.7           200  BTM  \n",
       "20     4.3           300  BTM  "
      ]
     },
     "execution_count": 37,
     "metadata": {},
     "output_type": "execute_result"
    }
   ],
   "source": [
    "## print head() of BTM's dataset.\n",
    "\n",
    "df_BTM.head()"
   ]
  },
  {
   "cell_type": "code",
   "execution_count": 38,
   "id": "2c786a2d",
   "metadata": {},
   "outputs": [
    {
     "data": {
      "image/png": "[encoded data removed]",
      "text/plain": [
       "<Figure size 1200x600 with 1 Axes>"
      ]
     },
     "metadata": {},
     "output_type": "display_data"
    }
   ],
   "source": [
    "## Histrogram of Rating\n",
    "\n",
    "plt.figure(figsize=(12,6))\n",
    "plt.title('Histogram plot of Rating in BTM Area',fontsize=24)\n",
    "sns.histplot(df_BTM['Rating'])\n",
    "plt.show()"
   ]
  },
  {
   "cell_type": "markdown",
   "id": "ec1b5fde",
   "metadata": {},
   "source": [
    "- here, most of restaurants have rating **4.1**"
   ]
  },
  {
   "cell_type": "code",
   "execution_count": 39,
   "id": "338f36b7",
   "metadata": {},
   "outputs": [
    {
     "data": {
      "image/png": "[encoded data removed]",
      "text/plain": [
       "<Figure size 1200x600 with 1 Axes>"
      ]
     },
     "metadata": {},
     "output_type": "display_data"
    }
   ],
   "source": [
    "## Histrogram of Cost_for_Two\n",
    "\n",
    "plt.figure(figsize=(12,6))\n",
    "plt.title('Histogram plot of Cost for Two in BTM Area',fontsize=24)\n",
    "sns.histplot(df_BTM['Cost_for_Two'])\n",
    "plt.show()"
   ]
  },
  {
   "cell_type": "markdown",
   "id": "f1ca0861",
   "metadata": {},
   "source": [
    "-  most of the number of data of cost for two person lies at **300**."
   ]
  },
  {
   "cell_type": "code",
   "execution_count": 40,
   "id": "b06fac81",
   "metadata": {},
   "outputs": [
    {
     "data": {
      "text/html": [
       "<div>\n",
       "<style scoped>\n",
       "    .dataframe tbody tr th:only-of-type {\n",
       "        vertical-align: middle;\n",
       "    }\n",
       "\n",
       "    .dataframe tbody tr th {\n",
       "        vertical-align: top;\n",
       "    }\n",
       "\n",
       "    .dataframe thead th {\n",
       "        text-align: right;\n",
       "    }\n",
       "</style>\n",
       "<table border=\"1\" class=\"dataframe\">\n",
       "  <thead>\n",
       "    <tr style=\"text-align: right;\">\n",
       "      <th></th>\n",
       "      <th>Rating</th>\n",
       "      <th>Cost_for_Two</th>\n",
       "    </tr>\n",
       "  </thead>\n",
       "  <tbody>\n",
       "    <tr>\n",
       "      <th>count</th>\n",
       "      <td>35.000000</td>\n",
       "      <td>35.000000</td>\n",
       "    </tr>\n",
       "    <tr>\n",
       "      <th>mean</th>\n",
       "      <td>4.048571</td>\n",
       "      <td>329.085714</td>\n",
       "    </tr>\n",
       "    <tr>\n",
       "      <th>std</th>\n",
       "      <td>0.180476</td>\n",
       "      <td>116.406330</td>\n",
       "    </tr>\n",
       "    <tr>\n",
       "      <th>min</th>\n",
       "      <td>3.700000</td>\n",
       "      <td>100.000000</td>\n",
       "    </tr>\n",
       "    <tr>\n",
       "      <th>25%</th>\n",
       "      <td>4.000000</td>\n",
       "      <td>250.000000</td>\n",
       "    </tr>\n",
       "    <tr>\n",
       "      <th>50%</th>\n",
       "      <td>4.100000</td>\n",
       "      <td>300.000000</td>\n",
       "    </tr>\n",
       "    <tr>\n",
       "      <th>75%</th>\n",
       "      <td>4.100000</td>\n",
       "      <td>400.000000</td>\n",
       "    </tr>\n",
       "    <tr>\n",
       "      <th>max</th>\n",
       "      <td>4.500000</td>\n",
       "      <td>600.000000</td>\n",
       "    </tr>\n",
       "  </tbody>\n",
       "</table>\n",
       "</div>"
      ],
      "text/plain": [
       "          Rating  Cost_for_Two\n",
       "count  35.000000     35.000000\n",
       "mean    4.048571    329.085714\n",
       "std     0.180476    116.406330\n",
       "min     3.700000    100.000000\n",
       "25%     4.000000    250.000000\n",
       "50%     4.100000    300.000000\n",
       "75%     4.100000    400.000000\n",
       "max     4.500000    600.000000"
      ]
     },
     "execution_count": 40,
     "metadata": {},
     "output_type": "execute_result"
    }
   ],
   "source": [
    "df_BTM.describe()"
   ]
  },
  {
   "cell_type": "code",
   "execution_count": 41,
   "id": "087805aa",
   "metadata": {},
   "outputs": [
    {
     "data": {
      "text/html": [
       "<div>\n",
       "<style scoped>\n",
       "    .dataframe tbody tr th:only-of-type {\n",
       "        vertical-align: middle;\n",
       "    }\n",
       "\n",
       "    .dataframe tbody tr th {\n",
       "        vertical-align: top;\n",
       "    }\n",
       "\n",
       "    .dataframe thead th {\n",
       "        text-align: right;\n",
       "    }\n",
       "</style>\n",
       "<table border=\"1\" class=\"dataframe\">\n",
       "  <thead>\n",
       "    <tr style=\"text-align: right;\">\n",
       "      <th></th>\n",
       "      <th>Shop_Name</th>\n",
       "      <th>Rating</th>\n",
       "      <th>Cost_for_Two</th>\n",
       "    </tr>\n",
       "  </thead>\n",
       "  <tbody>\n",
       "    <tr>\n",
       "      <th>0</th>\n",
       "      <td>Chinese Bae</td>\n",
       "      <td>4.5</td>\n",
       "      <td>450.0</td>\n",
       "    </tr>\n",
       "    <tr>\n",
       "      <th>1</th>\n",
       "      <td>Oottupura</td>\n",
       "      <td>4.3</td>\n",
       "      <td>268.0</td>\n",
       "    </tr>\n",
       "    <tr>\n",
       "      <th>2</th>\n",
       "      <td>Just Bake - Cakes &amp; confectioners</td>\n",
       "      <td>4.3</td>\n",
       "      <td>300.0</td>\n",
       "    </tr>\n",
       "    <tr>\n",
       "      <th>3</th>\n",
       "      <td>Venu's Donne Biryani</td>\n",
       "      <td>4.3</td>\n",
       "      <td>300.0</td>\n",
       "    </tr>\n",
       "    <tr>\n",
       "      <th>4</th>\n",
       "      <td>Tandoori Merchant</td>\n",
       "      <td>4.2</td>\n",
       "      <td>100.0</td>\n",
       "    </tr>\n",
       "    <tr>\n",
       "      <th>5</th>\n",
       "      <td>Ghar Ka Khana</td>\n",
       "      <td>4.2</td>\n",
       "      <td>220.0</td>\n",
       "    </tr>\n",
       "    <tr>\n",
       "      <th>6</th>\n",
       "      <td>BIRIYANI TASTE MASTH(BTM)</td>\n",
       "      <td>4.2</td>\n",
       "      <td>300.0</td>\n",
       "    </tr>\n",
       "    <tr>\n",
       "      <th>7</th>\n",
       "      <td>Bengali Fun Foods</td>\n",
       "      <td>4.2</td>\n",
       "      <td>300.0</td>\n",
       "    </tr>\n",
       "    <tr>\n",
       "      <th>8</th>\n",
       "      <td>99 VARIETY DOSA AND PAV BHAJI- Malli Mane Food...</td>\n",
       "      <td>4.1</td>\n",
       "      <td>200.0</td>\n",
       "    </tr>\n",
       "    <tr>\n",
       "      <th>9</th>\n",
       "      <td>Svadu Pure Ghee Sweets</td>\n",
       "      <td>4.1</td>\n",
       "      <td>200.0</td>\n",
       "    </tr>\n",
       "    <tr>\n",
       "      <th>10</th>\n",
       "      <td>Swad Punjab da</td>\n",
       "      <td>4.1</td>\n",
       "      <td>250.0</td>\n",
       "    </tr>\n",
       "    <tr>\n",
       "      <th>11</th>\n",
       "      <td>Swadista Aahar</td>\n",
       "      <td>4.1</td>\n",
       "      <td>250.0</td>\n",
       "    </tr>\n",
       "    <tr>\n",
       "      <th>12</th>\n",
       "      <td>calicut cafe restaurant</td>\n",
       "      <td>4.1</td>\n",
       "      <td>280.0</td>\n",
       "    </tr>\n",
       "    <tr>\n",
       "      <th>13</th>\n",
       "      <td>Balaji's Veg</td>\n",
       "      <td>4.1</td>\n",
       "      <td>300.0</td>\n",
       "    </tr>\n",
       "    <tr>\n",
       "      <th>14</th>\n",
       "      <td>Biriyani Bhatti</td>\n",
       "      <td>4.1</td>\n",
       "      <td>350.0</td>\n",
       "    </tr>\n",
       "    <tr>\n",
       "      <th>15</th>\n",
       "      <td>High N Hungry</td>\n",
       "      <td>4.1</td>\n",
       "      <td>350.0</td>\n",
       "    </tr>\n",
       "    <tr>\n",
       "      <th>16</th>\n",
       "      <td>Ambur Star Briyani</td>\n",
       "      <td>4.1</td>\n",
       "      <td>500.0</td>\n",
       "    </tr>\n",
       "    <tr>\n",
       "      <th>17</th>\n",
       "      <td>BIRYANI CRAFTS</td>\n",
       "      <td>4.1</td>\n",
       "      <td>500.0</td>\n",
       "    </tr>\n",
       "    <tr>\n",
       "      <th>18</th>\n",
       "      <td>Savoury Restaurant</td>\n",
       "      <td>4.1</td>\n",
       "      <td>600.0</td>\n",
       "    </tr>\n",
       "    <tr>\n",
       "      <th>19</th>\n",
       "      <td>Donne Biryani Mandi</td>\n",
       "      <td>4.0</td>\n",
       "      <td>150.0</td>\n",
       "    </tr>\n",
       "    <tr>\n",
       "      <th>20</th>\n",
       "      <td>Abhiruchi Hotel</td>\n",
       "      <td>4.0</td>\n",
       "      <td>250.0</td>\n",
       "    </tr>\n",
       "    <tr>\n",
       "      <th>21</th>\n",
       "      <td>KANNOOR RESTAURANT</td>\n",
       "      <td>4.0</td>\n",
       "      <td>250.0</td>\n",
       "    </tr>\n",
       "    <tr>\n",
       "      <th>22</th>\n",
       "      <td>World of asia</td>\n",
       "      <td>4.0</td>\n",
       "      <td>250.0</td>\n",
       "    </tr>\n",
       "    <tr>\n",
       "      <th>23</th>\n",
       "      <td>New Tasty Cafeteria</td>\n",
       "      <td>4.0</td>\n",
       "      <td>350.0</td>\n",
       "    </tr>\n",
       "    <tr>\n",
       "      <th>24</th>\n",
       "      <td>Hotel Godavari</td>\n",
       "      <td>4.0</td>\n",
       "      <td>400.0</td>\n",
       "    </tr>\n",
       "    <tr>\n",
       "      <th>25</th>\n",
       "      <td>Biryani Pot</td>\n",
       "      <td>4.0</td>\n",
       "      <td>500.0</td>\n",
       "    </tr>\n",
       "    <tr>\n",
       "      <th>26</th>\n",
       "      <td>Gyaani Da Punjabi Dhaba</td>\n",
       "      <td>4.0</td>\n",
       "      <td>500.0</td>\n",
       "    </tr>\n",
       "    <tr>\n",
       "      <th>27</th>\n",
       "      <td>KANNUR FOOD POINT</td>\n",
       "      <td>3.9</td>\n",
       "      <td>300.0</td>\n",
       "    </tr>\n",
       "    <tr>\n",
       "      <th>28</th>\n",
       "      <td>Fattoush</td>\n",
       "      <td>3.9</td>\n",
       "      <td>400.0</td>\n",
       "    </tr>\n",
       "    <tr>\n",
       "      <th>29</th>\n",
       "      <td>Hyderabadi Biryani Hub</td>\n",
       "      <td>3.9</td>\n",
       "      <td>450.0</td>\n",
       "    </tr>\n",
       "    <tr>\n",
       "      <th>30</th>\n",
       "      <td>La Pino'z Pizza</td>\n",
       "      <td>3.9</td>\n",
       "      <td>500.0</td>\n",
       "    </tr>\n",
       "    <tr>\n",
       "      <th>31</th>\n",
       "      <td>Sri Lakshmi Dhaba</td>\n",
       "      <td>3.7</td>\n",
       "      <td>200.0</td>\n",
       "    </tr>\n",
       "    <tr>\n",
       "      <th>32</th>\n",
       "      <td>Sai Abhiruchi</td>\n",
       "      <td>3.7</td>\n",
       "      <td>250.0</td>\n",
       "    </tr>\n",
       "    <tr>\n",
       "      <th>33</th>\n",
       "      <td>R.B Food Point</td>\n",
       "      <td>3.7</td>\n",
       "      <td>350.0</td>\n",
       "    </tr>\n",
       "    <tr>\n",
       "      <th>34</th>\n",
       "      <td>Punjabi Swag</td>\n",
       "      <td>3.7</td>\n",
       "      <td>400.0</td>\n",
       "    </tr>\n",
       "  </tbody>\n",
       "</table>\n",
       "</div>"
      ],
      "text/plain": [
       "                                            Shop_Name  Rating  Cost_for_Two\n",
       "0                                         Chinese Bae     4.5         450.0\n",
       "1                                           Oottupura     4.3         268.0\n",
       "2                   Just Bake - Cakes & confectioners     4.3         300.0\n",
       "3                                Venu's Donne Biryani     4.3         300.0\n",
       "4                                   Tandoori Merchant     4.2         100.0\n",
       "5                                       Ghar Ka Khana     4.2         220.0\n",
       "6                           BIRIYANI TASTE MASTH(BTM)     4.2         300.0\n",
       "7                                   Bengali Fun Foods     4.2         300.0\n",
       "8   99 VARIETY DOSA AND PAV BHAJI- Malli Mane Food...     4.1         200.0\n",
       "9                              Svadu Pure Ghee Sweets     4.1         200.0\n",
       "10                                     Swad Punjab da     4.1         250.0\n",
       "11                                     Swadista Aahar     4.1         250.0\n",
       "12                            calicut cafe restaurant     4.1         280.0\n",
       "13                                       Balaji's Veg     4.1         300.0\n",
       "14                                    Biriyani Bhatti     4.1         350.0\n",
       "15                                      High N Hungry     4.1         350.0\n",
       "16                                 Ambur Star Briyani     4.1         500.0\n",
       "17                                     BIRYANI CRAFTS     4.1         500.0\n",
       "18                                 Savoury Restaurant     4.1         600.0\n",
       "19                                Donne Biryani Mandi     4.0         150.0\n",
       "20                                    Abhiruchi Hotel     4.0         250.0\n",
       "21                                 KANNOOR RESTAURANT     4.0         250.0\n",
       "22                                      World of asia     4.0         250.0\n",
       "23                                New Tasty Cafeteria     4.0         350.0\n",
       "24                                     Hotel Godavari     4.0         400.0\n",
       "25                                        Biryani Pot     4.0         500.0\n",
       "26                            Gyaani Da Punjabi Dhaba     4.0         500.0\n",
       "27                                  KANNUR FOOD POINT     3.9         300.0\n",
       "28                                           Fattoush     3.9         400.0\n",
       "29                             Hyderabadi Biryani Hub     3.9         450.0\n",
       "30                                    La Pino'z Pizza     3.9         500.0\n",
       "31                                  Sri Lakshmi Dhaba     3.7         200.0\n",
       "32                                      Sai Abhiruchi     3.7         250.0\n",
       "33                                     R.B Food Point     3.7         350.0\n",
       "34                                       Punjabi Swag     3.7         400.0"
      ]
     },
     "execution_count": 41,
     "metadata": {},
     "output_type": "execute_result"
    }
   ],
   "source": [
    "df_b_res = df_BTM.groupby(['Shop_Name','Rating']).mean().sort_values(['Rating','Cost_for_Two'],\n",
    "                                                                             ascending=[False,True]).reset_index()\n",
    "df_b_res"
   ]
  },
  {
   "cell_type": "code",
   "execution_count": 42,
   "id": "79fbf397",
   "metadata": {},
   "outputs": [
    {
     "data": {
      "application/vnd.plotly.v1+json": {
       "config": {
        "plotlyServerURL": "https://plot.ly"
       },
       "data": [
        {
         "alignmentgroup": "True",
         "hovertemplate": "Cost for Two=%{x}<br>Shop Name=%{y}<br>Rating=%{marker.color}<extra></extra>",
         "legendgroup": "",
         "marker": {
          "color": [
           4.5,
           4.3,
           4.3,
           4.3,
           4.2,
           4.2,
           4.2,
           4.2,
           4.1,
           4.1
          ],
          "coloraxis": "coloraxis",
          "pattern": {
           "shape": ""
          }
         },
         "name": "",
         "offsetgroup": "",
         "orientation": "h",
         "showlegend": false,
         "textposition": "auto",
         "texttemplate": "%{x:.2s}",
         "type": "bar",
         "x": [
          450,
          268,
          300,
          300,
          100,
          220,
          300,
          300,
          200,
          200
         ],
         "xaxis": "x",
         "y": [
          "Chinese Bae",
          "Oottupura",
          "Just Bake - Cakes & confectioners",
          "Venu's Donne Biryani",
          "Tandoori Merchant",
          "Ghar Ka Khana",
          "BIRIYANI TASTE MASTH(BTM)",
          "Bengali Fun Foods",
          "99 VARIETY DOSA AND PAV BHAJI- Malli Mane Food Court",
          "Svadu Pure Ghee Sweets"
         ],
         "yaxis": "y"
        }
       ],
       "layout": {
        "barmode": "relative",
        "coloraxis": {
         "colorbar": {
          "title": {
           "text": "Rating"
          }
         },
         "colorscale": [
          [
           0,
           "rgb(237, 229, 207)"
          ],
          [
           0.16666666666666666,
           "rgb(224, 194, 162)"
          ],
          [
           0.3333333333333333,
           "rgb(211, 156, 131)"
          ],
          [
           0.5,
           "rgb(193, 118, 111)"
          ],
          [
           0.6666666666666666,
           "rgb(166, 84, 97)"
          ],
          [
           0.8333333333333334,
           "rgb(129, 55, 83)"
          ],
          [
           1,
           "rgb(84, 31, 63)"
          ]
         ]
        },
        "legend": {
         "tracegroupgap": 0
        },
        "template": {
         "data": {
          "bar": [
           {
            "error_x": {
             "color": "#2a3f5f"
            },
            "error_y": {
             "color": "#2a3f5f"
            },
            "marker": {
             "line": {
              "color": "#E5ECF6",
              "width": 0.5
             },
             "pattern": {
              "fillmode": "overlay",
              "size": 10,
              "solidity": 0.2
             }
            },
            "type": "bar"
           }
          ],
          "barpolar": [
           {
            "marker": {
             "line": {
              "color": "#E5ECF6",
              "width": 0.5
             },
             "pattern": {
              "fillmode": "overlay",
              "size": 10,
              "solidity": 0.2
             }
            },
            "type": "barpolar"
           }
          ],
          "carpet": [
           {
            "aaxis": {
             "endlinecolor": "#2a3f5f",
             "gridcolor": "white",
             "linecolor": "white",
             "minorgridcolor": "white",
             "startlinecolor": "#2a3f5f"
            },
            "baxis": {
             "endlinecolor": "#2a3f5f",
             "gridcolor": "white",
             "linecolor": "white",
             "minorgridcolor": "white",
             "startlinecolor": "#2a3f5f"
            },
            "type": "carpet"
           }
          ],
          "choropleth": [
           {
            "colorbar": {
             "outlinewidth": 0,
             "ticks": ""
            },
            "type": "choropleth"
           }
          ],
          "contour": [
           {
            "colorbar": {
             "outlinewidth": 0,
             "ticks": ""
            },
            "colorscale": [
             [
              0,
              "#0d0887"
             ],
             [
              0.1111111111111111,
              "#46039f"
             ],
             [
              0.2222222222222222,
              "#7201a8"
             ],
             [
              0.3333333333333333,
              "#9c179e"
             ],
             [
              0.4444444444444444,
              "#bd3786"
             ],
             [
              0.5555555555555556,
              "#d8576b"
             ],
             [
              0.6666666666666666,
              "#ed7953"
             ],
             [
              0.7777777777777778,
              "#fb9f3a"
             ],
             [
              0.8888888888888888,
              "#fdca26"
             ],
             [
              1,
              "#f0f921"
             ]
            ],
            "type": "contour"
           }
          ],
          "contourcarpet": [
           {
            "colorbar": {
             "outlinewidth": 0,
             "ticks": ""
            },
            "type": "contourcarpet"
           }
          ],
          "heatmap": [
           {
            "colorbar": {
             "outlinewidth": 0,
             "ticks": ""
            },
            "colorscale": [
             [
              0,
              "#0d0887"
             ],
             [
              0.1111111111111111,
              "#46039f"
             ],
             [
              0.2222222222222222,
              "#7201a8"
             ],
             [
              0.3333333333333333,
              "#9c179e"
             ],
             [
              0.4444444444444444,
              "#bd3786"
             ],
             [
              0.5555555555555556,
              "#d8576b"
             ],
             [
              0.6666666666666666,
              "#ed7953"
             ],
             [
              0.7777777777777778,
              "#fb9f3a"
             ],
             [
              0.8888888888888888,
              "#fdca26"
             ],
             [
              1,
              "#f0f921"
             ]
            ],
            "type": "heatmap"
           }
          ],
          "heatmapgl": [
           {
            "colorbar": {
             "outlinewidth": 0,
             "ticks": ""
            },
            "colorscale": [
             [
              0,
              "#0d0887"
             ],
             [
              0.1111111111111111,
              "#46039f"
             ],
             [
              0.2222222222222222,
              "#7201a8"
             ],
             [
              0.3333333333333333,
              "#9c179e"
             ],
             [
              0.4444444444444444,
              "#bd3786"
             ],
             [
              0.5555555555555556,
              "#d8576b"
             ],
             [
              0.6666666666666666,
              "#ed7953"
             ],
             [
              0.7777777777777778,
              "#fb9f3a"
             ],
             [
              0.8888888888888888,
              "#fdca26"
             ],
             [
              1,
              "#f0f921"
             ]
            ],
            "type": "heatmapgl"
           }
          ],
          "histogram": [
           {
            "marker": {
             "pattern": {
              "fillmode": "overlay",
              "size": 10,
              "solidity": 0.2
             }
            },
            "type": "histogram"
           }
          ],
          "histogram2d": [
           {
            "colorbar": {
             "outlinewidth": 0,
             "ticks": ""
            },
            "colorscale": [
             [
              0,
              "#0d0887"
             ],
             [
              0.1111111111111111,
              "#46039f"
             ],
             [
              0.2222222222222222,
              "#7201a8"
             ],
             [
              0.3333333333333333,
              "#9c179e"
             ],
             [
              0.4444444444444444,
              "#bd3786"
             ],
             [
              0.5555555555555556,
              "#d8576b"
             ],
             [
              0.6666666666666666,
              "#ed7953"
             ],
             [
              0.7777777777777778,
              "#fb9f3a"
             ],
             [
              0.8888888888888888,
              "#fdca26"
             ],
             [
              1,
              "#f0f921"
             ]
            ],
            "type": "histogram2d"
           }
          ],
          "histogram2dcontour": [
           {
            "colorbar": {
             "outlinewidth": 0,
             "ticks": ""
            },
            "colorscale": [
             [
              0,
              "#0d0887"
             ],
             [
              0.1111111111111111,
              "#46039f"
             ],
             [
              0.2222222222222222,
              "#7201a8"
             ],
             [
              0.3333333333333333,
              "#9c179e"
             ],
             [
              0.4444444444444444,
              "#bd3786"
             ],
             [
              0.5555555555555556,
              "#d8576b"
             ],
             [
              0.6666666666666666,
              "#ed7953"
             ],
             [
              0.7777777777777778,
              "#fb9f3a"
             ],
             [
              0.8888888888888888,
              "#fdca26"
             ],
             [
              1,
              "#f0f921"
             ]
            ],
            "type": "histogram2dcontour"
           }
          ],
          "mesh3d": [
           {
            "colorbar": {
             "outlinewidth": 0,
             "ticks": ""
            },
            "type": "mesh3d"
           }
          ],
          "parcoords": [
           {
            "line": {
             "colorbar": {
              "outlinewidth": 0,
              "ticks": ""
             }
            },
            "type": "parcoords"
           }
          ],
          "pie": [
           {
            "automargin": true,
            "type": "pie"
           }
          ],
          "scatter": [
           {
            "fillpattern": {
             "fillmode": "overlay",
             "size": 10,
             "solidity": 0.2
            },
            "type": "scatter"
           }
          ],
          "scatter3d": [
           {
            "line": {
             "colorbar": {
              "outlinewidth": 0,
              "ticks": ""
             }
            },
            "marker": {
             "colorbar": {
              "outlinewidth": 0,
              "ticks": ""
             }
            },
            "type": "scatter3d"
           }
          ],
          "scattercarpet": [
           {
            "marker": {
             "colorbar": {
              "outlinewidth": 0,
              "ticks": ""
             }
            },
            "type": "scattercarpet"
           }
          ],
          "scattergeo": [
           {
            "marker": {
             "colorbar": {
              "outlinewidth": 0,
              "ticks": ""
             }
            },
            "type": "scattergeo"
           }
          ],
          "scattergl": [
           {
            "marker": {
             "colorbar": {
              "outlinewidth": 0,
              "ticks": ""
             }
            },
            "type": "scattergl"
           }
          ],
          "scattermapbox": [
           {
            "marker": {
             "colorbar": {
              "outlinewidth": 0,
              "ticks": ""
             }
            },
            "type": "scattermapbox"
           }
          ],
          "scatterpolar": [
           {
            "marker": {
             "colorbar": {
              "outlinewidth": 0,
              "ticks": ""
             }
            },
            "type": "scatterpolar"
           }
          ],
          "scatterpolargl": [
           {
            "marker": {
             "colorbar": {
              "outlinewidth": 0,
              "ticks": ""
             }
            },
            "type": "scatterpolargl"
           }
          ],
          "scatterternary": [
           {
            "marker": {
             "colorbar": {
              "outlinewidth": 0,
              "ticks": ""
             }
            },
            "type": "scatterternary"
           }
          ],
          "surface": [
           {
            "colorbar": {
             "outlinewidth": 0,
             "ticks": ""
            },
            "colorscale": [
             [
              0,
              "#0d0887"
             ],
             [
              0.1111111111111111,
              "#46039f"
             ],
             [
              0.2222222222222222,
              "#7201a8"
             ],
             [
              0.3333333333333333,
              "#9c179e"
             ],
             [
              0.4444444444444444,
              "#bd3786"
             ],
             [
              0.5555555555555556,
              "#d8576b"
             ],
             [
              0.6666666666666666,
              "#ed7953"
             ],
             [
              0.7777777777777778,
              "#fb9f3a"
             ],
             [
              0.8888888888888888,
              "#fdca26"
             ],
             [
              1,
              "#f0f921"
             ]
            ],
            "type": "surface"
           }
          ],
          "table": [
           {
            "cells": {
             "fill": {
              "color": "#EBF0F8"
             },
             "line": {
              "color": "white"
             }
            },
            "header": {
             "fill": {
              "color": "#C8D4E3"
             },
             "line": {
              "color": "white"
             }
            },
            "type": "table"
           }
          ]
         },
         "layout": {
          "annotationdefaults": {
           "arrowcolor": "#2a3f5f",
           "arrowhead": 0,
           "arrowwidth": 1
          },
          "autotypenumbers": "strict",
          "coloraxis": {
           "colorbar": {
            "outlinewidth": 0,
            "ticks": ""
           }
          },
          "colorscale": {
           "diverging": [
            [
             0,
             "#8e0152"
            ],
            [
             0.1,
             "#c51b7d"
            ],
            [
             0.2,
             "#de77ae"
            ],
            [
             0.3,
             "#f1b6da"
            ],
            [
             0.4,
             "#fde0ef"
            ],
            [
             0.5,
             "#f7f7f7"
            ],
            [
             0.6,
             "#e6f5d0"
            ],
            [
             0.7,
             "#b8e186"
            ],
            [
             0.8,
             "#7fbc41"
            ],
            [
             0.9,
             "#4d9221"
            ],
            [
             1,
             "#276419"
            ]
           ],
           "sequential": [
            [
             0,
             "#0d0887"
            ],
            [
             0.1111111111111111,
             "#46039f"
            ],
            [
             0.2222222222222222,
             "#7201a8"
            ],
            [
             0.3333333333333333,
             "#9c179e"
            ],
            [
             0.4444444444444444,
             "#bd3786"
            ],
            [
             0.5555555555555556,
             "#d8576b"
            ],
            [
             0.6666666666666666,
             "#ed7953"
            ],
            [
             0.7777777777777778,
             "#fb9f3a"
            ],
            [
             0.8888888888888888,
             "#fdca26"
            ],
            [
             1,
             "#f0f921"
            ]
           ],
           "sequentialminus": [
            [
             0,
             "#0d0887"
            ],
            [
             0.1111111111111111,
             "#46039f"
            ],
            [
             0.2222222222222222,
             "#7201a8"
            ],
            [
             0.3333333333333333,
             "#9c179e"
            ],
            [
             0.4444444444444444,
             "#bd3786"
            ],
            [
             0.5555555555555556,
             "#d8576b"
            ],
            [
             0.6666666666666666,
             "#ed7953"
            ],
            [
             0.7777777777777778,
             "#fb9f3a"
            ],
            [
             0.8888888888888888,
             "#fdca26"
            ],
            [
             1,
             "#f0f921"
            ]
           ]
          },
          "colorway": [
           "#636efa",
           "#EF553B",
           "#00cc96",
           "#ab63fa",
           "#FFA15A",
           "#19d3f3",
           "#FF6692",
           "#B6E880",
           "#FF97FF",
           "#FECB52"
          ],
          "font": {
           "color": "#2a3f5f"
          },
          "geo": {
           "bgcolor": "white",
           "lakecolor": "white",
           "landcolor": "#E5ECF6",
           "showlakes": true,
           "showland": true,
           "subunitcolor": "white"
          },
          "hoverlabel": {
           "align": "left"
          },
          "hovermode": "closest",
          "mapbox": {
           "style": "light"
          },
          "paper_bgcolor": "white",
          "plot_bgcolor": "#E5ECF6",
          "polar": {
           "angularaxis": {
            "gridcolor": "white",
            "linecolor": "white",
            "ticks": ""
           },
           "bgcolor": "#E5ECF6",
           "radialaxis": {
            "gridcolor": "white",
            "linecolor": "white",
            "ticks": ""
           }
          },
          "scene": {
           "xaxis": {
            "backgroundcolor": "#E5ECF6",
            "gridcolor": "white",
            "gridwidth": 2,
            "linecolor": "white",
            "showbackground": true,
            "ticks": "",
            "zerolinecolor": "white"
           },
           "yaxis": {
            "backgroundcolor": "#E5ECF6",
            "gridcolor": "white",
            "gridwidth": 2,
            "linecolor": "white",
            "showbackground": true,
            "ticks": "",
            "zerolinecolor": "white"
           },
           "zaxis": {
            "backgroundcolor": "#E5ECF6",
            "gridcolor": "white",
            "gridwidth": 2,
            "linecolor": "white",
            "showbackground": true,
            "ticks": "",
            "zerolinecolor": "white"
           }
          },
          "shapedefaults": {
           "line": {
            "color": "#2a3f5f"
           }
          },
          "ternary": {
           "aaxis": {
            "gridcolor": "white",
            "linecolor": "white",
            "ticks": ""
           },
           "baxis": {
            "gridcolor": "white",
            "linecolor": "white",
            "ticks": ""
           },
           "bgcolor": "#E5ECF6",
           "caxis": {
            "gridcolor": "white",
            "linecolor": "white",
            "ticks": ""
           }
          },
          "title": {
           "x": 0.05
          },
          "xaxis": {
           "automargin": true,
           "gridcolor": "white",
           "linecolor": "white",
           "ticks": "",
           "title": {
            "standoff": 15
           },
           "zerolinecolor": "white",
           "zerolinewidth": 2
          },
          "yaxis": {
           "automargin": true,
           "gridcolor": "white",
           "linecolor": "white",
           "ticks": "",
           "title": {
            "standoff": 15
           },
           "zerolinecolor": "white",
           "zerolinewidth": 2
          }
         }
        },
        "title": {
         "text": "Top 10 Shops High Rated Restaurants in BTM"
        },
        "xaxis": {
         "anchor": "y",
         "domain": [
          0,
          1
         ],
         "title": {
          "text": "Cost for Two"
         }
        },
        "yaxis": {
         "anchor": "x",
         "autorange": "reversed",
         "domain": [
          0,
          1
         ],
         "title": {
          "text": "Shop Name"
         }
        }
       }
      }
     },
     "metadata": {},
     "output_type": "display_data"
    }
   ],
   "source": [
    "fig = px.bar(df_k_res, x=df_b_res['Cost_for_Two'][:10], y=df_b_res['Shop_Name'][:10], color=df_b_res['Rating'][:10],\n",
    "             color_continuous_scale='brwnyl', text_auto='.2s', \n",
    "             title='Top 10 Shops High Rated Restaurants in BTM',\n",
    "             labels={'x' : 'Cost for Two' , 'y' : 'Shop Name' , 'color' : 'Rating'})\n",
    "\n",
    "fig.update_layout(yaxis=dict(autorange=\"reversed\"))\n",
    "\n",
    "fig.show()"
   ]
  },
  {
   "cell_type": "markdown",
   "id": "3ba590b0",
   "metadata": {},
   "source": [
    "***HSR***"
   ]
  },
  {
   "cell_type": "code",
   "execution_count": 43,
   "id": "7a7a16af",
   "metadata": {},
   "outputs": [],
   "source": [
    "## save dataFrame where Area is 'HSR'.\n",
    "\n",
    "df_HSR = df[df['Area'] == 'HSR']"
   ]
  },
  {
   "cell_type": "code",
   "execution_count": 44,
   "id": "cb89756e",
   "metadata": {},
   "outputs": [
    {
     "data": {
      "text/html": [
       "<div>\n",
       "<style scoped>\n",
       "    .dataframe tbody tr th:only-of-type {\n",
       "        vertical-align: middle;\n",
       "    }\n",
       "\n",
       "    .dataframe tbody tr th {\n",
       "        vertical-align: top;\n",
       "    }\n",
       "\n",
       "    .dataframe thead th {\n",
       "        text-align: right;\n",
       "    }\n",
       "</style>\n",
       "<table border=\"1\" class=\"dataframe\">\n",
       "  <thead>\n",
       "    <tr style=\"text-align: right;\">\n",
       "      <th></th>\n",
       "      <th>Shop_Name</th>\n",
       "      <th>Cuisine</th>\n",
       "      <th>Location</th>\n",
       "      <th>Rating</th>\n",
       "      <th>Cost_for_Two</th>\n",
       "      <th>Area</th>\n",
       "    </tr>\n",
       "  </thead>\n",
       "  <tbody>\n",
       "    <tr>\n",
       "      <th>1</th>\n",
       "      <td>Mumbai Tiffin</td>\n",
       "      <td>North Indian, Home Food, Thalis, Combo</td>\n",
       "      <td>Sector 5, HSR</td>\n",
       "      <td>4.4</td>\n",
       "      <td>400</td>\n",
       "      <td>HSR</td>\n",
       "    </tr>\n",
       "    <tr>\n",
       "      <th>3</th>\n",
       "      <td>Al Daaz</td>\n",
       "      <td>American, Arabian, Chinese, Desserts, Fast Foo...</td>\n",
       "      <td>HSR, HSR</td>\n",
       "      <td>4.4</td>\n",
       "      <td>400</td>\n",
       "      <td>HSR</td>\n",
       "    </tr>\n",
       "    <tr>\n",
       "      <th>8</th>\n",
       "      <td>Hotel Manu</td>\n",
       "      <td>South Indian, Kerala, Chinese, North Indian</td>\n",
       "      <td>HSR, HSR</td>\n",
       "      <td>4.1</td>\n",
       "      <td>350</td>\n",
       "      <td>HSR</td>\n",
       "    </tr>\n",
       "    <tr>\n",
       "      <th>19</th>\n",
       "      <td>Shree Khana Khazana</td>\n",
       "      <td>Indian, Rajasthani</td>\n",
       "      <td>Sector 4, HSR</td>\n",
       "      <td>4.1</td>\n",
       "      <td>350</td>\n",
       "      <td>HSR</td>\n",
       "    </tr>\n",
       "    <tr>\n",
       "      <th>24</th>\n",
       "      <td>New Udupi Grand</td>\n",
       "      <td>Chinese, Jain, North Indian, South Indian</td>\n",
       "      <td>HSR, HSR</td>\n",
       "      <td>4.3</td>\n",
       "      <td>150</td>\n",
       "      <td>HSR</td>\n",
       "    </tr>\n",
       "  </tbody>\n",
       "</table>\n",
       "</div>"
      ],
      "text/plain": [
       "              Shop_Name                                            Cuisine  \\\n",
       "1         Mumbai Tiffin             North Indian, Home Food, Thalis, Combo   \n",
       "3               Al Daaz  American, Arabian, Chinese, Desserts, Fast Foo...   \n",
       "8            Hotel Manu        South Indian, Kerala, Chinese, North Indian   \n",
       "19  Shree Khana Khazana                                 Indian, Rajasthani   \n",
       "24      New Udupi Grand          Chinese, Jain, North Indian, South Indian   \n",
       "\n",
       "         Location  Rating  Cost_for_Two Area  \n",
       "1   Sector 5, HSR     4.4           400  HSR  \n",
       "3        HSR, HSR     4.4           400  HSR  \n",
       "8        HSR, HSR     4.1           350  HSR  \n",
       "19  Sector 4, HSR     4.1           350  HSR  \n",
       "24       HSR, HSR     4.3           150  HSR  "
      ]
     },
     "execution_count": 44,
     "metadata": {},
     "output_type": "execute_result"
    }
   ],
   "source": [
    "## print head() of HSR's dataset.\n",
    "\n",
    "df_HSR.head()"
   ]
  },
  {
   "cell_type": "code",
   "execution_count": 45,
   "id": "b3563128",
   "metadata": {},
   "outputs": [
    {
     "data": {
      "image/png": "[encoded data removed]",
      "text/plain": [
       "<Figure size 1200x600 with 1 Axes>"
      ]
     },
     "metadata": {},
     "output_type": "display_data"
    }
   ],
   "source": [
    "## Histrogram of Rating\n",
    "\n",
    "plt.figure(figsize=(12,6))\n",
    "plt.title('Histogram plot of Rating in HSR Area',fontsize=24)\n",
    "sns.histplot(df_HSR['Rating'])\n",
    "plt.show()"
   ]
  },
  {
   "cell_type": "markdown",
   "id": "6723b8a5",
   "metadata": {},
   "source": [
    "- here, most of restaurants have rating **4.1** and also some of the restaurants have rating between **4.3** to **4.4**"
   ]
  },
  {
   "cell_type": "code",
   "execution_count": 46,
   "id": "6d2354ab",
   "metadata": {},
   "outputs": [
    {
     "data": {
      "image/png": "[encoded data removed]",
      "text/plain": [
       "<Figure size 1200x600 with 1 Axes>"
      ]
     },
     "metadata": {},
     "output_type": "display_data"
    }
   ],
   "source": [
    "## Histrogram of Cost_for_Two\n",
    "\n",
    "plt.figure(figsize=(12,6))\n",
    "plt.title('Histogram plot of Cost for Two in HSR Area',fontsize=24)\n",
    "sns.histplot(df_HSR['Cost_for_Two'])\n",
    "plt.show()"
   ]
  },
  {
   "cell_type": "markdown",
   "id": "22ea25da",
   "metadata": {},
   "source": [
    "-  most of the number of data of cost for two person lies between **200** to **500**."
   ]
  },
  {
   "cell_type": "code",
   "execution_count": 47,
   "id": "bf0ff0cf",
   "metadata": {},
   "outputs": [
    {
     "data": {
      "text/html": [
       "<div>\n",
       "<style scoped>\n",
       "    .dataframe tbody tr th:only-of-type {\n",
       "        vertical-align: middle;\n",
       "    }\n",
       "\n",
       "    .dataframe tbody tr th {\n",
       "        vertical-align: top;\n",
       "    }\n",
       "\n",
       "    .dataframe thead th {\n",
       "        text-align: right;\n",
       "    }\n",
       "</style>\n",
       "<table border=\"1\" class=\"dataframe\">\n",
       "  <thead>\n",
       "    <tr style=\"text-align: right;\">\n",
       "      <th></th>\n",
       "      <th>Rating</th>\n",
       "      <th>Cost_for_Two</th>\n",
       "    </tr>\n",
       "  </thead>\n",
       "  <tbody>\n",
       "    <tr>\n",
       "      <th>count</th>\n",
       "      <td>17.000000</td>\n",
       "      <td>17.000000</td>\n",
       "    </tr>\n",
       "    <tr>\n",
       "      <th>mean</th>\n",
       "      <td>4.070588</td>\n",
       "      <td>391.176471</td>\n",
       "    </tr>\n",
       "    <tr>\n",
       "      <th>std</th>\n",
       "      <td>0.222948</td>\n",
       "      <td>174.315890</td>\n",
       "    </tr>\n",
       "    <tr>\n",
       "      <th>min</th>\n",
       "      <td>3.600000</td>\n",
       "      <td>150.000000</td>\n",
       "    </tr>\n",
       "    <tr>\n",
       "      <th>25%</th>\n",
       "      <td>4.000000</td>\n",
       "      <td>300.000000</td>\n",
       "    </tr>\n",
       "    <tr>\n",
       "      <th>50%</th>\n",
       "      <td>4.100000</td>\n",
       "      <td>350.000000</td>\n",
       "    </tr>\n",
       "    <tr>\n",
       "      <th>75%</th>\n",
       "      <td>4.300000</td>\n",
       "      <td>450.000000</td>\n",
       "    </tr>\n",
       "    <tr>\n",
       "      <th>max</th>\n",
       "      <td>4.400000</td>\n",
       "      <td>800.000000</td>\n",
       "    </tr>\n",
       "  </tbody>\n",
       "</table>\n",
       "</div>"
      ],
      "text/plain": [
       "          Rating  Cost_for_Two\n",
       "count  17.000000     17.000000\n",
       "mean    4.070588    391.176471\n",
       "std     0.222948    174.315890\n",
       "min     3.600000    150.000000\n",
       "25%     4.000000    300.000000\n",
       "50%     4.100000    350.000000\n",
       "75%     4.300000    450.000000\n",
       "max     4.400000    800.000000"
      ]
     },
     "execution_count": 47,
     "metadata": {},
     "output_type": "execute_result"
    }
   ],
   "source": [
    "df_HSR.describe()"
   ]
  },
  {
   "cell_type": "code",
   "execution_count": 48,
   "id": "d93b756c",
   "metadata": {},
   "outputs": [
    {
     "data": {
      "text/html": [
       "<div>\n",
       "<style scoped>\n",
       "    .dataframe tbody tr th:only-of-type {\n",
       "        vertical-align: middle;\n",
       "    }\n",
       "\n",
       "    .dataframe tbody tr th {\n",
       "        vertical-align: top;\n",
       "    }\n",
       "\n",
       "    .dataframe thead th {\n",
       "        text-align: right;\n",
       "    }\n",
       "</style>\n",
       "<table border=\"1\" class=\"dataframe\">\n",
       "  <thead>\n",
       "    <tr style=\"text-align: right;\">\n",
       "      <th></th>\n",
       "      <th>Shop_Name</th>\n",
       "      <th>Rating</th>\n",
       "      <th>Cost_for_Two</th>\n",
       "    </tr>\n",
       "  </thead>\n",
       "  <tbody>\n",
       "    <tr>\n",
       "      <th>0</th>\n",
       "      <td>Al Daaz</td>\n",
       "      <td>4.4</td>\n",
       "      <td>400.0</td>\n",
       "    </tr>\n",
       "    <tr>\n",
       "      <th>1</th>\n",
       "      <td>Mumbai Tiffin</td>\n",
       "      <td>4.4</td>\n",
       "      <td>400.0</td>\n",
       "    </tr>\n",
       "    <tr>\n",
       "      <th>2</th>\n",
       "      <td>New Udupi Grand</td>\n",
       "      <td>4.3</td>\n",
       "      <td>150.0</td>\n",
       "    </tr>\n",
       "    <tr>\n",
       "      <th>3</th>\n",
       "      <td>Leon Grill</td>\n",
       "      <td>4.3</td>\n",
       "      <td>300.0</td>\n",
       "    </tr>\n",
       "    <tr>\n",
       "      <th>4</th>\n",
       "      <td>Cakewala</td>\n",
       "      <td>4.3</td>\n",
       "      <td>450.0</td>\n",
       "    </tr>\n",
       "    <tr>\n",
       "      <th>5</th>\n",
       "      <td>Hotel Manu</td>\n",
       "      <td>4.1</td>\n",
       "      <td>350.0</td>\n",
       "    </tr>\n",
       "    <tr>\n",
       "      <th>6</th>\n",
       "      <td>Shree Khana Khazana</td>\n",
       "      <td>4.1</td>\n",
       "      <td>350.0</td>\n",
       "    </tr>\n",
       "    <tr>\n",
       "      <th>7</th>\n",
       "      <td>Biriyani Zone</td>\n",
       "      <td>4.1</td>\n",
       "      <td>600.0</td>\n",
       "    </tr>\n",
       "    <tr>\n",
       "      <th>8</th>\n",
       "      <td>Dindigul Thalapakatti Biriyani</td>\n",
       "      <td>4.1</td>\n",
       "      <td>650.0</td>\n",
       "    </tr>\n",
       "    <tr>\n",
       "      <th>9</th>\n",
       "      <td>Donne Biriyani House</td>\n",
       "      <td>4.0</td>\n",
       "      <td>300.0</td>\n",
       "    </tr>\n",
       "  </tbody>\n",
       "</table>\n",
       "</div>"
      ],
      "text/plain": [
       "                        Shop_Name  Rating  Cost_for_Two\n",
       "0                         Al Daaz     4.4         400.0\n",
       "1                   Mumbai Tiffin     4.4         400.0\n",
       "2                 New Udupi Grand     4.3         150.0\n",
       "3                      Leon Grill     4.3         300.0\n",
       "4                        Cakewala     4.3         450.0\n",
       "5                      Hotel Manu     4.1         350.0\n",
       "6             Shree Khana Khazana     4.1         350.0\n",
       "7                   Biriyani Zone     4.1         600.0\n",
       "8  Dindigul Thalapakatti Biriyani     4.1         650.0\n",
       "9            Donne Biriyani House     4.0         300.0"
      ]
     },
     "execution_count": 48,
     "metadata": {},
     "output_type": "execute_result"
    }
   ],
   "source": [
    "df_h_res = df_HSR.groupby(['Shop_Name','Rating']).mean().sort_values(['Rating','Cost_for_Two'],\n",
    "                                                                             ascending=[False,True]).reset_index().head(10)\n",
    "df_h_res"
   ]
  },
  {
   "cell_type": "code",
   "execution_count": 49,
   "id": "d8102954",
   "metadata": {},
   "outputs": [
    {
     "data": {
      "application/vnd.plotly.v1+json": {
       "config": {
        "plotlyServerURL": "https://plot.ly"
       },
       "data": [
        {
         "alignmentgroup": "True",
         "hovertemplate": "Cost for Two=%{x}<br>Shop Name=%{y}<br>Rating=%{marker.color}<extra></extra>",
         "legendgroup": "",
         "marker": {
          "color": [
           4.4,
           4.4,
           4.3,
           4.3,
           4.3,
           4.1,
           4.1,
           4.1,
           4.1,
           4
          ],
          "coloraxis": "coloraxis",
          "pattern": {
           "shape": ""
          }
         },
         "name": "",
         "offsetgroup": "",
         "orientation": "h",
         "showlegend": false,
         "textposition": "auto",
         "texttemplate": "%{x:.2s}",
         "type": "bar",
         "x": [
          400,
          400,
          150,
          300,
          450,
          350,
          350,
          600,
          650,
          300
         ],
         "xaxis": "x",
         "y": [
          "Al Daaz",
          "Mumbai Tiffin",
          "New Udupi Grand",
          "Leon Grill",
          "Cakewala",
          "Hotel Manu",
          "Shree Khana Khazana",
          "Biriyani Zone",
          "Dindigul Thalapakatti Biriyani",
          "Donne Biriyani House"
         ],
         "yaxis": "y"
        }
       ],
       "layout": {
        "barmode": "relative",
        "coloraxis": {
         "colorbar": {
          "title": {
           "text": "Rating"
          }
         },
         "colorscale": [
          [
           0,
           "rgb(103,0,31)"
          ],
          [
           0.1,
           "rgb(178,24,43)"
          ],
          [
           0.2,
           "rgb(214,96,77)"
          ],
          [
           0.3,
           "rgb(244,165,130)"
          ],
          [
           0.4,
           "rgb(253,219,199)"
          ],
          [
           0.5,
           "rgb(247,247,247)"
          ],
          [
           0.6,
           "rgb(209,229,240)"
          ],
          [
           0.7,
           "rgb(146,197,222)"
          ],
          [
           0.8,
           "rgb(67,147,195)"
          ],
          [
           0.9,
           "rgb(33,102,172)"
          ],
          [
           1,
           "rgb(5,48,97)"
          ]
         ]
        },
        "legend": {
         "tracegroupgap": 0
        },
        "template": {
         "data": {
          "bar": [
           {
            "error_x": {
             "color": "#2a3f5f"
            },
            "error_y": {
             "color": "#2a3f5f"
            },
            "marker": {
             "line": {
              "color": "#E5ECF6",
              "width": 0.5
             },
             "pattern": {
              "fillmode": "overlay",
              "size": 10,
              "solidity": 0.2
             }
            },
            "type": "bar"
           }
          ],
          "barpolar": [
           {
            "marker": {
             "line": {
              "color": "#E5ECF6",
              "width": 0.5
             },
             "pattern": {
              "fillmode": "overlay",
              "size": 10,
              "solidity": 0.2
             }
            },
            "type": "barpolar"
           }
          ],
          "carpet": [
           {
            "aaxis": {
             "endlinecolor": "#2a3f5f",
             "gridcolor": "white",
             "linecolor": "white",
             "minorgridcolor": "white",
             "startlinecolor": "#2a3f5f"
            },
            "baxis": {
             "endlinecolor": "#2a3f5f",
             "gridcolor": "white",
             "linecolor": "white",
             "minorgridcolor": "white",
             "startlinecolor": "#2a3f5f"
            },
            "type": "carpet"
           }
          ],
          "choropleth": [
           {
            "colorbar": {
             "outlinewidth": 0,
             "ticks": ""
            },
            "type": "choropleth"
           }
          ],
          "contour": [
           {
            "colorbar": {
             "outlinewidth": 0,
             "ticks": ""
            },
            "colorscale": [
             [
              0,
              "#0d0887"
             ],
             [
              0.1111111111111111,
              "#46039f"
             ],
             [
              0.2222222222222222,
              "#7201a8"
             ],
             [
              0.3333333333333333,
              "#9c179e"
             ],
             [
              0.4444444444444444,
              "#bd3786"
             ],
             [
              0.5555555555555556,
              "#d8576b"
             ],
             [
              0.6666666666666666,
              "#ed7953"
             ],
             [
              0.7777777777777778,
              "#fb9f3a"
             ],
             [
              0.8888888888888888,
              "#fdca26"
             ],
             [
              1,
              "#f0f921"
             ]
            ],
            "type": "contour"
           }
          ],
          "contourcarpet": [
           {
            "colorbar": {
             "outlinewidth": 0,
             "ticks": ""
            },
            "type": "contourcarpet"
           }
          ],
          "heatmap": [
           {
            "colorbar": {
             "outlinewidth": 0,
             "ticks": ""
            },
            "colorscale": [
             [
              0,
              "#0d0887"
             ],
             [
              0.1111111111111111,
              "#46039f"
             ],
             [
              0.2222222222222222,
              "#7201a8"
             ],
             [
              0.3333333333333333,
              "#9c179e"
             ],
             [
              0.4444444444444444,
              "#bd3786"
             ],
             [
              0.5555555555555556,
              "#d8576b"
             ],
             [
              0.6666666666666666,
              "#ed7953"
             ],
             [
              0.7777777777777778,
              "#fb9f3a"
             ],
             [
              0.8888888888888888,
              "#fdca26"
             ],
             [
              1,
              "#f0f921"
             ]
            ],
            "type": "heatmap"
           }
          ],
          "heatmapgl": [
           {
            "colorbar": {
             "outlinewidth": 0,
             "ticks": ""
            },
            "colorscale": [
             [
              0,
              "#0d0887"
             ],
             [
              0.1111111111111111,
              "#46039f"
             ],
             [
              0.2222222222222222,
              "#7201a8"
             ],
             [
              0.3333333333333333,
              "#9c179e"
             ],
             [
              0.4444444444444444,
              "#bd3786"
             ],
             [
              0.5555555555555556,
              "#d8576b"
             ],
             [
              0.6666666666666666,
              "#ed7953"
             ],
             [
              0.7777777777777778,
              "#fb9f3a"
             ],
             [
              0.8888888888888888,
              "#fdca26"
             ],
             [
              1,
              "#f0f921"
             ]
            ],
            "type": "heatmapgl"
           }
          ],
          "histogram": [
           {
            "marker": {
             "pattern": {
              "fillmode": "overlay",
              "size": 10,
              "solidity": 0.2
             }
            },
            "type": "histogram"
           }
          ],
          "histogram2d": [
           {
            "colorbar": {
             "outlinewidth": 0,
             "ticks": ""
            },
            "colorscale": [
             [
              0,
              "#0d0887"
             ],
             [
              0.1111111111111111,
              "#46039f"
             ],
             [
              0.2222222222222222,
              "#7201a8"
             ],
             [
              0.3333333333333333,
              "#9c179e"
             ],
             [
              0.4444444444444444,
              "#bd3786"
             ],
             [
              0.5555555555555556,
              "#d8576b"
             ],
             [
              0.6666666666666666,
              "#ed7953"
             ],
             [
              0.7777777777777778,
              "#fb9f3a"
             ],
             [
              0.8888888888888888,
              "#fdca26"
             ],
             [
              1,
              "#f0f921"
             ]
            ],
            "type": "histogram2d"
           }
          ],
          "histogram2dcontour": [
           {
            "colorbar": {
             "outlinewidth": 0,
             "ticks": ""
            },
            "colorscale": [
             [
              0,
              "#0d0887"
             ],
             [
              0.1111111111111111,
              "#46039f"
             ],
             [
              0.2222222222222222,
              "#7201a8"
             ],
             [
              0.3333333333333333,
              "#9c179e"
             ],
             [
              0.4444444444444444,
              "#bd3786"
             ],
             [
              0.5555555555555556,
              "#d8576b"
             ],
             [
              0.6666666666666666,
              "#ed7953"
             ],
             [
              0.7777777777777778,
              "#fb9f3a"
             ],
             [
              0.8888888888888888,
              "#fdca26"
             ],
             [
              1,
              "#f0f921"
             ]
            ],
            "type": "histogram2dcontour"
           }
          ],
          "mesh3d": [
           {
            "colorbar": {
             "outlinewidth": 0,
             "ticks": ""
            },
            "type": "mesh3d"
           }
          ],
          "parcoords": [
           {
            "line": {
             "colorbar": {
              "outlinewidth": 0,
              "ticks": ""
             }
            },
            "type": "parcoords"
           }
          ],
          "pie": [
           {
            "automargin": true,
            "type": "pie"
           }
          ],
          "scatter": [
           {
            "fillpattern": {
             "fillmode": "overlay",
             "size": 10,
             "solidity": 0.2
            },
            "type": "scatter"
           }
          ],
          "scatter3d": [
           {
            "line": {
             "colorbar": {
              "outlinewidth": 0,
              "ticks": ""
             }
            },
            "marker": {
             "colorbar": {
              "outlinewidth": 0,
              "ticks": ""
             }
            },
            "type": "scatter3d"
           }
          ],
          "scattercarpet": [
           {
            "marker": {
             "colorbar": {
              "outlinewidth": 0,
              "ticks": ""
             }
            },
            "type": "scattercarpet"
           }
          ],
          "scattergeo": [
           {
            "marker": {
             "colorbar": {
              "outlinewidth": 0,
              "ticks": ""
             }
            },
            "type": "scattergeo"
           }
          ],
          "scattergl": [
           {
            "marker": {
             "colorbar": {
              "outlinewidth": 0,
              "ticks": ""
             }
            },
            "type": "scattergl"
           }
          ],
          "scattermapbox": [
           {
            "marker": {
             "colorbar": {
              "outlinewidth": 0,
              "ticks": ""
             }
            },
            "type": "scattermapbox"
           }
          ],
          "scatterpolar": [
           {
            "marker": {
             "colorbar": {
              "outlinewidth": 0,
              "ticks": ""
             }
            },
            "type": "scatterpolar"
           }
          ],
          "scatterpolargl": [
           {
            "marker": {
             "colorbar": {
              "outlinewidth": 0,
              "ticks": ""
             }
            },
            "type": "scatterpolargl"
           }
          ],
          "scatterternary": [
           {
            "marker": {
             "colorbar": {
              "outlinewidth": 0,
              "ticks": ""
             }
            },
            "type": "scatterternary"
           }
          ],
          "surface": [
           {
            "colorbar": {
             "outlinewidth": 0,
             "ticks": ""
            },
            "colorscale": [
             [
              0,
              "#0d0887"
             ],
             [
              0.1111111111111111,
              "#46039f"
             ],
             [
              0.2222222222222222,
              "#7201a8"
             ],
             [
              0.3333333333333333,
              "#9c179e"
             ],
             [
              0.4444444444444444,
              "#bd3786"
             ],
             [
              0.5555555555555556,
              "#d8576b"
             ],
             [
              0.6666666666666666,
              "#ed7953"
             ],
             [
              0.7777777777777778,
              "#fb9f3a"
             ],
             [
              0.8888888888888888,
              "#fdca26"
             ],
             [
              1,
              "#f0f921"
             ]
            ],
            "type": "surface"
           }
          ],
          "table": [
           {
            "cells": {
             "fill": {
              "color": "#EBF0F8"
             },
             "line": {
              "color": "white"
             }
            },
            "header": {
             "fill": {
              "color": "#C8D4E3"
             },
             "line": {
              "color": "white"
             }
            },
            "type": "table"
           }
          ]
         },
         "layout": {
          "annotationdefaults": {
           "arrowcolor": "#2a3f5f",
           "arrowhead": 0,
           "arrowwidth": 1
          },
          "autotypenumbers": "strict",
          "coloraxis": {
           "colorbar": {
            "outlinewidth": 0,
            "ticks": ""
           }
          },
          "colorscale": {
           "diverging": [
            [
             0,
             "#8e0152"
            ],
            [
             0.1,
             "#c51b7d"
            ],
            [
             0.2,
             "#de77ae"
            ],
            [
             0.3,
             "#f1b6da"
            ],
            [
             0.4,
             "#fde0ef"
            ],
            [
             0.5,
             "#f7f7f7"
            ],
            [
             0.6,
             "#e6f5d0"
            ],
            [
             0.7,
             "#b8e186"
            ],
            [
             0.8,
             "#7fbc41"
            ],
            [
             0.9,
             "#4d9221"
            ],
            [
             1,
             "#276419"
            ]
           ],
           "sequential": [
            [
             0,
             "#0d0887"
            ],
            [
             0.1111111111111111,
             "#46039f"
            ],
            [
             0.2222222222222222,
             "#7201a8"
            ],
            [
             0.3333333333333333,
             "#9c179e"
            ],
            [
             0.4444444444444444,
             "#bd3786"
            ],
            [
             0.5555555555555556,
             "#d8576b"
            ],
            [
             0.6666666666666666,
             "#ed7953"
            ],
            [
             0.7777777777777778,
             "#fb9f3a"
            ],
            [
             0.8888888888888888,
             "#fdca26"
            ],
            [
             1,
             "#f0f921"
            ]
           ],
           "sequentialminus": [
            [
             0,
             "#0d0887"
            ],
            [
             0.1111111111111111,
             "#46039f"
            ],
            [
             0.2222222222222222,
             "#7201a8"
            ],
            [
             0.3333333333333333,
             "#9c179e"
            ],
            [
             0.4444444444444444,
             "#bd3786"
            ],
            [
             0.5555555555555556,
             "#d8576b"
            ],
            [
             0.6666666666666666,
             "#ed7953"
            ],
            [
             0.7777777777777778,
             "#fb9f3a"
            ],
            [
             0.8888888888888888,
             "#fdca26"
            ],
            [
             1,
             "#f0f921"
            ]
           ]
          },
          "colorway": [
           "#636efa",
           "#EF553B",
           "#00cc96",
           "#ab63fa",
           "#FFA15A",
           "#19d3f3",
           "#FF6692",
           "#B6E880",
           "#FF97FF",
           "#FECB52"
          ],
          "font": {
           "color": "#2a3f5f"
          },
          "geo": {
           "bgcolor": "white",
           "lakecolor": "white",
           "landcolor": "#E5ECF6",
           "showlakes": true,
           "showland": true,
           "subunitcolor": "white"
          },
          "hoverlabel": {
           "align": "left"
          },
          "hovermode": "closest",
          "mapbox": {
           "style": "light"
          },
          "paper_bgcolor": "white",
          "plot_bgcolor": "#E5ECF6",
          "polar": {
           "angularaxis": {
            "gridcolor": "white",
            "linecolor": "white",
            "ticks": ""
           },
           "bgcolor": "#E5ECF6",
           "radialaxis": {
            "gridcolor": "white",
            "linecolor": "white",
            "ticks": ""
           }
          },
          "scene": {
           "xaxis": {
            "backgroundcolor": "#E5ECF6",
            "gridcolor": "white",
            "gridwidth": 2,
            "linecolor": "white",
            "showbackground": true,
            "ticks": "",
            "zerolinecolor": "white"
           },
           "yaxis": {
            "backgroundcolor": "#E5ECF6",
            "gridcolor": "white",
            "gridwidth": 2,
            "linecolor": "white",
            "showbackground": true,
            "ticks": "",
            "zerolinecolor": "white"
           },
           "zaxis": {
            "backgroundcolor": "#E5ECF6",
            "gridcolor": "white",
            "gridwidth": 2,
            "linecolor": "white",
            "showbackground": true,
            "ticks": "",
            "zerolinecolor": "white"
           }
          },
          "shapedefaults": {
           "line": {
            "color": "#2a3f5f"
           }
          },
          "ternary": {
           "aaxis": {
            "gridcolor": "white",
            "linecolor": "white",
            "ticks": ""
           },
           "baxis": {
            "gridcolor": "white",
            "linecolor": "white",
            "ticks": ""
           },
           "bgcolor": "#E5ECF6",
           "caxis": {
            "gridcolor": "white",
            "linecolor": "white",
            "ticks": ""
           }
          },
          "title": {
           "x": 0.05
          },
          "xaxis": {
           "automargin": true,
           "gridcolor": "white",
           "linecolor": "white",
           "ticks": "",
           "title": {
            "standoff": 15
           },
           "zerolinecolor": "white",
           "zerolinewidth": 2
          },
          "yaxis": {
           "automargin": true,
           "gridcolor": "white",
           "linecolor": "white",
           "ticks": "",
           "title": {
            "standoff": 15
           },
           "zerolinecolor": "white",
           "zerolinewidth": 2
          }
         }
        },
        "title": {
         "text": "Top 10 Shops High Rated Restaurants in HSR"
        },
        "xaxis": {
         "anchor": "y",
         "domain": [
          0,
          1
         ],
         "title": {
          "text": "Cost for Two"
         }
        },
        "yaxis": {
         "anchor": "x",
         "autorange": "reversed",
         "domain": [
          0,
          1
         ],
         "title": {
          "text": "Shop Name"
         }
        }
       }
      }
     },
     "metadata": {},
     "output_type": "display_data"
    }
   ],
   "source": [
    "fig = px.bar(df_h_res, x=df_h_res['Cost_for_Two'][:10], y=df_h_res['Shop_Name'][:10], color=df_h_res['Rating'][:10],\n",
    "             color_continuous_scale='RdBu', text_auto='.2s', \n",
    "             title='Top 10 Shops High Rated Restaurants in HSR',\n",
    "             labels={'x' : 'Cost for Two' , 'y' : 'Shop Name' , 'color' : 'Rating'})\n",
    "\n",
    "fig.update_layout(yaxis=dict(autorange=\"reversed\"))\n",
    "\n",
    "fig.show()"
   ]
  },
  {
   "cell_type": "markdown",
   "id": "269db788",
   "metadata": {},
   "source": [
    "***Jayanagar***"
   ]
  },
  {
   "cell_type": "code",
   "execution_count": 50,
   "id": "1dc225e1",
   "metadata": {},
   "outputs": [],
   "source": [
    "## save dataFrame where Area is 'Jayanagar'.\n",
    "\n",
    "df_jayanagar = df[df['Area'] == 'Jayanagar']"
   ]
  },
  {
   "cell_type": "code",
   "execution_count": 51,
   "id": "7d2db812",
   "metadata": {},
   "outputs": [
    {
     "data": {
      "text/html": [
       "<div>\n",
       "<style scoped>\n",
       "    .dataframe tbody tr th:only-of-type {\n",
       "        vertical-align: middle;\n",
       "    }\n",
       "\n",
       "    .dataframe tbody tr th {\n",
       "        vertical-align: top;\n",
       "    }\n",
       "\n",
       "    .dataframe thead th {\n",
       "        text-align: right;\n",
       "    }\n",
       "</style>\n",
       "<table border=\"1\" class=\"dataframe\">\n",
       "  <thead>\n",
       "    <tr style=\"text-align: right;\">\n",
       "      <th></th>\n",
       "      <th>Shop_Name</th>\n",
       "      <th>Cuisine</th>\n",
       "      <th>Location</th>\n",
       "      <th>Rating</th>\n",
       "      <th>Cost_for_Two</th>\n",
       "      <th>Area</th>\n",
       "    </tr>\n",
       "  </thead>\n",
       "  <tbody>\n",
       "    <tr>\n",
       "      <th>74</th>\n",
       "      <td>CRAVY WINGS - The American Diner</td>\n",
       "      <td>American, Fast Food</td>\n",
       "      <td>Bannerghatta Road, Jayanagar</td>\n",
       "      <td>4.3</td>\n",
       "      <td>300</td>\n",
       "      <td>Jayanagar</td>\n",
       "    </tr>\n",
       "  </tbody>\n",
       "</table>\n",
       "</div>"
      ],
      "text/plain": [
       "                           Shop_Name              Cuisine  \\\n",
       "74  CRAVY WINGS - The American Diner  American, Fast Food   \n",
       "\n",
       "                        Location  Rating  Cost_for_Two       Area  \n",
       "74  Bannerghatta Road, Jayanagar     4.3           300  Jayanagar  "
      ]
     },
     "execution_count": 51,
     "metadata": {},
     "output_type": "execute_result"
    }
   ],
   "source": [
    "## print head() of jayanagar's dataset.\n",
    "\n",
    "df_jayanagar.head()"
   ]
  },
  {
   "cell_type": "code",
   "execution_count": 52,
   "id": "acbb2b94",
   "metadata": {},
   "outputs": [
    {
     "data": {
      "text/html": [
       "<div>\n",
       "<style scoped>\n",
       "    .dataframe tbody tr th:only-of-type {\n",
       "        vertical-align: middle;\n",
       "    }\n",
       "\n",
       "    .dataframe tbody tr th {\n",
       "        vertical-align: top;\n",
       "    }\n",
       "\n",
       "    .dataframe thead th {\n",
       "        text-align: right;\n",
       "    }\n",
       "</style>\n",
       "<table border=\"1\" class=\"dataframe\">\n",
       "  <thead>\n",
       "    <tr style=\"text-align: right;\">\n",
       "      <th></th>\n",
       "      <th>Rating</th>\n",
       "      <th>Cost_for_Two</th>\n",
       "    </tr>\n",
       "  </thead>\n",
       "  <tbody>\n",
       "    <tr>\n",
       "      <th>count</th>\n",
       "      <td>1.0</td>\n",
       "      <td>1.0</td>\n",
       "    </tr>\n",
       "    <tr>\n",
       "      <th>mean</th>\n",
       "      <td>4.3</td>\n",
       "      <td>300.0</td>\n",
       "    </tr>\n",
       "    <tr>\n",
       "      <th>std</th>\n",
       "      <td>NaN</td>\n",
       "      <td>NaN</td>\n",
       "    </tr>\n",
       "    <tr>\n",
       "      <th>min</th>\n",
       "      <td>4.3</td>\n",
       "      <td>300.0</td>\n",
       "    </tr>\n",
       "    <tr>\n",
       "      <th>25%</th>\n",
       "      <td>4.3</td>\n",
       "      <td>300.0</td>\n",
       "    </tr>\n",
       "    <tr>\n",
       "      <th>50%</th>\n",
       "      <td>4.3</td>\n",
       "      <td>300.0</td>\n",
       "    </tr>\n",
       "    <tr>\n",
       "      <th>75%</th>\n",
       "      <td>4.3</td>\n",
       "      <td>300.0</td>\n",
       "    </tr>\n",
       "    <tr>\n",
       "      <th>max</th>\n",
       "      <td>4.3</td>\n",
       "      <td>300.0</td>\n",
       "    </tr>\n",
       "  </tbody>\n",
       "</table>\n",
       "</div>"
      ],
      "text/plain": [
       "       Rating  Cost_for_Two\n",
       "count     1.0           1.0\n",
       "mean      4.3         300.0\n",
       "std       NaN           NaN\n",
       "min       4.3         300.0\n",
       "25%       4.3         300.0\n",
       "50%       4.3         300.0\n",
       "75%       4.3         300.0\n",
       "max       4.3         300.0"
      ]
     },
     "execution_count": 52,
     "metadata": {},
     "output_type": "execute_result"
    }
   ],
   "source": [
    "df_jayanagar.describe()"
   ]
  },
  {
   "cell_type": "markdown",
   "id": "32d0b970",
   "metadata": {},
   "source": [
    "- here, we have only one data which have rating **4.3** and cost **300**"
   ]
  },
  {
   "cell_type": "markdown",
   "id": "758cc077",
   "metadata": {},
   "source": [
    "### Restaurant Analysis\n",
    "#### Now, we check for highest Rated Restaurants."
   ]
  },
  {
   "cell_type": "code",
   "execution_count": 53,
   "id": "d2604aef",
   "metadata": {},
   "outputs": [
    {
     "data": {
      "text/html": [
       "<div>\n",
       "<style scoped>\n",
       "    .dataframe tbody tr th:only-of-type {\n",
       "        vertical-align: middle;\n",
       "    }\n",
       "\n",
       "    .dataframe tbody tr th {\n",
       "        vertical-align: top;\n",
       "    }\n",
       "\n",
       "    .dataframe thead th {\n",
       "        text-align: right;\n",
       "    }\n",
       "</style>\n",
       "<table border=\"1\" class=\"dataframe\">\n",
       "  <thead>\n",
       "    <tr style=\"text-align: right;\">\n",
       "      <th></th>\n",
       "      <th>Shop_Name</th>\n",
       "      <th>Cuisine</th>\n",
       "      <th>Location</th>\n",
       "      <th>Rating</th>\n",
       "      <th>Cost_for_Two</th>\n",
       "      <th>Area</th>\n",
       "    </tr>\n",
       "  </thead>\n",
       "  <tbody>\n",
       "    <tr>\n",
       "      <th>0</th>\n",
       "      <td>Kanti Sweets</td>\n",
       "      <td>Sweets</td>\n",
       "      <td>Koramangala, Koramangala</td>\n",
       "      <td>4.3</td>\n",
       "      <td>150</td>\n",
       "      <td>Koramangala</td>\n",
       "    </tr>\n",
       "    <tr>\n",
       "      <th>1</th>\n",
       "      <td>Mumbai Tiffin</td>\n",
       "      <td>North Indian, Home Food, Thalis, Combo</td>\n",
       "      <td>Sector 5, HSR</td>\n",
       "      <td>4.4</td>\n",
       "      <td>400</td>\n",
       "      <td>HSR</td>\n",
       "    </tr>\n",
       "    <tr>\n",
       "      <th>2</th>\n",
       "      <td>Sri Krishna sagar</td>\n",
       "      <td>South Indian, North Indian, Fast Food, Beverag...</td>\n",
       "      <td>6th Block, Koramangala</td>\n",
       "      <td>4.1</td>\n",
       "      <td>126</td>\n",
       "      <td>Koramangala</td>\n",
       "    </tr>\n",
       "    <tr>\n",
       "      <th>3</th>\n",
       "      <td>Al Daaz</td>\n",
       "      <td>American, Arabian, Chinese, Desserts, Fast Foo...</td>\n",
       "      <td>HSR, HSR</td>\n",
       "      <td>4.4</td>\n",
       "      <td>400</td>\n",
       "      <td>HSR</td>\n",
       "    </tr>\n",
       "    <tr>\n",
       "      <th>4</th>\n",
       "      <td>Beijing Bites</td>\n",
       "      <td>Chinese, Thai</td>\n",
       "      <td>5th Block, Koramangala</td>\n",
       "      <td>4.1</td>\n",
       "      <td>450</td>\n",
       "      <td>Koramangala</td>\n",
       "    </tr>\n",
       "    <tr>\n",
       "      <th>...</th>\n",
       "      <td>...</td>\n",
       "      <td>...</td>\n",
       "      <td>...</td>\n",
       "      <td>...</td>\n",
       "      <td>...</td>\n",
       "      <td>...</td>\n",
       "    </tr>\n",
       "    <tr>\n",
       "      <th>111</th>\n",
       "      <td>Bowl 99</td>\n",
       "      <td>North Indian, South Indian</td>\n",
       "      <td>kormangala, Koramangala</td>\n",
       "      <td>4.4</td>\n",
       "      <td>200</td>\n",
       "      <td>Koramangala</td>\n",
       "    </tr>\n",
       "    <tr>\n",
       "      <th>114</th>\n",
       "      <td>Savoury Restaurant</td>\n",
       "      <td>Arabian, Middle Eastern, North Indian, Grill, ...</td>\n",
       "      <td>Madiwala, BTM</td>\n",
       "      <td>4.1</td>\n",
       "      <td>600</td>\n",
       "      <td>BTM</td>\n",
       "    </tr>\n",
       "    <tr>\n",
       "      <th>115</th>\n",
       "      <td>Royal Treat</td>\n",
       "      <td>North Indian, Chinese, Seafood, Biryani</td>\n",
       "      <td>5th block Koramangala, Koramangala</td>\n",
       "      <td>4.2</td>\n",
       "      <td>193</td>\n",
       "      <td>Koramangala</td>\n",
       "    </tr>\n",
       "    <tr>\n",
       "      <th>116</th>\n",
       "      <td>Thali 99</td>\n",
       "      <td>North Indian</td>\n",
       "      <td>Koramangala, Koramangala</td>\n",
       "      <td>4.3</td>\n",
       "      <td>200</td>\n",
       "      <td>Koramangala</td>\n",
       "    </tr>\n",
       "    <tr>\n",
       "      <th>117</th>\n",
       "      <td>Mani's Dum Biryani</td>\n",
       "      <td>Andhra, Biryani</td>\n",
       "      <td>1st Block, Koramangala</td>\n",
       "      <td>4.2</td>\n",
       "      <td>400</td>\n",
       "      <td>Koramangala</td>\n",
       "    </tr>\n",
       "  </tbody>\n",
       "</table>\n",
       "<p>92 rows × 6 columns</p>\n",
       "</div>"
      ],
      "text/plain": [
       "              Shop_Name                                            Cuisine  \\\n",
       "0          Kanti Sweets                                             Sweets   \n",
       "1         Mumbai Tiffin             North Indian, Home Food, Thalis, Combo   \n",
       "2     Sri Krishna sagar  South Indian, North Indian, Fast Food, Beverag...   \n",
       "3               Al Daaz  American, Arabian, Chinese, Desserts, Fast Foo...   \n",
       "4         Beijing Bites                                      Chinese, Thai   \n",
       "..                  ...                                                ...   \n",
       "111             Bowl 99                         North Indian, South Indian   \n",
       "114  Savoury Restaurant  Arabian, Middle Eastern, North Indian, Grill, ...   \n",
       "115         Royal Treat            North Indian, Chinese, Seafood, Biryani   \n",
       "116            Thali 99                                       North Indian   \n",
       "117  Mani's Dum Biryani                                    Andhra, Biryani   \n",
       "\n",
       "                               Location  Rating  Cost_for_Two         Area  \n",
       "0              Koramangala, Koramangala     4.3           150  Koramangala  \n",
       "1                         Sector 5, HSR     4.4           400          HSR  \n",
       "2                6th Block, Koramangala     4.1           126  Koramangala  \n",
       "3                              HSR, HSR     4.4           400          HSR  \n",
       "4                5th Block, Koramangala     4.1           450  Koramangala  \n",
       "..                                  ...     ...           ...          ...  \n",
       "111             kormangala, Koramangala     4.4           200  Koramangala  \n",
       "114                       Madiwala, BTM     4.1           600          BTM  \n",
       "115  5th block Koramangala, Koramangala     4.2           193  Koramangala  \n",
       "116            Koramangala, Koramangala     4.3           200  Koramangala  \n",
       "117              1st Block, Koramangala     4.2           400  Koramangala  \n",
       "\n",
       "[92 rows x 6 columns]"
      ]
     },
     "execution_count": 53,
     "metadata": {},
     "output_type": "execute_result"
    }
   ],
   "source": [
    "high_rated_restaurants = df[df['Rating'] >= 4]\n",
    "high_rated_restaurants"
   ]
  },
  {
   "cell_type": "code",
   "execution_count": 54,
   "id": "94b8ee89",
   "metadata": {},
   "outputs": [
    {
     "data": {
      "text/html": [
       "<div>\n",
       "<style scoped>\n",
       "    .dataframe tbody tr th:only-of-type {\n",
       "        vertical-align: middle;\n",
       "    }\n",
       "\n",
       "    .dataframe tbody tr th {\n",
       "        vertical-align: top;\n",
       "    }\n",
       "\n",
       "    .dataframe thead th {\n",
       "        text-align: right;\n",
       "    }\n",
       "</style>\n",
       "<table border=\"1\" class=\"dataframe\">\n",
       "  <thead>\n",
       "    <tr style=\"text-align: right;\">\n",
       "      <th></th>\n",
       "      <th>Shop_Name</th>\n",
       "      <th>Rating</th>\n",
       "      <th>Cost_for_Two</th>\n",
       "    </tr>\n",
       "  </thead>\n",
       "  <tbody>\n",
       "    <tr>\n",
       "      <th>0</th>\n",
       "      <td>99 VARIETY DOSA AND JUICE-Malli mane food court</td>\n",
       "      <td>4.1</td>\n",
       "      <td>100.0</td>\n",
       "    </tr>\n",
       "    <tr>\n",
       "      <th>1</th>\n",
       "      <td>99 VARIETY DOSA AND PAV BHAJI- Malli Mane Food...</td>\n",
       "      <td>4.1</td>\n",
       "      <td>200.0</td>\n",
       "    </tr>\n",
       "    <tr>\n",
       "      <th>2</th>\n",
       "      <td>A2B - Adyar Ananda Bhavan</td>\n",
       "      <td>4.2</td>\n",
       "      <td>450.0</td>\n",
       "    </tr>\n",
       "    <tr>\n",
       "      <th>3</th>\n",
       "      <td>Abhiruchi Hotel</td>\n",
       "      <td>4.0</td>\n",
       "      <td>250.0</td>\n",
       "    </tr>\n",
       "    <tr>\n",
       "      <th>4</th>\n",
       "      <td>Al Daaz</td>\n",
       "      <td>4.4</td>\n",
       "      <td>400.0</td>\n",
       "    </tr>\n",
       "    <tr>\n",
       "      <th>...</th>\n",
       "      <td>...</td>\n",
       "      <td>...</td>\n",
       "      <td>...</td>\n",
       "    </tr>\n",
       "    <tr>\n",
       "      <th>86</th>\n",
       "      <td>Venu's Donne Biryani</td>\n",
       "      <td>4.3</td>\n",
       "      <td>300.0</td>\n",
       "    </tr>\n",
       "    <tr>\n",
       "      <th>87</th>\n",
       "      <td>WarmOven Cake &amp; Desserts</td>\n",
       "      <td>4.1</td>\n",
       "      <td>200.0</td>\n",
       "    </tr>\n",
       "    <tr>\n",
       "      <th>88</th>\n",
       "      <td>World of asia</td>\n",
       "      <td>4.0</td>\n",
       "      <td>250.0</td>\n",
       "    </tr>\n",
       "    <tr>\n",
       "      <th>89</th>\n",
       "      <td>XO Belgian Waffle</td>\n",
       "      <td>4.3</td>\n",
       "      <td>250.0</td>\n",
       "    </tr>\n",
       "    <tr>\n",
       "      <th>90</th>\n",
       "      <td>calicut cafe restaurant</td>\n",
       "      <td>4.1</td>\n",
       "      <td>280.0</td>\n",
       "    </tr>\n",
       "  </tbody>\n",
       "</table>\n",
       "<p>91 rows × 3 columns</p>\n",
       "</div>"
      ],
      "text/plain": [
       "                                            Shop_Name  Rating  Cost_for_Two\n",
       "0     99 VARIETY DOSA AND JUICE-Malli mane food court     4.1         100.0\n",
       "1   99 VARIETY DOSA AND PAV BHAJI- Malli Mane Food...     4.1         200.0\n",
       "2                           A2B - Adyar Ananda Bhavan     4.2         450.0\n",
       "3                                     Abhiruchi Hotel     4.0         250.0\n",
       "4                                             Al Daaz     4.4         400.0\n",
       "..                                                ...     ...           ...\n",
       "86                               Venu's Donne Biryani     4.3         300.0\n",
       "87                           WarmOven Cake & Desserts     4.1         200.0\n",
       "88                                      World of asia     4.0         250.0\n",
       "89                                  XO Belgian Waffle     4.3         250.0\n",
       "90                            calicut cafe restaurant     4.1         280.0\n",
       "\n",
       "[91 rows x 3 columns]"
      ]
     },
     "execution_count": 54,
     "metadata": {},
     "output_type": "execute_result"
    }
   ],
   "source": [
    "high_rated_restaurants = high_rated_restaurants.groupby(['Shop_Name','Rating']).mean().reset_index()\n",
    "high_rated_restaurants"
   ]
  },
  {
   "cell_type": "code",
   "execution_count": 55,
   "id": "92708b3b",
   "metadata": {},
   "outputs": [
    {
     "data": {
      "application/vnd.plotly.v1+json": {
       "config": {
        "plotlyServerURL": "https://plot.ly"
       },
       "data": [
        {
         "hovertemplate": "Cost_for_Two=%{marker.size}<br>Rating=%{marker.color}<extra></extra>",
         "legendgroup": "",
         "marker": {
          "color": [
           4.1,
           4.1,
           4.2,
           4,
           4.4,
           4.1,
           4.2,
           4.1,
           4.1,
           4.1,
           4.1,
           4.2,
           4.1,
           4.1,
           4.3,
           4,
           4.1,
           4.4,
           4.3,
           4,
           4.3,
           4.4,
           4.5,
           4.6,
           4.3,
           4.1,
           4.1,
           4,
           4.1,
           4,
           4.2,
           4.2,
           4,
           4.1,
           4,
           4.1,
           4,
           4,
           4,
           4.3,
           4,
           4,
           4.3,
           4.3,
           4.3,
           4.8,
           4.1,
           4.2,
           4.3,
           4,
           4.1,
           4,
           4.2,
           4.3,
           4.3,
           4.4,
           4.2,
           4.3,
           4,
           4,
           4.6,
           4,
           4.3,
           4.3,
           4,
           4.1,
           4,
           4,
           4.3,
           4.1,
           4.1,
           4.2,
           4.3,
           4.1,
           4.1,
           4.1,
           4.1,
           4.1,
           4.1,
           4.1,
           4.1,
           4.3,
           4.2,
           4.3,
           4.3,
           4.3,
           4.3,
           4.1,
           4,
           4.3,
           4.1
          ],
          "coloraxis": "coloraxis",
          "size": [
           100,
           200,
           450,
           250,
           400,
           500,
           300,
           500,
           300,
           250,
           450,
           300,
           350,
           600,
           400,
           500,
           399,
           200,
           300,
           247,
           450,
           527,
           450,
           250,
           250,
           132,
           650,
           300,
           130,
           150,
           300,
           220,
           500,
           350,
           400,
           350,
           153,
           350,
           550,
           300,
           250,
           250,
           400,
           150,
           178,
           200,
           350,
           350,
           300,
           129,
           500,
           150,
           400,
           550,
           450,
           400,
           120,
           600,
           400,
           500,
           150,
           350,
           150,
           268,
           300,
           257,
           600,
           800,
           400,
           250,
           300,
           193,
           200,
           600,
           200,
           150,
           350,
           126,
           200,
           250,
           250,
           600,
           100,
           200,
           350,
           450,
           300,
           200,
           250,
           250,
           280
          ],
          "sizemode": "area",
          "sizeref": 0.8888888888888888,
          "symbol": "circle"
         },
         "mode": "markers",
         "name": "",
         "orientation": "v",
         "showlegend": false,
         "type": "scatter",
         "x": [
          100,
          200,
          450,
          250,
          400,
          500,
          300,
          500,
          300,
          250,
          450,
          300,
          350,
          600,
          400,
          500,
          399,
          200,
          300,
          247,
          450,
          527,
          450,
          250,
          250,
          132,
          650,
          300,
          130,
          150,
          300,
          220,
          500,
          350,
          400,
          350,
          153,
          350,
          550,
          300,
          250,
          250,
          400,
          150,
          178,
          200,
          350,
          350,
          300,
          129,
          500,
          150,
          400,
          550,
          450,
          400,
          120,
          600,
          400,
          500,
          150,
          350,
          150,
          268,
          300,
          257,
          600,
          800,
          400,
          250,
          300,
          193,
          200,
          600,
          200,
          150,
          350,
          126,
          200,
          250,
          250,
          600,
          100,
          200,
          350,
          450,
          300,
          200,
          250,
          250,
          280
         ],
         "xaxis": "x",
         "y": [
          4.1,
          4.1,
          4.2,
          4,
          4.4,
          4.1,
          4.2,
          4.1,
          4.1,
          4.1,
          4.1,
          4.2,
          4.1,
          4.1,
          4.3,
          4,
          4.1,
          4.4,
          4.3,
          4,
          4.3,
          4.4,
          4.5,
          4.6,
          4.3,
          4.1,
          4.1,
          4,
          4.1,
          4,
          4.2,
          4.2,
          4,
          4.1,
          4,
          4.1,
          4,
          4,
          4,
          4.3,
          4,
          4,
          4.3,
          4.3,
          4.3,
          4.8,
          4.1,
          4.2,
          4.3,
          4,
          4.1,
          4,
          4.2,
          4.3,
          4.3,
          4.4,
          4.2,
          4.3,
          4,
          4,
          4.6,
          4,
          4.3,
          4.3,
          4,
          4.1,
          4,
          4,
          4.3,
          4.1,
          4.1,
          4.2,
          4.3,
          4.1,
          4.1,
          4.1,
          4.1,
          4.1,
          4.1,
          4.1,
          4.1,
          4.3,
          4.2,
          4.3,
          4.3,
          4.3,
          4.3,
          4.1,
          4,
          4.3,
          4.1
         ],
         "yaxis": "y"
        }
       ],
       "layout": {
        "coloraxis": {
         "colorbar": {
          "title": {
           "text": "Rating"
          }
         },
         "colorscale": [
          [
           0,
           "#0d0887"
          ],
          [
           0.1111111111111111,
           "#46039f"
          ],
          [
           0.2222222222222222,
           "#7201a8"
          ],
          [
           0.3333333333333333,
           "#9c179e"
          ],
          [
           0.4444444444444444,
           "#bd3786"
          ],
          [
           0.5555555555555556,
           "#d8576b"
          ],
          [
           0.6666666666666666,
           "#ed7953"
          ],
          [
           0.7777777777777778,
           "#fb9f3a"
          ],
          [
           0.8888888888888888,
           "#fdca26"
          ],
          [
           1,
           "#f0f921"
          ]
         ]
        },
        "legend": {
         "itemsizing": "constant",
         "tracegroupgap": 0
        },
        "template": {
         "data": {
          "bar": [
           {
            "error_x": {
             "color": "#2a3f5f"
            },
            "error_y": {
             "color": "#2a3f5f"
            },
            "marker": {
             "line": {
              "color": "#E5ECF6",
              "width": 0.5
             },
             "pattern": {
              "fillmode": "overlay",
              "size": 10,
              "solidity": 0.2
             }
            },
            "type": "bar"
           }
          ],
          "barpolar": [
           {
            "marker": {
             "line": {
              "color": "#E5ECF6",
              "width": 0.5
             },
             "pattern": {
              "fillmode": "overlay",
              "size": 10,
              "solidity": 0.2
             }
            },
            "type": "barpolar"
           }
          ],
          "carpet": [
           {
            "aaxis": {
             "endlinecolor": "#2a3f5f",
             "gridcolor": "white",
             "linecolor": "white",
             "minorgridcolor": "white",
             "startlinecolor": "#2a3f5f"
            },
            "baxis": {
             "endlinecolor": "#2a3f5f",
             "gridcolor": "white",
             "linecolor": "white",
             "minorgridcolor": "white",
             "startlinecolor": "#2a3f5f"
            },
            "type": "carpet"
           }
          ],
          "choropleth": [
           {
            "colorbar": {
             "outlinewidth": 0,
             "ticks": ""
            },
            "type": "choropleth"
           }
          ],
          "contour": [
           {
            "colorbar": {
             "outlinewidth": 0,
             "ticks": ""
            },
            "colorscale": [
             [
              0,
              "#0d0887"
             ],
             [
              0.1111111111111111,
              "#46039f"
             ],
             [
              0.2222222222222222,
              "#7201a8"
             ],
             [
              0.3333333333333333,
              "#9c179e"
             ],
             [
              0.4444444444444444,
              "#bd3786"
             ],
             [
              0.5555555555555556,
              "#d8576b"
             ],
             [
              0.6666666666666666,
              "#ed7953"
             ],
             [
              0.7777777777777778,
              "#fb9f3a"
             ],
             [
              0.8888888888888888,
              "#fdca26"
             ],
             [
              1,
              "#f0f921"
             ]
            ],
            "type": "contour"
           }
          ],
          "contourcarpet": [
           {
            "colorbar": {
             "outlinewidth": 0,
             "ticks": ""
            },
            "type": "contourcarpet"
           }
          ],
          "heatmap": [
           {
            "colorbar": {
             "outlinewidth": 0,
             "ticks": ""
            },
            "colorscale": [
             [
              0,
              "#0d0887"
             ],
             [
              0.1111111111111111,
              "#46039f"
             ],
             [
              0.2222222222222222,
              "#7201a8"
             ],
             [
              0.3333333333333333,
              "#9c179e"
             ],
             [
              0.4444444444444444,
              "#bd3786"
             ],
             [
              0.5555555555555556,
              "#d8576b"
             ],
             [
              0.6666666666666666,
              "#ed7953"
             ],
             [
              0.7777777777777778,
              "#fb9f3a"
             ],
             [
              0.8888888888888888,
              "#fdca26"
             ],
             [
              1,
              "#f0f921"
             ]
            ],
            "type": "heatmap"
           }
          ],
          "heatmapgl": [
           {
            "colorbar": {
             "outlinewidth": 0,
             "ticks": ""
            },
            "colorscale": [
             [
              0,
              "#0d0887"
             ],
             [
              0.1111111111111111,
              "#46039f"
             ],
             [
              0.2222222222222222,
              "#7201a8"
             ],
             [
              0.3333333333333333,
              "#9c179e"
             ],
             [
              0.4444444444444444,
              "#bd3786"
             ],
             [
              0.5555555555555556,
              "#d8576b"
             ],
             [
              0.6666666666666666,
              "#ed7953"
             ],
             [
              0.7777777777777778,
              "#fb9f3a"
             ],
             [
              0.8888888888888888,
              "#fdca26"
             ],
             [
              1,
              "#f0f921"
             ]
            ],
            "type": "heatmapgl"
           }
          ],
          "histogram": [
           {
            "marker": {
             "pattern": {
              "fillmode": "overlay",
              "size": 10,
              "solidity": 0.2
             }
            },
            "type": "histogram"
           }
          ],
          "histogram2d": [
           {
            "colorbar": {
             "outlinewidth": 0,
             "ticks": ""
            },
            "colorscale": [
             [
              0,
              "#0d0887"
             ],
             [
              0.1111111111111111,
              "#46039f"
             ],
             [
              0.2222222222222222,
              "#7201a8"
             ],
             [
              0.3333333333333333,
              "#9c179e"
             ],
             [
              0.4444444444444444,
              "#bd3786"
             ],
             [
              0.5555555555555556,
              "#d8576b"
             ],
             [
              0.6666666666666666,
              "#ed7953"
             ],
             [
              0.7777777777777778,
              "#fb9f3a"
             ],
             [
              0.8888888888888888,
              "#fdca26"
             ],
             [
              1,
              "#f0f921"
             ]
            ],
            "type": "histogram2d"
           }
          ],
          "histogram2dcontour": [
           {
            "colorbar": {
             "outlinewidth": 0,
             "ticks": ""
            },
            "colorscale": [
             [
              0,
              "#0d0887"
             ],
             [
              0.1111111111111111,
              "#46039f"
             ],
             [
              0.2222222222222222,
              "#7201a8"
             ],
             [
              0.3333333333333333,
              "#9c179e"
             ],
             [
              0.4444444444444444,
              "#bd3786"
             ],
             [
              0.5555555555555556,
              "#d8576b"
             ],
             [
              0.6666666666666666,
              "#ed7953"
             ],
             [
              0.7777777777777778,
              "#fb9f3a"
             ],
             [
              0.8888888888888888,
              "#fdca26"
             ],
             [
              1,
              "#f0f921"
             ]
            ],
            "type": "histogram2dcontour"
           }
          ],
          "mesh3d": [
           {
            "colorbar": {
             "outlinewidth": 0,
             "ticks": ""
            },
            "type": "mesh3d"
           }
          ],
          "parcoords": [
           {
            "line": {
             "colorbar": {
              "outlinewidth": 0,
              "ticks": ""
             }
            },
            "type": "parcoords"
           }
          ],
          "pie": [
           {
            "automargin": true,
            "type": "pie"
           }
          ],
          "scatter": [
           {
            "fillpattern": {
             "fillmode": "overlay",
             "size": 10,
             "solidity": 0.2
            },
            "type": "scatter"
           }
          ],
          "scatter3d": [
           {
            "line": {
             "colorbar": {
              "outlinewidth": 0,
              "ticks": ""
             }
            },
            "marker": {
             "colorbar": {
              "outlinewidth": 0,
              "ticks": ""
             }
            },
            "type": "scatter3d"
           }
          ],
          "scattercarpet": [
           {
            "marker": {
             "colorbar": {
              "outlinewidth": 0,
              "ticks": ""
             }
            },
            "type": "scattercarpet"
           }
          ],
          "scattergeo": [
           {
            "marker": {
             "colorbar": {
              "outlinewidth": 0,
              "ticks": ""
             }
            },
            "type": "scattergeo"
           }
          ],
          "scattergl": [
           {
            "marker": {
             "colorbar": {
              "outlinewidth": 0,
              "ticks": ""
             }
            },
            "type": "scattergl"
           }
          ],
          "scattermapbox": [
           {
            "marker": {
             "colorbar": {
              "outlinewidth": 0,
              "ticks": ""
             }
            },
            "type": "scattermapbox"
           }
          ],
          "scatterpolar": [
           {
            "marker": {
             "colorbar": {
              "outlinewidth": 0,
              "ticks": ""
             }
            },
            "type": "scatterpolar"
           }
          ],
          "scatterpolargl": [
           {
            "marker": {
             "colorbar": {
              "outlinewidth": 0,
              "ticks": ""
             }
            },
            "type": "scatterpolargl"
           }
          ],
          "scatterternary": [
           {
            "marker": {
             "colorbar": {
              "outlinewidth": 0,
              "ticks": ""
             }
            },
            "type": "scatterternary"
           }
          ],
          "surface": [
           {
            "colorbar": {
             "outlinewidth": 0,
             "ticks": ""
            },
            "colorscale": [
             [
              0,
              "#0d0887"
             ],
             [
              0.1111111111111111,
              "#46039f"
             ],
             [
              0.2222222222222222,
              "#7201a8"
             ],
             [
              0.3333333333333333,
              "#9c179e"
             ],
             [
              0.4444444444444444,
              "#bd3786"
             ],
             [
              0.5555555555555556,
              "#d8576b"
             ],
             [
              0.6666666666666666,
              "#ed7953"
             ],
             [
              0.7777777777777778,
              "#fb9f3a"
             ],
             [
              0.8888888888888888,
              "#fdca26"
             ],
             [
              1,
              "#f0f921"
             ]
            ],
            "type": "surface"
           }
          ],
          "table": [
           {
            "cells": {
             "fill": {
              "color": "#EBF0F8"
             },
             "line": {
              "color": "white"
             }
            },
            "header": {
             "fill": {
              "color": "#C8D4E3"
             },
             "line": {
              "color": "white"
             }
            },
            "type": "table"
           }
          ]
         },
         "layout": {
          "annotationdefaults": {
           "arrowcolor": "#2a3f5f",
           "arrowhead": 0,
           "arrowwidth": 1
          },
          "autotypenumbers": "strict",
          "coloraxis": {
           "colorbar": {
            "outlinewidth": 0,
            "ticks": ""
           }
          },
          "colorscale": {
           "diverging": [
            [
             0,
             "#8e0152"
            ],
            [
             0.1,
             "#c51b7d"
            ],
            [
             0.2,
             "#de77ae"
            ],
            [
             0.3,
             "#f1b6da"
            ],
            [
             0.4,
             "#fde0ef"
            ],
            [
             0.5,
             "#f7f7f7"
            ],
            [
             0.6,
             "#e6f5d0"
            ],
            [
             0.7,
             "#b8e186"
            ],
            [
             0.8,
             "#7fbc41"
            ],
            [
             0.9,
             "#4d9221"
            ],
            [
             1,
             "#276419"
            ]
           ],
           "sequential": [
            [
             0,
             "#0d0887"
            ],
            [
             0.1111111111111111,
             "#46039f"
            ],
            [
             0.2222222222222222,
             "#7201a8"
            ],
            [
             0.3333333333333333,
             "#9c179e"
            ],
            [
             0.4444444444444444,
             "#bd3786"
            ],
            [
             0.5555555555555556,
             "#d8576b"
            ],
            [
             0.6666666666666666,
             "#ed7953"
            ],
            [
             0.7777777777777778,
             "#fb9f3a"
            ],
            [
             0.8888888888888888,
             "#fdca26"
            ],
            [
             1,
             "#f0f921"
            ]
           ],
           "sequentialminus": [
            [
             0,
             "#0d0887"
            ],
            [
             0.1111111111111111,
             "#46039f"
            ],
            [
             0.2222222222222222,
             "#7201a8"
            ],
            [
             0.3333333333333333,
             "#9c179e"
            ],
            [
             0.4444444444444444,
             "#bd3786"
            ],
            [
             0.5555555555555556,
             "#d8576b"
            ],
            [
             0.6666666666666666,
             "#ed7953"
            ],
            [
             0.7777777777777778,
             "#fb9f3a"
            ],
            [
             0.8888888888888888,
             "#fdca26"
            ],
            [
             1,
             "#f0f921"
            ]
           ]
          },
          "colorway": [
           "#636efa",
           "#EF553B",
           "#00cc96",
           "#ab63fa",
           "#FFA15A",
           "#19d3f3",
           "#FF6692",
           "#B6E880",
           "#FF97FF",
           "#FECB52"
          ],
          "font": {
           "color": "#2a3f5f"
          },
          "geo": {
           "bgcolor": "white",
           "lakecolor": "white",
           "landcolor": "#E5ECF6",
           "showlakes": true,
           "showland": true,
           "subunitcolor": "white"
          },
          "hoverlabel": {
           "align": "left"
          },
          "hovermode": "closest",
          "mapbox": {
           "style": "light"
          },
          "paper_bgcolor": "white",
          "plot_bgcolor": "#E5ECF6",
          "polar": {
           "angularaxis": {
            "gridcolor": "white",
            "linecolor": "white",
            "ticks": ""
           },
           "bgcolor": "#E5ECF6",
           "radialaxis": {
            "gridcolor": "white",
            "linecolor": "white",
            "ticks": ""
           }
          },
          "scene": {
           "xaxis": {
            "backgroundcolor": "#E5ECF6",
            "gridcolor": "white",
            "gridwidth": 2,
            "linecolor": "white",
            "showbackground": true,
            "ticks": "",
            "zerolinecolor": "white"
           },
           "yaxis": {
            "backgroundcolor": "#E5ECF6",
            "gridcolor": "white",
            "gridwidth": 2,
            "linecolor": "white",
            "showbackground": true,
            "ticks": "",
            "zerolinecolor": "white"
           },
           "zaxis": {
            "backgroundcolor": "#E5ECF6",
            "gridcolor": "white",
            "gridwidth": 2,
            "linecolor": "white",
            "showbackground": true,
            "ticks": "",
            "zerolinecolor": "white"
           }
          },
          "shapedefaults": {
           "line": {
            "color": "#2a3f5f"
           }
          },
          "ternary": {
           "aaxis": {
            "gridcolor": "white",
            "linecolor": "white",
            "ticks": ""
           },
           "baxis": {
            "gridcolor": "white",
            "linecolor": "white",
            "ticks": ""
           },
           "bgcolor": "#E5ECF6",
           "caxis": {
            "gridcolor": "white",
            "linecolor": "white",
            "ticks": ""
           }
          },
          "title": {
           "x": 0.05
          },
          "xaxis": {
           "automargin": true,
           "gridcolor": "white",
           "linecolor": "white",
           "ticks": "",
           "title": {
            "standoff": 15
           },
           "zerolinecolor": "white",
           "zerolinewidth": 2
          },
          "yaxis": {
           "automargin": true,
           "gridcolor": "white",
           "linecolor": "white",
           "ticks": "",
           "title": {
            "standoff": 15
           },
           "zerolinecolor": "white",
           "zerolinewidth": 2
          }
         }
        },
        "title": {
         "text": "Highest Rated Restaurants vs Cost"
        },
        "xaxis": {
         "anchor": "y",
         "domain": [
          0,
          1
         ],
         "title": {
          "text": "Cost_for_Two"
         }
        },
        "yaxis": {
         "anchor": "x",
         "domain": [
          0,
          1
         ],
         "title": {
          "text": "Rating"
         }
        }
       }
      }
     },
     "metadata": {},
     "output_type": "display_data"
    }
   ],
   "source": [
    "fig = px.scatter(high_rated_restaurants, x='Cost_for_Two', y='Rating',\n",
    "                 size='Cost_for_Two', color='Rating',size_max=30 ,\n",
    "                 title='Highest Rated Restaurants vs Cost')\n",
    "fig.show()"
   ]
  },
  {
   "cell_type": "markdown",
   "id": "b84de86a",
   "metadata": {},
   "source": [
    "- here, we can analyst that most of the good rated restaurants have budget friendly or affordable cost for two people in bangalore.\n",
    "\n",
    "     - For the cost of ₹**200** to ₹**600** there are many restaurants with rating of **4.2** to **4.8**.\n",
    "     \n",
    "\n",
    "- There is highest costed at ₹**800** restaurant with rating of just **4**, which is very low as compared to others.\n",
    "     - Whereas, there is one rastaurant with highest rating of **4.8** with very lower cost of just ₹**200**."
   ]
  },
  {
   "cell_type": "markdown",
   "id": "0d0474dc",
   "metadata": {},
   "source": [
    "#### Let's Visualized Friendly Budget/Affordable Restaurants"
   ]
  },
  {
   "cell_type": "code",
   "execution_count": 56,
   "id": "2729efbb",
   "metadata": {},
   "outputs": [
    {
     "data": {
      "text/html": [
       "<div>\n",
       "<style scoped>\n",
       "    .dataframe tbody tr th:only-of-type {\n",
       "        vertical-align: middle;\n",
       "    }\n",
       "\n",
       "    .dataframe tbody tr th {\n",
       "        vertical-align: top;\n",
       "    }\n",
       "\n",
       "    .dataframe thead th {\n",
       "        text-align: right;\n",
       "    }\n",
       "</style>\n",
       "<table border=\"1\" class=\"dataframe\">\n",
       "  <thead>\n",
       "    <tr style=\"text-align: right;\">\n",
       "      <th></th>\n",
       "      <th>Shop_Name</th>\n",
       "      <th>Cuisine</th>\n",
       "      <th>Location</th>\n",
       "      <th>Rating</th>\n",
       "      <th>Cost_for_Two</th>\n",
       "      <th>Area</th>\n",
       "    </tr>\n",
       "  </thead>\n",
       "  <tbody>\n",
       "    <tr>\n",
       "      <th>29</th>\n",
       "      <td>Nandhana Palace</td>\n",
       "      <td>Biryani, Seafood, North Indian, Chinese, Desse...</td>\n",
       "      <td>Koramangala, Koramangala</td>\n",
       "      <td>4.0</td>\n",
       "      <td>500</td>\n",
       "      <td>Koramangala</td>\n",
       "    </tr>\n",
       "    <tr>\n",
       "      <th>110</th>\n",
       "      <td>Biryani Pot</td>\n",
       "      <td>North Indian, Biryani</td>\n",
       "      <td>Madiwala Junction, BTM</td>\n",
       "      <td>4.0</td>\n",
       "      <td>500</td>\n",
       "      <td>BTM</td>\n",
       "    </tr>\n",
       "    <tr>\n",
       "      <th>93</th>\n",
       "      <td>Madeena Hotel</td>\n",
       "      <td>Desserts, Mughlai, Seafood</td>\n",
       "      <td>5th Block Kormangala, Koramangala</td>\n",
       "      <td>4.1</td>\n",
       "      <td>500</td>\n",
       "      <td>Koramangala</td>\n",
       "    </tr>\n",
       "    <tr>\n",
       "      <th>92</th>\n",
       "      <td>BIRYANI CRAFTS</td>\n",
       "      <td>Indian</td>\n",
       "      <td>BTM, BTM</td>\n",
       "      <td>4.1</td>\n",
       "      <td>500</td>\n",
       "      <td>BTM</td>\n",
       "    </tr>\n",
       "    <tr>\n",
       "      <th>86</th>\n",
       "      <td>Gyaani Da Punjabi Dhaba</td>\n",
       "      <td>North Indian</td>\n",
       "      <td>2nd Stage, BTM</td>\n",
       "      <td>4.0</td>\n",
       "      <td>500</td>\n",
       "      <td>BTM</td>\n",
       "    </tr>\n",
       "    <tr>\n",
       "      <th>...</th>\n",
       "      <td>...</td>\n",
       "      <td>...</td>\n",
       "      <td>...</td>\n",
       "      <td>...</td>\n",
       "      <td>...</td>\n",
       "      <td>...</td>\n",
       "    </tr>\n",
       "    <tr>\n",
       "      <th>21</th>\n",
       "      <td>Maa Di Hatti</td>\n",
       "      <td>Chinese, Healthy Food, North Indian</td>\n",
       "      <td>Jakkasandra Extn, Koramangala</td>\n",
       "      <td>4.0</td>\n",
       "      <td>129</td>\n",
       "      <td>Koramangala</td>\n",
       "    </tr>\n",
       "    <tr>\n",
       "      <th>2</th>\n",
       "      <td>Sri Krishna sagar</td>\n",
       "      <td>South Indian, North Indian, Fast Food, Beverag...</td>\n",
       "      <td>6th Block, Koramangala</td>\n",
       "      <td>4.1</td>\n",
       "      <td>126</td>\n",
       "      <td>Koramangala</td>\n",
       "    </tr>\n",
       "    <tr>\n",
       "      <th>95</th>\n",
       "      <td>NIC Natural Ice Creams</td>\n",
       "      <td>Ice Cream, Desserts</td>\n",
       "      <td>Koramangla, Koramangala</td>\n",
       "      <td>4.2</td>\n",
       "      <td>120</td>\n",
       "      <td>Koramangala</td>\n",
       "    </tr>\n",
       "    <tr>\n",
       "      <th>89</th>\n",
       "      <td>99 VARIETY DOSA AND JUICE-Malli mane food court</td>\n",
       "      <td>Fast Food, Juices, North Indian</td>\n",
       "      <td>Koramangala 1st block, Koramangala</td>\n",
       "      <td>4.1</td>\n",
       "      <td>100</td>\n",
       "      <td>Koramangala</td>\n",
       "    </tr>\n",
       "    <tr>\n",
       "      <th>79</th>\n",
       "      <td>Tandoori Merchant</td>\n",
       "      <td>Andhra, Biryani, Chinese, Desserts, Fast Food,...</td>\n",
       "      <td>4th Cross, BTM</td>\n",
       "      <td>4.2</td>\n",
       "      <td>100</td>\n",
       "      <td>BTM</td>\n",
       "    </tr>\n",
       "  </tbody>\n",
       "</table>\n",
       "<p>82 rows × 6 columns</p>\n",
       "</div>"
      ],
      "text/plain": [
       "                                           Shop_Name  \\\n",
       "29                                   Nandhana Palace   \n",
       "110                                      Biryani Pot   \n",
       "93                                     Madeena Hotel   \n",
       "92                                    BIRYANI CRAFTS   \n",
       "86                           Gyaani Da Punjabi Dhaba   \n",
       "..                                               ...   \n",
       "21                                      Maa Di Hatti   \n",
       "2                                  Sri Krishna sagar   \n",
       "95                            NIC Natural Ice Creams   \n",
       "89   99 VARIETY DOSA AND JUICE-Malli mane food court   \n",
       "79                                 Tandoori Merchant   \n",
       "\n",
       "                                               Cuisine  \\\n",
       "29   Biryani, Seafood, North Indian, Chinese, Desse...   \n",
       "110                              North Indian, Biryani   \n",
       "93                          Desserts, Mughlai, Seafood   \n",
       "92                                              Indian   \n",
       "86                                        North Indian   \n",
       "..                                                 ...   \n",
       "21                 Chinese, Healthy Food, North Indian   \n",
       "2    South Indian, North Indian, Fast Food, Beverag...   \n",
       "95                                 Ice Cream, Desserts   \n",
       "89                     Fast Food, Juices, North Indian   \n",
       "79   Andhra, Biryani, Chinese, Desserts, Fast Food,...   \n",
       "\n",
       "                               Location  Rating  Cost_for_Two         Area  \n",
       "29             Koramangala, Koramangala     4.0           500  Koramangala  \n",
       "110              Madiwala Junction, BTM     4.0           500          BTM  \n",
       "93    5th Block Kormangala, Koramangala     4.1           500  Koramangala  \n",
       "92                             BTM, BTM     4.1           500          BTM  \n",
       "86                       2nd Stage, BTM     4.0           500          BTM  \n",
       "..                                  ...     ...           ...          ...  \n",
       "21        Jakkasandra Extn, Koramangala     4.0           129  Koramangala  \n",
       "2                6th Block, Koramangala     4.1           126  Koramangala  \n",
       "95              Koramangla, Koramangala     4.2           120  Koramangala  \n",
       "89   Koramangala 1st block, Koramangala     4.1           100  Koramangala  \n",
       "79                       4th Cross, BTM     4.2           100          BTM  \n",
       "\n",
       "[82 rows x 6 columns]"
      ]
     },
     "execution_count": 56,
     "metadata": {},
     "output_type": "execute_result"
    }
   ],
   "source": [
    "## create dataFrame with Rating>=4 and Cost_for_two<=500\n",
    "\n",
    "Affordable_res = df[(df['Rating'] >= 4) & (df['Cost_for_Two'] <= 500)].sort_values(['Cost_for_Two'],ascending=False)\n",
    "\n",
    "Affordable_res"
   ]
  },
  {
   "cell_type": "code",
   "execution_count": 57,
   "id": "e38eb6c9",
   "metadata": {},
   "outputs": [
    {
     "data": {
      "text/html": [
       "<div>\n",
       "<style scoped>\n",
       "    .dataframe tbody tr th:only-of-type {\n",
       "        vertical-align: middle;\n",
       "    }\n",
       "\n",
       "    .dataframe tbody tr th {\n",
       "        vertical-align: top;\n",
       "    }\n",
       "\n",
       "    .dataframe thead th {\n",
       "        text-align: right;\n",
       "    }\n",
       "</style>\n",
       "<table border=\"1\" class=\"dataframe\">\n",
       "  <thead>\n",
       "    <tr style=\"text-align: right;\">\n",
       "      <th></th>\n",
       "      <th>Shop_Name</th>\n",
       "      <th>Rating</th>\n",
       "      <th>Cost_for_Two</th>\n",
       "    </tr>\n",
       "  </thead>\n",
       "  <tbody>\n",
       "    <tr>\n",
       "      <th>41</th>\n",
       "      <td>Khichdi Experiment</td>\n",
       "      <td>4.8</td>\n",
       "      <td>200.0</td>\n",
       "    </tr>\n",
       "    <tr>\n",
       "      <th>54</th>\n",
       "      <td>Natural Ice Cream</td>\n",
       "      <td>4.6</td>\n",
       "      <td>150.0</td>\n",
       "    </tr>\n",
       "    <tr>\n",
       "      <th>21</th>\n",
       "      <td>Corner House Ice Cream</td>\n",
       "      <td>4.6</td>\n",
       "      <td>250.0</td>\n",
       "    </tr>\n",
       "    <tr>\n",
       "      <th>20</th>\n",
       "      <td>Chinese Bae</td>\n",
       "      <td>4.5</td>\n",
       "      <td>450.0</td>\n",
       "    </tr>\n",
       "    <tr>\n",
       "      <th>16</th>\n",
       "      <td>Bowl 99</td>\n",
       "      <td>4.4</td>\n",
       "      <td>200.0</td>\n",
       "    </tr>\n",
       "    <tr>\n",
       "      <th>4</th>\n",
       "      <td>Al Daaz</td>\n",
       "      <td>4.4</td>\n",
       "      <td>400.0</td>\n",
       "    </tr>\n",
       "    <tr>\n",
       "      <th>50</th>\n",
       "      <td>Mumbai Tiffin</td>\n",
       "      <td>4.4</td>\n",
       "      <td>400.0</td>\n",
       "    </tr>\n",
       "    <tr>\n",
       "      <th>39</th>\n",
       "      <td>Kanti Sweets</td>\n",
       "      <td>4.3</td>\n",
       "      <td>150.0</td>\n",
       "    </tr>\n",
       "    <tr>\n",
       "      <th>56</th>\n",
       "      <td>New Udupi Grand</td>\n",
       "      <td>4.3</td>\n",
       "      <td>150.0</td>\n",
       "    </tr>\n",
       "    <tr>\n",
       "      <th>40</th>\n",
       "      <td>Khawa Karpo</td>\n",
       "      <td>4.3</td>\n",
       "      <td>178.0</td>\n",
       "    </tr>\n",
       "  </tbody>\n",
       "</table>\n",
       "</div>"
      ],
      "text/plain": [
       "                 Shop_Name  Rating  Cost_for_Two\n",
       "41      Khichdi Experiment     4.8         200.0\n",
       "54       Natural Ice Cream     4.6         150.0\n",
       "21  Corner House Ice Cream     4.6         250.0\n",
       "20             Chinese Bae     4.5         450.0\n",
       "16                 Bowl 99     4.4         200.0\n",
       "4                  Al Daaz     4.4         400.0\n",
       "50           Mumbai Tiffin     4.4         400.0\n",
       "39            Kanti Sweets     4.3         150.0\n",
       "56         New Udupi Grand     4.3         150.0\n",
       "40             Khawa Karpo     4.3         178.0"
      ]
     },
     "execution_count": 57,
     "metadata": {},
     "output_type": "execute_result"
    }
   ],
   "source": [
    "a_r = Affordable_res.groupby(['Shop_Name','Rating']).mean().reset_index().sort_values(['Rating','Cost_for_Two']\n",
    "                                                                                ,ascending=[False,True]).head(10)\n",
    "a_r"
   ]
  },
  {
   "cell_type": "code",
   "execution_count": 58,
   "id": "a1863a77",
   "metadata": {},
   "outputs": [
    {
     "data": {
      "application/vnd.plotly.v1+json": {
       "config": {
        "plotlyServerURL": "https://plot.ly"
       },
       "data": [
        {
         "alignmentgroup": "True",
         "hovertemplate": "Cost for Two=%{x}<br>Shop Name=%{y}<br>Rating=%{marker.color}<extra></extra>",
         "legendgroup": "",
         "marker": {
          "color": [
           4.8,
           4.6,
           4.6,
           4.5,
           4.4,
           4.4,
           4.4,
           4.3,
           4.3,
           4.3
          ],
          "coloraxis": "coloraxis",
          "pattern": {
           "shape": ""
          }
         },
         "name": "",
         "offsetgroup": "",
         "orientation": "h",
         "showlegend": false,
         "textposition": "auto",
         "texttemplate": "%{x:.2s}",
         "type": "bar",
         "x": [
          200,
          150,
          250,
          450,
          200,
          400,
          400,
          150,
          150,
          178
         ],
         "xaxis": "x",
         "y": [
          "Khichdi Experiment",
          "Natural Ice Cream",
          "Corner House Ice Cream",
          "Chinese Bae",
          "Bowl 99",
          "Al Daaz",
          "Mumbai Tiffin",
          "Kanti Sweets",
          "New Udupi Grand",
          "Khawa Karpo"
         ],
         "yaxis": "y"
        }
       ],
       "layout": {
        "barmode": "relative",
        "coloraxis": {
         "colorbar": {
          "title": {
           "text": "Rating"
          }
         },
         "colorscale": [
          [
           0,
           "#0d0887"
          ],
          [
           0.1111111111111111,
           "#46039f"
          ],
          [
           0.2222222222222222,
           "#7201a8"
          ],
          [
           0.3333333333333333,
           "#9c179e"
          ],
          [
           0.4444444444444444,
           "#bd3786"
          ],
          [
           0.5555555555555556,
           "#d8576b"
          ],
          [
           0.6666666666666666,
           "#ed7953"
          ],
          [
           0.7777777777777778,
           "#fb9f3a"
          ],
          [
           0.8888888888888888,
           "#fdca26"
          ],
          [
           1,
           "#f0f921"
          ]
         ]
        },
        "legend": {
         "tracegroupgap": 0
        },
        "template": {
         "data": {
          "bar": [
           {
            "error_x": {
             "color": "#2a3f5f"
            },
            "error_y": {
             "color": "#2a3f5f"
            },
            "marker": {
             "line": {
              "color": "#E5ECF6",
              "width": 0.5
             },
             "pattern": {
              "fillmode": "overlay",
              "size": 10,
              "solidity": 0.2
             }
            },
            "type": "bar"
           }
          ],
          "barpolar": [
           {
            "marker": {
             "line": {
              "color": "#E5ECF6",
              "width": 0.5
             },
             "pattern": {
              "fillmode": "overlay",
              "size": 10,
              "solidity": 0.2
             }
            },
            "type": "barpolar"
           }
          ],
          "carpet": [
           {
            "aaxis": {
             "endlinecolor": "#2a3f5f",
             "gridcolor": "white",
             "linecolor": "white",
             "minorgridcolor": "white",
             "startlinecolor": "#2a3f5f"
            },
            "baxis": {
             "endlinecolor": "#2a3f5f",
             "gridcolor": "white",
             "linecolor": "white",
             "minorgridcolor": "white",
             "startlinecolor": "#2a3f5f"
            },
            "type": "carpet"
           }
          ],
          "choropleth": [
           {
            "colorbar": {
             "outlinewidth": 0,
             "ticks": ""
            },
            "type": "choropleth"
           }
          ],
          "contour": [
           {
            "colorbar": {
             "outlinewidth": 0,
             "ticks": ""
            },
            "colorscale": [
             [
              0,
              "#0d0887"
             ],
             [
              0.1111111111111111,
              "#46039f"
             ],
             [
              0.2222222222222222,
              "#7201a8"
             ],
             [
              0.3333333333333333,
              "#9c179e"
             ],
             [
              0.4444444444444444,
              "#bd3786"
             ],
             [
              0.5555555555555556,
              "#d8576b"
             ],
             [
              0.6666666666666666,
              "#ed7953"
             ],
             [
              0.7777777777777778,
              "#fb9f3a"
             ],
             [
              0.8888888888888888,
              "#fdca26"
             ],
             [
              1,
              "#f0f921"
             ]
            ],
            "type": "contour"
           }
          ],
          "contourcarpet": [
           {
            "colorbar": {
             "outlinewidth": 0,
             "ticks": ""
            },
            "type": "contourcarpet"
           }
          ],
          "heatmap": [
           {
            "colorbar": {
             "outlinewidth": 0,
             "ticks": ""
            },
            "colorscale": [
             [
              0,
              "#0d0887"
             ],
             [
              0.1111111111111111,
              "#46039f"
             ],
             [
              0.2222222222222222,
              "#7201a8"
             ],
             [
              0.3333333333333333,
              "#9c179e"
             ],
             [
              0.4444444444444444,
              "#bd3786"
             ],
             [
              0.5555555555555556,
              "#d8576b"
             ],
             [
              0.6666666666666666,
              "#ed7953"
             ],
             [
              0.7777777777777778,
              "#fb9f3a"
             ],
             [
              0.8888888888888888,
              "#fdca26"
             ],
             [
              1,
              "#f0f921"
             ]
            ],
            "type": "heatmap"
           }
          ],
          "heatmapgl": [
           {
            "colorbar": {
             "outlinewidth": 0,
             "ticks": ""
            },
            "colorscale": [
             [
              0,
              "#0d0887"
             ],
             [
              0.1111111111111111,
              "#46039f"
             ],
             [
              0.2222222222222222,
              "#7201a8"
             ],
             [
              0.3333333333333333,
              "#9c179e"
             ],
             [
              0.4444444444444444,
              "#bd3786"
             ],
             [
              0.5555555555555556,
              "#d8576b"
             ],
             [
              0.6666666666666666,
              "#ed7953"
             ],
             [
              0.7777777777777778,
              "#fb9f3a"
             ],
             [
              0.8888888888888888,
              "#fdca26"
             ],
             [
              1,
              "#f0f921"
             ]
            ],
            "type": "heatmapgl"
           }
          ],
          "histogram": [
           {
            "marker": {
             "pattern": {
              "fillmode": "overlay",
              "size": 10,
              "solidity": 0.2
             }
            },
            "type": "histogram"
           }
          ],
          "histogram2d": [
           {
            "colorbar": {
             "outlinewidth": 0,
             "ticks": ""
            },
            "colorscale": [
             [
              0,
              "#0d0887"
             ],
             [
              0.1111111111111111,
              "#46039f"
             ],
             [
              0.2222222222222222,
              "#7201a8"
             ],
             [
              0.3333333333333333,
              "#9c179e"
             ],
             [
              0.4444444444444444,
              "#bd3786"
             ],
             [
              0.5555555555555556,
              "#d8576b"
             ],
             [
              0.6666666666666666,
              "#ed7953"
             ],
             [
              0.7777777777777778,
              "#fb9f3a"
             ],
             [
              0.8888888888888888,
              "#fdca26"
             ],
             [
              1,
              "#f0f921"
             ]
            ],
            "type": "histogram2d"
           }
          ],
          "histogram2dcontour": [
           {
            "colorbar": {
             "outlinewidth": 0,
             "ticks": ""
            },
            "colorscale": [
             [
              0,
              "#0d0887"
             ],
             [
              0.1111111111111111,
              "#46039f"
             ],
             [
              0.2222222222222222,
              "#7201a8"
             ],
             [
              0.3333333333333333,
              "#9c179e"
             ],
             [
              0.4444444444444444,
              "#bd3786"
             ],
             [
              0.5555555555555556,
              "#d8576b"
             ],
             [
              0.6666666666666666,
              "#ed7953"
             ],
             [
              0.7777777777777778,
              "#fb9f3a"
             ],
             [
              0.8888888888888888,
              "#fdca26"
             ],
             [
              1,
              "#f0f921"
             ]
            ],
            "type": "histogram2dcontour"
           }
          ],
          "mesh3d": [
           {
            "colorbar": {
             "outlinewidth": 0,
             "ticks": ""
            },
            "type": "mesh3d"
           }
          ],
          "parcoords": [
           {
            "line": {
             "colorbar": {
              "outlinewidth": 0,
              "ticks": ""
             }
            },
            "type": "parcoords"
           }
          ],
          "pie": [
           {
            "automargin": true,
            "type": "pie"
           }
          ],
          "scatter": [
           {
            "fillpattern": {
             "fillmode": "overlay",
             "size": 10,
             "solidity": 0.2
            },
            "type": "scatter"
           }
          ],
          "scatter3d": [
           {
            "line": {
             "colorbar": {
              "outlinewidth": 0,
              "ticks": ""
             }
            },
            "marker": {
             "colorbar": {
              "outlinewidth": 0,
              "ticks": ""
             }
            },
            "type": "scatter3d"
           }
          ],
          "scattercarpet": [
           {
            "marker": {
             "colorbar": {
              "outlinewidth": 0,
              "ticks": ""
             }
            },
            "type": "scattercarpet"
           }
          ],
          "scattergeo": [
           {
            "marker": {
             "colorbar": {
              "outlinewidth": 0,
              "ticks": ""
             }
            },
            "type": "scattergeo"
           }
          ],
          "scattergl": [
           {
            "marker": {
             "colorbar": {
              "outlinewidth": 0,
              "ticks": ""
             }
            },
            "type": "scattergl"
           }
          ],
          "scattermapbox": [
           {
            "marker": {
             "colorbar": {
              "outlinewidth": 0,
              "ticks": ""
             }
            },
            "type": "scattermapbox"
           }
          ],
          "scatterpolar": [
           {
            "marker": {
             "colorbar": {
              "outlinewidth": 0,
              "ticks": ""
             }
            },
            "type": "scatterpolar"
           }
          ],
          "scatterpolargl": [
           {
            "marker": {
             "colorbar": {
              "outlinewidth": 0,
              "ticks": ""
             }
            },
            "type": "scatterpolargl"
           }
          ],
          "scatterternary": [
           {
            "marker": {
             "colorbar": {
              "outlinewidth": 0,
              "ticks": ""
             }
            },
            "type": "scatterternary"
           }
          ],
          "surface": [
           {
            "colorbar": {
             "outlinewidth": 0,
             "ticks": ""
            },
            "colorscale": [
             [
              0,
              "#0d0887"
             ],
             [
              0.1111111111111111,
              "#46039f"
             ],
             [
              0.2222222222222222,
              "#7201a8"
             ],
             [
              0.3333333333333333,
              "#9c179e"
             ],
             [
              0.4444444444444444,
              "#bd3786"
             ],
             [
              0.5555555555555556,
              "#d8576b"
             ],
             [
              0.6666666666666666,
              "#ed7953"
             ],
             [
              0.7777777777777778,
              "#fb9f3a"
             ],
             [
              0.8888888888888888,
              "#fdca26"
             ],
             [
              1,
              "#f0f921"
             ]
            ],
            "type": "surface"
           }
          ],
          "table": [
           {
            "cells": {
             "fill": {
              "color": "#EBF0F8"
             },
             "line": {
              "color": "white"
             }
            },
            "header": {
             "fill": {
              "color": "#C8D4E3"
             },
             "line": {
              "color": "white"
             }
            },
            "type": "table"
           }
          ]
         },
         "layout": {
          "annotationdefaults": {
           "arrowcolor": "#2a3f5f",
           "arrowhead": 0,
           "arrowwidth": 1
          },
          "autotypenumbers": "strict",
          "coloraxis": {
           "colorbar": {
            "outlinewidth": 0,
            "ticks": ""
           }
          },
          "colorscale": {
           "diverging": [
            [
             0,
             "#8e0152"
            ],
            [
             0.1,
             "#c51b7d"
            ],
            [
             0.2,
             "#de77ae"
            ],
            [
             0.3,
             "#f1b6da"
            ],
            [
             0.4,
             "#fde0ef"
            ],
            [
             0.5,
             "#f7f7f7"
            ],
            [
             0.6,
             "#e6f5d0"
            ],
            [
             0.7,
             "#b8e186"
            ],
            [
             0.8,
             "#7fbc41"
            ],
            [
             0.9,
             "#4d9221"
            ],
            [
             1,
             "#276419"
            ]
           ],
           "sequential": [
            [
             0,
             "#0d0887"
            ],
            [
             0.1111111111111111,
             "#46039f"
            ],
            [
             0.2222222222222222,
             "#7201a8"
            ],
            [
             0.3333333333333333,
             "#9c179e"
            ],
            [
             0.4444444444444444,
             "#bd3786"
            ],
            [
             0.5555555555555556,
             "#d8576b"
            ],
            [
             0.6666666666666666,
             "#ed7953"
            ],
            [
             0.7777777777777778,
             "#fb9f3a"
            ],
            [
             0.8888888888888888,
             "#fdca26"
            ],
            [
             1,
             "#f0f921"
            ]
           ],
           "sequentialminus": [
            [
             0,
             "#0d0887"
            ],
            [
             0.1111111111111111,
             "#46039f"
            ],
            [
             0.2222222222222222,
             "#7201a8"
            ],
            [
             0.3333333333333333,
             "#9c179e"
            ],
            [
             0.4444444444444444,
             "#bd3786"
            ],
            [
             0.5555555555555556,
             "#d8576b"
            ],
            [
             0.6666666666666666,
             "#ed7953"
            ],
            [
             0.7777777777777778,
             "#fb9f3a"
            ],
            [
             0.8888888888888888,
             "#fdca26"
            ],
            [
             1,
             "#f0f921"
            ]
           ]
          },
          "colorway": [
           "#636efa",
           "#EF553B",
           "#00cc96",
           "#ab63fa",
           "#FFA15A",
           "#19d3f3",
           "#FF6692",
           "#B6E880",
           "#FF97FF",
           "#FECB52"
          ],
          "font": {
           "color": "#2a3f5f"
          },
          "geo": {
           "bgcolor": "white",
           "lakecolor": "white",
           "landcolor": "#E5ECF6",
           "showlakes": true,
           "showland": true,
           "subunitcolor": "white"
          },
          "hoverlabel": {
           "align": "left"
          },
          "hovermode": "closest",
          "mapbox": {
           "style": "light"
          },
          "paper_bgcolor": "white",
          "plot_bgcolor": "#E5ECF6",
          "polar": {
           "angularaxis": {
            "gridcolor": "white",
            "linecolor": "white",
            "ticks": ""
           },
           "bgcolor": "#E5ECF6",
           "radialaxis": {
            "gridcolor": "white",
            "linecolor": "white",
            "ticks": ""
           }
          },
          "scene": {
           "xaxis": {
            "backgroundcolor": "#E5ECF6",
            "gridcolor": "white",
            "gridwidth": 2,
            "linecolor": "white",
            "showbackground": true,
            "ticks": "",
            "zerolinecolor": "white"
           },
           "yaxis": {
            "backgroundcolor": "#E5ECF6",
            "gridcolor": "white",
            "gridwidth": 2,
            "linecolor": "white",
            "showbackground": true,
            "ticks": "",
            "zerolinecolor": "white"
           },
           "zaxis": {
            "backgroundcolor": "#E5ECF6",
            "gridcolor": "white",
            "gridwidth": 2,
            "linecolor": "white",
            "showbackground": true,
            "ticks": "",
            "zerolinecolor": "white"
           }
          },
          "shapedefaults": {
           "line": {
            "color": "#2a3f5f"
           }
          },
          "ternary": {
           "aaxis": {
            "gridcolor": "white",
            "linecolor": "white",
            "ticks": ""
           },
           "baxis": {
            "gridcolor": "white",
            "linecolor": "white",
            "ticks": ""
           },
           "bgcolor": "#E5ECF6",
           "caxis": {
            "gridcolor": "white",
            "linecolor": "white",
            "ticks": ""
           }
          },
          "title": {
           "x": 0.05
          },
          "xaxis": {
           "automargin": true,
           "gridcolor": "white",
           "linecolor": "white",
           "ticks": "",
           "title": {
            "standoff": 15
           },
           "zerolinecolor": "white",
           "zerolinewidth": 2
          },
          "yaxis": {
           "automargin": true,
           "gridcolor": "white",
           "linecolor": "white",
           "ticks": "",
           "title": {
            "standoff": 15
           },
           "zerolinecolor": "white",
           "zerolinewidth": 2
          }
         }
        },
        "title": {
         "text": "Top 10 Shops High Rated Restaurants with minimal cost for two peoples"
        },
        "xaxis": {
         "anchor": "y",
         "domain": [
          0,
          1
         ],
         "title": {
          "text": "Cost for Two"
         }
        },
        "yaxis": {
         "anchor": "x",
         "autorange": "reversed",
         "domain": [
          0,
          1
         ],
         "title": {
          "text": "Shop Name"
         }
        }
       }
      }
     },
     "metadata": {},
     "output_type": "display_data"
    }
   ],
   "source": [
    "fig = px.bar(a_r, x=a_r['Cost_for_Two'][:10], y=a_r['Shop_Name'][:10], color=a_r['Rating'][:10],\n",
    "             color_continuous_scale='Plasma', text_auto='.2s', \n",
    "             title='Top 10 Shops High Rated Restaurants with minimal cost for two peoples',\n",
    "             labels={'x' : 'Cost for Two' , 'y' : 'Shop Name' , 'color' : 'Rating'})\n",
    "\n",
    "fig.update_layout(yaxis=dict(autorange=\"reversed\"))\n",
    "\n",
    "fig.show()"
   ]
  },
  {
   "cell_type": "markdown",
   "id": "1e4dccf1",
   "metadata": {},
   "source": [
    "- **Khichdi Experiment** is most affordable restaurant with high rating."
   ]
  },
  {
   "cell_type": "markdown",
   "id": "7d23a988",
   "metadata": {},
   "source": [
    "### Cuisine Analysis"
   ]
  },
  {
   "cell_type": "code",
   "execution_count": 59,
   "id": "46920a0d",
   "metadata": {},
   "outputs": [
    {
     "data": {
      "text/plain": [
       "array(['Sweets', 'North Indian, Home Food, Thalis, Combo',\n",
       "       'South Indian, North Indian, Fast Food, Beverages, Jain',\n",
       "       'American, Arabian, Chinese, Desserts, Fast Food, Mughlai, North Indian',\n",
       "       'Chinese, Thai', 'North Indian',\n",
       "       'Fast Food, North Indian, Chinese', 'Italian',\n",
       "       'South Indian, Kerala, Chinese, North Indian',\n",
       "       'Pizzas, Italian, Mexican',\n",
       "       'Chinese, South Indian, North Indian, Desserts, Fast Food, Kerala, Andhra, Beverages, Mughlai, Seafood',\n",
       "       'Desserts', 'Chinese, Andhra, Biryani, Seafood', 'Chinese',\n",
       "       'South Indian, Chinese, Desserts, North Indian',\n",
       "       'Arabian, Fast Food', 'Desserts, Beverages', 'Indian, Rajasthani',\n",
       "       'Desserts, Bakery', 'Chinese, Healthy Food, North Indian',\n",
       "       'North Indian, Chinese, Hyderabadi', 'Fast Food',\n",
       "       'Chinese, Jain, North Indian, South Indian', 'Indian',\n",
       "       'North Indian, South Indian, Chinese',\n",
       "       'Andhra, Biryani, Chinese, Desserts, Fast Food, Seafood, South Indian',\n",
       "       'American, Fast Food',\n",
       "       'Biryani, Seafood, North Indian, Chinese, Desserts, Andhra, South Indian',\n",
       "       'Snacks, American', 'South Indian', 'Kerala, South Indian',\n",
       "       'Mexican', 'North Indian, Chinese, Biryani',\n",
       "       'Turkish, Portuguese, American', 'Biryani',\n",
       "       'South Indian, Snacks, North Indian, Chinese',\n",
       "       'Desserts, Fast Food, Sweets, Chaat',\n",
       "       'Chinese, South Indian, Andhra, Hyderabadi', 'Pizzas, Fast Food',\n",
       "       'Biryani, Mughlai, South Indian', 'Chinese, Asian',\n",
       "       'North Indian, Chinese, South Indian', 'Italian, Desserts, Pizzas',\n",
       "       'Biryani, Andhra, South Indian',\n",
       "       'Chinese, Continental, Italian, Mediterranean, Thai, Lebanese, American, Asian, Beverages, Bakery, Biryani, Cafe, Desserts, Healthy Food, Mexican, North Indian, Salads, Pizzas',\n",
       "       'Pizzas, Chinese, Pastas, Salads, American, Continental',\n",
       "       'Andhra, Biryani',\n",
       "       'Chinese, South Indian, North Indian, Fast Food',\n",
       "       'Fast Food, Beverages',\n",
       "       'Biryani, South Indian, North Indian, Fast Food, Andhra, Beverages, Mughlai, Seafood, Punjabi, Hyderabadi, Chinese',\n",
       "       'Beverages, Chinese',\n",
       "       'South Indian, Biryani, Kerala, North Indian, Chinese',\n",
       "       'Kerala, Chinese', 'North Indian, Chinese',\n",
       "       'Arabian, Beverages, Biryani, Chinese, Desserts, North Indian',\n",
       "       'Biryani, Juices, Kebabs', 'Andhra, South Indian',\n",
       "       'Beverages, Cafe, Snacks', 'North Indian, South Indian',\n",
       "       'Turkish, Portuguese, American, Grill',\n",
       "       'Home Food, Healthy Food, Indian', 'Ice Cream',\n",
       "       'Chinese, Hyderabadi, Biryani, Indian, South Indian, Andhra, Tandoor',\n",
       "       'Punjabi, North Indian, Chinese, Fast Food, Healthy Food, Mughlai, Desserts',\n",
       "       'American',\n",
       "       'Biryani, Hyderabadi, Andhra, North Indian, South Indian',\n",
       "       'Fast Food, Juices, North Indian',\n",
       "       'North Indian, Chaat, Snacks, Fast Food',\n",
       "       'Desserts, Mughlai, Seafood', 'Ice Cream, Desserts',\n",
       "       'Chinese, North Indian', 'Biryani, Kebabs',\n",
       "       'Andhra, Chettinad, Chinese, Mughlai, North Indian',\n",
       "       'Chettinad, South Indian',\n",
       "       'Continental, Indian, Pan-Asian, Oriental',\n",
       "       'North Indian, Biryani', 'Pan-Asian, Chinese, Asian',\n",
       "       'Arabian, Middle Eastern, North Indian, Grill, Seafood, Kerala, Chinese',\n",
       "       'North Indian, Chinese, Seafood, Biryani'], dtype=object)"
      ]
     },
     "execution_count": 59,
     "metadata": {},
     "output_type": "execute_result"
    }
   ],
   "source": [
    "## check unique values\n",
    "\n",
    "df['Cuisine'].unique()"
   ]
  },
  {
   "cell_type": "code",
   "execution_count": 60,
   "id": "7e472772",
   "metadata": {
    "scrolled": false
   },
   "outputs": [],
   "source": [
    "## build a function, which return dataframe with cuisine_name and numbers of occurence \n",
    "\n",
    "def df_Cuisine(data):\n",
    "\n",
    "    Cuisines_category = {}\n",
    "\n",
    "    for i in data['Cuisine'].unique():\n",
    "        cu = i.replace(' ','').split(',')\n",
    "        for c in cu:\n",
    "            Cuisines = c\n",
    "            if Cuisines in Cuisines_category:\n",
    "                Cuisines_category[Cuisines] += 1\n",
    "            else:\n",
    "                Cuisines_category[Cuisines] = 1\n",
    "\n",
    "    Cuisine_Analysis = pd.DataFrame({'Cuisine' : Cuisines_category.keys(),'Frequency' : Cuisines_category.values()})\n",
    "        \n",
    "    return Cuisine_Analysis"
   ]
  },
  {
   "cell_type": "code",
   "execution_count": 61,
   "id": "81cadb34",
   "metadata": {},
   "outputs": [
    {
     "data": {
      "text/html": [
       "<div>\n",
       "<style scoped>\n",
       "    .dataframe tbody tr th:only-of-type {\n",
       "        vertical-align: middle;\n",
       "    }\n",
       "\n",
       "    .dataframe tbody tr th {\n",
       "        vertical-align: top;\n",
       "    }\n",
       "\n",
       "    .dataframe thead th {\n",
       "        text-align: right;\n",
       "    }\n",
       "</style>\n",
       "<table border=\"1\" class=\"dataframe\">\n",
       "  <thead>\n",
       "    <tr style=\"text-align: right;\">\n",
       "      <th></th>\n",
       "      <th>Cuisine</th>\n",
       "      <th>Frequency</th>\n",
       "    </tr>\n",
       "  </thead>\n",
       "  <tbody>\n",
       "    <tr>\n",
       "      <th>11</th>\n",
       "      <td>Chinese</td>\n",
       "      <td>35</td>\n",
       "    </tr>\n",
       "    <tr>\n",
       "      <th>1</th>\n",
       "      <td>NorthIndian</td>\n",
       "      <td>32</td>\n",
       "    </tr>\n",
       "    <tr>\n",
       "      <th>5</th>\n",
       "      <td>SouthIndian</td>\n",
       "      <td>23</td>\n",
       "    </tr>\n",
       "    <tr>\n",
       "      <th>21</th>\n",
       "      <td>Biryani</td>\n",
       "      <td>18</td>\n",
       "    </tr>\n",
       "    <tr>\n",
       "      <th>6</th>\n",
       "      <td>FastFood</td>\n",
       "      <td>16</td>\n",
       "    </tr>\n",
       "    <tr>\n",
       "      <th>12</th>\n",
       "      <td>Desserts</td>\n",
       "      <td>15</td>\n",
       "    </tr>\n",
       "    <tr>\n",
       "      <th>19</th>\n",
       "      <td>Andhra</td>\n",
       "      <td>12</td>\n",
       "    </tr>\n",
       "    <tr>\n",
       "      <th>7</th>\n",
       "      <td>Beverages</td>\n",
       "      <td>9</td>\n",
       "    </tr>\n",
       "    <tr>\n",
       "      <th>9</th>\n",
       "      <td>American</td>\n",
       "      <td>8</td>\n",
       "    </tr>\n",
       "    <tr>\n",
       "      <th>20</th>\n",
       "      <td>Seafood</td>\n",
       "      <td>8</td>\n",
       "    </tr>\n",
       "    <tr>\n",
       "      <th>13</th>\n",
       "      <td>Mughlai</td>\n",
       "      <td>7</td>\n",
       "    </tr>\n",
       "    <tr>\n",
       "      <th>16</th>\n",
       "      <td>Kerala</td>\n",
       "      <td>6</td>\n",
       "    </tr>\n",
       "    <tr>\n",
       "      <th>26</th>\n",
       "      <td>Hyderabadi</td>\n",
       "      <td>5</td>\n",
       "    </tr>\n",
       "    <tr>\n",
       "      <th>22</th>\n",
       "      <td>Indian</td>\n",
       "      <td>5</td>\n",
       "    </tr>\n",
       "    <tr>\n",
       "      <th>17</th>\n",
       "      <td>Pizzas</td>\n",
       "      <td>5</td>\n",
       "    </tr>\n",
       "    <tr>\n",
       "      <th>10</th>\n",
       "      <td>Arabian</td>\n",
       "      <td>4</td>\n",
       "    </tr>\n",
       "    <tr>\n",
       "      <th>25</th>\n",
       "      <td>HealthyFood</td>\n",
       "      <td>4</td>\n",
       "    </tr>\n",
       "    <tr>\n",
       "      <th>15</th>\n",
       "      <td>Italian</td>\n",
       "      <td>4</td>\n",
       "    </tr>\n",
       "    <tr>\n",
       "      <th>27</th>\n",
       "      <td>Snacks</td>\n",
       "      <td>4</td>\n",
       "    </tr>\n",
       "    <tr>\n",
       "      <th>31</th>\n",
       "      <td>Asian</td>\n",
       "      <td>3</td>\n",
       "    </tr>\n",
       "    <tr>\n",
       "      <th>18</th>\n",
       "      <td>Mexican</td>\n",
       "      <td>3</td>\n",
       "    </tr>\n",
       "    <tr>\n",
       "      <th>32</th>\n",
       "      <td>Continental</td>\n",
       "      <td>3</td>\n",
       "    </tr>\n",
       "    <tr>\n",
       "      <th>40</th>\n",
       "      <td>Kebabs</td>\n",
       "      <td>2</td>\n",
       "    </tr>\n",
       "    <tr>\n",
       "      <th>39</th>\n",
       "      <td>Juices</td>\n",
       "      <td>2</td>\n",
       "    </tr>\n",
       "    <tr>\n",
       "      <th>41</th>\n",
       "      <td>Grill</td>\n",
       "      <td>2</td>\n",
       "    </tr>\n",
       "    <tr>\n",
       "      <th>42</th>\n",
       "      <td>IceCream</td>\n",
       "      <td>2</td>\n",
       "    </tr>\n",
       "    <tr>\n",
       "      <th>44</th>\n",
       "      <td>Chettinad</td>\n",
       "      <td>2</td>\n",
       "    </tr>\n",
       "    <tr>\n",
       "      <th>45</th>\n",
       "      <td>Pan-Asian</td>\n",
       "      <td>2</td>\n",
       "    </tr>\n",
       "    <tr>\n",
       "      <th>38</th>\n",
       "      <td>Punjabi</td>\n",
       "      <td>2</td>\n",
       "    </tr>\n",
       "    <tr>\n",
       "      <th>36</th>\n",
       "      <td>Salads</td>\n",
       "      <td>2</td>\n",
       "    </tr>\n",
       "    <tr>\n",
       "      <th>35</th>\n",
       "      <td>Cafe</td>\n",
       "      <td>2</td>\n",
       "    </tr>\n",
       "    <tr>\n",
       "      <th>0</th>\n",
       "      <td>Sweets</td>\n",
       "      <td>2</td>\n",
       "    </tr>\n",
       "    <tr>\n",
       "      <th>24</th>\n",
       "      <td>Bakery</td>\n",
       "      <td>2</td>\n",
       "    </tr>\n",
       "    <tr>\n",
       "      <th>30</th>\n",
       "      <td>Chaat</td>\n",
       "      <td>2</td>\n",
       "    </tr>\n",
       "    <tr>\n",
       "      <th>29</th>\n",
       "      <td>Portuguese</td>\n",
       "      <td>2</td>\n",
       "    </tr>\n",
       "    <tr>\n",
       "      <th>28</th>\n",
       "      <td>Turkish</td>\n",
       "      <td>2</td>\n",
       "    </tr>\n",
       "    <tr>\n",
       "      <th>14</th>\n",
       "      <td>Thai</td>\n",
       "      <td>2</td>\n",
       "    </tr>\n",
       "    <tr>\n",
       "      <th>8</th>\n",
       "      <td>Jain</td>\n",
       "      <td>2</td>\n",
       "    </tr>\n",
       "    <tr>\n",
       "      <th>2</th>\n",
       "      <td>HomeFood</td>\n",
       "      <td>2</td>\n",
       "    </tr>\n",
       "    <tr>\n",
       "      <th>33</th>\n",
       "      <td>Mediterranean</td>\n",
       "      <td>1</td>\n",
       "    </tr>\n",
       "    <tr>\n",
       "      <th>34</th>\n",
       "      <td>Lebanese</td>\n",
       "      <td>1</td>\n",
       "    </tr>\n",
       "    <tr>\n",
       "      <th>37</th>\n",
       "      <td>Pastas</td>\n",
       "      <td>1</td>\n",
       "    </tr>\n",
       "    <tr>\n",
       "      <th>23</th>\n",
       "      <td>Rajasthani</td>\n",
       "      <td>1</td>\n",
       "    </tr>\n",
       "    <tr>\n",
       "      <th>4</th>\n",
       "      <td>Combo</td>\n",
       "      <td>1</td>\n",
       "    </tr>\n",
       "    <tr>\n",
       "      <th>43</th>\n",
       "      <td>Tandoor</td>\n",
       "      <td>1</td>\n",
       "    </tr>\n",
       "    <tr>\n",
       "      <th>3</th>\n",
       "      <td>Thalis</td>\n",
       "      <td>1</td>\n",
       "    </tr>\n",
       "    <tr>\n",
       "      <th>46</th>\n",
       "      <td>Oriental</td>\n",
       "      <td>1</td>\n",
       "    </tr>\n",
       "    <tr>\n",
       "      <th>47</th>\n",
       "      <td>MiddleEastern</td>\n",
       "      <td>1</td>\n",
       "    </tr>\n",
       "  </tbody>\n",
       "</table>\n",
       "</div>"
      ],
      "text/plain": [
       "          Cuisine  Frequency\n",
       "11        Chinese         35\n",
       "1     NorthIndian         32\n",
       "5     SouthIndian         23\n",
       "21        Biryani         18\n",
       "6        FastFood         16\n",
       "12       Desserts         15\n",
       "19         Andhra         12\n",
       "7       Beverages          9\n",
       "9        American          8\n",
       "20        Seafood          8\n",
       "13        Mughlai          7\n",
       "16         Kerala          6\n",
       "26     Hyderabadi          5\n",
       "22         Indian          5\n",
       "17         Pizzas          5\n",
       "10        Arabian          4\n",
       "25    HealthyFood          4\n",
       "15        Italian          4\n",
       "27         Snacks          4\n",
       "31          Asian          3\n",
       "18        Mexican          3\n",
       "32    Continental          3\n",
       "40         Kebabs          2\n",
       "39         Juices          2\n",
       "41          Grill          2\n",
       "42       IceCream          2\n",
       "44      Chettinad          2\n",
       "45      Pan-Asian          2\n",
       "38        Punjabi          2\n",
       "36         Salads          2\n",
       "35           Cafe          2\n",
       "0          Sweets          2\n",
       "24         Bakery          2\n",
       "30          Chaat          2\n",
       "29     Portuguese          2\n",
       "28        Turkish          2\n",
       "14           Thai          2\n",
       "8            Jain          2\n",
       "2        HomeFood          2\n",
       "33  Mediterranean          1\n",
       "34       Lebanese          1\n",
       "37         Pastas          1\n",
       "23     Rajasthani          1\n",
       "4           Combo          1\n",
       "43        Tandoor          1\n",
       "3          Thalis          1\n",
       "46       Oriental          1\n",
       "47  MiddleEastern          1"
      ]
     },
     "execution_count": 61,
     "metadata": {},
     "output_type": "execute_result"
    }
   ],
   "source": [
    "## analyzing cuisines from original(main) dataset\n",
    "\n",
    "df_cuisine = df_Cuisine(df)\n",
    "\n",
    "df_cuisine.sort_values('Frequency',ascending=False,inplace=True)\n",
    "\n",
    "df_cuisine"
   ]
  },
  {
   "cell_type": "code",
   "execution_count": 62,
   "id": "26709dde",
   "metadata": {},
   "outputs": [
    {
     "data": {
      "application/vnd.plotly.v1+json": {
       "config": {
        "plotlyServerURL": "https://plot.ly"
       },
       "data": [
        {
         "customdata": [
          [
           "Chinese"
          ],
          [
           "NorthIndian"
          ],
          [
           "SouthIndian"
          ],
          [
           "Biryani"
          ],
          [
           "FastFood"
          ],
          [
           "Desserts"
          ],
          [
           "Andhra"
          ],
          [
           "Beverages"
          ],
          [
           "American"
          ],
          [
           "Seafood"
          ],
          [
           "Mughlai"
          ],
          [
           "Kerala"
          ],
          [
           "Hyderabadi"
          ],
          [
           "Indian"
          ],
          [
           "Pizzas"
          ]
         ],
         "domain": {
          "x": [
           0,
           1
          ],
          "y": [
           0,
           1
          ]
         },
         "hovertemplate": "label=%{label}<br>value=%{value}<br>color=%{customdata[0]}<extra></extra>",
         "labels": [
          "Chinese",
          "NorthIndian",
          "SouthIndian",
          "Biryani",
          "FastFood",
          "Desserts",
          "Andhra",
          "Beverages",
          "American",
          "Seafood",
          "Mughlai",
          "Kerala",
          "Hyderabadi",
          "Indian",
          "Pizzas"
         ],
         "legendgroup": "",
         "marker": {
          "colors": [
           "#636efa",
           "#EF553B",
           "#00cc96",
           "#ab63fa",
           "#FFA15A",
           "#19d3f3",
           "#FF6692",
           "#B6E880",
           "#FF97FF",
           "#FECB52",
           "#636efa",
           "#EF553B",
           "#00cc96",
           "#ab63fa",
           "#FFA15A"
          ]
         },
         "name": "",
         "showlegend": true,
         "sort": false,
         "textinfo": "percent+label",
         "textposition": "inside",
         "type": "pie",
         "values": [
          35,
          32,
          23,
          18,
          16,
          15,
          12,
          9,
          8,
          8,
          7,
          6,
          5,
          5,
          5
         ]
        }
       ],
       "layout": {
        "height": 550,
        "legend": {
         "tracegroupgap": 0
        },
        "margin": {
         "t": 60
        },
        "template": {
         "data": {
          "bar": [
           {
            "error_x": {
             "color": "#2a3f5f"
            },
            "error_y": {
             "color": "#2a3f5f"
            },
            "marker": {
             "line": {
              "color": "#E5ECF6",
              "width": 0.5
             },
             "pattern": {
              "fillmode": "overlay",
              "size": 10,
              "solidity": 0.2
             }
            },
            "type": "bar"
           }
          ],
          "barpolar": [
           {
            "marker": {
             "line": {
              "color": "#E5ECF6",
              "width": 0.5
             },
             "pattern": {
              "fillmode": "overlay",
              "size": 10,
              "solidity": 0.2
             }
            },
            "type": "barpolar"
           }
          ],
          "carpet": [
           {
            "aaxis": {
             "endlinecolor": "#2a3f5f",
             "gridcolor": "white",
             "linecolor": "white",
             "minorgridcolor": "white",
             "startlinecolor": "#2a3f5f"
            },
            "baxis": {
             "endlinecolor": "#2a3f5f",
             "gridcolor": "white",
             "linecolor": "white",
             "minorgridcolor": "white",
             "startlinecolor": "#2a3f5f"
            },
            "type": "carpet"
           }
          ],
          "choropleth": [
           {
            "colorbar": {
             "outlinewidth": 0,
             "ticks": ""
            },
            "type": "choropleth"
           }
          ],
          "contour": [
           {
            "colorbar": {
             "outlinewidth": 0,
             "ticks": ""
            },
            "colorscale": [
             [
              0,
              "#0d0887"
             ],
             [
              0.1111111111111111,
              "#46039f"
             ],
             [
              0.2222222222222222,
              "#7201a8"
             ],
             [
              0.3333333333333333,
              "#9c179e"
             ],
             [
              0.4444444444444444,
              "#bd3786"
             ],
             [
              0.5555555555555556,
              "#d8576b"
             ],
             [
              0.6666666666666666,
              "#ed7953"
             ],
             [
              0.7777777777777778,
              "#fb9f3a"
             ],
             [
              0.8888888888888888,
              "#fdca26"
             ],
             [
              1,
              "#f0f921"
             ]
            ],
            "type": "contour"
           }
          ],
          "contourcarpet": [
           {
            "colorbar": {
             "outlinewidth": 0,
             "ticks": ""
            },
            "type": "contourcarpet"
           }
          ],
          "heatmap": [
           {
            "colorbar": {
             "outlinewidth": 0,
             "ticks": ""
            },
            "colorscale": [
             [
              0,
              "#0d0887"
             ],
             [
              0.1111111111111111,
              "#46039f"
             ],
             [
              0.2222222222222222,
              "#7201a8"
             ],
             [
              0.3333333333333333,
              "#9c179e"
             ],
             [
              0.4444444444444444,
              "#bd3786"
             ],
             [
              0.5555555555555556,
              "#d8576b"
             ],
             [
              0.6666666666666666,
              "#ed7953"
             ],
             [
              0.7777777777777778,
              "#fb9f3a"
             ],
             [
              0.8888888888888888,
              "#fdca26"
             ],
             [
              1,
              "#f0f921"
             ]
            ],
            "type": "heatmap"
           }
          ],
          "heatmapgl": [
           {
            "colorbar": {
             "outlinewidth": 0,
             "ticks": ""
            },
            "colorscale": [
             [
              0,
              "#0d0887"
             ],
             [
              0.1111111111111111,
              "#46039f"
             ],
             [
              0.2222222222222222,
              "#7201a8"
             ],
             [
              0.3333333333333333,
              "#9c179e"
             ],
             [
              0.4444444444444444,
              "#bd3786"
             ],
             [
              0.5555555555555556,
              "#d8576b"
             ],
             [
              0.6666666666666666,
              "#ed7953"
             ],
             [
              0.7777777777777778,
              "#fb9f3a"
             ],
             [
              0.8888888888888888,
              "#fdca26"
             ],
             [
              1,
              "#f0f921"
             ]
            ],
            "type": "heatmapgl"
           }
          ],
          "histogram": [
           {
            "marker": {
             "pattern": {
              "fillmode": "overlay",
              "size": 10,
              "solidity": 0.2
             }
            },
            "type": "histogram"
           }
          ],
          "histogram2d": [
           {
            "colorbar": {
             "outlinewidth": 0,
             "ticks": ""
            },
            "colorscale": [
             [
              0,
              "#0d0887"
             ],
             [
              0.1111111111111111,
              "#46039f"
             ],
             [
              0.2222222222222222,
              "#7201a8"
             ],
             [
              0.3333333333333333,
              "#9c179e"
             ],
             [
              0.4444444444444444,
              "#bd3786"
             ],
             [
              0.5555555555555556,
              "#d8576b"
             ],
             [
              0.6666666666666666,
              "#ed7953"
             ],
             [
              0.7777777777777778,
              "#fb9f3a"
             ],
             [
              0.8888888888888888,
              "#fdca26"
             ],
             [
              1,
              "#f0f921"
             ]
            ],
            "type": "histogram2d"
           }
          ],
          "histogram2dcontour": [
           {
            "colorbar": {
             "outlinewidth": 0,
             "ticks": ""
            },
            "colorscale": [
             [
              0,
              "#0d0887"
             ],
             [
              0.1111111111111111,
              "#46039f"
             ],
             [
              0.2222222222222222,
              "#7201a8"
             ],
             [
              0.3333333333333333,
              "#9c179e"
             ],
             [
              0.4444444444444444,
              "#bd3786"
             ],
             [
              0.5555555555555556,
              "#d8576b"
             ],
             [
              0.6666666666666666,
              "#ed7953"
             ],
             [
              0.7777777777777778,
              "#fb9f3a"
             ],
             [
              0.8888888888888888,
              "#fdca26"
             ],
             [
              1,
              "#f0f921"
             ]
            ],
            "type": "histogram2dcontour"
           }
          ],
          "mesh3d": [
           {
            "colorbar": {
             "outlinewidth": 0,
             "ticks": ""
            },
            "type": "mesh3d"
           }
          ],
          "parcoords": [
           {
            "line": {
             "colorbar": {
              "outlinewidth": 0,
              "ticks": ""
             }
            },
            "type": "parcoords"
           }
          ],
          "pie": [
           {
            "automargin": true,
            "type": "pie"
           }
          ],
          "scatter": [
           {
            "fillpattern": {
             "fillmode": "overlay",
             "size": 10,
             "solidity": 0.2
            },
            "type": "scatter"
           }
          ],
          "scatter3d": [
           {
            "line": {
             "colorbar": {
              "outlinewidth": 0,
              "ticks": ""
             }
            },
            "marker": {
             "colorbar": {
              "outlinewidth": 0,
              "ticks": ""
             }
            },
            "type": "scatter3d"
           }
          ],
          "scattercarpet": [
           {
            "marker": {
             "colorbar": {
              "outlinewidth": 0,
              "ticks": ""
             }
            },
            "type": "scattercarpet"
           }
          ],
          "scattergeo": [
           {
            "marker": {
             "colorbar": {
              "outlinewidth": 0,
              "ticks": ""
             }
            },
            "type": "scattergeo"
           }
          ],
          "scattergl": [
           {
            "marker": {
             "colorbar": {
              "outlinewidth": 0,
              "ticks": ""
             }
            },
            "type": "scattergl"
           }
          ],
          "scattermapbox": [
           {
            "marker": {
             "colorbar": {
              "outlinewidth": 0,
              "ticks": ""
             }
            },
            "type": "scattermapbox"
           }
          ],
          "scatterpolar": [
           {
            "marker": {
             "colorbar": {
              "outlinewidth": 0,
              "ticks": ""
             }
            },
            "type": "scatterpolar"
           }
          ],
          "scatterpolargl": [
           {
            "marker": {
             "colorbar": {
              "outlinewidth": 0,
              "ticks": ""
             }
            },
            "type": "scatterpolargl"
           }
          ],
          "scatterternary": [
           {
            "marker": {
             "colorbar": {
              "outlinewidth": 0,
              "ticks": ""
             }
            },
            "type": "scatterternary"
           }
          ],
          "surface": [
           {
            "colorbar": {
             "outlinewidth": 0,
             "ticks": ""
            },
            "colorscale": [
             [
              0,
              "#0d0887"
             ],
             [
              0.1111111111111111,
              "#46039f"
             ],
             [
              0.2222222222222222,
              "#7201a8"
             ],
             [
              0.3333333333333333,
              "#9c179e"
             ],
             [
              0.4444444444444444,
              "#bd3786"
             ],
             [
              0.5555555555555556,
              "#d8576b"
             ],
             [
              0.6666666666666666,
              "#ed7953"
             ],
             [
              0.7777777777777778,
              "#fb9f3a"
             ],
             [
              0.8888888888888888,
              "#fdca26"
             ],
             [
              1,
              "#f0f921"
             ]
            ],
            "type": "surface"
           }
          ],
          "table": [
           {
            "cells": {
             "fill": {
              "color": "#EBF0F8"
             },
             "line": {
              "color": "white"
             }
            },
            "header": {
             "fill": {
              "color": "#C8D4E3"
             },
             "line": {
              "color": "white"
             }
            },
            "type": "table"
           }
          ]
         },
         "layout": {
          "annotationdefaults": {
           "arrowcolor": "#2a3f5f",
           "arrowhead": 0,
           "arrowwidth": 1
          },
          "autotypenumbers": "strict",
          "coloraxis": {
           "colorbar": {
            "outlinewidth": 0,
            "ticks": ""
           }
          },
          "colorscale": {
           "diverging": [
            [
             0,
             "#8e0152"
            ],
            [
             0.1,
             "#c51b7d"
            ],
            [
             0.2,
             "#de77ae"
            ],
            [
             0.3,
             "#f1b6da"
            ],
            [
             0.4,
             "#fde0ef"
            ],
            [
             0.5,
             "#f7f7f7"
            ],
            [
             0.6,
             "#e6f5d0"
            ],
            [
             0.7,
             "#b8e186"
            ],
            [
             0.8,
             "#7fbc41"
            ],
            [
             0.9,
             "#4d9221"
            ],
            [
             1,
             "#276419"
            ]
           ],
           "sequential": [
            [
             0,
             "#0d0887"
            ],
            [
             0.1111111111111111,
             "#46039f"
            ],
            [
             0.2222222222222222,
             "#7201a8"
            ],
            [
             0.3333333333333333,
             "#9c179e"
            ],
            [
             0.4444444444444444,
             "#bd3786"
            ],
            [
             0.5555555555555556,
             "#d8576b"
            ],
            [
             0.6666666666666666,
             "#ed7953"
            ],
            [
             0.7777777777777778,
             "#fb9f3a"
            ],
            [
             0.8888888888888888,
             "#fdca26"
            ],
            [
             1,
             "#f0f921"
            ]
           ],
           "sequentialminus": [
            [
             0,
             "#0d0887"
            ],
            [
             0.1111111111111111,
             "#46039f"
            ],
            [
             0.2222222222222222,
             "#7201a8"
            ],
            [
             0.3333333333333333,
             "#9c179e"
            ],
            [
             0.4444444444444444,
             "#bd3786"
            ],
            [
             0.5555555555555556,
             "#d8576b"
            ],
            [
             0.6666666666666666,
             "#ed7953"
            ],
            [
             0.7777777777777778,
             "#fb9f3a"
            ],
            [
             0.8888888888888888,
             "#fdca26"
            ],
            [
             1,
             "#f0f921"
            ]
           ]
          },
          "colorway": [
           "#636efa",
           "#EF553B",
           "#00cc96",
           "#ab63fa",
           "#FFA15A",
           "#19d3f3",
           "#FF6692",
           "#B6E880",
           "#FF97FF",
           "#FECB52"
          ],
          "font": {
           "color": "#2a3f5f"
          },
          "geo": {
           "bgcolor": "white",
           "lakecolor": "white",
           "landcolor": "#E5ECF6",
           "showlakes": true,
           "showland": true,
           "subunitcolor": "white"
          },
          "hoverlabel": {
           "align": "left"
          },
          "hovermode": "closest",
          "mapbox": {
           "style": "light"
          },
          "paper_bgcolor": "white",
          "plot_bgcolor": "#E5ECF6",
          "polar": {
           "angularaxis": {
            "gridcolor": "white",
            "linecolor": "white",
            "ticks": ""
           },
           "bgcolor": "#E5ECF6",
           "radialaxis": {
            "gridcolor": "white",
            "linecolor": "white",
            "ticks": ""
           }
          },
          "scene": {
           "xaxis": {
            "backgroundcolor": "#E5ECF6",
            "gridcolor": "white",
            "gridwidth": 2,
            "linecolor": "white",
            "showbackground": true,
            "ticks": "",
            "zerolinecolor": "white"
           },
           "yaxis": {
            "backgroundcolor": "#E5ECF6",
            "gridcolor": "white",
            "gridwidth": 2,
            "linecolor": "white",
            "showbackground": true,
            "ticks": "",
            "zerolinecolor": "white"
           },
           "zaxis": {
            "backgroundcolor": "#E5ECF6",
            "gridcolor": "white",
            "gridwidth": 2,
            "linecolor": "white",
            "showbackground": true,
            "ticks": "",
            "zerolinecolor": "white"
           }
          },
          "shapedefaults": {
           "line": {
            "color": "#2a3f5f"
           }
          },
          "ternary": {
           "aaxis": {
            "gridcolor": "white",
            "linecolor": "white",
            "ticks": ""
           },
           "baxis": {
            "gridcolor": "white",
            "linecolor": "white",
            "ticks": ""
           },
           "bgcolor": "#E5ECF6",
           "caxis": {
            "gridcolor": "white",
            "linecolor": "white",
            "ticks": ""
           }
          },
          "title": {
           "x": 0.05
          },
          "xaxis": {
           "automargin": true,
           "gridcolor": "white",
           "linecolor": "white",
           "ticks": "",
           "title": {
            "standoff": 15
           },
           "zerolinecolor": "white",
           "zerolinewidth": 2
          },
          "yaxis": {
           "automargin": true,
           "gridcolor": "white",
           "linecolor": "white",
           "ticks": "",
           "title": {
            "standoff": 15
           },
           "zerolinecolor": "white",
           "zerolinewidth": 2
          }
         }
        },
        "width": 1000
       }
      }
     },
     "metadata": {},
     "output_type": "display_data"
    }
   ],
   "source": [
    "## let's visualize top 15 cuisine\n",
    "\n",
    "fig = px.pie(values=df_cuisine['Frequency'][:15], names=df_cuisine['Cuisine'][:15],\n",
    "             color =df_cuisine['Cuisine'][:15])\n",
    "fig.update_traces(textposition='inside',\n",
    "                  textinfo='percent+label',\n",
    "                  sort=False)\n",
    "fig.update_layout(width=1000, height=550)\n",
    "fig.show()"
   ]
  },
  {
   "cell_type": "markdown",
   "id": "73547a3c",
   "metadata": {},
   "source": [
    "- here, Most popular **Top 3 Cuisine** of Bangalore - Swiggy dataset is **Chinese**, **North Indian** and **South Indian**."
   ]
  },
  {
   "cell_type": "code",
   "execution_count": 63,
   "id": "d647ac74",
   "metadata": {},
   "outputs": [
    {
     "data": {
      "text/html": [
       "<div>\n",
       "<style scoped>\n",
       "    .dataframe tbody tr th:only-of-type {\n",
       "        vertical-align: middle;\n",
       "    }\n",
       "\n",
       "    .dataframe tbody tr th {\n",
       "        vertical-align: top;\n",
       "    }\n",
       "\n",
       "    .dataframe thead th {\n",
       "        text-align: right;\n",
       "    }\n",
       "</style>\n",
       "<table border=\"1\" class=\"dataframe\">\n",
       "  <thead>\n",
       "    <tr style=\"text-align: right;\">\n",
       "      <th></th>\n",
       "      <th>Cuisine</th>\n",
       "      <th>Frequency</th>\n",
       "    </tr>\n",
       "  </thead>\n",
       "  <tbody>\n",
       "    <tr>\n",
       "      <th>6</th>\n",
       "      <td>Chinese</td>\n",
       "      <td>15</td>\n",
       "    </tr>\n",
       "    <tr>\n",
       "      <th>2</th>\n",
       "      <td>NorthIndian</td>\n",
       "      <td>14</td>\n",
       "    </tr>\n",
       "    <tr>\n",
       "      <th>1</th>\n",
       "      <td>SouthIndian</td>\n",
       "      <td>11</td>\n",
       "    </tr>\n",
       "    <tr>\n",
       "      <th>13</th>\n",
       "      <td>Biryani</td>\n",
       "      <td>10</td>\n",
       "    </tr>\n",
       "    <tr>\n",
       "      <th>3</th>\n",
       "      <td>FastFood</td>\n",
       "      <td>9</td>\n",
       "    </tr>\n",
       "    <tr>\n",
       "      <th>11</th>\n",
       "      <td>Desserts</td>\n",
       "      <td>8</td>\n",
       "    </tr>\n",
       "    <tr>\n",
       "      <th>17</th>\n",
       "      <td>American</td>\n",
       "      <td>6</td>\n",
       "    </tr>\n",
       "    <tr>\n",
       "      <th>4</th>\n",
       "      <td>Beverages</td>\n",
       "      <td>5</td>\n",
       "    </tr>\n",
       "    <tr>\n",
       "      <th>8</th>\n",
       "      <td>Pizzas</td>\n",
       "      <td>5</td>\n",
       "    </tr>\n",
       "    <tr>\n",
       "      <th>12</th>\n",
       "      <td>Andhra</td>\n",
       "      <td>5</td>\n",
       "    </tr>\n",
       "    <tr>\n",
       "      <th>14</th>\n",
       "      <td>Seafood</td>\n",
       "      <td>5</td>\n",
       "    </tr>\n",
       "    <tr>\n",
       "      <th>9</th>\n",
       "      <td>Italian</td>\n",
       "      <td>4</td>\n",
       "    </tr>\n",
       "    <tr>\n",
       "      <th>16</th>\n",
       "      <td>HealthyFood</td>\n",
       "      <td>3</td>\n",
       "    </tr>\n",
       "    <tr>\n",
       "      <th>20</th>\n",
       "      <td>Asian</td>\n",
       "      <td>3</td>\n",
       "    </tr>\n",
       "    <tr>\n",
       "      <th>19</th>\n",
       "      <td>Mughlai</td>\n",
       "      <td>3</td>\n",
       "    </tr>\n",
       "    <tr>\n",
       "      <th>18</th>\n",
       "      <td>Snacks</td>\n",
       "      <td>3</td>\n",
       "    </tr>\n",
       "    <tr>\n",
       "      <th>21</th>\n",
       "      <td>Continental</td>\n",
       "      <td>3</td>\n",
       "    </tr>\n",
       "    <tr>\n",
       "      <th>10</th>\n",
       "      <td>Mexican</td>\n",
       "      <td>3</td>\n",
       "    </tr>\n",
       "    <tr>\n",
       "      <th>26</th>\n",
       "      <td>Salads</td>\n",
       "      <td>2</td>\n",
       "    </tr>\n",
       "    <tr>\n",
       "      <th>7</th>\n",
       "      <td>Thai</td>\n",
       "      <td>2</td>\n",
       "    </tr>\n",
       "    <tr>\n",
       "      <th>40</th>\n",
       "      <td>Pan-Asian</td>\n",
       "      <td>2</td>\n",
       "    </tr>\n",
       "    <tr>\n",
       "      <th>35</th>\n",
       "      <td>Indian</td>\n",
       "      <td>2</td>\n",
       "    </tr>\n",
       "    <tr>\n",
       "      <th>36</th>\n",
       "      <td>IceCream</td>\n",
       "      <td>2</td>\n",
       "    </tr>\n",
       "    <tr>\n",
       "      <th>25</th>\n",
       "      <td>Cafe</td>\n",
       "      <td>2</td>\n",
       "    </tr>\n",
       "    <tr>\n",
       "      <th>33</th>\n",
       "      <td>Grill</td>\n",
       "      <td>1</td>\n",
       "    </tr>\n",
       "    <tr>\n",
       "      <th>34</th>\n",
       "      <td>HomeFood</td>\n",
       "      <td>1</td>\n",
       "    </tr>\n",
       "    <tr>\n",
       "      <th>39</th>\n",
       "      <td>Kebabs</td>\n",
       "      <td>1</td>\n",
       "    </tr>\n",
       "    <tr>\n",
       "      <th>37</th>\n",
       "      <td>Juices</td>\n",
       "      <td>1</td>\n",
       "    </tr>\n",
       "    <tr>\n",
       "      <th>38</th>\n",
       "      <td>Chaat</td>\n",
       "      <td>1</td>\n",
       "    </tr>\n",
       "    <tr>\n",
       "      <th>31</th>\n",
       "      <td>Turkish</td>\n",
       "      <td>1</td>\n",
       "    </tr>\n",
       "    <tr>\n",
       "      <th>32</th>\n",
       "      <td>Portuguese</td>\n",
       "      <td>1</td>\n",
       "    </tr>\n",
       "    <tr>\n",
       "      <th>0</th>\n",
       "      <td>Sweets</td>\n",
       "      <td>1</td>\n",
       "    </tr>\n",
       "    <tr>\n",
       "      <th>30</th>\n",
       "      <td>Kerala</td>\n",
       "      <td>1</td>\n",
       "    </tr>\n",
       "    <tr>\n",
       "      <th>29</th>\n",
       "      <td>Hyderabadi</td>\n",
       "      <td>1</td>\n",
       "    </tr>\n",
       "    <tr>\n",
       "      <th>28</th>\n",
       "      <td>Punjabi</td>\n",
       "      <td>1</td>\n",
       "    </tr>\n",
       "    <tr>\n",
       "      <th>27</th>\n",
       "      <td>Pastas</td>\n",
       "      <td>1</td>\n",
       "    </tr>\n",
       "    <tr>\n",
       "      <th>24</th>\n",
       "      <td>Bakery</td>\n",
       "      <td>1</td>\n",
       "    </tr>\n",
       "    <tr>\n",
       "      <th>23</th>\n",
       "      <td>Lebanese</td>\n",
       "      <td>1</td>\n",
       "    </tr>\n",
       "    <tr>\n",
       "      <th>22</th>\n",
       "      <td>Mediterranean</td>\n",
       "      <td>1</td>\n",
       "    </tr>\n",
       "    <tr>\n",
       "      <th>15</th>\n",
       "      <td>Arabian</td>\n",
       "      <td>1</td>\n",
       "    </tr>\n",
       "    <tr>\n",
       "      <th>5</th>\n",
       "      <td>Jain</td>\n",
       "      <td>1</td>\n",
       "    </tr>\n",
       "    <tr>\n",
       "      <th>41</th>\n",
       "      <td>Oriental</td>\n",
       "      <td>1</td>\n",
       "    </tr>\n",
       "  </tbody>\n",
       "</table>\n",
       "</div>"
      ],
      "text/plain": [
       "          Cuisine  Frequency\n",
       "6         Chinese         15\n",
       "2     NorthIndian         14\n",
       "1     SouthIndian         11\n",
       "13        Biryani         10\n",
       "3        FastFood          9\n",
       "11       Desserts          8\n",
       "17       American          6\n",
       "4       Beverages          5\n",
       "8          Pizzas          5\n",
       "12         Andhra          5\n",
       "14        Seafood          5\n",
       "9         Italian          4\n",
       "16    HealthyFood          3\n",
       "20          Asian          3\n",
       "19        Mughlai          3\n",
       "18         Snacks          3\n",
       "21    Continental          3\n",
       "10        Mexican          3\n",
       "26         Salads          2\n",
       "7            Thai          2\n",
       "40      Pan-Asian          2\n",
       "35         Indian          2\n",
       "36       IceCream          2\n",
       "25           Cafe          2\n",
       "33          Grill          1\n",
       "34       HomeFood          1\n",
       "39         Kebabs          1\n",
       "37         Juices          1\n",
       "38          Chaat          1\n",
       "31        Turkish          1\n",
       "32     Portuguese          1\n",
       "0          Sweets          1\n",
       "30         Kerala          1\n",
       "29     Hyderabadi          1\n",
       "28        Punjabi          1\n",
       "27         Pastas          1\n",
       "24         Bakery          1\n",
       "23       Lebanese          1\n",
       "22  Mediterranean          1\n",
       "15        Arabian          1\n",
       "5            Jain          1\n",
       "41       Oriental          1"
      ]
     },
     "execution_count": 63,
     "metadata": {},
     "output_type": "execute_result"
    }
   ],
   "source": [
    "## from Koramangala area's dataset\n",
    "\n",
    "koramangala_cuisine = df_Cuisine(df_koramangala)\n",
    "\n",
    "koramangala_cuisine.sort_values('Frequency',ascending=False,inplace=True)\n",
    "\n",
    "koramangala_cuisine"
   ]
  },
  {
   "cell_type": "code",
   "execution_count": 64,
   "id": "29b559af",
   "metadata": {},
   "outputs": [
    {
     "data": {
      "application/vnd.plotly.v1+json": {
       "config": {
        "plotlyServerURL": "https://plot.ly"
       },
       "data": [
        {
         "customdata": [
          [
           "Chinese"
          ],
          [
           "NorthIndian"
          ],
          [
           "SouthIndian"
          ],
          [
           "Biryani"
          ],
          [
           "FastFood"
          ],
          [
           "Desserts"
          ],
          [
           "American"
          ],
          [
           "Beverages"
          ],
          [
           "Pizzas"
          ],
          [
           "Andhra"
          ],
          [
           "Seafood"
          ],
          [
           "Italian"
          ],
          [
           "HealthyFood"
          ],
          [
           "Asian"
          ],
          [
           "Mughlai"
          ]
         ],
         "domain": {
          "x": [
           0,
           1
          ],
          "y": [
           0,
           1
          ]
         },
         "hovertemplate": "label=%{label}<br>value=%{value}<br>color=%{customdata[0]}<extra></extra>",
         "labels": [
          "Chinese",
          "NorthIndian",
          "SouthIndian",
          "Biryani",
          "FastFood",
          "Desserts",
          "American",
          "Beverages",
          "Pizzas",
          "Andhra",
          "Seafood",
          "Italian",
          "HealthyFood",
          "Asian",
          "Mughlai"
         ],
         "legendgroup": "",
         "marker": {
          "colors": [
           "#636efa",
           "#EF553B",
           "#00cc96",
           "#ab63fa",
           "#FFA15A",
           "#19d3f3",
           "#FF6692",
           "#B6E880",
           "#FF97FF",
           "#FECB52",
           "#636efa",
           "#EF553B",
           "#00cc96",
           "#ab63fa",
           "#FFA15A"
          ]
         },
         "name": "",
         "showlegend": true,
         "sort": false,
         "textinfo": "percent+label",
         "textposition": "inside",
         "type": "pie",
         "values": [
          15,
          14,
          11,
          10,
          9,
          8,
          6,
          5,
          5,
          5,
          5,
          4,
          3,
          3,
          3
         ]
        }
       ],
       "layout": {
        "height": 550,
        "legend": {
         "tracegroupgap": 0
        },
        "margin": {
         "t": 60
        },
        "template": {
         "data": {
          "bar": [
           {
            "error_x": {
             "color": "#2a3f5f"
            },
            "error_y": {
             "color": "#2a3f5f"
            },
            "marker": {
             "line": {
              "color": "#E5ECF6",
              "width": 0.5
             },
             "pattern": {
              "fillmode": "overlay",
              "size": 10,
              "solidity": 0.2
             }
            },
            "type": "bar"
           }
          ],
          "barpolar": [
           {
            "marker": {
             "line": {
              "color": "#E5ECF6",
              "width": 0.5
             },
             "pattern": {
              "fillmode": "overlay",
              "size": 10,
              "solidity": 0.2
             }
            },
            "type": "barpolar"
           }
          ],
          "carpet": [
           {
            "aaxis": {
             "endlinecolor": "#2a3f5f",
             "gridcolor": "white",
             "linecolor": "white",
             "minorgridcolor": "white",
             "startlinecolor": "#2a3f5f"
            },
            "baxis": {
             "endlinecolor": "#2a3f5f",
             "gridcolor": "white",
             "linecolor": "white",
             "minorgridcolor": "white",
             "startlinecolor": "#2a3f5f"
            },
            "type": "carpet"
           }
          ],
          "choropleth": [
           {
            "colorbar": {
             "outlinewidth": 0,
             "ticks": ""
            },
            "type": "choropleth"
           }
          ],
          "contour": [
           {
            "colorbar": {
             "outlinewidth": 0,
             "ticks": ""
            },
            "colorscale": [
             [
              0,
              "#0d0887"
             ],
             [
              0.1111111111111111,
              "#46039f"
             ],
             [
              0.2222222222222222,
              "#7201a8"
             ],
             [
              0.3333333333333333,
              "#9c179e"
             ],
             [
              0.4444444444444444,
              "#bd3786"
             ],
             [
              0.5555555555555556,
              "#d8576b"
             ],
             [
              0.6666666666666666,
              "#ed7953"
             ],
             [
              0.7777777777777778,
              "#fb9f3a"
             ],
             [
              0.8888888888888888,
              "#fdca26"
             ],
             [
              1,
              "#f0f921"
             ]
            ],
            "type": "contour"
           }
          ],
          "contourcarpet": [
           {
            "colorbar": {
             "outlinewidth": 0,
             "ticks": ""
            },
            "type": "contourcarpet"
           }
          ],
          "heatmap": [
           {
            "colorbar": {
             "outlinewidth": 0,
             "ticks": ""
            },
            "colorscale": [
             [
              0,
              "#0d0887"
             ],
             [
              0.1111111111111111,
              "#46039f"
             ],
             [
              0.2222222222222222,
              "#7201a8"
             ],
             [
              0.3333333333333333,
              "#9c179e"
             ],
             [
              0.4444444444444444,
              "#bd3786"
             ],
             [
              0.5555555555555556,
              "#d8576b"
             ],
             [
              0.6666666666666666,
              "#ed7953"
             ],
             [
              0.7777777777777778,
              "#fb9f3a"
             ],
             [
              0.8888888888888888,
              "#fdca26"
             ],
             [
              1,
              "#f0f921"
             ]
            ],
            "type": "heatmap"
           }
          ],
          "heatmapgl": [
           {
            "colorbar": {
             "outlinewidth": 0,
             "ticks": ""
            },
            "colorscale": [
             [
              0,
              "#0d0887"
             ],
             [
              0.1111111111111111,
              "#46039f"
             ],
             [
              0.2222222222222222,
              "#7201a8"
             ],
             [
              0.3333333333333333,
              "#9c179e"
             ],
             [
              0.4444444444444444,
              "#bd3786"
             ],
             [
              0.5555555555555556,
              "#d8576b"
             ],
             [
              0.6666666666666666,
              "#ed7953"
             ],
             [
              0.7777777777777778,
              "#fb9f3a"
             ],
             [
              0.8888888888888888,
              "#fdca26"
             ],
             [
              1,
              "#f0f921"
             ]
            ],
            "type": "heatmapgl"
           }
          ],
          "histogram": [
           {
            "marker": {
             "pattern": {
              "fillmode": "overlay",
              "size": 10,
              "solidity": 0.2
             }
            },
            "type": "histogram"
           }
          ],
          "histogram2d": [
           {
            "colorbar": {
             "outlinewidth": 0,
             "ticks": ""
            },
            "colorscale": [
             [
              0,
              "#0d0887"
             ],
             [
              0.1111111111111111,
              "#46039f"
             ],
             [
              0.2222222222222222,
              "#7201a8"
             ],
             [
              0.3333333333333333,
              "#9c179e"
             ],
             [
              0.4444444444444444,
              "#bd3786"
             ],
             [
              0.5555555555555556,
              "#d8576b"
             ],
             [
              0.6666666666666666,
              "#ed7953"
             ],
             [
              0.7777777777777778,
              "#fb9f3a"
             ],
             [
              0.8888888888888888,
              "#fdca26"
             ],
             [
              1,
              "#f0f921"
             ]
            ],
            "type": "histogram2d"
           }
          ],
          "histogram2dcontour": [
           {
            "colorbar": {
             "outlinewidth": 0,
             "ticks": ""
            },
            "colorscale": [
             [
              0,
              "#0d0887"
             ],
             [
              0.1111111111111111,
              "#46039f"
             ],
             [
              0.2222222222222222,
              "#7201a8"
             ],
             [
              0.3333333333333333,
              "#9c179e"
             ],
             [
              0.4444444444444444,
              "#bd3786"
             ],
             [
              0.5555555555555556,
              "#d8576b"
             ],
             [
              0.6666666666666666,
              "#ed7953"
             ],
             [
              0.7777777777777778,
              "#fb9f3a"
             ],
             [
              0.8888888888888888,
              "#fdca26"
             ],
             [
              1,
              "#f0f921"
             ]
            ],
            "type": "histogram2dcontour"
           }
          ],
          "mesh3d": [
           {
            "colorbar": {
             "outlinewidth": 0,
             "ticks": ""
            },
            "type": "mesh3d"
           }
          ],
          "parcoords": [
           {
            "line": {
             "colorbar": {
              "outlinewidth": 0,
              "ticks": ""
             }
            },
            "type": "parcoords"
           }
          ],
          "pie": [
           {
            "automargin": true,
            "type": "pie"
           }
          ],
          "scatter": [
           {
            "fillpattern": {
             "fillmode": "overlay",
             "size": 10,
             "solidity": 0.2
            },
            "type": "scatter"
           }
          ],
          "scatter3d": [
           {
            "line": {
             "colorbar": {
              "outlinewidth": 0,
              "ticks": ""
             }
            },
            "marker": {
             "colorbar": {
              "outlinewidth": 0,
              "ticks": ""
             }
            },
            "type": "scatter3d"
           }
          ],
          "scattercarpet": [
           {
            "marker": {
             "colorbar": {
              "outlinewidth": 0,
              "ticks": ""
             }
            },
            "type": "scattercarpet"
           }
          ],
          "scattergeo": [
           {
            "marker": {
             "colorbar": {
              "outlinewidth": 0,
              "ticks": ""
             }
            },
            "type": "scattergeo"
           }
          ],
          "scattergl": [
           {
            "marker": {
             "colorbar": {
              "outlinewidth": 0,
              "ticks": ""
             }
            },
            "type": "scattergl"
           }
          ],
          "scattermapbox": [
           {
            "marker": {
             "colorbar": {
              "outlinewidth": 0,
              "ticks": ""
             }
            },
            "type": "scattermapbox"
           }
          ],
          "scatterpolar": [
           {
            "marker": {
             "colorbar": {
              "outlinewidth": 0,
              "ticks": ""
             }
            },
            "type": "scatterpolar"
           }
          ],
          "scatterpolargl": [
           {
            "marker": {
             "colorbar": {
              "outlinewidth": 0,
              "ticks": ""
             }
            },
            "type": "scatterpolargl"
           }
          ],
          "scatterternary": [
           {
            "marker": {
             "colorbar": {
              "outlinewidth": 0,
              "ticks": ""
             }
            },
            "type": "scatterternary"
           }
          ],
          "surface": [
           {
            "colorbar": {
             "outlinewidth": 0,
             "ticks": ""
            },
            "colorscale": [
             [
              0,
              "#0d0887"
             ],
             [
              0.1111111111111111,
              "#46039f"
             ],
             [
              0.2222222222222222,
              "#7201a8"
             ],
             [
              0.3333333333333333,
              "#9c179e"
             ],
             [
              0.4444444444444444,
              "#bd3786"
             ],
             [
              0.5555555555555556,
              "#d8576b"
             ],
             [
              0.6666666666666666,
              "#ed7953"
             ],
             [
              0.7777777777777778,
              "#fb9f3a"
             ],
             [
              0.8888888888888888,
              "#fdca26"
             ],
             [
              1,
              "#f0f921"
             ]
            ],
            "type": "surface"
           }
          ],
          "table": [
           {
            "cells": {
             "fill": {
              "color": "#EBF0F8"
             },
             "line": {
              "color": "white"
             }
            },
            "header": {
             "fill": {
              "color": "#C8D4E3"
             },
             "line": {
              "color": "white"
             }
            },
            "type": "table"
           }
          ]
         },
         "layout": {
          "annotationdefaults": {
           "arrowcolor": "#2a3f5f",
           "arrowhead": 0,
           "arrowwidth": 1
          },
          "autotypenumbers": "strict",
          "coloraxis": {
           "colorbar": {
            "outlinewidth": 0,
            "ticks": ""
           }
          },
          "colorscale": {
           "diverging": [
            [
             0,
             "#8e0152"
            ],
            [
             0.1,
             "#c51b7d"
            ],
            [
             0.2,
             "#de77ae"
            ],
            [
             0.3,
             "#f1b6da"
            ],
            [
             0.4,
             "#fde0ef"
            ],
            [
             0.5,
             "#f7f7f7"
            ],
            [
             0.6,
             "#e6f5d0"
            ],
            [
             0.7,
             "#b8e186"
            ],
            [
             0.8,
             "#7fbc41"
            ],
            [
             0.9,
             "#4d9221"
            ],
            [
             1,
             "#276419"
            ]
           ],
           "sequential": [
            [
             0,
             "#0d0887"
            ],
            [
             0.1111111111111111,
             "#46039f"
            ],
            [
             0.2222222222222222,
             "#7201a8"
            ],
            [
             0.3333333333333333,
             "#9c179e"
            ],
            [
             0.4444444444444444,
             "#bd3786"
            ],
            [
             0.5555555555555556,
             "#d8576b"
            ],
            [
             0.6666666666666666,
             "#ed7953"
            ],
            [
             0.7777777777777778,
             "#fb9f3a"
            ],
            [
             0.8888888888888888,
             "#fdca26"
            ],
            [
             1,
             "#f0f921"
            ]
           ],
           "sequentialminus": [
            [
             0,
             "#0d0887"
            ],
            [
             0.1111111111111111,
             "#46039f"
            ],
            [
             0.2222222222222222,
             "#7201a8"
            ],
            [
             0.3333333333333333,
             "#9c179e"
            ],
            [
             0.4444444444444444,
             "#bd3786"
            ],
            [
             0.5555555555555556,
             "#d8576b"
            ],
            [
             0.6666666666666666,
             "#ed7953"
            ],
            [
             0.7777777777777778,
             "#fb9f3a"
            ],
            [
             0.8888888888888888,
             "#fdca26"
            ],
            [
             1,
             "#f0f921"
            ]
           ]
          },
          "colorway": [
           "#636efa",
           "#EF553B",
           "#00cc96",
           "#ab63fa",
           "#FFA15A",
           "#19d3f3",
           "#FF6692",
           "#B6E880",
           "#FF97FF",
           "#FECB52"
          ],
          "font": {
           "color": "#2a3f5f"
          },
          "geo": {
           "bgcolor": "white",
           "lakecolor": "white",
           "landcolor": "#E5ECF6",
           "showlakes": true,
           "showland": true,
           "subunitcolor": "white"
          },
          "hoverlabel": {
           "align": "left"
          },
          "hovermode": "closest",
          "mapbox": {
           "style": "light"
          },
          "paper_bgcolor": "white",
          "plot_bgcolor": "#E5ECF6",
          "polar": {
           "angularaxis": {
            "gridcolor": "white",
            "linecolor": "white",
            "ticks": ""
           },
           "bgcolor": "#E5ECF6",
           "radialaxis": {
            "gridcolor": "white",
            "linecolor": "white",
            "ticks": ""
           }
          },
          "scene": {
           "xaxis": {
            "backgroundcolor": "#E5ECF6",
            "gridcolor": "white",
            "gridwidth": 2,
            "linecolor": "white",
            "showbackground": true,
            "ticks": "",
            "zerolinecolor": "white"
           },
           "yaxis": {
            "backgroundcolor": "#E5ECF6",
            "gridcolor": "white",
            "gridwidth": 2,
            "linecolor": "white",
            "showbackground": true,
            "ticks": "",
            "zerolinecolor": "white"
           },
           "zaxis": {
            "backgroundcolor": "#E5ECF6",
            "gridcolor": "white",
            "gridwidth": 2,
            "linecolor": "white",
            "showbackground": true,
            "ticks": "",
            "zerolinecolor": "white"
           }
          },
          "shapedefaults": {
           "line": {
            "color": "#2a3f5f"
           }
          },
          "ternary": {
           "aaxis": {
            "gridcolor": "white",
            "linecolor": "white",
            "ticks": ""
           },
           "baxis": {
            "gridcolor": "white",
            "linecolor": "white",
            "ticks": ""
           },
           "bgcolor": "#E5ECF6",
           "caxis": {
            "gridcolor": "white",
            "linecolor": "white",
            "ticks": ""
           }
          },
          "title": {
           "x": 0.05
          },
          "xaxis": {
           "automargin": true,
           "gridcolor": "white",
           "linecolor": "white",
           "ticks": "",
           "title": {
            "standoff": 15
           },
           "zerolinecolor": "white",
           "zerolinewidth": 2
          },
          "yaxis": {
           "automargin": true,
           "gridcolor": "white",
           "linecolor": "white",
           "ticks": "",
           "title": {
            "standoff": 15
           },
           "zerolinecolor": "white",
           "zerolinewidth": 2
          }
         }
        },
        "width": 1000
       }
      }
     },
     "metadata": {},
     "output_type": "display_data"
    }
   ],
   "source": [
    "## let's visualize top 15 cuisine from koramangala area\n",
    "\n",
    "fig = px.pie(values=koramangala_cuisine['Frequency'][:15], names=koramangala_cuisine['Cuisine'][:15],\n",
    "             color =koramangala_cuisine['Cuisine'][:15])\n",
    "fig.update_traces(textposition='inside',\n",
    "                  textinfo='percent+label',\n",
    "                  sort=False)\n",
    "fig.update_layout(width=1000, height=550)\n",
    "fig.show()"
   ]
  },
  {
   "cell_type": "markdown",
   "id": "7a0a6f57",
   "metadata": {},
   "source": [
    "- here also **Top 3 Cuisine** of Koramangala area is **Chinese**, **North Indian** and **South Indian** with **14.2%**, **13.2%** and **10.4%** respectively.\n",
    "\n",
    "- It's shows that people more like Chinese food and North Indian food in Koramangala Area."
   ]
  },
  {
   "cell_type": "code",
   "execution_count": 65,
   "id": "3bb2e7c1",
   "metadata": {},
   "outputs": [
    {
     "data": {
      "text/html": [
       "<div>\n",
       "<style scoped>\n",
       "    .dataframe tbody tr th:only-of-type {\n",
       "        vertical-align: middle;\n",
       "    }\n",
       "\n",
       "    .dataframe tbody tr th {\n",
       "        vertical-align: top;\n",
       "    }\n",
       "\n",
       "    .dataframe thead th {\n",
       "        text-align: right;\n",
       "    }\n",
       "</style>\n",
       "<table border=\"1\" class=\"dataframe\">\n",
       "  <thead>\n",
       "    <tr style=\"text-align: right;\">\n",
       "      <th></th>\n",
       "      <th>Cuisine</th>\n",
       "      <th>Frequency</th>\n",
       "    </tr>\n",
       "  </thead>\n",
       "  <tbody>\n",
       "    <tr>\n",
       "      <th>2</th>\n",
       "      <td>Chinese</td>\n",
       "      <td>18</td>\n",
       "    </tr>\n",
       "    <tr>\n",
       "      <th>1</th>\n",
       "      <td>NorthIndian</td>\n",
       "      <td>16</td>\n",
       "    </tr>\n",
       "    <tr>\n",
       "      <th>4</th>\n",
       "      <td>SouthIndian</td>\n",
       "      <td>10</td>\n",
       "    </tr>\n",
       "    <tr>\n",
       "      <th>14</th>\n",
       "      <td>Biryani</td>\n",
       "      <td>8</td>\n",
       "    </tr>\n",
       "    <tr>\n",
       "      <th>7</th>\n",
       "      <td>Andhra</td>\n",
       "      <td>7</td>\n",
       "    </tr>\n",
       "    <tr>\n",
       "      <th>0</th>\n",
       "      <td>FastFood</td>\n",
       "      <td>6</td>\n",
       "    </tr>\n",
       "    <tr>\n",
       "      <th>5</th>\n",
       "      <td>Desserts</td>\n",
       "      <td>6</td>\n",
       "    </tr>\n",
       "    <tr>\n",
       "      <th>6</th>\n",
       "      <td>Kerala</td>\n",
       "      <td>4</td>\n",
       "    </tr>\n",
       "    <tr>\n",
       "      <th>8</th>\n",
       "      <td>Beverages</td>\n",
       "      <td>4</td>\n",
       "    </tr>\n",
       "    <tr>\n",
       "      <th>12</th>\n",
       "      <td>Hyderabadi</td>\n",
       "      <td>4</td>\n",
       "    </tr>\n",
       "    <tr>\n",
       "      <th>9</th>\n",
       "      <td>Mughlai</td>\n",
       "      <td>3</td>\n",
       "    </tr>\n",
       "    <tr>\n",
       "      <th>10</th>\n",
       "      <td>Seafood</td>\n",
       "      <td>3</td>\n",
       "    </tr>\n",
       "    <tr>\n",
       "      <th>18</th>\n",
       "      <td>Arabian</td>\n",
       "      <td>2</td>\n",
       "    </tr>\n",
       "    <tr>\n",
       "      <th>13</th>\n",
       "      <td>Indian</td>\n",
       "      <td>2</td>\n",
       "    </tr>\n",
       "    <tr>\n",
       "      <th>11</th>\n",
       "      <td>Bakery</td>\n",
       "      <td>1</td>\n",
       "    </tr>\n",
       "    <tr>\n",
       "      <th>15</th>\n",
       "      <td>Snacks</td>\n",
       "      <td>1</td>\n",
       "    </tr>\n",
       "    <tr>\n",
       "      <th>16</th>\n",
       "      <td>Sweets</td>\n",
       "      <td>1</td>\n",
       "    </tr>\n",
       "    <tr>\n",
       "      <th>17</th>\n",
       "      <td>Chaat</td>\n",
       "      <td>1</td>\n",
       "    </tr>\n",
       "    <tr>\n",
       "      <th>3</th>\n",
       "      <td>Italian</td>\n",
       "      <td>1</td>\n",
       "    </tr>\n",
       "    <tr>\n",
       "      <th>19</th>\n",
       "      <td>Thai</td>\n",
       "      <td>1</td>\n",
       "    </tr>\n",
       "    <tr>\n",
       "      <th>20</th>\n",
       "      <td>Tandoor</td>\n",
       "      <td>1</td>\n",
       "    </tr>\n",
       "    <tr>\n",
       "      <th>21</th>\n",
       "      <td>Punjabi</td>\n",
       "      <td>1</td>\n",
       "    </tr>\n",
       "    <tr>\n",
       "      <th>22</th>\n",
       "      <td>HealthyFood</td>\n",
       "      <td>1</td>\n",
       "    </tr>\n",
       "    <tr>\n",
       "      <th>23</th>\n",
       "      <td>Chettinad</td>\n",
       "      <td>1</td>\n",
       "    </tr>\n",
       "    <tr>\n",
       "      <th>24</th>\n",
       "      <td>MiddleEastern</td>\n",
       "      <td>1</td>\n",
       "    </tr>\n",
       "    <tr>\n",
       "      <th>25</th>\n",
       "      <td>Grill</td>\n",
       "      <td>1</td>\n",
       "    </tr>\n",
       "  </tbody>\n",
       "</table>\n",
       "</div>"
      ],
      "text/plain": [
       "          Cuisine  Frequency\n",
       "2         Chinese         18\n",
       "1     NorthIndian         16\n",
       "4     SouthIndian         10\n",
       "14        Biryani          8\n",
       "7          Andhra          7\n",
       "0        FastFood          6\n",
       "5        Desserts          6\n",
       "6          Kerala          4\n",
       "8       Beverages          4\n",
       "12     Hyderabadi          4\n",
       "9         Mughlai          3\n",
       "10        Seafood          3\n",
       "18        Arabian          2\n",
       "13         Indian          2\n",
       "11         Bakery          1\n",
       "15         Snacks          1\n",
       "16         Sweets          1\n",
       "17          Chaat          1\n",
       "3         Italian          1\n",
       "19           Thai          1\n",
       "20        Tandoor          1\n",
       "21        Punjabi          1\n",
       "22    HealthyFood          1\n",
       "23      Chettinad          1\n",
       "24  MiddleEastern          1\n",
       "25          Grill          1"
      ]
     },
     "execution_count": 65,
     "metadata": {},
     "output_type": "execute_result"
    }
   ],
   "source": [
    "## from BTM area's dataset\n",
    "\n",
    "BTM_cuisine = df_Cuisine(df_BTM)\n",
    "\n",
    "BTM_cuisine.sort_values('Frequency',ascending=False,inplace=True)\n",
    "\n",
    "BTM_cuisine"
   ]
  },
  {
   "cell_type": "code",
   "execution_count": 66,
   "id": "754bb2f6",
   "metadata": {},
   "outputs": [
    {
     "data": {
      "application/vnd.plotly.v1+json": {
       "config": {
        "plotlyServerURL": "https://plot.ly"
       },
       "data": [
        {
         "customdata": [
          [
           "Chinese"
          ],
          [
           "NorthIndian"
          ],
          [
           "SouthIndian"
          ],
          [
           "Biryani"
          ],
          [
           "Andhra"
          ],
          [
           "FastFood"
          ],
          [
           "Desserts"
          ],
          [
           "Kerala"
          ],
          [
           "Beverages"
          ],
          [
           "Hyderabadi"
          ],
          [
           "Mughlai"
          ],
          [
           "Seafood"
          ],
          [
           "Arabian"
          ],
          [
           "Indian"
          ],
          [
           "Bakery"
          ]
         ],
         "domain": {
          "x": [
           0,
           1
          ],
          "y": [
           0,
           1
          ]
         },
         "hovertemplate": "label=%{label}<br>value=%{value}<br>color=%{customdata[0]}<extra></extra>",
         "labels": [
          "Chinese",
          "NorthIndian",
          "SouthIndian",
          "Biryani",
          "Andhra",
          "FastFood",
          "Desserts",
          "Kerala",
          "Beverages",
          "Hyderabadi",
          "Mughlai",
          "Seafood",
          "Arabian",
          "Indian",
          "Bakery"
         ],
         "legendgroup": "",
         "marker": {
          "colors": [
           "#636efa",
           "#EF553B",
           "#00cc96",
           "#ab63fa",
           "#FFA15A",
           "#19d3f3",
           "#FF6692",
           "#B6E880",
           "#FF97FF",
           "#FECB52",
           "#636efa",
           "#EF553B",
           "#00cc96",
           "#ab63fa",
           "#FFA15A"
          ]
         },
         "name": "",
         "showlegend": true,
         "sort": false,
         "textinfo": "percent+label",
         "textposition": "inside",
         "type": "pie",
         "values": [
          18,
          16,
          10,
          8,
          7,
          6,
          6,
          4,
          4,
          4,
          3,
          3,
          2,
          2,
          1
         ]
        }
       ],
       "layout": {
        "height": 550,
        "legend": {
         "tracegroupgap": 0
        },
        "margin": {
         "t": 60
        },
        "template": {
         "data": {
          "bar": [
           {
            "error_x": {
             "color": "#2a3f5f"
            },
            "error_y": {
             "color": "#2a3f5f"
            },
            "marker": {
             "line": {
              "color": "#E5ECF6",
              "width": 0.5
             },
             "pattern": {
              "fillmode": "overlay",
              "size": 10,
              "solidity": 0.2
             }
            },
            "type": "bar"
           }
          ],
          "barpolar": [
           {
            "marker": {
             "line": {
              "color": "#E5ECF6",
              "width": 0.5
             },
             "pattern": {
              "fillmode": "overlay",
              "size": 10,
              "solidity": 0.2
             }
            },
            "type": "barpolar"
           }
          ],
          "carpet": [
           {
            "aaxis": {
             "endlinecolor": "#2a3f5f",
             "gridcolor": "white",
             "linecolor": "white",
             "minorgridcolor": "white",
             "startlinecolor": "#2a3f5f"
            },
            "baxis": {
             "endlinecolor": "#2a3f5f",
             "gridcolor": "white",
             "linecolor": "white",
             "minorgridcolor": "white",
             "startlinecolor": "#2a3f5f"
            },
            "type": "carpet"
           }
          ],
          "choropleth": [
           {
            "colorbar": {
             "outlinewidth": 0,
             "ticks": ""
            },
            "type": "choropleth"
           }
          ],
          "contour": [
           {
            "colorbar": {
             "outlinewidth": 0,
             "ticks": ""
            },
            "colorscale": [
             [
              0,
              "#0d0887"
             ],
             [
              0.1111111111111111,
              "#46039f"
             ],
             [
              0.2222222222222222,
              "#7201a8"
             ],
             [
              0.3333333333333333,
              "#9c179e"
             ],
             [
              0.4444444444444444,
              "#bd3786"
             ],
             [
              0.5555555555555556,
              "#d8576b"
             ],
             [
              0.6666666666666666,
              "#ed7953"
             ],
             [
              0.7777777777777778,
              "#fb9f3a"
             ],
             [
              0.8888888888888888,
              "#fdca26"
             ],
             [
              1,
              "#f0f921"
             ]
            ],
            "type": "contour"
           }
          ],
          "contourcarpet": [
           {
            "colorbar": {
             "outlinewidth": 0,
             "ticks": ""
            },
            "type": "contourcarpet"
           }
          ],
          "heatmap": [
           {
            "colorbar": {
             "outlinewidth": 0,
             "ticks": ""
            },
            "colorscale": [
             [
              0,
              "#0d0887"
             ],
             [
              0.1111111111111111,
              "#46039f"
             ],
             [
              0.2222222222222222,
              "#7201a8"
             ],
             [
              0.3333333333333333,
              "#9c179e"
             ],
             [
              0.4444444444444444,
              "#bd3786"
             ],
             [
              0.5555555555555556,
              "#d8576b"
             ],
             [
              0.6666666666666666,
              "#ed7953"
             ],
             [
              0.7777777777777778,
              "#fb9f3a"
             ],
             [
              0.8888888888888888,
              "#fdca26"
             ],
             [
              1,
              "#f0f921"
             ]
            ],
            "type": "heatmap"
           }
          ],
          "heatmapgl": [
           {
            "colorbar": {
             "outlinewidth": 0,
             "ticks": ""
            },
            "colorscale": [
             [
              0,
              "#0d0887"
             ],
             [
              0.1111111111111111,
              "#46039f"
             ],
             [
              0.2222222222222222,
              "#7201a8"
             ],
             [
              0.3333333333333333,
              "#9c179e"
             ],
             [
              0.4444444444444444,
              "#bd3786"
             ],
             [
              0.5555555555555556,
              "#d8576b"
             ],
             [
              0.6666666666666666,
              "#ed7953"
             ],
             [
              0.7777777777777778,
              "#fb9f3a"
             ],
             [
              0.8888888888888888,
              "#fdca26"
             ],
             [
              1,
              "#f0f921"
             ]
            ],
            "type": "heatmapgl"
           }
          ],
          "histogram": [
           {
            "marker": {
             "pattern": {
              "fillmode": "overlay",
              "size": 10,
              "solidity": 0.2
             }
            },
            "type": "histogram"
           }
          ],
          "histogram2d": [
           {
            "colorbar": {
             "outlinewidth": 0,
             "ticks": ""
            },
            "colorscale": [
             [
              0,
              "#0d0887"
             ],
             [
              0.1111111111111111,
              "#46039f"
             ],
             [
              0.2222222222222222,
              "#7201a8"
             ],
             [
              0.3333333333333333,
              "#9c179e"
             ],
             [
              0.4444444444444444,
              "#bd3786"
             ],
             [
              0.5555555555555556,
              "#d8576b"
             ],
             [
              0.6666666666666666,
              "#ed7953"
             ],
             [
              0.7777777777777778,
              "#fb9f3a"
             ],
             [
              0.8888888888888888,
              "#fdca26"
             ],
             [
              1,
              "#f0f921"
             ]
            ],
            "type": "histogram2d"
           }
          ],
          "histogram2dcontour": [
           {
            "colorbar": {
             "outlinewidth": 0,
             "ticks": ""
            },
            "colorscale": [
             [
              0,
              "#0d0887"
             ],
             [
              0.1111111111111111,
              "#46039f"
             ],
             [
              0.2222222222222222,
              "#7201a8"
             ],
             [
              0.3333333333333333,
              "#9c179e"
             ],
             [
              0.4444444444444444,
              "#bd3786"
             ],
             [
              0.5555555555555556,
              "#d8576b"
             ],
             [
              0.6666666666666666,
              "#ed7953"
             ],
             [
              0.7777777777777778,
              "#fb9f3a"
             ],
             [
              0.8888888888888888,
              "#fdca26"
             ],
             [
              1,
              "#f0f921"
             ]
            ],
            "type": "histogram2dcontour"
           }
          ],
          "mesh3d": [
           {
            "colorbar": {
             "outlinewidth": 0,
             "ticks": ""
            },
            "type": "mesh3d"
           }
          ],
          "parcoords": [
           {
            "line": {
             "colorbar": {
              "outlinewidth": 0,
              "ticks": ""
             }
            },
            "type": "parcoords"
           }
          ],
          "pie": [
           {
            "automargin": true,
            "type": "pie"
           }
          ],
          "scatter": [
           {
            "fillpattern": {
             "fillmode": "overlay",
             "size": 10,
             "solidity": 0.2
            },
            "type": "scatter"
           }
          ],
          "scatter3d": [
           {
            "line": {
             "colorbar": {
              "outlinewidth": 0,
              "ticks": ""
             }
            },
            "marker": {
             "colorbar": {
              "outlinewidth": 0,
              "ticks": ""
             }
            },
            "type": "scatter3d"
           }
          ],
          "scattercarpet": [
           {
            "marker": {
             "colorbar": {
              "outlinewidth": 0,
              "ticks": ""
             }
            },
            "type": "scattercarpet"
           }
          ],
          "scattergeo": [
           {
            "marker": {
             "colorbar": {
              "outlinewidth": 0,
              "ticks": ""
             }
            },
            "type": "scattergeo"
           }
          ],
          "scattergl": [
           {
            "marker": {
             "colorbar": {
              "outlinewidth": 0,
              "ticks": ""
             }
            },
            "type": "scattergl"
           }
          ],
          "scattermapbox": [
           {
            "marker": {
             "colorbar": {
              "outlinewidth": 0,
              "ticks": ""
             }
            },
            "type": "scattermapbox"
           }
          ],
          "scatterpolar": [
           {
            "marker": {
             "colorbar": {
              "outlinewidth": 0,
              "ticks": ""
             }
            },
            "type": "scatterpolar"
           }
          ],
          "scatterpolargl": [
           {
            "marker": {
             "colorbar": {
              "outlinewidth": 0,
              "ticks": ""
             }
            },
            "type": "scatterpolargl"
           }
          ],
          "scatterternary": [
           {
            "marker": {
             "colorbar": {
              "outlinewidth": 0,
              "ticks": ""
             }
            },
            "type": "scatterternary"
           }
          ],
          "surface": [
           {
            "colorbar": {
             "outlinewidth": 0,
             "ticks": ""
            },
            "colorscale": [
             [
              0,
              "#0d0887"
             ],
             [
              0.1111111111111111,
              "#46039f"
             ],
             [
              0.2222222222222222,
              "#7201a8"
             ],
             [
              0.3333333333333333,
              "#9c179e"
             ],
             [
              0.4444444444444444,
              "#bd3786"
             ],
             [
              0.5555555555555556,
              "#d8576b"
             ],
             [
              0.6666666666666666,
              "#ed7953"
             ],
             [
              0.7777777777777778,
              "#fb9f3a"
             ],
             [
              0.8888888888888888,
              "#fdca26"
             ],
             [
              1,
              "#f0f921"
             ]
            ],
            "type": "surface"
           }
          ],
          "table": [
           {
            "cells": {
             "fill": {
              "color": "#EBF0F8"
             },
             "line": {
              "color": "white"
             }
            },
            "header": {
             "fill": {
              "color": "#C8D4E3"
             },
             "line": {
              "color": "white"
             }
            },
            "type": "table"
           }
          ]
         },
         "layout": {
          "annotationdefaults": {
           "arrowcolor": "#2a3f5f",
           "arrowhead": 0,
           "arrowwidth": 1
          },
          "autotypenumbers": "strict",
          "coloraxis": {
           "colorbar": {
            "outlinewidth": 0,
            "ticks": ""
           }
          },
          "colorscale": {
           "diverging": [
            [
             0,
             "#8e0152"
            ],
            [
             0.1,
             "#c51b7d"
            ],
            [
             0.2,
             "#de77ae"
            ],
            [
             0.3,
             "#f1b6da"
            ],
            [
             0.4,
             "#fde0ef"
            ],
            [
             0.5,
             "#f7f7f7"
            ],
            [
             0.6,
             "#e6f5d0"
            ],
            [
             0.7,
             "#b8e186"
            ],
            [
             0.8,
             "#7fbc41"
            ],
            [
             0.9,
             "#4d9221"
            ],
            [
             1,
             "#276419"
            ]
           ],
           "sequential": [
            [
             0,
             "#0d0887"
            ],
            [
             0.1111111111111111,
             "#46039f"
            ],
            [
             0.2222222222222222,
             "#7201a8"
            ],
            [
             0.3333333333333333,
             "#9c179e"
            ],
            [
             0.4444444444444444,
             "#bd3786"
            ],
            [
             0.5555555555555556,
             "#d8576b"
            ],
            [
             0.6666666666666666,
             "#ed7953"
            ],
            [
             0.7777777777777778,
             "#fb9f3a"
            ],
            [
             0.8888888888888888,
             "#fdca26"
            ],
            [
             1,
             "#f0f921"
            ]
           ],
           "sequentialminus": [
            [
             0,
             "#0d0887"
            ],
            [
             0.1111111111111111,
             "#46039f"
            ],
            [
             0.2222222222222222,
             "#7201a8"
            ],
            [
             0.3333333333333333,
             "#9c179e"
            ],
            [
             0.4444444444444444,
             "#bd3786"
            ],
            [
             0.5555555555555556,
             "#d8576b"
            ],
            [
             0.6666666666666666,
             "#ed7953"
            ],
            [
             0.7777777777777778,
             "#fb9f3a"
            ],
            [
             0.8888888888888888,
             "#fdca26"
            ],
            [
             1,
             "#f0f921"
            ]
           ]
          },
          "colorway": [
           "#636efa",
           "#EF553B",
           "#00cc96",
           "#ab63fa",
           "#FFA15A",
           "#19d3f3",
           "#FF6692",
           "#B6E880",
           "#FF97FF",
           "#FECB52"
          ],
          "font": {
           "color": "#2a3f5f"
          },
          "geo": {
           "bgcolor": "white",
           "lakecolor": "white",
           "landcolor": "#E5ECF6",
           "showlakes": true,
           "showland": true,
           "subunitcolor": "white"
          },
          "hoverlabel": {
           "align": "left"
          },
          "hovermode": "closest",
          "mapbox": {
           "style": "light"
          },
          "paper_bgcolor": "white",
          "plot_bgcolor": "#E5ECF6",
          "polar": {
           "angularaxis": {
            "gridcolor": "white",
            "linecolor": "white",
            "ticks": ""
           },
           "bgcolor": "#E5ECF6",
           "radialaxis": {
            "gridcolor": "white",
            "linecolor": "white",
            "ticks": ""
           }
          },
          "scene": {
           "xaxis": {
            "backgroundcolor": "#E5ECF6",
            "gridcolor": "white",
            "gridwidth": 2,
            "linecolor": "white",
            "showbackground": true,
            "ticks": "",
            "zerolinecolor": "white"
           },
           "yaxis": {
            "backgroundcolor": "#E5ECF6",
            "gridcolor": "white",
            "gridwidth": 2,
            "linecolor": "white",
            "showbackground": true,
            "ticks": "",
            "zerolinecolor": "white"
           },
           "zaxis": {
            "backgroundcolor": "#E5ECF6",
            "gridcolor": "white",
            "gridwidth": 2,
            "linecolor": "white",
            "showbackground": true,
            "ticks": "",
            "zerolinecolor": "white"
           }
          },
          "shapedefaults": {
           "line": {
            "color": "#2a3f5f"
           }
          },
          "ternary": {
           "aaxis": {
            "gridcolor": "white",
            "linecolor": "white",
            "ticks": ""
           },
           "baxis": {
            "gridcolor": "white",
            "linecolor": "white",
            "ticks": ""
           },
           "bgcolor": "#E5ECF6",
           "caxis": {
            "gridcolor": "white",
            "linecolor": "white",
            "ticks": ""
           }
          },
          "title": {
           "x": 0.05
          },
          "xaxis": {
           "automargin": true,
           "gridcolor": "white",
           "linecolor": "white",
           "ticks": "",
           "title": {
            "standoff": 15
           },
           "zerolinecolor": "white",
           "zerolinewidth": 2
          },
          "yaxis": {
           "automargin": true,
           "gridcolor": "white",
           "linecolor": "white",
           "ticks": "",
           "title": {
            "standoff": 15
           },
           "zerolinecolor": "white",
           "zerolinewidth": 2
          }
         }
        },
        "width": 1000
       }
      }
     },
     "metadata": {},
     "output_type": "display_data"
    }
   ],
   "source": [
    "## let's visualize top 15 cuisine from BTM area\n",
    "\n",
    "fig = px.pie(values=BTM_cuisine['Frequency'][:15], names=BTM_cuisine['Cuisine'][:15],\n",
    "             color =BTM_cuisine['Cuisine'][:15])\n",
    "fig.update_traces(textposition='inside',\n",
    "                  textinfo='percent+label',\n",
    "                  sort=False)\n",
    "fig.update_layout(width=1000, height=550)\n",
    "fig.show()"
   ]
  },
  {
   "cell_type": "markdown",
   "id": "97d1217b",
   "metadata": {},
   "source": [
    "- In BTM, **Top 3 Cuisine** of this area is **Chinese**, **North Indian** and **South Indian** with **19.1%**, **17%** and **10.6%** respectively.\n",
    "\n",
    "- It's shows that here also people more like Chinese food and North Indian food."
   ]
  },
  {
   "cell_type": "code",
   "execution_count": 67,
   "id": "03aaff1b",
   "metadata": {},
   "outputs": [
    {
     "data": {
      "text/html": [
       "<div>\n",
       "<style scoped>\n",
       "    .dataframe tbody tr th:only-of-type {\n",
       "        vertical-align: middle;\n",
       "    }\n",
       "\n",
       "    .dataframe tbody tr th {\n",
       "        vertical-align: top;\n",
       "    }\n",
       "\n",
       "    .dataframe thead th {\n",
       "        text-align: right;\n",
       "    }\n",
       "</style>\n",
       "<table border=\"1\" class=\"dataframe\">\n",
       "  <thead>\n",
       "    <tr style=\"text-align: right;\">\n",
       "      <th></th>\n",
       "      <th>Cuisine</th>\n",
       "      <th>Frequency</th>\n",
       "    </tr>\n",
       "  </thead>\n",
       "  <tbody>\n",
       "    <tr>\n",
       "      <th>0</th>\n",
       "      <td>NorthIndian</td>\n",
       "      <td>6</td>\n",
       "    </tr>\n",
       "    <tr>\n",
       "      <th>6</th>\n",
       "      <td>Chinese</td>\n",
       "      <td>4</td>\n",
       "    </tr>\n",
       "    <tr>\n",
       "      <th>10</th>\n",
       "      <td>SouthIndian</td>\n",
       "      <td>4</td>\n",
       "    </tr>\n",
       "    <tr>\n",
       "      <th>4</th>\n",
       "      <td>American</td>\n",
       "      <td>3</td>\n",
       "    </tr>\n",
       "    <tr>\n",
       "      <th>7</th>\n",
       "      <td>Desserts</td>\n",
       "      <td>3</td>\n",
       "    </tr>\n",
       "    <tr>\n",
       "      <th>15</th>\n",
       "      <td>Biryani</td>\n",
       "      <td>3</td>\n",
       "    </tr>\n",
       "    <tr>\n",
       "      <th>14</th>\n",
       "      <td>Jain</td>\n",
       "      <td>1</td>\n",
       "    </tr>\n",
       "    <tr>\n",
       "      <th>22</th>\n",
       "      <td>Snacks</td>\n",
       "      <td>1</td>\n",
       "    </tr>\n",
       "    <tr>\n",
       "      <th>21</th>\n",
       "      <td>Kebabs</td>\n",
       "      <td>1</td>\n",
       "    </tr>\n",
       "    <tr>\n",
       "      <th>20</th>\n",
       "      <td>Juices</td>\n",
       "      <td>1</td>\n",
       "    </tr>\n",
       "    <tr>\n",
       "      <th>19</th>\n",
       "      <td>Bakery</td>\n",
       "      <td>1</td>\n",
       "    </tr>\n",
       "    <tr>\n",
       "      <th>18</th>\n",
       "      <td>Andhra</td>\n",
       "      <td>1</td>\n",
       "    </tr>\n",
       "    <tr>\n",
       "      <th>17</th>\n",
       "      <td>Portuguese</td>\n",
       "      <td>1</td>\n",
       "    </tr>\n",
       "    <tr>\n",
       "      <th>16</th>\n",
       "      <td>Turkish</td>\n",
       "      <td>1</td>\n",
       "    </tr>\n",
       "    <tr>\n",
       "      <th>12</th>\n",
       "      <td>Indian</td>\n",
       "      <td>1</td>\n",
       "    </tr>\n",
       "    <tr>\n",
       "      <th>13</th>\n",
       "      <td>Rajasthani</td>\n",
       "      <td>1</td>\n",
       "    </tr>\n",
       "    <tr>\n",
       "      <th>1</th>\n",
       "      <td>HomeFood</td>\n",
       "      <td>1</td>\n",
       "    </tr>\n",
       "    <tr>\n",
       "      <th>11</th>\n",
       "      <td>Kerala</td>\n",
       "      <td>1</td>\n",
       "    </tr>\n",
       "    <tr>\n",
       "      <th>9</th>\n",
       "      <td>Mughlai</td>\n",
       "      <td>1</td>\n",
       "    </tr>\n",
       "    <tr>\n",
       "      <th>8</th>\n",
       "      <td>FastFood</td>\n",
       "      <td>1</td>\n",
       "    </tr>\n",
       "    <tr>\n",
       "      <th>5</th>\n",
       "      <td>Arabian</td>\n",
       "      <td>1</td>\n",
       "    </tr>\n",
       "    <tr>\n",
       "      <th>3</th>\n",
       "      <td>Combo</td>\n",
       "      <td>1</td>\n",
       "    </tr>\n",
       "    <tr>\n",
       "      <th>2</th>\n",
       "      <td>Thalis</td>\n",
       "      <td>1</td>\n",
       "    </tr>\n",
       "    <tr>\n",
       "      <th>23</th>\n",
       "      <td>Chettinad</td>\n",
       "      <td>1</td>\n",
       "    </tr>\n",
       "  </tbody>\n",
       "</table>\n",
       "</div>"
      ],
      "text/plain": [
       "        Cuisine  Frequency\n",
       "0   NorthIndian          6\n",
       "6       Chinese          4\n",
       "10  SouthIndian          4\n",
       "4      American          3\n",
       "7      Desserts          3\n",
       "15      Biryani          3\n",
       "14         Jain          1\n",
       "22       Snacks          1\n",
       "21       Kebabs          1\n",
       "20       Juices          1\n",
       "19       Bakery          1\n",
       "18       Andhra          1\n",
       "17   Portuguese          1\n",
       "16      Turkish          1\n",
       "12       Indian          1\n",
       "13   Rajasthani          1\n",
       "1      HomeFood          1\n",
       "11       Kerala          1\n",
       "9       Mughlai          1\n",
       "8      FastFood          1\n",
       "5       Arabian          1\n",
       "3         Combo          1\n",
       "2        Thalis          1\n",
       "23    Chettinad          1"
      ]
     },
     "execution_count": 67,
     "metadata": {},
     "output_type": "execute_result"
    }
   ],
   "source": [
    "## from HSR area's dataset\n",
    "\n",
    "HSR_cuisine = df_Cuisine(df_HSR)\n",
    "\n",
    "HSR_cuisine.sort_values('Frequency',ascending=False,inplace=True)\n",
    "\n",
    "HSR_cuisine"
   ]
  },
  {
   "cell_type": "code",
   "execution_count": 68,
   "id": "f1d33961",
   "metadata": {},
   "outputs": [
    {
     "data": {
      "application/vnd.plotly.v1+json": {
       "config": {
        "plotlyServerURL": "https://plot.ly"
       },
       "data": [
        {
         "customdata": [
          [
           "NorthIndian"
          ],
          [
           "Chinese"
          ],
          [
           "SouthIndian"
          ],
          [
           "American"
          ],
          [
           "Desserts"
          ],
          [
           "Biryani"
          ],
          [
           "Jain"
          ],
          [
           "Snacks"
          ],
          [
           "Kebabs"
          ],
          [
           "Juices"
          ],
          [
           "Bakery"
          ],
          [
           "Andhra"
          ],
          [
           "Portuguese"
          ],
          [
           "Turkish"
          ],
          [
           "Indian"
          ]
         ],
         "domain": {
          "x": [
           0,
           1
          ],
          "y": [
           0,
           1
          ]
         },
         "hovertemplate": "label=%{label}<br>value=%{value}<br>color=%{customdata[0]}<extra></extra>",
         "labels": [
          "NorthIndian",
          "Chinese",
          "SouthIndian",
          "American",
          "Desserts",
          "Biryani",
          "Jain",
          "Snacks",
          "Kebabs",
          "Juices",
          "Bakery",
          "Andhra",
          "Portuguese",
          "Turkish",
          "Indian"
         ],
         "legendgroup": "",
         "marker": {
          "colors": [
           "#636efa",
           "#EF553B",
           "#00cc96",
           "#ab63fa",
           "#FFA15A",
           "#19d3f3",
           "#FF6692",
           "#B6E880",
           "#FF97FF",
           "#FECB52",
           "#636efa",
           "#EF553B",
           "#00cc96",
           "#ab63fa",
           "#FFA15A"
          ]
         },
         "name": "",
         "showlegend": true,
         "sort": false,
         "textinfo": "percent+label",
         "textposition": "inside",
         "type": "pie",
         "values": [
          6,
          4,
          4,
          3,
          3,
          3,
          1,
          1,
          1,
          1,
          1,
          1,
          1,
          1,
          1
         ]
        }
       ],
       "layout": {
        "height": 550,
        "legend": {
         "tracegroupgap": 0
        },
        "margin": {
         "t": 60
        },
        "template": {
         "data": {
          "bar": [
           {
            "error_x": {
             "color": "#2a3f5f"
            },
            "error_y": {
             "color": "#2a3f5f"
            },
            "marker": {
             "line": {
              "color": "#E5ECF6",
              "width": 0.5
             },
             "pattern": {
              "fillmode": "overlay",
              "size": 10,
              "solidity": 0.2
             }
            },
            "type": "bar"
           }
          ],
          "barpolar": [
           {
            "marker": {
             "line": {
              "color": "#E5ECF6",
              "width": 0.5
             },
             "pattern": {
              "fillmode": "overlay",
              "size": 10,
              "solidity": 0.2
             }
            },
            "type": "barpolar"
           }
          ],
          "carpet": [
           {
            "aaxis": {
             "endlinecolor": "#2a3f5f",
             "gridcolor": "white",
             "linecolor": "white",
             "minorgridcolor": "white",
             "startlinecolor": "#2a3f5f"
            },
            "baxis": {
             "endlinecolor": "#2a3f5f",
             "gridcolor": "white",
             "linecolor": "white",
             "minorgridcolor": "white",
             "startlinecolor": "#2a3f5f"
            },
            "type": "carpet"
           }
          ],
          "choropleth": [
           {
            "colorbar": {
             "outlinewidth": 0,
             "ticks": ""
            },
            "type": "choropleth"
           }
          ],
          "contour": [
           {
            "colorbar": {
             "outlinewidth": 0,
             "ticks": ""
            },
            "colorscale": [
             [
              0,
              "#0d0887"
             ],
             [
              0.1111111111111111,
              "#46039f"
             ],
             [
              0.2222222222222222,
              "#7201a8"
             ],
             [
              0.3333333333333333,
              "#9c179e"
             ],
             [
              0.4444444444444444,
              "#bd3786"
             ],
             [
              0.5555555555555556,
              "#d8576b"
             ],
             [
              0.6666666666666666,
              "#ed7953"
             ],
             [
              0.7777777777777778,
              "#fb9f3a"
             ],
             [
              0.8888888888888888,
              "#fdca26"
             ],
             [
              1,
              "#f0f921"
             ]
            ],
            "type": "contour"
           }
          ],
          "contourcarpet": [
           {
            "colorbar": {
             "outlinewidth": 0,
             "ticks": ""
            },
            "type": "contourcarpet"
           }
          ],
          "heatmap": [
           {
            "colorbar": {
             "outlinewidth": 0,
             "ticks": ""
            },
            "colorscale": [
             [
              0,
              "#0d0887"
             ],
             [
              0.1111111111111111,
              "#46039f"
             ],
             [
              0.2222222222222222,
              "#7201a8"
             ],
             [
              0.3333333333333333,
              "#9c179e"
             ],
             [
              0.4444444444444444,
              "#bd3786"
             ],
             [
              0.5555555555555556,
              "#d8576b"
             ],
             [
              0.6666666666666666,
              "#ed7953"
             ],
             [
              0.7777777777777778,
              "#fb9f3a"
             ],
             [
              0.8888888888888888,
              "#fdca26"
             ],
             [
              1,
              "#f0f921"
             ]
            ],
            "type": "heatmap"
           }
          ],
          "heatmapgl": [
           {
            "colorbar": {
             "outlinewidth": 0,
             "ticks": ""
            },
            "colorscale": [
             [
              0,
              "#0d0887"
             ],
             [
              0.1111111111111111,
              "#46039f"
             ],
             [
              0.2222222222222222,
              "#7201a8"
             ],
             [
              0.3333333333333333,
              "#9c179e"
             ],
             [
              0.4444444444444444,
              "#bd3786"
             ],
             [
              0.5555555555555556,
              "#d8576b"
             ],
             [
              0.6666666666666666,
              "#ed7953"
             ],
             [
              0.7777777777777778,
              "#fb9f3a"
             ],
             [
              0.8888888888888888,
              "#fdca26"
             ],
             [
              1,
              "#f0f921"
             ]
            ],
            "type": "heatmapgl"
           }
          ],
          "histogram": [
           {
            "marker": {
             "pattern": {
              "fillmode": "overlay",
              "size": 10,
              "solidity": 0.2
             }
            },
            "type": "histogram"
           }
          ],
          "histogram2d": [
           {
            "colorbar": {
             "outlinewidth": 0,
             "ticks": ""
            },
            "colorscale": [
             [
              0,
              "#0d0887"
             ],
             [
              0.1111111111111111,
              "#46039f"
             ],
             [
              0.2222222222222222,
              "#7201a8"
             ],
             [
              0.3333333333333333,
              "#9c179e"
             ],
             [
              0.4444444444444444,
              "#bd3786"
             ],
             [
              0.5555555555555556,
              "#d8576b"
             ],
             [
              0.6666666666666666,
              "#ed7953"
             ],
             [
              0.7777777777777778,
              "#fb9f3a"
             ],
             [
              0.8888888888888888,
              "#fdca26"
             ],
             [
              1,
              "#f0f921"
             ]
            ],
            "type": "histogram2d"
           }
          ],
          "histogram2dcontour": [
           {
            "colorbar": {
             "outlinewidth": 0,
             "ticks": ""
            },
            "colorscale": [
             [
              0,
              "#0d0887"
             ],
             [
              0.1111111111111111,
              "#46039f"
             ],
             [
              0.2222222222222222,
              "#7201a8"
             ],
             [
              0.3333333333333333,
              "#9c179e"
             ],
             [
              0.4444444444444444,
              "#bd3786"
             ],
             [
              0.5555555555555556,
              "#d8576b"
             ],
             [
              0.6666666666666666,
              "#ed7953"
             ],
             [
              0.7777777777777778,
              "#fb9f3a"
             ],
             [
              0.8888888888888888,
              "#fdca26"
             ],
             [
              1,
              "#f0f921"
             ]
            ],
            "type": "histogram2dcontour"
           }
          ],
          "mesh3d": [
           {
            "colorbar": {
             "outlinewidth": 0,
             "ticks": ""
            },
            "type": "mesh3d"
           }
          ],
          "parcoords": [
           {
            "line": {
             "colorbar": {
              "outlinewidth": 0,
              "ticks": ""
             }
            },
            "type": "parcoords"
           }
          ],
          "pie": [
           {
            "automargin": true,
            "type": "pie"
           }
          ],
          "scatter": [
           {
            "fillpattern": {
             "fillmode": "overlay",
             "size": 10,
             "solidity": 0.2
            },
            "type": "scatter"
           }
          ],
          "scatter3d": [
           {
            "line": {
             "colorbar": {
              "outlinewidth": 0,
              "ticks": ""
             }
            },
            "marker": {
             "colorbar": {
              "outlinewidth": 0,
              "ticks": ""
             }
            },
            "type": "scatter3d"
           }
          ],
          "scattercarpet": [
           {
            "marker": {
             "colorbar": {
              "outlinewidth": 0,
              "ticks": ""
             }
            },
            "type": "scattercarpet"
           }
          ],
          "scattergeo": [
           {
            "marker": {
             "colorbar": {
              "outlinewidth": 0,
              "ticks": ""
             }
            },
            "type": "scattergeo"
           }
          ],
          "scattergl": [
           {
            "marker": {
             "colorbar": {
              "outlinewidth": 0,
              "ticks": ""
             }
            },
            "type": "scattergl"
           }
          ],
          "scattermapbox": [
           {
            "marker": {
             "colorbar": {
              "outlinewidth": 0,
              "ticks": ""
             }
            },
            "type": "scattermapbox"
           }
          ],
          "scatterpolar": [
           {
            "marker": {
             "colorbar": {
              "outlinewidth": 0,
              "ticks": ""
             }
            },
            "type": "scatterpolar"
           }
          ],
          "scatterpolargl": [
           {
            "marker": {
             "colorbar": {
              "outlinewidth": 0,
              "ticks": ""
             }
            },
            "type": "scatterpolargl"
           }
          ],
          "scatterternary": [
           {
            "marker": {
             "colorbar": {
              "outlinewidth": 0,
              "ticks": ""
             }
            },
            "type": "scatterternary"
           }
          ],
          "surface": [
           {
            "colorbar": {
             "outlinewidth": 0,
             "ticks": ""
            },
            "colorscale": [
             [
              0,
              "#0d0887"
             ],
             [
              0.1111111111111111,
              "#46039f"
             ],
             [
              0.2222222222222222,
              "#7201a8"
             ],
             [
              0.3333333333333333,
              "#9c179e"
             ],
             [
              0.4444444444444444,
              "#bd3786"
             ],
             [
              0.5555555555555556,
              "#d8576b"
             ],
             [
              0.6666666666666666,
              "#ed7953"
             ],
             [
              0.7777777777777778,
              "#fb9f3a"
             ],
             [
              0.8888888888888888,
              "#fdca26"
             ],
             [
              1,
              "#f0f921"
             ]
            ],
            "type": "surface"
           }
          ],
          "table": [
           {
            "cells": {
             "fill": {
              "color": "#EBF0F8"
             },
             "line": {
              "color": "white"
             }
            },
            "header": {
             "fill": {
              "color": "#C8D4E3"
             },
             "line": {
              "color": "white"
             }
            },
            "type": "table"
           }
          ]
         },
         "layout": {
          "annotationdefaults": {
           "arrowcolor": "#2a3f5f",
           "arrowhead": 0,
           "arrowwidth": 1
          },
          "autotypenumbers": "strict",
          "coloraxis": {
           "colorbar": {
            "outlinewidth": 0,
            "ticks": ""
           }
          },
          "colorscale": {
           "diverging": [
            [
             0,
             "#8e0152"
            ],
            [
             0.1,
             "#c51b7d"
            ],
            [
             0.2,
             "#de77ae"
            ],
            [
             0.3,
             "#f1b6da"
            ],
            [
             0.4,
             "#fde0ef"
            ],
            [
             0.5,
             "#f7f7f7"
            ],
            [
             0.6,
             "#e6f5d0"
            ],
            [
             0.7,
             "#b8e186"
            ],
            [
             0.8,
             "#7fbc41"
            ],
            [
             0.9,
             "#4d9221"
            ],
            [
             1,
             "#276419"
            ]
           ],
           "sequential": [
            [
             0,
             "#0d0887"
            ],
            [
             0.1111111111111111,
             "#46039f"
            ],
            [
             0.2222222222222222,
             "#7201a8"
            ],
            [
             0.3333333333333333,
             "#9c179e"
            ],
            [
             0.4444444444444444,
             "#bd3786"
            ],
            [
             0.5555555555555556,
             "#d8576b"
            ],
            [
             0.6666666666666666,
             "#ed7953"
            ],
            [
             0.7777777777777778,
             "#fb9f3a"
            ],
            [
             0.8888888888888888,
             "#fdca26"
            ],
            [
             1,
             "#f0f921"
            ]
           ],
           "sequentialminus": [
            [
             0,
             "#0d0887"
            ],
            [
             0.1111111111111111,
             "#46039f"
            ],
            [
             0.2222222222222222,
             "#7201a8"
            ],
            [
             0.3333333333333333,
             "#9c179e"
            ],
            [
             0.4444444444444444,
             "#bd3786"
            ],
            [
             0.5555555555555556,
             "#d8576b"
            ],
            [
             0.6666666666666666,
             "#ed7953"
            ],
            [
             0.7777777777777778,
             "#fb9f3a"
            ],
            [
             0.8888888888888888,
             "#fdca26"
            ],
            [
             1,
             "#f0f921"
            ]
           ]
          },
          "colorway": [
           "#636efa",
           "#EF553B",
           "#00cc96",
           "#ab63fa",
           "#FFA15A",
           "#19d3f3",
           "#FF6692",
           "#B6E880",
           "#FF97FF",
           "#FECB52"
          ],
          "font": {
           "color": "#2a3f5f"
          },
          "geo": {
           "bgcolor": "white",
           "lakecolor": "white",
           "landcolor": "#E5ECF6",
           "showlakes": true,
           "showland": true,
           "subunitcolor": "white"
          },
          "hoverlabel": {
           "align": "left"
          },
          "hovermode": "closest",
          "mapbox": {
           "style": "light"
          },
          "paper_bgcolor": "white",
          "plot_bgcolor": "#E5ECF6",
          "polar": {
           "angularaxis": {
            "gridcolor": "white",
            "linecolor": "white",
            "ticks": ""
           },
           "bgcolor": "#E5ECF6",
           "radialaxis": {
            "gridcolor": "white",
            "linecolor": "white",
            "ticks": ""
           }
          },
          "scene": {
           "xaxis": {
            "backgroundcolor": "#E5ECF6",
            "gridcolor": "white",
            "gridwidth": 2,
            "linecolor": "white",
            "showbackground": true,
            "ticks": "",
            "zerolinecolor": "white"
           },
           "yaxis": {
            "backgroundcolor": "#E5ECF6",
            "gridcolor": "white",
            "gridwidth": 2,
            "linecolor": "white",
            "showbackground": true,
            "ticks": "",
            "zerolinecolor": "white"
           },
           "zaxis": {
            "backgroundcolor": "#E5ECF6",
            "gridcolor": "white",
            "gridwidth": 2,
            "linecolor": "white",
            "showbackground": true,
            "ticks": "",
            "zerolinecolor": "white"
           }
          },
          "shapedefaults": {
           "line": {
            "color": "#2a3f5f"
           }
          },
          "ternary": {
           "aaxis": {
            "gridcolor": "white",
            "linecolor": "white",
            "ticks": ""
           },
           "baxis": {
            "gridcolor": "white",
            "linecolor": "white",
            "ticks": ""
           },
           "bgcolor": "#E5ECF6",
           "caxis": {
            "gridcolor": "white",
            "linecolor": "white",
            "ticks": ""
           }
          },
          "title": {
           "x": 0.05
          },
          "xaxis": {
           "automargin": true,
           "gridcolor": "white",
           "linecolor": "white",
           "ticks": "",
           "title": {
            "standoff": 15
           },
           "zerolinecolor": "white",
           "zerolinewidth": 2
          },
          "yaxis": {
           "automargin": true,
           "gridcolor": "white",
           "linecolor": "white",
           "ticks": "",
           "title": {
            "standoff": 15
           },
           "zerolinecolor": "white",
           "zerolinewidth": 2
          }
         }
        },
        "width": 1000
       }
      }
     },
     "metadata": {},
     "output_type": "display_data"
    }
   ],
   "source": [
    "## let's visualize top 15 cuisine from HSR area\n",
    "\n",
    "fig = px.pie(values=HSR_cuisine['Frequency'][:15], names=HSR_cuisine['Cuisine'][:15],\n",
    "             color =HSR_cuisine['Cuisine'][:15])\n",
    "fig.update_traces(textposition='inside',\n",
    "                  textinfo='percent+label',\n",
    "                  sort=False)\n",
    "fig.update_layout(width=1000, height=550)\n",
    "fig.show()"
   ]
  },
  {
   "cell_type": "markdown",
   "id": "8b28ef9f",
   "metadata": {},
   "source": [
    "- **Top Cuisine** of HSR area is **North Indian**, **Chinese** and **South Indian** with **18.8%**, **12.5%** and **12.5%** respectively.\n",
    "\n",
    "- It's shows that people more like North Indian food so we can assume that there must be north indian people are staying in the area."
   ]
  },
  {
   "cell_type": "code",
   "execution_count": 69,
   "id": "bf9e2f5c",
   "metadata": {},
   "outputs": [],
   "source": [
    "## from original dataset\n",
    "\n",
    "df.sort_values(['Rating','Shop_Name','Cost_for_Two'],ascending=[False,False,True],inplace=True)\n",
    "\n",
    "df_sort = df.head(50)"
   ]
  },
  {
   "cell_type": "code",
   "execution_count": 70,
   "id": "21f85667",
   "metadata": {},
   "outputs": [
    {
     "data": {
      "application/vnd.plotly.v1+json": {
       "config": {
        "plotlyServerURL": "https://plot.ly"
       },
       "data": [
        {
         "branchvalues": "total",
         "domain": {
          "x": [
           0,
           1
          ],
          "y": [
           0,
           1
          ]
         },
         "hovertemplate": "labels=%{label}<br>Cost_for_Two=%{value}<br>parent=%{parent}<br>id=%{id}<extra></extra>",
         "ids": [
          "Koramangala/4.3/Truffles/American",
          "HSR/4.4/Al Daaz/American, Arabian, Chinese, Desserts, Fast Food, Mughlai, North Indian",
          "Jayanagar/4.3/CRAVY WINGS - The American Diner/American, Fast Food",
          "Koramangala/4.3/KFC/American, Fast Food",
          "Koramangala/4.2/Mani's Dum Biryani/Andhra, Biryani",
          "BTM/4.2/Tandoori Merchant/Andhra, Biryani, Chinese, Desserts, Fast Food, Seafood, South Indian",
          "Koramangala/4.3/Nagarjuna/Andhra, South Indian",
          "Koramangala/4.1/Shawarma Inc/Arabian, Fast Food",
          "Koramangala/4.3/Biryani Khazana/Biryani",
          "BTM/4.3/Venu's Donne Biryani/Biryani",
          "Koramangala/4.3/Khawa Karpo/Chinese",
          "Koramangala/4.3/Momoz/Chinese",
          "Koramangala/4.3/Meghana Foods/Chinese, Andhra, Biryani, Seafood",
          "Koramangala/4.4/China Pearl/Chinese, Asian",
          "HSR/4.3/New Udupi Grand/Chinese, Jain, North Indian, South Indian",
          "Koramangala/4.3/Sagar fast food/Chinese, South Indian, North Indian, Fast Food",
          "BTM/4.5/Chinese Bae/Chinese, Thai",
          "Koramangala/4.3/The Bowl Company/Continental, Indian, Pan-Asian, Oriental",
          "HSR/4.3/Cakewala/Desserts",
          "Koramangala/4.3/Cream Stone/Desserts",
          "Koramangala/4.3/XO Belgian Waffle/Desserts",
          "BTM/4.3/Just Bake - Cakes & confectioners/Desserts, Bakery",
          "Koramangala/4.1/WarmOven Cake & Desserts/Desserts, Beverages",
          "BTM/4.1/Svadu Pure Ghee Sweets/Desserts, Fast Food, Sweets, Chaat",
          "BTM/4.1/calicut cafe restaurant/Fast Food, Beverages",
          "Koramangala/4.8/Khichdi Experiment/Home Food, Healthy Food, Indian",
          "Koramangala/4.6/Natural Ice Cream/Ice Cream",
          "Koramangala/4.6/Corner House Ice Cream/Ice Cream, Desserts",
          "Koramangala/4.2/NIC Natural Ice Creams/Ice Cream, Desserts",
          "BTM/4.1/Swad Punjab da/Indian",
          "HSR/4.1/Shree Khana Khazana/Indian, Rajasthani",
          "BTM/4.3/Oottupura/Kerala, South Indian",
          "Koramangala/4.3/Taco Bell/Mexican",
          "BTM/4.2/Bengali Fun Foods/North Indian",
          "Koramangala/4.2/Falahaar & Kota Kachori/North Indian",
          "BTM/4.2/Ghar Ka Khana/North Indian",
          "Koramangala/4.2/Kitchens of Punjab/North Indian",
          "Koramangala/4.1/Sharmas punjabi restaurant/North Indian",
          "Koramangala/4.3/Thali 99/North Indian",
          "Koramangala/4.3/Purani Dilli By Anand Sweets/North Indian, Chaat, Snacks, Fast Food",
          "Koramangala/4.2/Royal Treat/North Indian, Chinese, Seafood, Biryani",
          "HSR/4.4/Mumbai Tiffin/North Indian, Home Food, Thalis, Combo",
          "BTM/4.2/BIRIYANI TASTE MASTH(BTM)/North Indian, South Indian",
          "Koramangala/4.4/Bowl 99/North Indian, South Indian",
          "Koramangala/4.2/A2B - Adyar Ananda Bhavan/South Indian, Chinese, Desserts, North Indian",
          "Koramangala/4.1/Sri Krishna sagar/South Indian, North Indian, Fast Food, Beverages, Jain",
          "BTM/4.1/Swadista Aahar/South Indian, Snacks, North Indian, Chinese",
          "Koramangala/4.3/Kanti Sweets/Sweets",
          "HSR/4.3/Leon Grill/Turkish, Portuguese, American",
          "Koramangala/4.3/Leon Grill/Turkish, Portuguese, American, Grill",
          "Koramangala/4.2/A2B - Adyar Ananda Bhavan",
          "HSR/4.4/Al Daaz",
          "BTM/4.2/BIRIYANI TASTE MASTH(BTM)",
          "BTM/4.2/Bengali Fun Foods",
          "Koramangala/4.3/Biryani Khazana",
          "Koramangala/4.4/Bowl 99",
          "Jayanagar/4.3/CRAVY WINGS - The American Diner",
          "HSR/4.3/Cakewala",
          "Koramangala/4.4/China Pearl",
          "BTM/4.5/Chinese Bae",
          "Koramangala/4.6/Corner House Ice Cream",
          "Koramangala/4.3/Cream Stone",
          "Koramangala/4.2/Falahaar & Kota Kachori",
          "BTM/4.2/Ghar Ka Khana",
          "BTM/4.3/Just Bake - Cakes & confectioners",
          "Koramangala/4.3/KFC",
          "Koramangala/4.3/Kanti Sweets",
          "Koramangala/4.3/Khawa Karpo",
          "Koramangala/4.8/Khichdi Experiment",
          "Koramangala/4.2/Kitchens of Punjab",
          "HSR/4.3/Leon Grill",
          "Koramangala/4.3/Leon Grill",
          "Koramangala/4.2/Mani's Dum Biryani",
          "Koramangala/4.3/Meghana Foods",
          "Koramangala/4.3/Momoz",
          "HSR/4.4/Mumbai Tiffin",
          "Koramangala/4.2/NIC Natural Ice Creams",
          "Koramangala/4.3/Nagarjuna",
          "Koramangala/4.6/Natural Ice Cream",
          "HSR/4.3/New Udupi Grand",
          "BTM/4.3/Oottupura",
          "Koramangala/4.3/Purani Dilli By Anand Sweets",
          "Koramangala/4.2/Royal Treat",
          "Koramangala/4.3/Sagar fast food",
          "Koramangala/4.1/Sharmas punjabi restaurant",
          "Koramangala/4.1/Shawarma Inc",
          "HSR/4.1/Shree Khana Khazana",
          "Koramangala/4.1/Sri Krishna sagar",
          "BTM/4.1/Svadu Pure Ghee Sweets",
          "BTM/4.1/Swad Punjab da",
          "BTM/4.1/Swadista Aahar",
          "Koramangala/4.3/Taco Bell",
          "BTM/4.2/Tandoori Merchant",
          "Koramangala/4.3/Thali 99",
          "Koramangala/4.3/The Bowl Company",
          "Koramangala/4.3/Truffles",
          "BTM/4.3/Venu's Donne Biryani",
          "Koramangala/4.1/WarmOven Cake & Desserts",
          "Koramangala/4.3/XO Belgian Waffle",
          "BTM/4.1/calicut cafe restaurant",
          "BTM/4.1",
          "HSR/4.1",
          "Koramangala/4.1",
          "BTM/4.2",
          "Koramangala/4.2",
          "BTM/4.3",
          "HSR/4.3",
          "Jayanagar/4.3",
          "Koramangala/4.3",
          "HSR/4.4",
          "Koramangala/4.4",
          "BTM/4.5",
          "Koramangala/4.6",
          "Koramangala/4.8",
          "BTM",
          "HSR",
          "Jayanagar",
          "Koramangala"
         ],
         "labels": [
          "American",
          "American, Arabian, Chinese, Desserts, Fast Food, Mughlai, North Indian",
          "American, Fast Food",
          "American, Fast Food",
          "Andhra, Biryani",
          "Andhra, Biryani, Chinese, Desserts, Fast Food, Seafood, South Indian",
          "Andhra, South Indian",
          "Arabian, Fast Food",
          "Biryani",
          "Biryani",
          "Chinese",
          "Chinese",
          "Chinese, Andhra, Biryani, Seafood",
          "Chinese, Asian",
          "Chinese, Jain, North Indian, South Indian",
          "Chinese, South Indian, North Indian, Fast Food",
          "Chinese, Thai",
          "Continental, Indian, Pan-Asian, Oriental",
          "Desserts",
          "Desserts",
          "Desserts",
          "Desserts, Bakery",
          "Desserts, Beverages",
          "Desserts, Fast Food, Sweets, Chaat",
          "Fast Food, Beverages",
          "Home Food, Healthy Food, Indian",
          "Ice Cream",
          "Ice Cream, Desserts",
          "Ice Cream, Desserts",
          "Indian",
          "Indian, Rajasthani",
          "Kerala, South Indian",
          "Mexican",
          "North Indian",
          "North Indian",
          "North Indian",
          "North Indian",
          "North Indian",
          "North Indian",
          "North Indian, Chaat, Snacks, Fast Food",
          "North Indian, Chinese, Seafood, Biryani",
          "North Indian, Home Food, Thalis, Combo",
          "North Indian, South Indian",
          "North Indian, South Indian",
          "South Indian, Chinese, Desserts, North Indian",
          "South Indian, North Indian, Fast Food, Beverages, Jain",
          "South Indian, Snacks, North Indian, Chinese",
          "Sweets",
          "Turkish, Portuguese, American",
          "Turkish, Portuguese, American, Grill",
          "A2B - Adyar Ananda Bhavan",
          "Al Daaz",
          "BIRIYANI TASTE MASTH(BTM)",
          "Bengali Fun Foods",
          "Biryani Khazana",
          "Bowl 99",
          "CRAVY WINGS - The American Diner",
          "Cakewala",
          "China Pearl",
          "Chinese Bae",
          "Corner House Ice Cream",
          "Cream Stone",
          "Falahaar & Kota Kachori",
          "Ghar Ka Khana",
          "Just Bake - Cakes & confectioners",
          "KFC",
          "Kanti Sweets",
          "Khawa Karpo",
          "Khichdi Experiment",
          "Kitchens of Punjab",
          "Leon Grill",
          "Leon Grill",
          "Mani's Dum Biryani",
          "Meghana Foods",
          "Momoz",
          "Mumbai Tiffin",
          "NIC Natural Ice Creams",
          "Nagarjuna",
          "Natural Ice Cream",
          "New Udupi Grand",
          "Oottupura",
          "Purani Dilli By Anand Sweets",
          "Royal Treat",
          "Sagar fast food",
          "Sharmas punjabi restaurant",
          "Shawarma Inc",
          "Shree Khana Khazana",
          "Sri Krishna sagar",
          "Svadu Pure Ghee Sweets",
          "Swad Punjab da",
          "Swadista Aahar",
          "Taco Bell",
          "Tandoori Merchant",
          "Thali 99",
          "The Bowl Company",
          "Truffles",
          "Venu's Donne Biryani",
          "WarmOven Cake & Desserts",
          "XO Belgian Waffle",
          "calicut cafe restaurant",
          "4.1",
          "4.1",
          "4.1",
          "4.2",
          "4.2",
          "4.3",
          "4.3",
          "4.3",
          "4.3",
          "4.4",
          "4.4",
          "4.5",
          "4.6",
          "4.8",
          "BTM",
          "HSR",
          "Jayanagar",
          "Koramangala"
         ],
         "name": "",
         "parents": [
          "Koramangala/4.3/Truffles",
          "HSR/4.4/Al Daaz",
          "Jayanagar/4.3/CRAVY WINGS - The American Diner",
          "Koramangala/4.3/KFC",
          "Koramangala/4.2/Mani's Dum Biryani",
          "BTM/4.2/Tandoori Merchant",
          "Koramangala/4.3/Nagarjuna",
          "Koramangala/4.1/Shawarma Inc",
          "Koramangala/4.3/Biryani Khazana",
          "BTM/4.3/Venu's Donne Biryani",
          "Koramangala/4.3/Khawa Karpo",
          "Koramangala/4.3/Momoz",
          "Koramangala/4.3/Meghana Foods",
          "Koramangala/4.4/China Pearl",
          "HSR/4.3/New Udupi Grand",
          "Koramangala/4.3/Sagar fast food",
          "BTM/4.5/Chinese Bae",
          "Koramangala/4.3/The Bowl Company",
          "HSR/4.3/Cakewala",
          "Koramangala/4.3/Cream Stone",
          "Koramangala/4.3/XO Belgian Waffle",
          "BTM/4.3/Just Bake - Cakes & confectioners",
          "Koramangala/4.1/WarmOven Cake & Desserts",
          "BTM/4.1/Svadu Pure Ghee Sweets",
          "BTM/4.1/calicut cafe restaurant",
          "Koramangala/4.8/Khichdi Experiment",
          "Koramangala/4.6/Natural Ice Cream",
          "Koramangala/4.6/Corner House Ice Cream",
          "Koramangala/4.2/NIC Natural Ice Creams",
          "BTM/4.1/Swad Punjab da",
          "HSR/4.1/Shree Khana Khazana",
          "BTM/4.3/Oottupura",
          "Koramangala/4.3/Taco Bell",
          "BTM/4.2/Bengali Fun Foods",
          "Koramangala/4.2/Falahaar & Kota Kachori",
          "BTM/4.2/Ghar Ka Khana",
          "Koramangala/4.2/Kitchens of Punjab",
          "Koramangala/4.1/Sharmas punjabi restaurant",
          "Koramangala/4.3/Thali 99",
          "Koramangala/4.3/Purani Dilli By Anand Sweets",
          "Koramangala/4.2/Royal Treat",
          "HSR/4.4/Mumbai Tiffin",
          "BTM/4.2/BIRIYANI TASTE MASTH(BTM)",
          "Koramangala/4.4/Bowl 99",
          "Koramangala/4.2/A2B - Adyar Ananda Bhavan",
          "Koramangala/4.1/Sri Krishna sagar",
          "BTM/4.1/Swadista Aahar",
          "Koramangala/4.3/Kanti Sweets",
          "HSR/4.3/Leon Grill",
          "Koramangala/4.3/Leon Grill",
          "Koramangala/4.2",
          "HSR/4.4",
          "BTM/4.2",
          "BTM/4.2",
          "Koramangala/4.3",
          "Koramangala/4.4",
          "Jayanagar/4.3",
          "HSR/4.3",
          "Koramangala/4.4",
          "BTM/4.5",
          "Koramangala/4.6",
          "Koramangala/4.3",
          "Koramangala/4.2",
          "BTM/4.2",
          "BTM/4.3",
          "Koramangala/4.3",
          "Koramangala/4.3",
          "Koramangala/4.3",
          "Koramangala/4.8",
          "Koramangala/4.2",
          "HSR/4.3",
          "Koramangala/4.3",
          "Koramangala/4.2",
          "Koramangala/4.3",
          "Koramangala/4.3",
          "HSR/4.4",
          "Koramangala/4.2",
          "Koramangala/4.3",
          "Koramangala/4.6",
          "HSR/4.3",
          "BTM/4.3",
          "Koramangala/4.3",
          "Koramangala/4.2",
          "Koramangala/4.3",
          "Koramangala/4.1",
          "Koramangala/4.1",
          "HSR/4.1",
          "Koramangala/4.1",
          "BTM/4.1",
          "BTM/4.1",
          "BTM/4.1",
          "Koramangala/4.3",
          "BTM/4.2",
          "Koramangala/4.3",
          "Koramangala/4.3",
          "Koramangala/4.3",
          "BTM/4.3",
          "Koramangala/4.1",
          "Koramangala/4.3",
          "BTM/4.1",
          "BTM",
          "HSR",
          "Koramangala",
          "BTM",
          "Koramangala",
          "BTM",
          "HSR",
          "Jayanagar",
          "Koramangala",
          "HSR",
          "Koramangala",
          "BTM",
          "Koramangala",
          "Koramangala",
          "",
          "",
          "",
          ""
         ],
         "type": "sunburst",
         "values": [
          450,
          400,
          300,
          400,
          400,
          100,
          600,
          150,
          400,
          300,
          178,
          450,
          550,
          527,
          150,
          200,
          450,
          350,
          450,
          250,
          250,
          300,
          200,
          200,
          280,
          200,
          150,
          250,
          120,
          250,
          350,
          268,
          600,
          300,
          300,
          220,
          350,
          200,
          200,
          400,
          193,
          400,
          300,
          200,
          450,
          126,
          250,
          150,
          300,
          300,
          450,
          400,
          300,
          300,
          400,
          200,
          300,
          450,
          527,
          450,
          250,
          250,
          300,
          220,
          300,
          400,
          150,
          178,
          200,
          350,
          300,
          300,
          400,
          550,
          450,
          400,
          120,
          600,
          150,
          150,
          268,
          400,
          193,
          200,
          200,
          150,
          350,
          126,
          200,
          250,
          250,
          600,
          100,
          200,
          350,
          450,
          300,
          200,
          250,
          280,
          980,
          350,
          676,
          920,
          1813,
          868,
          900,
          300,
          5728,
          800,
          727,
          450,
          400,
          200,
          3218,
          2050,
          300,
          9544
         ]
        }
       ],
       "layout": {
        "legend": {
         "tracegroupgap": 0
        },
        "margin": {
         "b": 15,
         "l": 15,
         "r": 15,
         "t": 15
        },
        "template": {
         "data": {
          "bar": [
           {
            "error_x": {
             "color": "#2a3f5f"
            },
            "error_y": {
             "color": "#2a3f5f"
            },
            "marker": {
             "line": {
              "color": "#E5ECF6",
              "width": 0.5
             },
             "pattern": {
              "fillmode": "overlay",
              "size": 10,
              "solidity": 0.2
             }
            },
            "type": "bar"
           }
          ],
          "barpolar": [
           {
            "marker": {
             "line": {
              "color": "#E5ECF6",
              "width": 0.5
             },
             "pattern": {
              "fillmode": "overlay",
              "size": 10,
              "solidity": 0.2
             }
            },
            "type": "barpolar"
           }
          ],
          "carpet": [
           {
            "aaxis": {
             "endlinecolor": "#2a3f5f",
             "gridcolor": "white",
             "linecolor": "white",
             "minorgridcolor": "white",
             "startlinecolor": "#2a3f5f"
            },
            "baxis": {
             "endlinecolor": "#2a3f5f",
             "gridcolor": "white",
             "linecolor": "white",
             "minorgridcolor": "white",
             "startlinecolor": "#2a3f5f"
            },
            "type": "carpet"
           }
          ],
          "choropleth": [
           {
            "colorbar": {
             "outlinewidth": 0,
             "ticks": ""
            },
            "type": "choropleth"
           }
          ],
          "contour": [
           {
            "colorbar": {
             "outlinewidth": 0,
             "ticks": ""
            },
            "colorscale": [
             [
              0,
              "#0d0887"
             ],
             [
              0.1111111111111111,
              "#46039f"
             ],
             [
              0.2222222222222222,
              "#7201a8"
             ],
             [
              0.3333333333333333,
              "#9c179e"
             ],
             [
              0.4444444444444444,
              "#bd3786"
             ],
             [
              0.5555555555555556,
              "#d8576b"
             ],
             [
              0.6666666666666666,
              "#ed7953"
             ],
             [
              0.7777777777777778,
              "#fb9f3a"
             ],
             [
              0.8888888888888888,
              "#fdca26"
             ],
             [
              1,
              "#f0f921"
             ]
            ],
            "type": "contour"
           }
          ],
          "contourcarpet": [
           {
            "colorbar": {
             "outlinewidth": 0,
             "ticks": ""
            },
            "type": "contourcarpet"
           }
          ],
          "heatmap": [
           {
            "colorbar": {
             "outlinewidth": 0,
             "ticks": ""
            },
            "colorscale": [
             [
              0,
              "#0d0887"
             ],
             [
              0.1111111111111111,
              "#46039f"
             ],
             [
              0.2222222222222222,
              "#7201a8"
             ],
             [
              0.3333333333333333,
              "#9c179e"
             ],
             [
              0.4444444444444444,
              "#bd3786"
             ],
             [
              0.5555555555555556,
              "#d8576b"
             ],
             [
              0.6666666666666666,
              "#ed7953"
             ],
             [
              0.7777777777777778,
              "#fb9f3a"
             ],
             [
              0.8888888888888888,
              "#fdca26"
             ],
             [
              1,
              "#f0f921"
             ]
            ],
            "type": "heatmap"
           }
          ],
          "heatmapgl": [
           {
            "colorbar": {
             "outlinewidth": 0,
             "ticks": ""
            },
            "colorscale": [
             [
              0,
              "#0d0887"
             ],
             [
              0.1111111111111111,
              "#46039f"
             ],
             [
              0.2222222222222222,
              "#7201a8"
             ],
             [
              0.3333333333333333,
              "#9c179e"
             ],
             [
              0.4444444444444444,
              "#bd3786"
             ],
             [
              0.5555555555555556,
              "#d8576b"
             ],
             [
              0.6666666666666666,
              "#ed7953"
             ],
             [
              0.7777777777777778,
              "#fb9f3a"
             ],
             [
              0.8888888888888888,
              "#fdca26"
             ],
             [
              1,
              "#f0f921"
             ]
            ],
            "type": "heatmapgl"
           }
          ],
          "histogram": [
           {
            "marker": {
             "pattern": {
              "fillmode": "overlay",
              "size": 10,
              "solidity": 0.2
             }
            },
            "type": "histogram"
           }
          ],
          "histogram2d": [
           {
            "colorbar": {
             "outlinewidth": 0,
             "ticks": ""
            },
            "colorscale": [
             [
              0,
              "#0d0887"
             ],
             [
              0.1111111111111111,
              "#46039f"
             ],
             [
              0.2222222222222222,
              "#7201a8"
             ],
             [
              0.3333333333333333,
              "#9c179e"
             ],
             [
              0.4444444444444444,
              "#bd3786"
             ],
             [
              0.5555555555555556,
              "#d8576b"
             ],
             [
              0.6666666666666666,
              "#ed7953"
             ],
             [
              0.7777777777777778,
              "#fb9f3a"
             ],
             [
              0.8888888888888888,
              "#fdca26"
             ],
             [
              1,
              "#f0f921"
             ]
            ],
            "type": "histogram2d"
           }
          ],
          "histogram2dcontour": [
           {
            "colorbar": {
             "outlinewidth": 0,
             "ticks": ""
            },
            "colorscale": [
             [
              0,
              "#0d0887"
             ],
             [
              0.1111111111111111,
              "#46039f"
             ],
             [
              0.2222222222222222,
              "#7201a8"
             ],
             [
              0.3333333333333333,
              "#9c179e"
             ],
             [
              0.4444444444444444,
              "#bd3786"
             ],
             [
              0.5555555555555556,
              "#d8576b"
             ],
             [
              0.6666666666666666,
              "#ed7953"
             ],
             [
              0.7777777777777778,
              "#fb9f3a"
             ],
             [
              0.8888888888888888,
              "#fdca26"
             ],
             [
              1,
              "#f0f921"
             ]
            ],
            "type": "histogram2dcontour"
           }
          ],
          "mesh3d": [
           {
            "colorbar": {
             "outlinewidth": 0,
             "ticks": ""
            },
            "type": "mesh3d"
           }
          ],
          "parcoords": [
           {
            "line": {
             "colorbar": {
              "outlinewidth": 0,
              "ticks": ""
             }
            },
            "type": "parcoords"
           }
          ],
          "pie": [
           {
            "automargin": true,
            "type": "pie"
           }
          ],
          "scatter": [
           {
            "fillpattern": {
             "fillmode": "overlay",
             "size": 10,
             "solidity": 0.2
            },
            "type": "scatter"
           }
          ],
          "scatter3d": [
           {
            "line": {
             "colorbar": {
              "outlinewidth": 0,
              "ticks": ""
             }
            },
            "marker": {
             "colorbar": {
              "outlinewidth": 0,
              "ticks": ""
             }
            },
            "type": "scatter3d"
           }
          ],
          "scattercarpet": [
           {
            "marker": {
             "colorbar": {
              "outlinewidth": 0,
              "ticks": ""
             }
            },
            "type": "scattercarpet"
           }
          ],
          "scattergeo": [
           {
            "marker": {
             "colorbar": {
              "outlinewidth": 0,
              "ticks": ""
             }
            },
            "type": "scattergeo"
           }
          ],
          "scattergl": [
           {
            "marker": {
             "colorbar": {
              "outlinewidth": 0,
              "ticks": ""
             }
            },
            "type": "scattergl"
           }
          ],
          "scattermapbox": [
           {
            "marker": {
             "colorbar": {
              "outlinewidth": 0,
              "ticks": ""
             }
            },
            "type": "scattermapbox"
           }
          ],
          "scatterpolar": [
           {
            "marker": {
             "colorbar": {
              "outlinewidth": 0,
              "ticks": ""
             }
            },
            "type": "scatterpolar"
           }
          ],
          "scatterpolargl": [
           {
            "marker": {
             "colorbar": {
              "outlinewidth": 0,
              "ticks": ""
             }
            },
            "type": "scatterpolargl"
           }
          ],
          "scatterternary": [
           {
            "marker": {
             "colorbar": {
              "outlinewidth": 0,
              "ticks": ""
             }
            },
            "type": "scatterternary"
           }
          ],
          "surface": [
           {
            "colorbar": {
             "outlinewidth": 0,
             "ticks": ""
            },
            "colorscale": [
             [
              0,
              "#0d0887"
             ],
             [
              0.1111111111111111,
              "#46039f"
             ],
             [
              0.2222222222222222,
              "#7201a8"
             ],
             [
              0.3333333333333333,
              "#9c179e"
             ],
             [
              0.4444444444444444,
              "#bd3786"
             ],
             [
              0.5555555555555556,
              "#d8576b"
             ],
             [
              0.6666666666666666,
              "#ed7953"
             ],
             [
              0.7777777777777778,
              "#fb9f3a"
             ],
             [
              0.8888888888888888,
              "#fdca26"
             ],
             [
              1,
              "#f0f921"
             ]
            ],
            "type": "surface"
           }
          ],
          "table": [
           {
            "cells": {
             "fill": {
              "color": "#EBF0F8"
             },
             "line": {
              "color": "white"
             }
            },
            "header": {
             "fill": {
              "color": "#C8D4E3"
             },
             "line": {
              "color": "white"
             }
            },
            "type": "table"
           }
          ]
         },
         "layout": {
          "annotationdefaults": {
           "arrowcolor": "#2a3f5f",
           "arrowhead": 0,
           "arrowwidth": 1
          },
          "autotypenumbers": "strict",
          "coloraxis": {
           "colorbar": {
            "outlinewidth": 0,
            "ticks": ""
           }
          },
          "colorscale": {
           "diverging": [
            [
             0,
             "#8e0152"
            ],
            [
             0.1,
             "#c51b7d"
            ],
            [
             0.2,
             "#de77ae"
            ],
            [
             0.3,
             "#f1b6da"
            ],
            [
             0.4,
             "#fde0ef"
            ],
            [
             0.5,
             "#f7f7f7"
            ],
            [
             0.6,
             "#e6f5d0"
            ],
            [
             0.7,
             "#b8e186"
            ],
            [
             0.8,
             "#7fbc41"
            ],
            [
             0.9,
             "#4d9221"
            ],
            [
             1,
             "#276419"
            ]
           ],
           "sequential": [
            [
             0,
             "#0d0887"
            ],
            [
             0.1111111111111111,
             "#46039f"
            ],
            [
             0.2222222222222222,
             "#7201a8"
            ],
            [
             0.3333333333333333,
             "#9c179e"
            ],
            [
             0.4444444444444444,
             "#bd3786"
            ],
            [
             0.5555555555555556,
             "#d8576b"
            ],
            [
             0.6666666666666666,
             "#ed7953"
            ],
            [
             0.7777777777777778,
             "#fb9f3a"
            ],
            [
             0.8888888888888888,
             "#fdca26"
            ],
            [
             1,
             "#f0f921"
            ]
           ],
           "sequentialminus": [
            [
             0,
             "#0d0887"
            ],
            [
             0.1111111111111111,
             "#46039f"
            ],
            [
             0.2222222222222222,
             "#7201a8"
            ],
            [
             0.3333333333333333,
             "#9c179e"
            ],
            [
             0.4444444444444444,
             "#bd3786"
            ],
            [
             0.5555555555555556,
             "#d8576b"
            ],
            [
             0.6666666666666666,
             "#ed7953"
            ],
            [
             0.7777777777777778,
             "#fb9f3a"
            ],
            [
             0.8888888888888888,
             "#fdca26"
            ],
            [
             1,
             "#f0f921"
            ]
           ]
          },
          "colorway": [
           "#636efa",
           "#EF553B",
           "#00cc96",
           "#ab63fa",
           "#FFA15A",
           "#19d3f3",
           "#FF6692",
           "#B6E880",
           "#FF97FF",
           "#FECB52"
          ],
          "font": {
           "color": "#2a3f5f"
          },
          "geo": {
           "bgcolor": "white",
           "lakecolor": "white",
           "landcolor": "#E5ECF6",
           "showlakes": true,
           "showland": true,
           "subunitcolor": "white"
          },
          "hoverlabel": {
           "align": "left"
          },
          "hovermode": "closest",
          "mapbox": {
           "style": "light"
          },
          "paper_bgcolor": "white",
          "plot_bgcolor": "#E5ECF6",
          "polar": {
           "angularaxis": {
            "gridcolor": "white",
            "linecolor": "white",
            "ticks": ""
           },
           "bgcolor": "#E5ECF6",
           "radialaxis": {
            "gridcolor": "white",
            "linecolor": "white",
            "ticks": ""
           }
          },
          "scene": {
           "xaxis": {
            "backgroundcolor": "#E5ECF6",
            "gridcolor": "white",
            "gridwidth": 2,
            "linecolor": "white",
            "showbackground": true,
            "ticks": "",
            "zerolinecolor": "white"
           },
           "yaxis": {
            "backgroundcolor": "#E5ECF6",
            "gridcolor": "white",
            "gridwidth": 2,
            "linecolor": "white",
            "showbackground": true,
            "ticks": "",
            "zerolinecolor": "white"
           },
           "zaxis": {
            "backgroundcolor": "#E5ECF6",
            "gridcolor": "white",
            "gridwidth": 2,
            "linecolor": "white",
            "showbackground": true,
            "ticks": "",
            "zerolinecolor": "white"
           }
          },
          "shapedefaults": {
           "line": {
            "color": "#2a3f5f"
           }
          },
          "ternary": {
           "aaxis": {
            "gridcolor": "white",
            "linecolor": "white",
            "ticks": ""
           },
           "baxis": {
            "gridcolor": "white",
            "linecolor": "white",
            "ticks": ""
           },
           "bgcolor": "#E5ECF6",
           "caxis": {
            "gridcolor": "white",
            "linecolor": "white",
            "ticks": ""
           }
          },
          "title": {
           "x": 0.05
          },
          "xaxis": {
           "automargin": true,
           "gridcolor": "white",
           "linecolor": "white",
           "ticks": "",
           "title": {
            "standoff": 15
           },
           "zerolinecolor": "white",
           "zerolinewidth": 2
          },
          "yaxis": {
           "automargin": true,
           "gridcolor": "white",
           "linecolor": "white",
           "ticks": "",
           "title": {
            "standoff": 15
           },
           "zerolinecolor": "white",
           "zerolinewidth": 2
          }
         }
        }
       }
      }
     },
     "metadata": {},
     "output_type": "display_data"
    }
   ],
   "source": [
    "## create sunbust chart for original dataset with area, rating, shop name and cuisine.\n",
    "\n",
    "fig = px.sunburst(df_sort, path=['Area','Rating','Shop_Name','Cuisine'], values='Cost_for_Two')\n",
    "\n",
    "fig.update_layout(margin = dict(t=15, l=15, r=15, b=15))\n",
    "\n",
    "fig.show()"
   ]
  },
  {
   "cell_type": "markdown",
   "id": "13d48d3e",
   "metadata": {},
   "source": [
    "- Above Pie chart with Top 50 Restaurants of bangalore is easy to analyze by high ratings and low cost."
   ]
  },
  {
   "cell_type": "markdown",
   "id": "950cc647",
   "metadata": {},
   "source": [
    "## Summary\n",
    "\n",
    "- Swiggy has an average rating of 4.061, considered good by customers, and an average cost for two of 321 rupees.\n",
    "- The highest rating and cost for two is 4.8 and 800 rupees, respectively.\n",
    "- Restaurants in Bangalore City have ratings ranging from 4.0 to 4.8.\n",
    "- The most popular food is from \"Khichdi Experiment\" with a rating of 4.8, and ice cream is more popular in Koramangala.\n",
    "- Based on the distribution plot, more than 50% of the restaurants have a rating greater than 4.1 with a maximum rating of 4.8. \n",
    "- The area-wise ratings and cost for two has most restaurants in Koramangala \n",
    "- In BTM, most restaurants have a rating of 4.0 to 4.2 and a cost for two is around 300 rupees. \n",
    "- HSR having ratings of 4.0 or above and costs ranging from 200 to 500 rupees.\n",
    "- Restaurants costing around 600 to 800 rupees for two people have ratings in between 4.0 to 4.1, which is too low compared to affordable/budget friendly restaurants.\n",
    "- It can be seen that the most popular cuisine types sold by Bangalore restaurants are Chinese (19.9%), North Indian (18.2%), and South Indian (13.1%)."
   ]
  }
 ],
 "metadata": {
  "kernelspec": {
   "display_name": "Python 3 (ipykernel)",
   "language": "python",
   "name": "python3"
  },
  "language_info": {
   "codemirror_mode": {
    "name": "ipython",
    "version": 3
   },
   "file_extension": ".py",
   "mimetype": "text/x-python",
   "name": "python",
   "nbconvert_exporter": "python",
   "pygments_lexer": "ipython3",
   "version": "3.9.0"
  }
 },
 "nbformat": 4,
 "nbformat_minor": 5
}
